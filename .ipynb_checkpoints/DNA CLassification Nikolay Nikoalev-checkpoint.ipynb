{
 "cells": [
  {
   "cell_type": "code",
   "execution_count": 1,
   "metadata": {},
   "outputs": [],
   "source": [
    "from IPython.display import HTML"
   ]
  },
  {
   "cell_type": "markdown",
   "metadata": {},
   "source": [
    "# Project: \n",
    "# \\$$ DNS $$\n",
    "\n",
    "# \\$$ Sequence $$  \n",
    "\n",
    "# \\$$ Classification $$"
   ]
  },
  {
   "cell_type": "markdown",
   "metadata": {},
   "source": [
    "## Nikolay Nikolaev"
   ]
  },
  {
   "attachments": {
    "image.png": {
     "image/png": "[encoded data removed]"
    }
   },
   "cell_type": "markdown",
   "metadata": {},
   "source": [
    "##  TABLE  OF CONTENTS:\n",
    "Project is roughly divided into three parts.Each section has a short explanation of theory, and a description of applied machine learning with Python:\n",
    "In the first part we examine a DNA sequence and transform it into a numerical matrix for follow processing with machine learning models.\n",
    "In the second part I will fitted several using fundamental machine learning models, without any type of additional processing and tuning. A list of all models can be found below.\n",
    "In the third part we apply some improvement techniques and compare the three models with each other, but also with the data from the second part.\n",
    "In the final part, we communicate the results.\n",
    "\n",
    "1. Exploratory Data Analysis and Data Preparation:\n",
    "\n",
    "2. Default ML models:\n",
    "    - Logistic Regression\n",
    "    - Random Forest\n",
    "    - SVM\n",
    "    - comparison\n",
    "\n",
    "3. Tuned ML models\n",
    "    - Logistic Regression\n",
    "    - Random Forest\n",
    "    - SVM\n",
    "    - comparison\n",
    "\n",
    "4. Comunicate results\n",
    " \n",
    "## CONFUSION MATRIX:\n",
    "The command confusion_matrix creates an array, that shows the number of true positives (TP), false positives (FP), false negatives (FN) and true negatives (TN).  These items can be used extensively for assessing the accuracy of any model. \n",
    "\n",
    "![image.png](attachment:image.png)"
   ]
  },
  {
   "cell_type": "markdown",
   "metadata": {},
   "source": [
    "With the data in hand, we can calculate several important statistics to assess the accuracy of our model. Here is a list of statistics of potential interest\n",
    "\n",
    "- **Sensitivity**, recall, hit rate, or true positive rate (TPR):    \n",
    "$$ TPR = \\frac{TP}{TP + FN} $$\n",
    "\n",
    "- **Specificity**, selectivity or true negative rate (TNR):       $$ TNR = \\frac{TN}{TN + FP} $$\n",
    "\n",
    "- **Precision** or positive predictive value (PPV):                $$ PPV = \\frac{TP}{TP + FP} $$\n",
    "\n",
    "- **Negative predictive value** (NPV):                            $$ NPV =  \\frac{TN}{TN + FN} $$ \n",
    "\n",
    "- **Miss rate** or false negative rate (FNR):                     $$ FNR = \\frac{FN}{FN + TP} $$ \n",
    "\n",
    "- **Fall-out** or false positive rate (FPR):                       $$FPR \\frac{FP}{FP + TN} $$ \n",
    "\n",
    "- **False discovery rate** (FDR):                                 $$ FDR = \\frac{FP}{FP + TP} $$ \n",
    "\n",
    "- **False omission rate** (FOR):                                    $$ FOR = \\frac{FN}{FN + TN} $$ \n",
    "\n",
    "- **Threat score** (TS) or Critical Success Index (CSI):            $$TS = \\frac{TP}{TP + FN + FP} $$ \n",
    "\n",
    "- **Accuracy** (ACC):                                               $$ ACC = \\frac{TP+TN}{TP+FP+FN + TN} $$ \n",
    "\n",
    "- **F1**:                                                           $$ F1 =\\frac{2 x TP}{2 x TP + FP + FN} $$"
   ]
  },
  {
   "cell_type": "markdown",
   "metadata": {},
   "source": [
    "## Deoxyribonucleic Acid (DNA)\n",
    "\n",
    "DNA is the chemical name for the molecule that carries genetic instructions in all living things. The DNA molecule consists of two strands that wind around one another to form a shape known as a double helix. Each strand has a backbone made of alternating sugar (deoxyribose) and phosphate groups. Attached to each sugar is one of four bases--adenine (A), cytosine (C), guanine (G), and thymine (T). The two strands are held together by bonds between the bases; adenine bonds with thymine, and cytosine bonds with guanine. The sequence of the bases along the backbones serves as instructions for assembling protein and RNA molecules.\n",
    "\n",
    "<img src=\"data/photo.jpg\" alt='imagine' width='500' height='500'/>\n",
    "\n",
    "*DNA, or deoxyribonucleic acid, is the central information storage system of most animals and plants, and even some viruses. The name comes from its structure, which is a sugar and phosphate backbone which have bases sticking out from it--so-called bases. So that \"deoxyribo\" refers to the sugar and the nucleic acid refers to the phosphate and the bases. The bases go by the names of adenine, cytosine, thymine, and guanine, otherwise known as A, C, T, and G. DNA is a remarkably simple structure. It's a polymer of four bases--A, C, T, and G--but it allows enormous complexity to be encoded by the pattern of those bases, one after another. DNA is organized structurally into chromosomes and then wound around nucleosomes as part of those chromosomes. Functionally, it's organized into genes, of which are pieces of DNA, which lead to observable traits. And those traits come not from the DNA itself, but actually from the RNA that is made from the DNA, or most commonly of proteins that are made from the RNA which is made from the DNA. So the central dogma, so-called of molecular biology, is that genes, which are made of DNA, are made into messenger RNAs, which are then made into proteins. But for the most part, the observable traits of eye color or height or one thing or another of individuals come from individual proteins. Sometimes, we're learning in the last few years, actually, they come from RNAs themselves without being made into proteins--things like micro RNAs. But those still are relatively the exception for accounting for traits.*\n",
    "\n",
    "                                                                                                    Christopher P. Austin, M.D."
   ]
  },
  {
   "cell_type": "code",
   "execution_count": 2,
   "metadata": {},
   "outputs": [
    {
     "name": "stderr",
     "output_type": "stream",
     "text": [
      "C:\\Users\\UTENTE\\anaconda3\\lib\\site-packages\\IPython\\core\\display.py:717: UserWarning: Consider using IPython.display.IFrame instead\n",
      "  warnings.warn(\"Consider using IPython.display.IFrame instead\")\n"
     ]
    },
    {
     "data": {
      "text/html": [
       "<iframe width=\"500\" height=\"500\" src=\"https://www.youtube.com/embed/L9NriBoubWE\" frameborder=\"0\" allow=\"accelerometer; autoplay; clipboard-write; encrypted-media; gyroscope; picture-in-picture\" allowfullscreen></iframe>"
      ],
      "text/plain": [
       "<IPython.core.display.HTML object>"
      ]
     },
     "execution_count": 2,
     "metadata": {},
     "output_type": "execute_result"
    }
   ],
   "source": [
    "HTML('<iframe width=\"500\" height=\"500\" src=\"https://www.youtube.com/embed/L9NriBoubWE\" frameborder=\"0\" allow=\"accelerometer; autoplay; clipboard-write; encrypted-media; gyroscope; picture-in-picture\" allowfullscreen></iframe>')"
   ]
  },
  {
   "cell_type": "code",
   "execution_count": 3,
   "metadata": {},
   "outputs": [],
   "source": [
    "%matplotlib inline"
   ]
  },
  {
   "cell_type": "code",
   "execution_count": 4,
   "metadata": {},
   "outputs": [
    {
     "name": "stdout",
     "output_type": "stream",
     "text": [
      "Python: 3.8.3 (default, Jul  2 2020, 17:30:36) [MSC v.1916 64 bit (AMD64)]\n",
      "Numpy: 1.18.5\n",
      "Sklearn: 0.23.2\n",
      "Pandas: 0.23.2\n",
      "Matplotlib: <module 'matplotlib' from 'C:\\\\Users\\\\UTENTE\\\\anaconda3\\\\lib\\\\site-packages\\\\matplotlib\\\\__init__.py'>\n",
      "Seaborn: 0.10.1\n"
     ]
    }
   ],
   "source": [
    "# importing main Python moduls for data science\n",
    "import sys\n",
    "import numpy as np\n",
    "import sklearn\n",
    "import pandas as pd\n",
    "import matplotlib\n",
    "import matplotlib.pyplot as plt\n",
    "import seaborn as sns\n",
    "\n",
    "# Check which version of the module will use \n",
    "print(f'Python: {sys.version}')\n",
    "print(f'Numpy: {np.__version__}')\n",
    "print(f'Sklearn: {sklearn.__version__}')\n",
    "print(f'Pandas: {sklearn.__version__}')\n",
    "print(f'Matplotlib: {matplotlib}')\n",
    "print(f'Seaborn: {sns.__version__}')\n",
    "\n",
    "# Ignore useless warnings \n",
    "import warnings\n",
    "warnings.filterwarnings(action=\"ignore\", message=\"^internal gelsd\")"
   ]
  },
  {
   "cell_type": "code",
   "execution_count": 5,
   "metadata": {},
   "outputs": [],
   "source": [
    "# additional machine learning modules\n",
    "import statsmodels.api as sm\n",
    "\n",
    "from sklearn.preprocessing import LabelEncoder\n",
    "\n",
    "from sklearn.model_selection import GridSearchCV, cross_val_score, train_test_split\n",
    "from sklearn.model_selection import StratifiedKFold, KFold\n",
    "\n",
    "from sklearn import metrics\n",
    "from sklearn.metrics import roc_auc_score, classification_report, confusion_matrix, precision_recall_curve\n",
    "from sklearn.metrics import accuracy_score, plot_confusion_matrix, plot_roc_curve, auc\n",
    "from sklearn.metrics import precision_recall_curve, plot_precision_recall_curve\n",
    "\n",
    "from sklearn.linear_model import LogisticRegression\n",
    "\n",
    "from sklearn.svm import SVC\n",
    "\n",
    "from sklearn.ensemble import RandomForestClassifier"
   ]
  },
  {
   "cell_type": "code",
   "execution_count": 6,
   "metadata": {},
   "outputs": [],
   "source": [
    "# Helper to use console script\n",
    "from IPython.core.interactiveshell import InteractiveShell\n",
    "InteractiveShell.ast_node_interactivity = 'all'"
   ]
  },
  {
   "cell_type": "markdown",
   "metadata": {},
   "source": [
    "[UCI Machine Learning Repositori](https://archive.ics.uci.edu/ml/datasets.php) it is one of the most popular sites where you can download datasets on any topic for free.\n",
    "For my work, I chose a dataset from the Molecular Biology section with the human DNA sequence. I would like to do classification of the DNA sequence.As we already know, DNA is a unique and unrepeatable sequence in its generality. But different extracts from the sequenca can be codifying and responsible for different mutations and diseases. For this reason, the right classification has a very important medical-scientific impact."
   ]
  },
  {
   "cell_type": "code",
   "execution_count": 7,
   "metadata": {},
   "outputs": [
    {
     "data": {
      "text/html": [
       "<div>\n",
       "<style scoped>\n",
       "    .dataframe tbody tr th:only-of-type {\n",
       "        vertical-align: middle;\n",
       "    }\n",
       "\n",
       "    .dataframe tbody tr th {\n",
       "        vertical-align: top;\n",
       "    }\n",
       "\n",
       "    .dataframe thead th {\n",
       "        text-align: right;\n",
       "    }\n",
       "</style>\n",
       "<table border=\"1\" class=\"dataframe\">\n",
       "  <thead>\n",
       "    <tr style=\"text-align: right;\">\n",
       "      <th></th>\n",
       "      <th>Class</th>\n",
       "      <th>id</th>\n",
       "      <th>Sequence</th>\n",
       "    </tr>\n",
       "  </thead>\n",
       "  <tbody>\n",
       "    <tr>\n",
       "      <th>0</th>\n",
       "      <td>+</td>\n",
       "      <td>S10</td>\n",
       "      <td>\\t\\ttactagcaatacgcttgcgttcggtggttaagtatgtataat...</td>\n",
       "    </tr>\n",
       "    <tr>\n",
       "      <th>1</th>\n",
       "      <td>+</td>\n",
       "      <td>AMPC</td>\n",
       "      <td>\\t\\ttgctatcctgacagttgtcacgctgattggtgtcgttacaat...</td>\n",
       "    </tr>\n",
       "    <tr>\n",
       "      <th>2</th>\n",
       "      <td>+</td>\n",
       "      <td>AROH</td>\n",
       "      <td>\\t\\tgtactagagaactagtgcattagcttatttttttgttatcat...</td>\n",
       "    </tr>\n",
       "    <tr>\n",
       "      <th>3</th>\n",
       "      <td>+</td>\n",
       "      <td>DEOP2</td>\n",
       "      <td>\\taattgtgatgtgtatcgaagtgtgttgcggagtagatgttagaa...</td>\n",
       "    </tr>\n",
       "    <tr>\n",
       "      <th>4</th>\n",
       "      <td>+</td>\n",
       "      <td>LEU1_TRNA</td>\n",
       "      <td>\\ttcgataattaactattgacgaaaagctgaaaaccactagaatgc...</td>\n",
       "    </tr>\n",
       "    <tr>\n",
       "      <th>...</th>\n",
       "      <td>...</td>\n",
       "      <td>...</td>\n",
       "      <td>...</td>\n",
       "    </tr>\n",
       "    <tr>\n",
       "      <th>101</th>\n",
       "      <td>-</td>\n",
       "      <td>799</td>\n",
       "      <td>\\t\\tcctcaatggcctctaaacgggtcttgaggggttttttgctga...</td>\n",
       "    </tr>\n",
       "    <tr>\n",
       "      <th>102</th>\n",
       "      <td>-</td>\n",
       "      <td>987</td>\n",
       "      <td>\\t\\tgtattctcaacaagattaaccgacagattcaatctcgtggat...</td>\n",
       "    </tr>\n",
       "    <tr>\n",
       "      <th>103</th>\n",
       "      <td>-</td>\n",
       "      <td>1226</td>\n",
       "      <td>\\t\\tcgcgactacgatgagatgcctgagtgcttccgttactggatt...</td>\n",
       "    </tr>\n",
       "    <tr>\n",
       "      <th>104</th>\n",
       "      <td>-</td>\n",
       "      <td>794</td>\n",
       "      <td>\\t\\tctcgtcctcaatggcctctaaacgggtcttgaggggtttttt...</td>\n",
       "    </tr>\n",
       "    <tr>\n",
       "      <th>105</th>\n",
       "      <td>-</td>\n",
       "      <td>1442</td>\n",
       "      <td>\\t\\ttaacattaataaataaggaggctctaatggcactcattagcc...</td>\n",
       "    </tr>\n",
       "  </tbody>\n",
       "</table>\n",
       "<p>106 rows × 3 columns</p>\n",
       "</div>"
      ],
      "text/plain": [
       "    Class         id                                           Sequence\n",
       "0       +        S10  \\t\\ttactagcaatacgcttgcgttcggtggttaagtatgtataat...\n",
       "1       +       AMPC  \\t\\ttgctatcctgacagttgtcacgctgattggtgtcgttacaat...\n",
       "2       +       AROH  \\t\\tgtactagagaactagtgcattagcttatttttttgttatcat...\n",
       "3       +      DEOP2  \\taattgtgatgtgtatcgaagtgtgttgcggagtagatgttagaa...\n",
       "4       +  LEU1_TRNA  \\ttcgataattaactattgacgaaaagctgaaaaccactagaatgc...\n",
       "..    ...        ...                                                ...\n",
       "101     -        799  \\t\\tcctcaatggcctctaaacgggtcttgaggggttttttgctga...\n",
       "102     -        987  \\t\\tgtattctcaacaagattaaccgacagattcaatctcgtggat...\n",
       "103     -       1226  \\t\\tcgcgactacgatgagatgcctgagtgcttccgttactggatt...\n",
       "104     -        794  \\t\\tctcgtcctcaatggcctctaaacgggtcttgaggggtttttt...\n",
       "105     -       1442  \\t\\ttaacattaataaataaggaggctctaatggcactcattagcc...\n",
       "\n",
       "[106 rows x 3 columns]"
      ]
     },
     "execution_count": 7,
     "metadata": {},
     "output_type": "execute_result"
    }
   ],
   "source": [
    "# import the uci Molecular Biology (Promoter Gene Sequences) Data Set\n",
    "url = 'https://archive.ics.uci.edu/ml/machine-learning-databases/molecular-biology/promoter-gene-sequences/promoters.data'\n",
    "names = ['Class', 'id', 'Sequence']\n",
    "data = pd.read_csv(url, names = names)\n",
    "data"
   ]
  },
  {
   "cell_type": "markdown",
   "metadata": {},
   "source": [
    "# 1. Exploratory the Data Analysis and Data Preparation"
   ]
  },
  {
   "cell_type": "code",
   "execution_count": 8,
   "metadata": {},
   "outputs": [
    {
     "name": "stdout",
     "output_type": "stream",
     "text": [
      "Thare are 106 samples and 3 features\n"
     ]
    }
   ],
   "source": [
    "print(f\"Thare are {data.shape[0]} samples and {data.shape[1]} features\")"
   ]
  },
  {
   "cell_type": "code",
   "execution_count": 9,
   "metadata": {},
   "outputs": [
    {
     "name": "stdout",
     "output_type": "stream",
     "text": [
      "Class                                                       +\n",
      "id                                                        S10\n",
      "Sequence    \\t\\ttactagcaatacgcttgcgttcggtggttaagtatgtataat...\n",
      "Name: 0, dtype: object\n"
     ]
    }
   ],
   "source": [
    "# check one single sample\n",
    "print(data.iloc[0])"
   ]
  },
  {
   "cell_type": "markdown",
   "metadata": {},
   "source": [
    "The single sample have class +/- ...will be the **calssification target**."
   ]
  },
  {
   "cell_type": "code",
   "execution_count": 10,
   "metadata": {},
   "outputs": [
    {
     "data": {
      "text/plain": [
       "array(['+', '-'], dtype=object)"
      ]
     },
     "execution_count": 10,
     "metadata": {},
     "output_type": "execute_result"
    },
    {
     "data": {
      "text/plain": [
       "0    +\n",
       "1    +\n",
       "2    +\n",
       "3    +\n",
       "4    +\n",
       "Name: Class, dtype: object"
      ]
     },
     "execution_count": 10,
     "metadata": {},
     "output_type": "execute_result"
    }
   ],
   "source": [
    "classes = data.loc[:, 'Class']\n",
    "classes.unique()\n",
    "classes[:5]"
   ]
  },
  {
   "cell_type": "code",
   "execution_count": 11,
   "metadata": {},
   "outputs": [],
   "source": [
    "# save the column 'Class' separately\n",
    "data_class = data.drop(['Sequence','id'], axis=1)"
   ]
  },
  {
   "attachments": {
    "image.png": {
     "image/png": "[encoded data removed]"
    }
   },
   "cell_type": "markdown",
   "metadata": {},
   "source": [
    "# [Genetic Code](https://en.wikipedia.org/wiki/Genetic_code)\n",
    "\n",
    "The genetic code is the set of rules used by living cells to translate information encoded within genetic material (DNA or mRNA sequences of nucleotide triplets, or codons) into proteins. Translation is accomplished by the ribosome, which links proteinogenic amino acids in an order specified by messenger RNA (mRNA), using transfer RNA (tRNA) molecules to carry amino acids and to read the mRNA three nucleotides at a time. The genetic code is highly similar among all organisms and can be expressed in a simple table with 64 entries.[Wikipedia](https://en.wikipedia.org/wiki/Genetic_code)\n",
    "\n",
    "The standard genetic code is traditionally represented as an RNA codon table because, when proteins are made in a cell by ribosomes, it is mRNA that directs protein synthesis. The mRNA sequence is determined by the sequence of genomic DNA. In this context, the standard genetic code is referred to as translation table 1. However, with the rise of computational biology and genomics, most genes are now discovered at the DNA level, so a DNA codon table is becoming increasingly useful.] The DNA codons in such tables occur on the sense DNA strand and are arranged in a 5' → 3' direction. There is the existence of symmetrical and asymmetrical characteristics in genetic codes.\n",
    "\n",
    "There are 64 different codons in DNA and the below tables; all but three specify an amino acid. These three other codons, deemed stop codons, have specific names: UAG is amber, UGA is opal (sometimes also called umber), and UAA is ochre. Also called \"termination\" or \"nonsense\" codons, these sequences signal the release of the nascent polypeptide from the ribosome. Another three codons, which specify an amino acid, are called start codons. The most common start codon is AUG, which is read as methionine. Alternative start codons depending on the organism include \"GUG\" or \"UUG\"; these codons normally represent valine and leucine, respectively, but as start codons they are translated as methionine or formylmethionine. These start codons, along with sequences such as an initiation factor, initiate translation.\n",
    "\n",
    "The first table, the standard table, can be used to translate nucleotide triplets into the corresponding amino acid or the appropriate signal if it is a start or stop codon. The second table, appropriately called the inverse, does the opposite: it can be used to deduce a possible triplet code if the amino acid order is known.\n",
    "\n",
    "![image.png](attachment:image.png)\n",
    "\n",
    "The code defines how codons specify which amino acid will be added next during protein synthesis. With some exceptions, a three-nucleotide codon in a nucleic acid sequence specifies a single amino acid. The vast majority of genes are encoded with a single scheme (see the RNA codon table). That scheme is often referred to as the canonical or standard genetic code, or simply the genetic code, though variant codes (such as in human mitochondria) exist.\n",
    "\n",
    "While the \"genetic code\" is what determines a protein's amino acid sequence, other genomic regions determine when and where these proteins are produced according to various \"gene regulatory codes\"."
   ]
  },
  {
   "cell_type": "code",
   "execution_count": 12,
   "metadata": {},
   "outputs": [],
   "source": [
    "# codon table rapresented by dictionary\n",
    "gencode = {'ATA':'I', 'ATC':'I', 'ATT':'I', 'ATG':'M',\n",
    "           'ACA':'T', 'ACC':'T', 'ACG':'T', 'ACT':'T',\n",
    "           'AAC':'N', 'AAT':'N', 'AAA':'K', 'AAG':'K',\n",
    "           'AGC':'S', 'AGT':'S', 'AGA':'R', 'AGG':'R',\n",
    "           'CTA':'L', 'CTC':'L', 'CTG':'L', 'CTT':'L',\n",
    "           'CCA':'P', 'CCC':'P', 'CCG':'P', 'CCT':'P',\n",
    "           'CAC':'H', 'CAT':'H', 'CAA':'Q', 'CAG':'Q',\n",
    "           'CGA':'R', 'CGC':'R', 'CGG':'R', 'CGT':'R',\n",
    "           'GTA':'V', 'GTC':'V', 'GTG':'V', 'GTT':'V',\n",
    "           'GCA':'A', 'GCC':'A', 'GCG':'A', 'GCT':'A',\n",
    "           'GAC':'D', 'GAT':'D', 'GAA':'E', 'GAG':'E',\n",
    "           'GGA':'G', 'GGC':'G', 'GGG':'G', 'GGT':'G',\n",
    "           'TCA':'S', 'TCC':'S', 'TCG':'S', 'TCT':'S',\n",
    "           'TTC':'F', 'TTT':'F', 'TTA':'L', 'TTG':'L',\n",
    "           'TAC':'Y', 'TAT':'Y', 'TAA':'_', 'TAG':'_',\n",
    "           'TGC':'C', 'TGT':'C', 'TGA':'_', 'TGG':'W'}"
   ]
  },
  {
   "cell_type": "markdown",
   "metadata": {},
   "source": [
    "**Please note that these are codons which do not code for any protein and are marked with the underscore.**\n",
    "\n",
    "This function translate the sequence of DNA to single codons."
   ]
  },
  {
   "cell_type": "code",
   "execution_count": 13,
   "metadata": {},
   "outputs": [],
   "source": [
    "def translate_dna(dna):\n",
    "    \"\"\"Function translate genetic code\"\"\"\n",
    "    dna = dna.upper()\n",
    "    last_codon_start = len(dna) - 2\n",
    "    protein = \"\"\n",
    "    for start in range(0,last_codon_start,3):\n",
    "        codon = dna[start:start+3]\n",
    "        aa = gencode.get(codon.upper(), 'X')\n",
    "        protein = protein + aa\n",
    "    return protein"
   ]
  },
  {
   "cell_type": "markdown",
   "metadata": {},
   "source": [
    "### Test the function:"
   ]
  },
  {
   "cell_type": "code",
   "execution_count": 14,
   "metadata": {},
   "outputs": [
    {
     "name": "stdout",
     "output_type": "stream",
     "text": [
      "MFG\n",
      "IDRSLLIDQ\n",
      "TDRSLLTYR\n",
      "TIDRXVRSYS\n"
     ]
    }
   ],
   "source": [
    "print(translate_dna(\"ATGTTCGGT\"))\n",
    "print(translate_dna(\"ATCGATCGATCGTTGCTTATCGATCAG\"))\n",
    "print(translate_dna(\"actgatcgtagcttgcttacgtatcgtat\"))\n",
    "print(translate_dna(\"ACGATCGATCGTNACGTACGATCGTACTCG\"))"
   ]
  },
  {
   "cell_type": "code",
   "execution_count": 15,
   "metadata": {},
   "outputs": [],
   "source": [
    "assert(translate_dna(\"ATGTTCGGT\")) == \"MFG\"\n",
    "assert(translate_dna(\"ATCGATCGATCGTTGCTTATCGATCAG\")) == \"IDRSLLIDQ\"\n",
    "assert(translate_dna(\"actgatcgtagcttgcttacgtatcgtat\")) == \"TDRSLLTYR\"\n",
    "assert(translate_dna(\"ACGATCGATCGTNACGTACGATCGTACTCG\")) == \"TIDRXVRSYS\""
   ]
  },
  {
   "cell_type": "markdown",
   "metadata": {},
   "source": [
    "OK. We passed the test and can continue."
   ]
  },
  {
   "cell_type": "code",
   "execution_count": 19,
   "metadata": {},
   "outputs": [
    {
     "data": {
      "text/plain": [
       "['t',\n",
       " 't',\n",
       " 'c',\n",
       " 't',\n",
       " 'g',\n",
       " 't',\n",
       " 'g',\n",
       " 'c',\n",
       " 't',\n",
       " 't',\n",
       " 'a',\n",
       " 'a',\n",
       " 't',\n",
       " 'a',\n",
       " 'g',\n",
       " 'c',\n",
       " 'g',\n",
       " 't',\n",
       " 'c',\n",
       " '+']"
      ]
     },
     "execution_count": 19,
     "metadata": {},
     "output_type": "execute_result"
    },
    {
     "data": {
      "text/plain": [
       "['a',\n",
       " 'a',\n",
       " 'a',\n",
       " 'a',\n",
       " 'c',\n",
       " 'g',\n",
       " 't',\n",
       " 'g',\n",
       " 'g',\n",
       " 't',\n",
       " 'g',\n",
       " 't',\n",
       " 'a',\n",
       " 'a',\n",
       " 'c',\n",
       " 'g',\n",
       " 'c',\n",
       " 'g',\n",
       " 'g']"
      ]
     },
     "execution_count": 19,
     "metadata": {},
     "output_type": "execute_result"
    },
    {
     "data": {
      "text/plain": [
       "['c',\n",
       " 'g',\n",
       " 'a',\n",
       " 'c',\n",
       " 't',\n",
       " 'c',\n",
       " 't',\n",
       " 'g',\n",
       " 'g',\n",
       " 'a',\n",
       " 't',\n",
       " 'g',\n",
       " 't',\n",
       " 't',\n",
       " 'g',\n",
       " 'g',\n",
       " 't',\n",
       " 't',\n",
       " 't']"
      ]
     },
     "execution_count": 19,
     "metadata": {},
     "output_type": "execute_result"
    },
    {
     "data": {
      "text/plain": [
       "['t',\n",
       " 't',\n",
       " 'c',\n",
       " 'g',\n",
       " 'a',\n",
       " 't',\n",
       " 'c',\n",
       " 'g',\n",
       " 'g',\n",
       " 't',\n",
       " 't',\n",
       " 'c',\n",
       " 't',\n",
       " 'a',\n",
       " 'c',\n",
       " 'a',\n",
       " 'c',\n",
       " 'c',\n",
       " 'c',\n",
       " '+']"
      ]
     },
     "execution_count": 19,
     "metadata": {},
     "output_type": "execute_result"
    },
    {
     "data": {
      "text/plain": [
       "['g',\n",
       " 'a',\n",
       " 'c',\n",
       " 'a',\n",
       " 'g',\n",
       " 'g',\n",
       " 'a',\n",
       " 'c',\n",
       " 'a',\n",
       " 'g',\n",
       " 'g',\n",
       " 'g',\n",
       " 'a',\n",
       " 'a',\n",
       " 't',\n",
       " 'c',\n",
       " 'a',\n",
       " 'g',\n",
       " 'a']"
      ]
     },
     "execution_count": 19,
     "metadata": {},
     "output_type": "execute_result"
    },
    {
     "data": {
      "text/plain": [
       "['c',\n",
       " 't',\n",
       " 't',\n",
       " 'c',\n",
       " 't',\n",
       " 't',\n",
       " 'c',\n",
       " 't',\n",
       " 't',\n",
       " 'g',\n",
       " 't',\n",
       " 't',\n",
       " 'c',\n",
       " 't',\n",
       " 'a',\n",
       " 'g',\n",
       " 't',\n",
       " 'c',\n",
       " 'a']"
      ]
     },
     "execution_count": 19,
     "metadata": {},
     "output_type": "execute_result"
    },
    {
     "data": {
      "text/plain": [
       "['g',\n",
       " 'c',\n",
       " 'g',\n",
       " 'a',\n",
       " 't',\n",
       " 't',\n",
       " 'a',\n",
       " 'a',\n",
       " 't',\n",
       " 't',\n",
       " 't',\n",
       " 't',\n",
       " 't',\n",
       " 'c',\n",
       " 'g',\n",
       " 'a',\n",
       " 'c',\n",
       " 'c',\n",
       " 'g',\n",
       " '+']"
      ]
     },
     "execution_count": 19,
     "metadata": {},
     "output_type": "execute_result"
    },
    {
     "data": {
      "text/plain": [
       "['t',\n",
       " 't',\n",
       " 'a',\n",
       " 'a',\n",
       " 'a',\n",
       " 'g',\n",
       " 't',\n",
       " 'g',\n",
       " 't',\n",
       " 't',\n",
       " 't',\n",
       " 'g',\n",
       " 'a',\n",
       " 'a',\n",
       " 'c',\n",
       " 'a',\n",
       " 'a',\n",
       " 'c',\n",
       " 'c']"
      ]
     },
     "execution_count": 19,
     "metadata": {},
     "output_type": "execute_result"
    },
    {
     "data": {
      "text/plain": [
       "['a',\n",
       " 'a',\n",
       " 'g',\n",
       " 'c',\n",
       " 'g',\n",
       " 'c',\n",
       " 't',\n",
       " 'c',\n",
       " 'a',\n",
       " 't',\n",
       " 't',\n",
       " 't',\n",
       " 't',\n",
       " 't',\n",
       " 't',\n",
       " 'c',\n",
       " 'c',\n",
       " 'g',\n",
       " 'g']"
      ]
     },
     "execution_count": 19,
     "metadata": {},
     "output_type": "execute_result"
    },
    {
     "data": {
      "text/plain": [
       "['a',\n",
       " 't',\n",
       " 'g',\n",
       " 'g',\n",
       " 't',\n",
       " 'c',\n",
       " 'a',\n",
       " 'g',\n",
       " 't',\n",
       " 'c',\n",
       " 'a',\n",
       " 'a',\n",
       " 't',\n",
       " 't',\n",
       " 'a',\n",
       " 'a',\n",
       " 'a',\n",
       " 'a',\n",
       " 'c',\n",
       " '+']"
      ]
     },
     "execution_count": 19,
     "metadata": {},
     "output_type": "execute_result"
    },
    {
     "data": {
      "text/plain": [
       "['a',\n",
       " 'g',\n",
       " 'a',\n",
       " 't',\n",
       " 'a',\n",
       " 'g',\n",
       " 'g',\n",
       " 't',\n",
       " 't',\n",
       " 'g',\n",
       " 'g',\n",
       " 'g',\n",
       " 'g',\n",
       " 'a',\n",
       " 'a',\n",
       " 'c',\n",
       " 'a',\n",
       " 'a',\n",
       " 't']"
      ]
     },
     "execution_count": 19,
     "metadata": {},
     "output_type": "execute_result"
    },
    {
     "data": {
      "text/plain": [
       "['t',\n",
       " 't',\n",
       " 't',\n",
       " 'g',\n",
       " 't',\n",
       " 'a',\n",
       " 't',\n",
       " 'g',\n",
       " 'g',\n",
       " 'g',\n",
       " 't',\n",
       " 'a',\n",
       " 't',\n",
       " 'g',\n",
       " 't',\n",
       " 't',\n",
       " 'c',\n",
       " 'a',\n",
       " 'c']"
      ]
     },
     "execution_count": 19,
     "metadata": {},
     "output_type": "execute_result"
    },
    {
     "data": {
      "text/plain": [
       "['t',\n",
       " 'a',\n",
       " 'a',\n",
       " 'a',\n",
       " 't',\n",
       " 't',\n",
       " 'c',\n",
       " 'a',\n",
       " 'g',\n",
       " 'g',\n",
       " 'a',\n",
       " 'c',\n",
       " 't',\n",
       " 'a',\n",
       " 'g',\n",
       " 'c',\n",
       " 'c',\n",
       " 't',\n",
       " 't',\n",
       " '+']"
      ]
     },
     "execution_count": 19,
     "metadata": {},
     "output_type": "execute_result"
    },
    {
     "data": {
      "text/plain": [
       "['c',\n",
       " 't',\n",
       " 't',\n",
       " 'a',\n",
       " 'a',\n",
       " 'g',\n",
       " 'g',\n",
       " 'a',\n",
       " 'c',\n",
       " 'a',\n",
       " 'a',\n",
       " 'a',\n",
       " 'a',\n",
       " 'a',\n",
       " 'c',\n",
       " 'c',\n",
       " 'c',\n",
       " 'g',\n",
       " 'a']"
      ]
     },
     "execution_count": 19,
     "metadata": {},
     "output_type": "execute_result"
    },
    {
     "data": {
      "text/plain": [
       "['g',\n",
       " 'a',\n",
       " 't',\n",
       " 'c',\n",
       " 't',\n",
       " 'a',\n",
       " 'a',\n",
       " 'a',\n",
       " 't',\n",
       " 'a',\n",
       " 'c',\n",
       " 'c',\n",
       " 'g',\n",
       " 't',\n",
       " 'g',\n",
       " 't',\n",
       " 'g',\n",
       " 'g',\n",
       " 'g']"
      ]
     },
     "execution_count": 19,
     "metadata": {},
     "output_type": "execute_result"
    },
    {
     "data": {
      "text/plain": [
       "['a',\n",
       " 'g',\n",
       " 'a',\n",
       " 'g',\n",
       " 'g',\n",
       " 'g',\n",
       " 'a',\n",
       " 'a',\n",
       " 't',\n",
       " 'c',\n",
       " 't',\n",
       " 'a',\n",
       " 'g',\n",
       " 'a',\n",
       " 'a',\n",
       " 'g',\n",
       " 'c',\n",
       " 't',\n",
       " 'g',\n",
       " '+']"
      ]
     },
     "execution_count": 19,
     "metadata": {},
     "output_type": "execute_result"
    },
    {
     "data": {
      "text/plain": [
       "['g',\n",
       " 'g',\n",
       " 'a',\n",
       " 'a',\n",
       " 'a',\n",
       " 'g',\n",
       " 'a',\n",
       " 'g',\n",
       " 't',\n",
       " 'c',\n",
       " 'a',\n",
       " 'a',\n",
       " 'a',\n",
       " 'c',\n",
       " 'g',\n",
       " 't',\n",
       " 'g',\n",
       " 't',\n",
       " 'g']"
      ]
     },
     "execution_count": 19,
     "metadata": {},
     "output_type": "execute_result"
    },
    {
     "data": {
      "text/plain": [
       "['g',\n",
       " 'c',\n",
       " 'g',\n",
       " 'g',\n",
       " 't',\n",
       " 'a',\n",
       " 'g',\n",
       " 'g',\n",
       " 'g',\n",
       " 'g',\n",
       " 't',\n",
       " 'a',\n",
       " 'a',\n",
       " 't',\n",
       " 'a',\n",
       " 'c',\n",
       " 't',\n",
       " 'a',\n",
       " 't']"
      ]
     },
     "execution_count": 19,
     "metadata": {},
     "output_type": "execute_result"
    },
    {
     "data": {
      "text/plain": [
       "['c',\n",
       " 'g',\n",
       " 'g',\n",
       " 'g',\n",
       " 'g',\n",
       " 't',\n",
       " 'a',\n",
       " 'c',\n",
       " 'c',\n",
       " 'c',\n",
       " 'a',\n",
       " 'a',\n",
       " 'c',\n",
       " 'a',\n",
       " 'c',\n",
       " 'c',\n",
       " 'a',\n",
       " 'a',\n",
       " 'a',\n",
       " '+']"
      ]
     },
     "execution_count": 19,
     "metadata": {},
     "output_type": "execute_result"
    },
    {
     "data": {
      "text/plain": [
       "['a',\n",
       " 'g',\n",
       " 't',\n",
       " 'a',\n",
       " 'a',\n",
       " 't',\n",
       " 'g',\n",
       " 'a',\n",
       " 't',\n",
       " 't',\n",
       " 't',\n",
       " 'c',\n",
       " 'a',\n",
       " 'g',\n",
       " 'a',\n",
       " 'c',\n",
       " 't',\n",
       " 't',\n",
       " 'a']"
      ]
     },
     "execution_count": 19,
     "metadata": {},
     "output_type": "execute_result"
    },
    {
     "data": {
      "text/plain": [
       "['g',\n",
       " 'g',\n",
       " 'g',\n",
       " 'g',\n",
       " 't',\n",
       " 'a',\n",
       " 'c',\n",
       " 't',\n",
       " 'c',\n",
       " 'g',\n",
       " 'g',\n",
       " 'g',\n",
       " 't',\n",
       " 't',\n",
       " 'g',\n",
       " 'c',\n",
       " 'c',\n",
       " 'g',\n",
       " 't']"
      ]
     },
     "execution_count": 19,
     "metadata": {},
     "output_type": "execute_result"
    },
    {
     "data": {
      "text/plain": [
       "['t',\n",
       " 'c',\n",
       " 'c',\n",
       " 'a',\n",
       " 'a',\n",
       " 't',\n",
       " 't',\n",
       " 't',\n",
       " 'a',\n",
       " 'a',\n",
       " 'a',\n",
       " 'c',\n",
       " 't',\n",
       " 'a',\n",
       " 't',\n",
       " 't',\n",
       " 'a',\n",
       " 'a',\n",
       " 'a',\n",
       " '+']"
      ]
     },
     "execution_count": 19,
     "metadata": {},
     "output_type": "execute_result"
    },
    {
     "data": {
      "text/plain": [
       "['t',\n",
       " 't',\n",
       " 'a',\n",
       " 'a',\n",
       " 'c',\n",
       " 'g',\n",
       " 'a',\n",
       " 'g',\n",
       " 't',\n",
       " 'g',\n",
       " 't',\n",
       " 'a',\n",
       " 'a',\n",
       " 'a',\n",
       " 'g',\n",
       " 't',\n",
       " 'a',\n",
       " 'g',\n",
       " 'c']"
      ]
     },
     "execution_count": 19,
     "metadata": {},
     "output_type": "execute_result"
    },
    {
     "data": {
      "text/plain": [
       "['t',\n",
       " 'a',\n",
       " 'a',\n",
       " 'c',\n",
       " 't',\n",
       " 'a',\n",
       " 'c',\n",
       " 't',\n",
       " 'g',\n",
       " 'c',\n",
       " 'a',\n",
       " 'g',\n",
       " 't',\n",
       " 't',\n",
       " 'c',\n",
       " 'c',\n",
       " 'c',\n",
       " 'a',\n",
       " 'a']"
      ]
     },
     "execution_count": 19,
     "metadata": {},
     "output_type": "execute_result"
    },
    {
     "data": {
      "text/plain": [
       "['c',\n",
       " 'c',\n",
       " 'a',\n",
       " 'a',\n",
       " 'c',\n",
       " 'c',\n",
       " 'c',\n",
       " 'g',\n",
       " 'g',\n",
       " 'c',\n",
       " 't',\n",
       " 'g',\n",
       " 't',\n",
       " 'a',\n",
       " 'g',\n",
       " 'a',\n",
       " 'a',\n",
       " 't',\n",
       " 't',\n",
       " '+']"
      ]
     },
     "execution_count": 19,
     "metadata": {},
     "output_type": "execute_result"
    },
    {
     "data": {
      "text/plain": [
       "['g',\n",
       " 't',\n",
       " 'a',\n",
       " 't',\n",
       " 't',\n",
       " 'g',\n",
       " 'a',\n",
       " 'a',\n",
       " 't',\n",
       " 'g',\n",
       " 'c',\n",
       " 't',\n",
       " 'a',\n",
       " 't',\n",
       " 'c',\n",
       " 't',\n",
       " 'a',\n",
       " 'g',\n",
       " 't']"
      ]
     },
     "execution_count": 19,
     "metadata": {},
     "output_type": "execute_result"
    },
    {
     "data": {
      "text/plain": [
       "['a',\n",
       " 't',\n",
       " 't',\n",
       " 'a',\n",
       " 'g',\n",
       " 'a',\n",
       " 'g',\n",
       " 'c',\n",
       " 'c',\n",
       " 't',\n",
       " 't',\n",
       " 'g',\n",
       " 'a',\n",
       " 'c',\n",
       " 'a',\n",
       " 'g',\n",
       " 'a',\n",
       " 'g',\n",
       " 't']"
      ]
     },
     "execution_count": 19,
     "metadata": {},
     "output_type": "execute_result"
    },
    {
     "data": {
      "text/plain": [
       "['t',\n",
       " 't',\n",
       " 'a',\n",
       " 't',\n",
       " 't',\n",
       " 't',\n",
       " 'c',\n",
       " 'g',\n",
       " 'g',\n",
       " 'a',\n",
       " 'a',\n",
       " 'c',\n",
       " 't',\n",
       " 'a',\n",
       " 'g',\n",
       " 'c',\n",
       " 'c',\n",
       " 'c',\n",
       " 'a',\n",
       " '+']"
      ]
     },
     "execution_count": 19,
     "metadata": {},
     "output_type": "execute_result"
    },
    {
     "data": {
      "text/plain": [
       "['t',\n",
       " 'a',\n",
       " 't',\n",
       " 'c',\n",
       " 'c',\n",
       " 'g',\n",
       " 'a',\n",
       " 'c',\n",
       " 'g',\n",
       " 't',\n",
       " 'c',\n",
       " 'c',\n",
       " 'a',\n",
       " 'a',\n",
       " 'c',\n",
       " 'c',\n",
       " 'c',\n",
       " 't',\n",
       " 'c']"
      ]
     },
     "execution_count": 19,
     "metadata": {},
     "output_type": "execute_result"
    },
    {
     "data": {
      "text/plain": [
       "['t',\n",
       " 'a',\n",
       " 't',\n",
       " 'c',\n",
       " 't',\n",
       " 't',\n",
       " 'g',\n",
       " 'c',\n",
       " 'a',\n",
       " 'a',\n",
       " 't',\n",
       " 'c',\n",
       " 't',\n",
       " 't',\n",
       " 'g',\n",
       " 'a',\n",
       " 'a',\n",
       " 'g',\n",
       " 'a']"
      ]
     },
     "execution_count": 19,
     "metadata": {},
     "output_type": "execute_result"
    },
    {
     "data": {
      "text/plain": [
       "['g',\n",
       " 'a',\n",
       " 'a',\n",
       " 'a',\n",
       " 'g',\n",
       " 't',\n",
       " 'c',\n",
       " 't',\n",
       " 'a',\n",
       " 'g',\n",
       " 'a',\n",
       " 'g',\n",
       " 't',\n",
       " 't',\n",
       " 'g',\n",
       " 'c',\n",
       " 'c',\n",
       " 'g',\n",
       " 'c',\n",
       " '+']"
      ]
     },
     "execution_count": 19,
     "metadata": {},
     "output_type": "execute_result"
    },
    {
     "data": {
      "text/plain": [
       "['c',\n",
       " 'a',\n",
       " 't',\n",
       " 'a',\n",
       " 'c',\n",
       " 'g',\n",
       " 't',\n",
       " 'g',\n",
       " 'g',\n",
       " 'g',\n",
       " 'a',\n",
       " 'c',\n",
       " 'a',\n",
       " 'a',\n",
       " 'c',\n",
       " 'a',\n",
       " 'c',\n",
       " 'c',\n",
       " 'c']"
      ]
     },
     "execution_count": 19,
     "metadata": {},
     "output_type": "execute_result"
    },
    {
     "data": {
      "text/plain": [
       "['a',\n",
       " 'a',\n",
       " 'a',\n",
       " 't',\n",
       " 't',\n",
       " 'a',\n",
       " 'c',\n",
       " 't',\n",
       " 'c',\n",
       " 'g',\n",
       " 'g',\n",
       " 'g',\n",
       " 't',\n",
       " 't',\n",
       " 'a',\n",
       " 'c',\n",
       " 'c',\n",
       " 'g',\n",
       " 'g']"
      ]
     },
     "execution_count": 19,
     "metadata": {},
     "output_type": "execute_result"
    },
    {
     "data": {
      "text/plain": [
       "['c',\n",
       " 'g',\n",
       " 'a',\n",
       " 'c',\n",
       " 'g',\n",
       " 't',\n",
       " 'c',\n",
       " 't',\n",
       " 'a',\n",
       " 'a',\n",
       " 'a',\n",
       " 'g',\n",
       " 't',\n",
       " 't',\n",
       " 'a',\n",
       " 'c',\n",
       " 'c',\n",
       " 'c',\n",
       " 'g',\n",
       " '+']"
      ]
     },
     "execution_count": 19,
     "metadata": {},
     "output_type": "execute_result"
    },
    {
     "data": {
      "text/plain": [
       "['c',\n",
       " 'a',\n",
       " 't',\n",
       " 'a',\n",
       " 'g',\n",
       " 'g',\n",
       " 't',\n",
       " 'g',\n",
       " 'a',\n",
       " 'g',\n",
       " 'a',\n",
       " 'c',\n",
       " 'a',\n",
       " 'a',\n",
       " 'c',\n",
       " 'c',\n",
       " 'c',\n",
       " 'g',\n",
       " 'a']"
      ]
     },
     "execution_count": 19,
     "metadata": {},
     "output_type": "execute_result"
    },
    {
     "data": {
      "text/plain": [
       "['t',\n",
       " 'a',\n",
       " 't',\n",
       " 'g',\n",
       " 't',\n",
       " 'a',\n",
       " 'c',\n",
       " 'a',\n",
       " 'g',\n",
       " 'g',\n",
       " 'a',\n",
       " 'g',\n",
       " 'a',\n",
       " 't',\n",
       " 'g',\n",
       " 'a',\n",
       " 't',\n",
       " 'c',\n",
       " 'c']"
      ]
     },
     "execution_count": 19,
     "metadata": {},
     "output_type": "execute_result"
    },
    {
     "data": {
      "text/plain": [
       "['g',\n",
       " 'c',\n",
       " 'a',\n",
       " 'a',\n",
       " 'a',\n",
       " 't',\n",
       " 'g',\n",
       " 'a',\n",
       " 'a',\n",
       " 't',\n",
       " 'g',\n",
       " 'c',\n",
       " 't',\n",
       " 'a',\n",
       " 'g',\n",
       " 'c',\n",
       " 'c',\n",
       " 't',\n",
       " 'a',\n",
       " '+']"
      ]
     },
     "execution_count": 19,
     "metadata": {},
     "output_type": "execute_result"
    },
    {
     "data": {
      "text/plain": [
       "['a',\n",
       " 'a',\n",
       " 'a',\n",
       " 'a',\n",
       " 'c',\n",
       " 'g',\n",
       " 'c',\n",
       " 'a',\n",
       " 'a',\n",
       " 'g',\n",
       " 'a',\n",
       " 'c',\n",
       " 'a',\n",
       " 'a',\n",
       " 'c',\n",
       " 'c',\n",
       " 'c',\n",
       " 't',\n",
       " 'g']"
      ]
     },
     "execution_count": 19,
     "metadata": {},
     "output_type": "execute_result"
    },
    {
     "data": {
      "text/plain": [
       "['t',\n",
       " 'a',\n",
       " 'a',\n",
       " 't',\n",
       " 't',\n",
       " 't',\n",
       " 'a',\n",
       " 'a',\n",
       " 't',\n",
       " 'g',\n",
       " 't',\n",
       " 'c',\n",
       " 't',\n",
       " 't',\n",
       " 'g',\n",
       " 't',\n",
       " 'g',\n",
       " 'g',\n",
       " 'a']"
      ]
     },
     "execution_count": 19,
     "metadata": {},
     "output_type": "execute_result"
    },
    {
     "data": {
      "text/plain": [
       "['c',\n",
       " 'c',\n",
       " 't',\n",
       " 't',\n",
       " 't',\n",
       " 't',\n",
       " 'g',\n",
       " 'c',\n",
       " 'c',\n",
       " 'a',\n",
       " 'a',\n",
       " 'c',\n",
       " 't',\n",
       " 'a',\n",
       " 'g',\n",
       " 'c',\n",
       " 'c',\n",
       " 't',\n",
       " 'a',\n",
       " '+']"
      ]
     },
     "execution_count": 19,
     "metadata": {},
     "output_type": "execute_result"
    },
    {
     "data": {
      "text/plain": [
       "['t',\n",
       " 'a',\n",
       " 't',\n",
       " 't',\n",
       " 'a',\n",
       " 'g',\n",
       " 'g',\n",
       " 't',\n",
       " 'g',\n",
       " 'g',\n",
       " 'c',\n",
       " 'c',\n",
       " 'a',\n",
       " 'a',\n",
       " 'c',\n",
       " 'c',\n",
       " 'c',\n",
       " 'c',\n",
       " 'c']"
      ]
     },
     "execution_count": 19,
     "metadata": {},
     "output_type": "execute_result"
    },
    {
     "data": {
      "text/plain": [
       "['g',\n",
       " 'a',\n",
       " 't',\n",
       " 'c',\n",
       " 't',\n",
       " 'c',\n",
       " 'c',\n",
       " 'g',\n",
       " 'g',\n",
       " 'a',\n",
       " 't',\n",
       " 'c',\n",
       " 't',\n",
       " 't',\n",
       " 'g',\n",
       " 't',\n",
       " 'a',\n",
       " 'g',\n",
       " 'a']"
      ]
     },
     "execution_count": 19,
     "metadata": {},
     "output_type": "execute_result"
    },
    {
     "data": {
      "text/plain": [
       "['t',\n",
       " 'a',\n",
       " 't',\n",
       " 't',\n",
       " 'g',\n",
       " 't',\n",
       " 'c',\n",
       " 'g',\n",
       " 'g',\n",
       " 'a',\n",
       " 'a',\n",
       " 'c',\n",
       " 't',\n",
       " 'a',\n",
       " 'g',\n",
       " 'c',\n",
       " 'c',\n",
       " 'c',\n",
       " 'a',\n",
       " '+']"
      ]
     },
     "execution_count": 19,
     "metadata": {},
     "output_type": "execute_result"
    },
    {
     "data": {
      "text/plain": [
       "['t',\n",
       " 't',\n",
       " 't',\n",
       " 't',\n",
       " 'c',\n",
       " 'g',\n",
       " 'a',\n",
       " 'c',\n",
       " 'g',\n",
       " 't',\n",
       " 'c',\n",
       " 'c',\n",
       " 'a',\n",
       " 'a',\n",
       " 'c',\n",
       " 'c',\n",
       " 'c',\n",
       " 't',\n",
       " 'c']"
      ]
     },
     "execution_count": 19,
     "metadata": {},
     "output_type": "execute_result"
    },
    {
     "data": {
      "text/plain": [
       "['t',\n",
       " 'a',\n",
       " 't',\n",
       " 'c',\n",
       " 't',\n",
       " 't',\n",
       " 'g',\n",
       " 'c',\n",
       " 'a',\n",
       " 'a',\n",
       " 't',\n",
       " 'c',\n",
       " 't',\n",
       " 't',\n",
       " 'g',\n",
       " 'a',\n",
       " 'a',\n",
       " 'g',\n",
       " 'a']"
      ]
     },
     "execution_count": 19,
     "metadata": {},
     "output_type": "execute_result"
    },
    {
     "data": {
      "text/plain": [
       "['a',\n",
       " 'c',\n",
       " 'a',\n",
       " 'a',\n",
       " 'g',\n",
       " 't',\n",
       " 'c',\n",
       " 't',\n",
       " 'a',\n",
       " 'g',\n",
       " 'a',\n",
       " 'g',\n",
       " 't',\n",
       " 't',\n",
       " 'g',\n",
       " 'c',\n",
       " 'c',\n",
       " 'c',\n",
       " 'g',\n",
       " '+']"
      ]
     },
     "execution_count": 19,
     "metadata": {},
     "output_type": "execute_result"
    },
    {
     "data": {
      "text/plain": [
       "['a',\n",
       " 'a',\n",
       " 'g',\n",
       " 'a',\n",
       " 'c',\n",
       " 'g',\n",
       " 't',\n",
       " 'g',\n",
       " 'g',\n",
       " 'g',\n",
       " 'a',\n",
       " 'c',\n",
       " 'a',\n",
       " 'a',\n",
       " 'c',\n",
       " 'a',\n",
       " 'g',\n",
       " 'g',\n",
       " 'c']"
      ]
     },
     "execution_count": 19,
     "metadata": {},
     "output_type": "execute_result"
    },
    {
     "data": {
      "text/plain": [
       "['g',\n",
       " 'a',\n",
       " 'a',\n",
       " 't',\n",
       " 't',\n",
       " 'a',\n",
       " 'c',\n",
       " 't',\n",
       " 'c',\n",
       " 'g',\n",
       " 'g',\n",
       " 'g',\n",
       " 't',\n",
       " 't',\n",
       " 'a',\n",
       " 'c',\n",
       " 'c',\n",
       " 'c',\n",
       " 'c']"
      ]
     },
     "execution_count": 19,
     "metadata": {},
     "output_type": "execute_result"
    },
    {
     "data": {
      "text/plain": [
       "['a',\n",
       " 'c',\n",
       " 't',\n",
       " 't',\n",
       " 'g',\n",
       " 't',\n",
       " 'c',\n",
       " 'c',\n",
       " 'g',\n",
       " 'c',\n",
       " 'a',\n",
       " 'c',\n",
       " 't',\n",
       " 'a',\n",
       " 'g',\n",
       " 'c',\n",
       " 'c',\n",
       " 't',\n",
       " 'a',\n",
       " '+']"
      ]
     },
     "execution_count": 19,
     "metadata": {},
     "output_type": "execute_result"
    },
    {
     "data": {
      "text/plain": [
       "['t',\n",
       " 'a',\n",
       " 't',\n",
       " 'c',\n",
       " 'c',\n",
       " 'g',\n",
       " 't',\n",
       " 'c',\n",
       " 'a',\n",
       " 'c',\n",
       " 'c',\n",
       " 'c',\n",
       " 'a',\n",
       " 'a',\n",
       " 'c',\n",
       " 'c',\n",
       " 'c',\n",
       " 'c',\n",
       " 'c']"
      ]
     },
     "execution_count": 19,
     "metadata": {},
     "output_type": "execute_result"
    },
    {
     "data": {
      "text/plain": [
       "['g',\n",
       " 't',\n",
       " 't',\n",
       " 'c',\n",
       " 't',\n",
       " 't',\n",
       " 't',\n",
       " 't',\n",
       " 'g',\n",
       " 'g',\n",
       " 't',\n",
       " 'c',\n",
       " 't',\n",
       " 't',\n",
       " 'g',\n",
       " 't',\n",
       " 'a',\n",
       " 'g',\n",
       " 'a']"
      ]
     },
     "execution_count": 19,
     "metadata": {},
     "output_type": "execute_result"
    },
    {
     "data": {
      "text/plain": [
       "['a',\n",
       " 'c',\n",
       " 't',\n",
       " 'c',\n",
       " 'a',\n",
       " 'a',\n",
       " 'c',\n",
       " 'a',\n",
       " 'c',\n",
       " 't',\n",
       " 'g',\n",
       " 't',\n",
       " 't',\n",
       " 't',\n",
       " 'a',\n",
       " 'c',\n",
       " 'g',\n",
       " 't',\n",
       " 't',\n",
       " '+']"
      ]
     },
     "execution_count": 19,
     "metadata": {},
     "output_type": "execute_result"
    },
    {
     "data": {
      "text/plain": [
       "['a',\n",
       " 'a',\n",
       " 't',\n",
       " 'a',\n",
       " 'a',\n",
       " 'g',\n",
       " 'a',\n",
       " 'a',\n",
       " 't',\n",
       " 'g',\n",
       " 't',\n",
       " 'a',\n",
       " 'a',\n",
       " 'g',\n",
       " 'g',\n",
       " 't',\n",
       " 't',\n",
       " 'c',\n",
       " 'g']"
      ]
     },
     "execution_count": 19,
     "metadata": {},
     "output_type": "execute_result"
    },
    {
     "data": {
      "text/plain": [
       "['a',\n",
       " 'a',\n",
       " 't',\n",
       " 'g',\n",
       " 't',\n",
       " 'a',\n",
       " 'a',\n",
       " 'a',\n",
       " 'c',\n",
       " 'a',\n",
       " 'g',\n",
       " 'a',\n",
       " 'a',\n",
       " 't',\n",
       " 'c',\n",
       " 'c',\n",
       " 'g',\n",
       " 't',\n",
       " 'c']"
      ]
     },
     "execution_count": 19,
     "metadata": {},
     "output_type": "execute_result"
    },
    {
     "data": {
      "text/plain": [
       "['t',\n",
       " 'c',\n",
       " 'c',\n",
       " 'a',\n",
       " 'a',\n",
       " 't',\n",
       " 'c',\n",
       " 'c',\n",
       " 'c',\n",
       " 'g',\n",
       " 'a',\n",
       " 't',\n",
       " 't',\n",
       " 'g',\n",
       " 'g',\n",
       " 'c',\n",
       " 'c',\n",
       " 't',\n",
       " 'c',\n",
       " '+']"
      ]
     },
     "execution_count": 19,
     "metadata": {},
     "output_type": "execute_result"
    },
    {
     "data": {
      "text/plain": [
       "['c',\n",
       " 'a',\n",
       " 'g',\n",
       " 'a',\n",
       " 'c',\n",
       " 't',\n",
       " 'a',\n",
       " 'g',\n",
       " 'g',\n",
       " 't',\n",
       " 't',\n",
       " 'g',\n",
       " 'a',\n",
       " 'a',\n",
       " 'c',\n",
       " 'c',\n",
       " 'g',\n",
       " 't',\n",
       " 'c']"
      ]
     },
     "execution_count": 19,
     "metadata": {},
     "output_type": "execute_result"
    },
    {
     "data": {
      "text/plain": [
       "['t',\n",
       " 'a',\n",
       " 't',\n",
       " 'c',\n",
       " 't',\n",
       " 'a',\n",
       " 'g',\n",
       " 'g',\n",
       " 'c',\n",
       " 'c',\n",
       " 't',\n",
       " 'a',\n",
       " 't',\n",
       " 't',\n",
       " 'g',\n",
       " 'c',\n",
       " 'c',\n",
       " 'c',\n",
       " 'g']"
      ]
     },
     "execution_count": 19,
     "metadata": {},
     "output_type": "execute_result"
    },
    {
     "data": {
      "text/plain": [
       "['g',\n",
       " 'a',\n",
       " 'a',\n",
       " 'c',\n",
       " 't',\n",
       " 'g',\n",
       " 'c',\n",
       " 't',\n",
       " 't',\n",
       " 'c',\n",
       " 'g',\n",
       " 't',\n",
       " 'a',\n",
       " 'c',\n",
       " 't',\n",
       " 't',\n",
       " 't',\n",
       " 'g',\n",
       " 't',\n",
       " '+']"
      ]
     },
     "execution_count": 19,
     "metadata": {},
     "output_type": "execute_result"
    },
    {
     "data": {
      "text/plain": [
       "['c',\n",
       " 'a',\n",
       " 'a',\n",
       " 'a',\n",
       " 'g',\n",
       " 'g',\n",
       " 't',\n",
       " 't',\n",
       " 'g',\n",
       " 'g',\n",
       " 'a',\n",
       " 'a',\n",
       " 'g',\n",
       " 'a',\n",
       " 't',\n",
       " 'g',\n",
       " 'a',\n",
       " 'c',\n",
       " 't']"
      ]
     },
     "execution_count": 19,
     "metadata": {},
     "output_type": "execute_result"
    },
    {
     "data": {
      "text/plain": [
       "['a',\n",
       " 't',\n",
       " 't',\n",
       " 'a',\n",
       " 't',\n",
       " 'a',\n",
       " 't',\n",
       " 'c',\n",
       " 'c',\n",
       " 't',\n",
       " 't',\n",
       " 't',\n",
       " 'a',\n",
       " 'c',\n",
       " 't',\n",
       " 't',\n",
       " 'c',\n",
       " 'g',\n",
       " 't']"
      ]
     },
     "execution_count": 19,
     "metadata": {},
     "output_type": "execute_result"
    },
    {
     "data": {
      "text/plain": [
       "['g',\n",
       " 'a',\n",
       " 'a',\n",
       " 'g',\n",
       " 't',\n",
       " 'c',\n",
       " 'a',\n",
       " 'a',\n",
       " 't',\n",
       " 'c',\n",
       " 'g',\n",
       " 'a',\n",
       " 'g',\n",
       " 't',\n",
       " 't',\n",
       " 'c',\n",
       " 'c',\n",
       " 'g',\n",
       " 'g',\n",
       " '+']"
      ]
     },
     "execution_count": 19,
     "metadata": {},
     "output_type": "execute_result"
    },
    {
     "data": {
      "text/plain": [
       "['a',\n",
       " 'c',\n",
       " 't',\n",
       " 'a',\n",
       " 'g',\n",
       " 'g',\n",
       " 'a',\n",
       " 'c',\n",
       " 't',\n",
       " 'g',\n",
       " 'g',\n",
       " 't',\n",
       " 'c',\n",
       " 'g',\n",
       " 'a',\n",
       " 'g',\n",
       " 'c',\n",
       " 'a',\n",
       " 'a']"
      ]
     },
     "execution_count": 19,
     "metadata": {},
     "output_type": "execute_result"
    },
    {
     "data": {
      "text/plain": [
       "['c',\n",
       " 'c',\n",
       " 'c',\n",
       " 'a',\n",
       " 'g',\n",
       " 'c',\n",
       " 'a',\n",
       " 'c',\n",
       " 't',\n",
       " 'c',\n",
       " 't',\n",
       " 'g',\n",
       " 'a',\n",
       " 'a',\n",
       " 'g',\n",
       " 'c',\n",
       " 'g',\n",
       " 'a',\n",
       " 'g']"
      ]
     },
     "execution_count": 19,
     "metadata": {},
     "output_type": "execute_result"
    },
    {
     "data": {
      "text/plain": [
       "['a',\n",
       " 'a',\n",
       " 'g',\n",
       " 'a',\n",
       " 'g',\n",
       " 't',\n",
       " 'a',\n",
       " 'a',\n",
       " 'a',\n",
       " 'g',\n",
       " 't',\n",
       " 'g',\n",
       " 'c',\n",
       " 'c',\n",
       " 't',\n",
       " 'a',\n",
       " 'c',\n",
       " 't',\n",
       " 't',\n",
       " '+']"
      ]
     },
     "execution_count": 19,
     "metadata": {},
     "output_type": "execute_result"
    },
    {
     "data": {
      "text/plain": [
       "['a',\n",
       " 'a',\n",
       " 't',\n",
       " 't',\n",
       " 'c',\n",
       " 'g',\n",
       " 't',\n",
       " 'g',\n",
       " 'a',\n",
       " 't',\n",
       " 'c',\n",
       " 'g',\n",
       " 'g',\n",
       " 'c',\n",
       " 'a',\n",
       " 'a',\n",
       " 'a',\n",
       " 'a',\n",
       " 't']"
      ]
     },
     "execution_count": 19,
     "metadata": {},
     "output_type": "execute_result"
    },
    {
     "data": {
      "text/plain": [
       "['a',\n",
       " 'c',\n",
       " 'c',\n",
       " 'c',\n",
       " 't',\n",
       " 'c',\n",
       " 't',\n",
       " 'a',\n",
       " 'g',\n",
       " 't',\n",
       " 't',\n",
       " 'c',\n",
       " 'a',\n",
       " 't',\n",
       " 't',\n",
       " 'c',\n",
       " 't',\n",
       " 'a',\n",
       " 'a']"
      ]
     },
     "execution_count": 19,
     "metadata": {},
     "output_type": "execute_result"
    },
    {
     "data": {
      "text/plain": [
       "['t',\n",
       " 'g',\n",
       " 'a',\n",
       " 'a',\n",
       " 't',\n",
       " 't',\n",
       " 'c',\n",
       " 't',\n",
       " 'a',\n",
       " 'a',\n",
       " 'g',\n",
       " 'c',\n",
       " 'g',\n",
       " 'a',\n",
       " 't',\n",
       " 't',\n",
       " 'g',\n",
       " 'a',\n",
       " 't',\n",
       " '+']"
      ]
     },
     "execution_count": 19,
     "metadata": {},
     "output_type": "execute_result"
    },
    {
     "data": {
      "text/plain": [
       "['c',\n",
       " 'a',\n",
       " 't',\n",
       " 'g',\n",
       " 'g',\n",
       " 'g',\n",
       " 'a',\n",
       " 't',\n",
       " 't',\n",
       " 't',\n",
       " 'a',\n",
       " 't',\n",
       " 't',\n",
       " 'a',\n",
       " 'a',\n",
       " 'a',\n",
       " 'c',\n",
       " 'g',\n",
       " 'c']"
      ]
     },
     "execution_count": 19,
     "metadata": {},
     "output_type": "execute_result"
    },
    {
     "data": {
      "text/plain": [
       "['t',\n",
       " 'a',\n",
       " 'g',\n",
       " 'c',\n",
       " 't',\n",
       " 'a',\n",
       " 'a',\n",
       " 'a',\n",
       " 'c',\n",
       " 'c',\n",
       " 'a',\n",
       " 'a',\n",
       " 't',\n",
       " 'c',\n",
       " 'g',\n",
       " 'c',\n",
       " 'a',\n",
       " 't',\n",
       " 'a']"
      ]
     },
     "execution_count": 19,
     "metadata": {},
     "output_type": "execute_result"
    },
    {
     "data": {
      "text/plain": [
       "['a',\n",
       " 'g',\n",
       " 'a',\n",
       " 'a',\n",
       " 'c',\n",
       " 't',\n",
       " 'c',\n",
       " 't',\n",
       " 'a',\n",
       " 'a',\n",
       " 't',\n",
       " 'g',\n",
       " 'a',\n",
       " 'a',\n",
       " 't',\n",
       " 'a',\n",
       " 'c',\n",
       " 'c',\n",
       " 'c',\n",
       " '+']"
      ]
     },
     "execution_count": 19,
     "metadata": {},
     "output_type": "execute_result"
    },
    {
     "data": {
      "text/plain": [
       "['c',\n",
       " 'g',\n",
       " 'g',\n",
       " 'a',\n",
       " 'c',\n",
       " 'g',\n",
       " 'a',\n",
       " 't',\n",
       " 'a',\n",
       " 'c',\n",
       " 't',\n",
       " 't',\n",
       " 'c',\n",
       " 'g',\n",
       " 'a',\n",
       " 'g',\n",
       " 'g',\n",
       " 'g',\n",
       " 'g']"
      ]
     },
     "execution_count": 19,
     "metadata": {},
     "output_type": "execute_result"
    },
    {
     "data": {
      "text/plain": [
       "['c',\n",
       " 'a',\n",
       " 'a',\n",
       " 'a',\n",
       " 'g',\n",
       " 'a',\n",
       " 't',\n",
       " 't',\n",
       " 'c',\n",
       " 'g',\n",
       " 't',\n",
       " 't',\n",
       " 'a',\n",
       " 'g',\n",
       " 'a',\n",
       " 'g',\n",
       " 'a',\n",
       " 'c',\n",
       " 'c']"
      ]
     },
     "execution_count": 19,
     "metadata": {},
     "output_type": "execute_result"
    },
    {
     "data": {
      "text/plain": [
       "['a',\n",
       " 't',\n",
       " 'a',\n",
       " 't',\n",
       " 't',\n",
       " 't',\n",
       " 'c',\n",
       " 'a',\n",
       " 't',\n",
       " 'c',\n",
       " 'a',\n",
       " 'a',\n",
       " 't',\n",
       " 'a',\n",
       " 'a',\n",
       " 'a',\n",
       " 'g',\n",
       " 'a',\n",
       " 'g',\n",
       " '+']"
      ]
     },
     "execution_count": 19,
     "metadata": {},
     "output_type": "execute_result"
    },
    {
     "data": {
      "text/plain": [
       "['a',\n",
       " 't',\n",
       " 'a',\n",
       " 't',\n",
       " 'a',\n",
       " 'g',\n",
       " 't',\n",
       " 'g',\n",
       " 'c',\n",
       " 't',\n",
       " 'a',\n",
       " 'c',\n",
       " 't',\n",
       " 'c',\n",
       " 'a',\n",
       " 't',\n",
       " 'g',\n",
       " 't',\n",
       " 'c']"
      ]
     },
     "execution_count": 19,
     "metadata": {},
     "output_type": "execute_result"
    },
    {
     "data": {
      "text/plain": [
       "['a',\n",
       " 'a',\n",
       " 'a',\n",
       " 't',\n",
       " 't',\n",
       " 'a',\n",
       " 't',\n",
       " 'g',\n",
       " 'a',\n",
       " 'a',\n",
       " 't',\n",
       " 't',\n",
       " 'a',\n",
       " 'c',\n",
       " 't',\n",
       " 'a',\n",
       " 'c',\n",
       " 'a',\n",
       " 'g']"
      ]
     },
     "execution_count": 19,
     "metadata": {},
     "output_type": "execute_result"
    },
    {
     "data": {
      "text/plain": [
       "['t',\n",
       " 't',\n",
       " 't',\n",
       " 't',\n",
       " 'a',\n",
       " 't',\n",
       " 'a',\n",
       " 'c',\n",
       " 'a',\n",
       " 't',\n",
       " 'a',\n",
       " 'g',\n",
       " 't',\n",
       " 'g',\n",
       " 't',\n",
       " 'c',\n",
       " 'g',\n",
       " 't',\n",
       " 'a',\n",
       " '+']"
      ]
     },
     "execution_count": 19,
     "metadata": {},
     "output_type": "execute_result"
    },
    {
     "data": {
      "text/plain": [
       "['t',\n",
       " 'c',\n",
       " 'a',\n",
       " 'c',\n",
       " 'c',\n",
       " 'g',\n",
       " 'a',\n",
       " 'c',\n",
       " 'a',\n",
       " 'g',\n",
       " 'a',\n",
       " 'a',\n",
       " 't',\n",
       " 'g',\n",
       " 't',\n",
       " 'a',\n",
       " 't',\n",
       " 'a',\n",
       " 'c']"
      ]
     },
     "execution_count": 19,
     "metadata": {},
     "output_type": "execute_result"
    },
    {
     "data": {
      "text/plain": [
       "['g',\n",
       " 'a',\n",
       " 'a',\n",
       " 'g',\n",
       " 't',\n",
       " 't',\n",
       " 'a',\n",
       " 'a',\n",
       " 't',\n",
       " 'a',\n",
       " 'a',\n",
       " 't',\n",
       " 'a',\n",
       " 't',\n",
       " 'a',\n",
       " 'a',\n",
       " 'c',\n",
       " 'c',\n",
       " 'c']"
      ]
     },
     "execution_count": 19,
     "metadata": {},
     "output_type": "execute_result"
    },
    {
     "data": {
      "text/plain": [
       "['c',\n",
       " 'c',\n",
       " 'c',\n",
       " 'a',\n",
       " 'a',\n",
       " 'c',\n",
       " 'c',\n",
       " 'c',\n",
       " 't',\n",
       " 'a',\n",
       " 'c',\n",
       " 't',\n",
       " 'g',\n",
       " 't',\n",
       " 't',\n",
       " 'c',\n",
       " 'c',\n",
       " 't',\n",
       " 't',\n",
       " '+']"
      ]
     },
     "execution_count": 19,
     "metadata": {},
     "output_type": "execute_result"
    },
    {
     "data": {
      "text/plain": [
       "['a',\n",
       " 'c',\n",
       " 'g',\n",
       " 'c',\n",
       " 'g',\n",
       " 'g',\n",
       " 'g',\n",
       " 'g',\n",
       " 't',\n",
       " 'c',\n",
       " 't',\n",
       " 'a',\n",
       " 't',\n",
       " 'a',\n",
       " 'g',\n",
       " 'g',\n",
       " 'a',\n",
       " 't',\n",
       " 't']"
      ]
     },
     "execution_count": 19,
     "metadata": {},
     "output_type": "execute_result"
    },
    {
     "data": {
      "text/plain": [
       "['t',\n",
       " 't',\n",
       " 'c',\n",
       " 'c',\n",
       " 't',\n",
       " 'a',\n",
       " 'a',\n",
       " 'g',\n",
       " 't',\n",
       " 'g',\n",
       " 't',\n",
       " 'c',\n",
       " 'a',\n",
       " 'g',\n",
       " 'g',\n",
       " 'a',\n",
       " 'a',\n",
       " 't',\n",
       " 't']"
      ]
     },
     "execution_count": 19,
     "metadata": {},
     "output_type": "execute_result"
    },
    {
     "data": {
      "text/plain": [
       "['t',\n",
       " 'a',\n",
       " 'a',\n",
       " 'a',\n",
       " 't',\n",
       " 't',\n",
       " 'c',\n",
       " 'a',\n",
       " 't',\n",
       " 'g',\n",
       " 'c',\n",
       " 'c',\n",
       " 'g',\n",
       " 'a',\n",
       " 't',\n",
       " 'c',\n",
       " 'a',\n",
       " 't',\n",
       " 'c',\n",
       " '+']"
      ]
     },
     "execution_count": 19,
     "metadata": {},
     "output_type": "execute_result"
    },
    {
     "data": {
      "text/plain": [
       "['c',\n",
       " 'g',\n",
       " 't',\n",
       " 't',\n",
       " 'g',\n",
       " 'g',\n",
       " 'a',\n",
       " 'a',\n",
       " 'a',\n",
       " 't',\n",
       " 'g',\n",
       " 'g',\n",
       " 't',\n",
       " 'a',\n",
       " 't',\n",
       " 'a',\n",
       " 'c',\n",
       " 'g',\n",
       " 'c']"
      ]
     },
     "execution_count": 19,
     "metadata": {},
     "output_type": "execute_result"
    },
    {
     "data": {
      "text/plain": [
       "['c',\n",
       " 't',\n",
       " 'a',\n",
       " 't',\n",
       " 't',\n",
       " 'g',\n",
       " 't',\n",
       " 't',\n",
       " 'a',\n",
       " 'a',\n",
       " 'a',\n",
       " 'a',\n",
       " 'a',\n",
       " 'a',\n",
       " 'a',\n",
       " 't',\n",
       " 'c',\n",
       " 'c',\n",
       " 'g']"
      ]
     },
     "execution_count": 19,
     "metadata": {},
     "output_type": "execute_result"
    },
    {
     "data": {
      "text/plain": [
       "['a',\n",
       " 'g',\n",
       " 'a',\n",
       " 'c',\n",
       " 't',\n",
       " 't',\n",
       " 't',\n",
       " 'g',\n",
       " 't',\n",
       " 'c',\n",
       " 't',\n",
       " 'g',\n",
       " 't',\n",
       " 'g',\n",
       " 't',\n",
       " 'g',\n",
       " 'a',\n",
       " 'a',\n",
       " 'a',\n",
       " '+']"
      ]
     },
     "execution_count": 19,
     "metadata": {},
     "output_type": "execute_result"
    },
    {
     "data": {
      "text/plain": [
       "['c',\n",
       " 't',\n",
       " 't',\n",
       " 'a',\n",
       " 'a',\n",
       " 'c',\n",
       " 'g',\n",
       " 'g',\n",
       " 'a',\n",
       " 'c',\n",
       " 'g',\n",
       " 't',\n",
       " 't',\n",
       " 'a',\n",
       " 't',\n",
       " 'a',\n",
       " 'a',\n",
       " 'c',\n",
       " 'g']"
      ]
     },
     "execution_count": 19,
     "metadata": {},
     "output_type": "execute_result"
    },
    {
     "data": {
      "text/plain": [
       "['a',\n",
       " 't',\n",
       " 'c',\n",
       " 'c',\n",
       " 't',\n",
       " 'c',\n",
       " 't',\n",
       " 'a',\n",
       " 'a',\n",
       " 'a',\n",
       " 't',\n",
       " 'a',\n",
       " 'a',\n",
       " 'g',\n",
       " 'a',\n",
       " 'a',\n",
       " 'c',\n",
       " 'g',\n",
       " 'g']"
      ]
     },
     "execution_count": 19,
     "metadata": {},
     "output_type": "execute_result"
    },
    {
     "data": {
      "text/plain": [
       "['t',\n",
       " 'g',\n",
       " 'g',\n",
       " 't',\n",
       " 'g',\n",
       " 't',\n",
       " 'a',\n",
       " 'a',\n",
       " 'g',\n",
       " 't',\n",
       " 't',\n",
       " 't',\n",
       " 'a',\n",
       " 't',\n",
       " 't',\n",
       " 'c',\n",
       " 'c',\n",
       " 'a',\n",
       " 't',\n",
       " '+']"
      ]
     },
     "execution_count": 19,
     "metadata": {},
     "output_type": "execute_result"
    },
    {
     "data": {
      "text/plain": [
       "['g',\n",
       " 'c',\n",
       " 't',\n",
       " 'a',\n",
       " 'g',\n",
       " 'c',\n",
       " 'a',\n",
       " 't',\n",
       " 'c',\n",
       " 't',\n",
       " 'g',\n",
       " 'g',\n",
       " 't',\n",
       " 'a',\n",
       " 'c',\n",
       " 'a',\n",
       " 'a',\n",
       " 'a',\n",
       " 'g']"
      ]
     },
     "execution_count": 19,
     "metadata": {},
     "output_type": "execute_result"
    },
    {
     "data": {
      "text/plain": [
       "['t',\n",
       " 'a',\n",
       " 't',\n",
       " 't',\n",
       " 't',\n",
       " 'c',\n",
       " 'a',\n",
       " 'c',\n",
       " 'c',\n",
       " 't',\n",
       " 'c',\n",
       " 't',\n",
       " 'a',\n",
       " 'c',\n",
       " 'a',\n",
       " 'g',\n",
       " 't',\n",
       " 'c',\n",
       " 't']"
      ]
     },
     "execution_count": 19,
     "metadata": {},
     "output_type": "execute_result"
    },
    {
     "data": {
      "text/plain": [
       "['c',\n",
       " 't',\n",
       " 't',\n",
       " 'a',\n",
       " 't',\n",
       " 't',\n",
       " 'g',\n",
       " 'g',\n",
       " 't',\n",
       " 'a',\n",
       " 'c',\n",
       " 't',\n",
       " 't',\n",
       " 't',\n",
       " 't',\n",
       " 'c',\n",
       " 'c',\n",
       " 'a',\n",
       " 'c',\n",
       " '+']"
      ]
     },
     "execution_count": 19,
     "metadata": {},
     "output_type": "execute_result"
    },
    {
     "data": {
      "text/plain": [
       "['t',\n",
       " 't',\n",
       " 't',\n",
       " 'g',\n",
       " 't',\n",
       " 'g',\n",
       " 't',\n",
       " 't',\n",
       " 'a',\n",
       " 'a',\n",
       " 'c',\n",
       " 'c',\n",
       " 't',\n",
       " 'g',\n",
       " 'c',\n",
       " 'a',\n",
       " 't',\n",
       " 't',\n",
       " 'g']"
      ]
     },
     "execution_count": 19,
     "metadata": {},
     "output_type": "execute_result"
    },
    {
     "data": {
      "text/plain": [
       "['g',\n",
       " 'g',\n",
       " 'c',\n",
       " 't',\n",
       " 't',\n",
       " 'a',\n",
       " 't',\n",
       " 'g',\n",
       " 't',\n",
       " 'c',\n",
       " 'c',\n",
       " 'a',\n",
       " 'c',\n",
       " 'a',\n",
       " 'c',\n",
       " 'g',\n",
       " 't',\n",
       " 'a',\n",
       " 'g']"
      ]
     },
     "execution_count": 19,
     "metadata": {},
     "output_type": "execute_result"
    },
    {
     "data": {
      "text/plain": [
       "['a',\n",
       " 'a',\n",
       " 'a',\n",
       " 'a',\n",
       " 'g',\n",
       " 't',\n",
       " 't',\n",
       " 'a',\n",
       " 'g',\n",
       " 'c',\n",
       " 'a',\n",
       " 'a',\n",
       " 'g',\n",
       " 'a',\n",
       " 't',\n",
       " 'g',\n",
       " 'g',\n",
       " 't',\n",
       " 'g',\n",
       " '+']"
      ]
     },
     "execution_count": 19,
     "metadata": {},
     "output_type": "execute_result"
    },
    {
     "data": {
      "text/plain": [
       "['t',\n",
       " 'c',\n",
       " 'a',\n",
       " 'g',\n",
       " 'c',\n",
       " 't',\n",
       " 'g',\n",
       " 'c',\n",
       " 'a',\n",
       " 'a',\n",
       " 'a',\n",
       " 'g',\n",
       " 't',\n",
       " 'a',\n",
       " 't',\n",
       " 't',\n",
       " 'c',\n",
       " 'a',\n",
       " 'g']"
      ]
     },
     "execution_count": 19,
     "metadata": {},
     "output_type": "execute_result"
    },
    {
     "data": {
      "text/plain": [
       "['t',\n",
       " 'a',\n",
       " 'a',\n",
       " 't',\n",
       " 't',\n",
       " 'c',\n",
       " 'a',\n",
       " 't',\n",
       " 'a',\n",
       " 'a',\n",
       " 'a',\n",
       " 'a',\n",
       " 'a',\n",
       " 'g',\n",
       " 'a',\n",
       " 'c',\n",
       " 'g',\n",
       " 'g',\n",
       " 't']"
      ]
     },
     "execution_count": 19,
     "metadata": {},
     "output_type": "execute_result"
    },
    {
     "data": {
      "text/plain": [
       "['a',\n",
       " 'c',\n",
       " 'a',\n",
       " 'g',\n",
       " 'g',\n",
       " 't',\n",
       " 'c',\n",
       " 'g',\n",
       " 'c',\n",
       " 'g',\n",
       " 'a',\n",
       " 'c',\n",
       " 'c',\n",
       " 't',\n",
       " 't',\n",
       " 'g',\n",
       " 'c',\n",
       " 'a',\n",
       " 'c',\n",
       " '+']"
      ]
     },
     "execution_count": 19,
     "metadata": {},
     "output_type": "execute_result"
    },
    {
     "data": {
      "text/plain": [
       "['t',\n",
       " 'g',\n",
       " 'a',\n",
       " 'c',\n",
       " 'g',\n",
       " 'g',\n",
       " 'a',\n",
       " 'g',\n",
       " 'g',\n",
       " 'c',\n",
       " 'a',\n",
       " 'c',\n",
       " 't',\n",
       " 'a',\n",
       " 'g',\n",
       " 'c',\n",
       " 'c',\n",
       " 'a',\n",
       " 't']"
      ]
     },
     "execution_count": 19,
     "metadata": {},
     "output_type": "execute_result"
    },
    {
     "data": {
      "text/plain": [
       "['g',\n",
       " 'c',\n",
       " 'c',\n",
       " 'g',\n",
       " 'g',\n",
       " 'a',\n",
       " 'a',\n",
       " 'g',\n",
       " 'c',\n",
       " 'a',\n",
       " 'c',\n",
       " 't',\n",
       " 'a',\n",
       " 'c',\n",
       " 'c',\n",
       " 'g',\n",
       " 'g',\n",
       " 'g',\n",
       " 'g']"
      ]
     },
     "execution_count": 19,
     "metadata": {},
     "output_type": "execute_result"
    },
    {
     "data": {
      "text/plain": [
       "['t',\n",
       " 'a',\n",
       " 'a',\n",
       " 'a',\n",
       " 'a',\n",
       " 't',\n",
       " 'c',\n",
       " 'c',\n",
       " 'g',\n",
       " 'c',\n",
       " 'c',\n",
       " 'a',\n",
       " 'a',\n",
       " 't',\n",
       " 't',\n",
       " 'g',\n",
       " 'g',\n",
       " 'a',\n",
       " 'c',\n",
       " '+']"
      ]
     },
     "execution_count": 19,
     "metadata": {},
     "output_type": "execute_result"
    },
    {
     "data": {
      "text/plain": [
       "['a',\n",
       " 'a',\n",
       " 'c',\n",
       " 'a',\n",
       " 'g',\n",
       " 'g',\n",
       " 'a',\n",
       " 'c',\n",
       " 't',\n",
       " 'c',\n",
       " 't',\n",
       " 't',\n",
       " 'g',\n",
       " 'c',\n",
       " 'a',\n",
       " 'c',\n",
       " 't',\n",
       " 't',\n",
       " 'g']"
      ]
     },
     "execution_count": 19,
     "metadata": {},
     "output_type": "execute_result"
    },
    {
     "data": {
      "text/plain": [
       "['a',\n",
       " 'a',\n",
       " 't',\n",
       " 'c',\n",
       " 't',\n",
       " 't',\n",
       " 'g',\n",
       " 't',\n",
       " 'c',\n",
       " 'g',\n",
       " 't',\n",
       " 'a',\n",
       " 'a',\n",
       " 'a',\n",
       " 'c',\n",
       " 'c',\n",
       " 't',\n",
       " 'a',\n",
       " 't']"
      ]
     },
     "execution_count": 19,
     "metadata": {},
     "output_type": "execute_result"
    },
    {
     "data": {
      "text/plain": [
       "['a',\n",
       " 'c',\n",
       " 't',\n",
       " 't',\n",
       " 'a',\n",
       " 't',\n",
       " 'a',\n",
       " 'a',\n",
       " 't',\n",
       " 'c',\n",
       " 'g',\n",
       " 't',\n",
       " 'a',\n",
       " 'g',\n",
       " 't',\n",
       " 'g',\n",
       " 'c',\n",
       " 'c',\n",
       " 'g',\n",
       " '+']"
      ]
     },
     "execution_count": 19,
     "metadata": {},
     "output_type": "execute_result"
    },
    {
     "data": {
      "text/plain": [
       "['t',\n",
       " 'a',\n",
       " 't',\n",
       " 't',\n",
       " 'g',\n",
       " 'g',\n",
       " 't',\n",
       " 'a',\n",
       " 'c',\n",
       " 'a',\n",
       " 't',\n",
       " 'c',\n",
       " 't',\n",
       " 'a',\n",
       " 'g',\n",
       " 'c',\n",
       " 't',\n",
       " 't',\n",
       " 'a']"
      ]
     },
     "execution_count": 19,
     "metadata": {},
     "output_type": "execute_result"
    },
    {
     "data": {
      "text/plain": [
       "['g',\n",
       " 'a',\n",
       " 't',\n",
       " 't',\n",
       " 't',\n",
       " 'c',\n",
       " 'g',\n",
       " 'c',\n",
       " 'g',\n",
       " 't',\n",
       " 'c',\n",
       " 'c',\n",
       " 'a',\n",
       " 'a',\n",
       " 'c',\n",
       " 'g',\n",
       " 'a',\n",
       " 't',\n",
       " 't']"
      ]
     },
     "execution_count": 19,
     "metadata": {},
     "output_type": "execute_result"
    },
    {
     "data": {
      "text/plain": [
       "['c',\n",
       " 't',\n",
       " 'a',\n",
       " 'a',\n",
       " 'g',\n",
       " 't',\n",
       " 'c',\n",
       " 't',\n",
       " 'a',\n",
       " 'g',\n",
       " 'c',\n",
       " 't',\n",
       " 'g',\n",
       " 't',\n",
       " 't',\n",
       " 'g',\n",
       " 'c',\n",
       " 'c',\n",
       " 'c',\n",
       " '+']"
      ]
     },
     "execution_count": 19,
     "metadata": {},
     "output_type": "execute_result"
    },
    {
     "data": {
      "text/plain": [
       "['c',\n",
       " 'g',\n",
       " 'a',\n",
       " 'g',\n",
       " 'g',\n",
       " 'g',\n",
       " 'g',\n",
       " 'g',\n",
       " 'a',\n",
       " 'c',\n",
       " 't',\n",
       " 'a',\n",
       " 'c',\n",
       " 'a',\n",
       " 'g',\n",
       " 'c',\n",
       " 'c',\n",
       " 'a',\n",
       " 'g']"
      ]
     },
     "execution_count": 19,
     "metadata": {},
     "output_type": "execute_result"
    },
    {
     "data": {
      "text/plain": [
       "['t',\n",
       " 'a',\n",
       " 'a',\n",
       " 'a',\n",
       " 't',\n",
       " 'a',\n",
       " 'c',\n",
       " 'c',\n",
       " 'g',\n",
       " 't',\n",
       " 'a',\n",
       " 'c',\n",
       " 'a',\n",
       " 'a',\n",
       " 'c',\n",
       " 'c',\n",
       " 'g',\n",
       " 'a',\n",
       " 'c']"
      ]
     },
     "execution_count": 19,
     "metadata": {},
     "output_type": "execute_result"
    },
    {
     "data": {
      "text/plain": [
       "['t',\n",
       " 't',\n",
       " 't',\n",
       " 'a',\n",
       " 't',\n",
       " 't',\n",
       " 'c',\n",
       " 'c',\n",
       " 't',\n",
       " 'g',\n",
       " 'a',\n",
       " 'g',\n",
       " 'c',\n",
       " 'a',\n",
       " 't',\n",
       " 'g',\n",
       " 'g',\n",
       " 'c',\n",
       " 'a',\n",
       " '+']"
      ]
     },
     "execution_count": 19,
     "metadata": {},
     "output_type": "execute_result"
    },
    {
     "data": {
      "text/plain": [
       "['c',\n",
       " 't',\n",
       " 'a',\n",
       " 't',\n",
       " 'c',\n",
       " 'g',\n",
       " 'a',\n",
       " 't',\n",
       " 't',\n",
       " 'g',\n",
       " 't',\n",
       " 'c',\n",
       " 't',\n",
       " 'a',\n",
       " 't',\n",
       " 'g',\n",
       " 't',\n",
       " 't',\n",
       " 't']"
      ]
     },
     "execution_count": 19,
     "metadata": {},
     "output_type": "execute_result"
    },
    {
     "data": {
      "text/plain": [
       "['g',\n",
       " 'g',\n",
       " 't',\n",
       " 't',\n",
       " 't',\n",
       " 'a',\n",
       " 'c',\n",
       " 't',\n",
       " 'c',\n",
       " 'c',\n",
       " 'c',\n",
       " 'c',\n",
       " 'a',\n",
       " 'a',\n",
       " 'c',\n",
       " 'c',\n",
       " 'c',\n",
       " 'c',\n",
       " 'a']"
      ]
     },
     "execution_count": 19,
     "metadata": {},
     "output_type": "execute_result"
    },
    {
     "data": {
      "text/plain": [
       "['c',\n",
       " 't',\n",
       " 'a',\n",
       " 't',\n",
       " 't',\n",
       " 'a',\n",
       " 'c',\n",
       " 'a',\n",
       " 'c',\n",
       " 'g',\n",
       " 'g',\n",
       " 'g',\n",
       " 't',\n",
       " 't',\n",
       " 't',\n",
       " 'c',\n",
       " 'g',\n",
       " 'c',\n",
       " 'g',\n",
       " '+']"
      ]
     },
     "execution_count": 19,
     "metadata": {},
     "output_type": "execute_result"
    },
    {
     "data": {
      "text/plain": [
       "['c',\n",
       " 't',\n",
       " 't',\n",
       " 't',\n",
       " 'c',\n",
       " 'c',\n",
       " 'a',\n",
       " 't',\n",
       " 't',\n",
       " 'a',\n",
       " 'c',\n",
       " 't',\n",
       " 't',\n",
       " 'a',\n",
       " 'g',\n",
       " 'g',\n",
       " 'c',\n",
       " 't',\n",
       " 'a']"
      ]
     },
     "execution_count": 19,
     "metadata": {},
     "output_type": "execute_result"
    },
    {
     "data": {
      "text/plain": [
       "['g',\n",
       " 't',\n",
       " 't',\n",
       " 't',\n",
       " 't',\n",
       " 'c',\n",
       " 't',\n",
       " 'c',\n",
       " 't',\n",
       " 'a',\n",
       " 'g',\n",
       " 'g',\n",
       " 'a',\n",
       " 'a',\n",
       " 'c',\n",
       " 'c',\n",
       " 'c',\n",
       " 'c',\n",
       " 't']"
      ]
     },
     "execution_count": 19,
     "metadata": {},
     "output_type": "execute_result"
    },
    {
     "data": {
      "text/plain": [
       "['t',\n",
       " 'g',\n",
       " 't',\n",
       " 't',\n",
       " 't',\n",
       " 't',\n",
       " 'a',\n",
       " 'g',\n",
       " 'g',\n",
       " 't',\n",
       " 'a',\n",
       " 't',\n",
       " 'c',\n",
       " 'g',\n",
       " 't',\n",
       " 'c',\n",
       " 'g',\n",
       " 'a',\n",
       " 'c',\n",
       " '+']"
      ]
     },
     "execution_count": 19,
     "metadata": {},
     "output_type": "execute_result"
    },
    {
     "data": {
      "text/plain": [
       "['t',\n",
       " 'c',\n",
       " 'a',\n",
       " 't',\n",
       " 'c',\n",
       " 'g',\n",
       " 'a',\n",
       " 't',\n",
       " 'g',\n",
       " 't',\n",
       " 'g',\n",
       " 'g',\n",
       " 't',\n",
       " 'a',\n",
       " 'a',\n",
       " 'c',\n",
       " 'c',\n",
       " 'a',\n",
       " 't']"
      ]
     },
     "execution_count": 19,
     "metadata": {},
     "output_type": "execute_result"
    },
    {
     "data": {
      "text/plain": [
       "['c',\n",
       " 'a',\n",
       " 't',\n",
       " 't',\n",
       " 't',\n",
       " 'c',\n",
       " 'a',\n",
       " 't',\n",
       " 'g',\n",
       " 'g',\n",
       " 'c',\n",
       " 'g',\n",
       " 'a',\n",
       " 't',\n",
       " 'g',\n",
       " 'a',\n",
       " 'c',\n",
       " 't',\n",
       " 't']"
      ]
     },
     "execution_count": 19,
     "metadata": {},
     "output_type": "execute_result"
    },
    {
     "data": {
      "text/plain": [
       "['t',\n",
       " 'a',\n",
       " 'c',\n",
       " 'a',\n",
       " 'c',\n",
       " 't',\n",
       " 'c',\n",
       " 'g',\n",
       " 'c',\n",
       " 't',\n",
       " 't',\n",
       " 't',\n",
       " 'c',\n",
       " 'c',\n",
       " 't',\n",
       " 't',\n",
       " 'c',\n",
       " 'c',\n",
       " 'g',\n",
       " '+']"
      ]
     },
     "execution_count": 19,
     "metadata": {},
     "output_type": "execute_result"
    },
    {
     "data": {
      "text/plain": [
       "['g',\n",
       " 'a',\n",
       " 't',\n",
       " 't',\n",
       " 'c',\n",
       " 't',\n",
       " 'g',\n",
       " 'g',\n",
       " 'g',\n",
       " 'g',\n",
       " 't',\n",
       " 'g',\n",
       " 't',\n",
       " 'a',\n",
       " 'c',\n",
       " 'a',\n",
       " 'c',\n",
       " 'a',\n",
       " 't']"
      ]
     },
     "execution_count": 19,
     "metadata": {},
     "output_type": "execute_result"
    },
    {
     "data": {
      "text/plain": [
       "['t',\n",
       " 'a',\n",
       " 'a',\n",
       " 'g',\n",
       " 't',\n",
       " 'a',\n",
       " 't',\n",
       " 'g',\n",
       " 'g',\n",
       " 'a',\n",
       " 't',\n",
       " 't',\n",
       " 'a',\n",
       " 'a',\n",
       " 't',\n",
       " 'c',\n",
       " 'c',\n",
       " 'c',\n",
       " 'a']"
      ]
     },
     "execution_count": 19,
     "metadata": {},
     "output_type": "execute_result"
    },
    {
     "data": {
      "text/plain": [
       "['g',\n",
       " 'c',\n",
       " 'a',\n",
       " 'a',\n",
       " 't',\n",
       " 'a',\n",
       " 'c',\n",
       " 'a',\n",
       " 't',\n",
       " 'g',\n",
       " 'a',\n",
       " 't',\n",
       " 'c',\n",
       " 'a',\n",
       " 'a',\n",
       " 'c',\n",
       " 'g',\n",
       " 'a',\n",
       " 'c',\n",
       " '+']"
      ]
     },
     "execution_count": 19,
     "metadata": {},
     "output_type": "execute_result"
    },
    {
     "data": {
      "text/plain": [
       "['a',\n",
       " 'g',\n",
       " 'c',\n",
       " 't',\n",
       " 'g',\n",
       " 't',\n",
       " 't',\n",
       " 't',\n",
       " 'g',\n",
       " 't',\n",
       " 'a',\n",
       " 'a',\n",
       " 'c',\n",
       " 'c',\n",
       " 't',\n",
       " 'c',\n",
       " 'c',\n",
       " 't',\n",
       " 't']"
      ]
     },
     "execution_count": 19,
     "metadata": {},
     "output_type": "execute_result"
    },
    {
     "data": {
      "text/plain": [
       "['t',\n",
       " 'c',\n",
       " 'g',\n",
       " 'c',\n",
       " 't',\n",
       " 'a',\n",
       " 't',\n",
       " 't',\n",
       " 'a',\n",
       " 'a',\n",
       " 't',\n",
       " 'a',\n",
       " 'c',\n",
       " 'g',\n",
       " 'c',\n",
       " 'a',\n",
       " 'c',\n",
       " 't',\n",
       " 't']"
      ]
     },
     "execution_count": 19,
     "metadata": {},
     "output_type": "execute_result"
    },
    {
     "data": {
      "text/plain": [
       "['a',\n",
       " 'g',\n",
       " 't',\n",
       " 'g',\n",
       " 'a',\n",
       " 't',\n",
       " 'c',\n",
       " 't',\n",
       " 'c',\n",
       " 't',\n",
       " 'a',\n",
       " 'a',\n",
       " 'c',\n",
       " 'a',\n",
       " 't',\n",
       " 't',\n",
       " 'c',\n",
       " 'c',\n",
       " 't',\n",
       " '+']"
      ]
     },
     "execution_count": 19,
     "metadata": {},
     "output_type": "execute_result"
    },
    {
     "data": {
      "text/plain": [
       "['a',\n",
       " 'c',\n",
       " 'a',\n",
       " 'g',\n",
       " 't',\n",
       " 't',\n",
       " 'c',\n",
       " 'c',\n",
       " 'a',\n",
       " 'c',\n",
       " 'g',\n",
       " 'a',\n",
       " 't',\n",
       " 't',\n",
       " 't',\n",
       " 't',\n",
       " 'c',\n",
       " 't',\n",
       " 't']"
      ]
     },
     "execution_count": 19,
     "metadata": {},
     "output_type": "execute_result"
    },
    {
     "data": {
      "text/plain": [
       "['c',\n",
       " 'a',\n",
       " 'c',\n",
       " 't',\n",
       " 't',\n",
       " 'a',\n",
       " 't',\n",
       " 'c',\n",
       " 'g',\n",
       " 'a',\n",
       " 'a',\n",
       " 'a',\n",
       " 't',\n",
       " 'c',\n",
       " 'a',\n",
       " 'c',\n",
       " 'a',\n",
       " 't',\n",
       " 'c']"
      ]
     },
     "execution_count": 19,
     "metadata": {},
     "output_type": "execute_result"
    },
    {
     "data": {
      "text/plain": [
       "['t',\n",
       " 'g',\n",
       " 'g',\n",
       " 'c',\n",
       " 'a',\n",
       " 't',\n",
       " 'c',\n",
       " 't',\n",
       " 't',\n",
       " 't',\n",
       " 'c',\n",
       " 'c',\n",
       " 't',\n",
       " 'a',\n",
       " 'g',\n",
       " 't',\n",
       " 'c',\n",
       " 't',\n",
       " 'c',\n",
       " '+']"
      ]
     },
     "execution_count": 19,
     "metadata": {},
     "output_type": "execute_result"
    },
    {
     "data": {
      "text/plain": [
       "['t',\n",
       " 'c',\n",
       " 'a',\n",
       " 'c',\n",
       " 'c',\n",
       " 'g',\n",
       " 'g',\n",
       " 't',\n",
       " 't',\n",
       " 'c',\n",
       " 'a',\n",
       " 't',\n",
       " 'c',\n",
       " 'c',\n",
       " 't',\n",
       " 'c',\n",
       " 'c',\n",
       " 'a',\n",
       " 'c']"
      ]
     },
     "execution_count": 19,
     "metadata": {},
     "output_type": "execute_result"
    },
    {
     "data": {
      "text/plain": [
       "['a',\n",
       " 'g',\n",
       " 't',\n",
       " 't',\n",
       " 'c',\n",
       " 'a',\n",
       " 'c',\n",
       " 't',\n",
       " 'a',\n",
       " 'g',\n",
       " 'a',\n",
       " 'c',\n",
       " 't',\n",
       " 't',\n",
       " 't',\n",
       " 't',\n",
       " 'a',\n",
       " 'c',\n",
       " 'g']"
      ]
     },
     "execution_count": 19,
     "metadata": {},
     "output_type": "execute_result"
    },
    {
     "data": {
      "text/plain": [
       "['g',\n",
       " 't',\n",
       " 't',\n",
       " 'a',\n",
       " 'a',\n",
       " 't',\n",
       " 't',\n",
       " 't',\n",
       " 't',\n",
       " 't',\n",
       " 'a',\n",
       " 'c',\n",
       " 't',\n",
       " 'a',\n",
       " 'c',\n",
       " 'g',\n",
       " 'a',\n",
       " 'c',\n",
       " 'a',\n",
       " '+']"
      ]
     },
     "execution_count": 19,
     "metadata": {},
     "output_type": "execute_result"
    },
    {
     "data": {
      "text/plain": [
       "['c',\n",
       " 't',\n",
       " 'c',\n",
       " 'a',\n",
       " 'c',\n",
       " 'g',\n",
       " 't',\n",
       " 't',\n",
       " 't',\n",
       " 't',\n",
       " 't',\n",
       " 'g',\n",
       " 'g',\n",
       " 'g',\n",
       " 't',\n",
       " 't',\n",
       " 'a',\n",
       " 't',\n",
       " 'a']"
      ]
     },
     "execution_count": 19,
     "metadata": {},
     "output_type": "execute_result"
    },
    {
     "data": {
      "text/plain": [
       "['c',\n",
       " 'c',\n",
       " 'c',\n",
       " 'a',\n",
       " 'g',\n",
       " 't',\n",
       " 't',\n",
       " 'g',\n",
       " 'g',\n",
       " 'a',\n",
       " 't',\n",
       " 'g',\n",
       " 't',\n",
       " 'a',\n",
       " 't',\n",
       " 'a',\n",
       " 'c',\n",
       " 'a',\n",
       " 't']"
      ]
     },
     "execution_count": 19,
     "metadata": {},
     "output_type": "execute_result"
    },
    {
     "data": {
      "text/plain": [
       "['c',\n",
       " 'a',\n",
       " 'c',\n",
       " 't',\n",
       " 'a',\n",
       " 'c',\n",
       " 'a',\n",
       " 't',\n",
       " 'a',\n",
       " 't',\n",
       " 't',\n",
       " 't',\n",
       " 'g',\n",
       " 'a',\n",
       " 'a',\n",
       " 'c',\n",
       " 'a',\n",
       " 't',\n",
       " 'g',\n",
       " '+']"
      ]
     },
     "execution_count": 19,
     "metadata": {},
     "output_type": "execute_result"
    },
    {
     "data": {
      "text/plain": [
       "['a',\n",
       " 'a',\n",
       " 'g',\n",
       " 't',\n",
       " 't',\n",
       " 'g',\n",
       " 'c',\n",
       " 'c',\n",
       " 't',\n",
       " 'c',\n",
       " 'c',\n",
       " 'g',\n",
       " 't',\n",
       " 'g',\n",
       " 't',\n",
       " 't',\n",
       " 'c',\n",
       " 'a',\n",
       " 'g']"
      ]
     },
     "execution_count": 19,
     "metadata": {},
     "output_type": "execute_result"
    },
    {
     "data": {
      "text/plain": [
       "['g',\n",
       " 'a',\n",
       " 't',\n",
       " 't',\n",
       " 't',\n",
       " 'a',\n",
       " 'a',\n",
       " 'g',\n",
       " 'c',\n",
       " 'g',\n",
       " 't',\n",
       " 't',\n",
       " 't',\n",
       " 'a',\n",
       " 't',\n",
       " 'a',\n",
       " 'a',\n",
       " 'c',\n",
       " 't']"
      ]
     },
     "execution_count": 19,
     "metadata": {},
     "output_type": "execute_result"
    },
    {
     "data": {
      "text/plain": [
       "['c',\n",
       " 't',\n",
       " 't',\n",
       " 'a',\n",
       " 'c',\n",
       " 't',\n",
       " 'c',\n",
       " 'a',\n",
       " 't',\n",
       " 'c',\n",
       " 'a',\n",
       " 't',\n",
       " 'g',\n",
       " 'a',\n",
       " 'c',\n",
       " 't',\n",
       " 't',\n",
       " 't',\n",
       " 'c',\n",
       " '+']"
      ]
     },
     "execution_count": 19,
     "metadata": {},
     "output_type": "execute_result"
    },
    {
     "data": {
      "text/plain": [
       "['a',\n",
       " 'a',\n",
       " 't',\n",
       " 't',\n",
       " 'c',\n",
       " 'g',\n",
       " 'a',\n",
       " 'c',\n",
       " 't',\n",
       " 'g',\n",
       " 't',\n",
       " 't',\n",
       " 't',\n",
       " 't',\n",
       " 't',\n",
       " 'g',\n",
       " 't',\n",
       " 't',\n",
       " 'a']"
      ]
     },
     "execution_count": 19,
     "metadata": {},
     "output_type": "execute_result"
    },
    {
     "data": {
      "text/plain": [
       "['c',\n",
       " 'a',\n",
       " 't',\n",
       " 't',\n",
       " 'a',\n",
       " 't',\n",
       " 'c',\n",
       " 't',\n",
       " 't',\n",
       " 'c',\n",
       " 'c',\n",
       " 't',\n",
       " 't',\n",
       " 'g',\n",
       " 'a',\n",
       " 'g',\n",
       " 'a',\n",
       " 't',\n",
       " 't']"
      ]
     },
     "execution_count": 19,
     "metadata": {},
     "output_type": "execute_result"
    },
    {
     "data": {
      "text/plain": [
       "['a',\n",
       " 't',\n",
       " 'a',\n",
       " 'a',\n",
       " 't',\n",
       " 't',\n",
       " 't',\n",
       " 'c',\n",
       " 'a',\n",
       " 't',\n",
       " 'a',\n",
       " 't',\n",
       " 't',\n",
       " 'a',\n",
       " 't',\n",
       " 'a',\n",
       " 'g',\n",
       " 'a',\n",
       " 'a',\n",
       " '+']"
      ]
     },
     "execution_count": 19,
     "metadata": {},
     "output_type": "execute_result"
    },
    {
     "data": {
      "text/plain": [
       "['t',\n",
       " 'a',\n",
       " 'a',\n",
       " 'g',\n",
       " 'c',\n",
       " 'g',\n",
       " 't',\n",
       " 't',\n",
       " 'c',\n",
       " 'g',\n",
       " 'a',\n",
       " 'g',\n",
       " 't',\n",
       " 'g',\n",
       " 't',\n",
       " 'a',\n",
       " 'a',\n",
       " 't',\n",
       " 'g']"
      ]
     },
     "execution_count": 19,
     "metadata": {},
     "output_type": "execute_result"
    },
    {
     "data": {
      "text/plain": [
       "['a',\n",
       " 'a',\n",
       " 'a',\n",
       " 't',\n",
       " 't',\n",
       " 'c',\n",
       " 't',\n",
       " 'a',\n",
       " 'g',\n",
       " 'a',\n",
       " 'g',\n",
       " 'g',\n",
       " 't',\n",
       " 'g',\n",
       " 'a',\n",
       " 'a',\n",
       " 'c',\n",
       " 'c',\n",
       " 't']"
      ]
     },
     "execution_count": 19,
     "metadata": {},
     "output_type": "execute_result"
    },
    {
     "data": {
      "text/plain": [
       "['c',\n",
       " 'g',\n",
       " 'a',\n",
       " 'a',\n",
       " 'c',\n",
       " 't',\n",
       " 'c',\n",
       " 'g',\n",
       " 'g',\n",
       " 'c',\n",
       " 'a',\n",
       " 'a',\n",
       " 'g',\n",
       " 'a',\n",
       " 'a',\n",
       " 'g',\n",
       " 'g',\n",
       " 't',\n",
       " 'g',\n",
       " '+']"
      ]
     },
     "execution_count": 19,
     "metadata": {},
     "output_type": "execute_result"
    },
    {
     "data": {
      "text/plain": [
       "['a',\n",
       " 'g',\n",
       " 'g',\n",
       " 't',\n",
       " 't',\n",
       " 'g',\n",
       " 't',\n",
       " 't',\n",
       " 'g',\n",
       " 't',\n",
       " 't',\n",
       " 'a',\n",
       " 'g',\n",
       " 'c',\n",
       " 't',\n",
       " 't',\n",
       " 'c',\n",
       " 'c',\n",
       " 'a']"
      ]
     },
     "execution_count": 19,
     "metadata": {},
     "output_type": "execute_result"
    },
    {
     "data": {
      "text/plain": [
       "['a',\n",
       " 't',\n",
       " 'a',\n",
       " 'g',\n",
       " 't',\n",
       " 'c',\n",
       " 't',\n",
       " 'c',\n",
       " 'c',\n",
       " 'g',\n",
       " 't',\n",
       " 't',\n",
       " 'c',\n",
       " 'g',\n",
       " 'a',\n",
       " 'c',\n",
       " 'a',\n",
       " 'g',\n",
       " 't']"
      ]
     },
     "execution_count": 19,
     "metadata": {},
     "output_type": "execute_result"
    },
    {
     "data": {
      "text/plain": [
       "['g',\n",
       " 'c',\n",
       " 'a',\n",
       " 'a',\n",
       " 't',\n",
       " 't',\n",
       " 'a',\n",
       " 'a',\n",
       " 't',\n",
       " 'a',\n",
       " 'a',\n",
       " 't',\n",
       " 'g',\n",
       " 'a',\n",
       " 't',\n",
       " 't',\n",
       " 'g',\n",
       " 'a',\n",
       " 'c',\n",
       " '+']"
      ]
     },
     "execution_count": 19,
     "metadata": {},
     "output_type": "execute_result"
    },
    {
     "data": {
      "text/plain": [
       "['g',\n",
       " 'a',\n",
       " 'a',\n",
       " 't',\n",
       " 'c',\n",
       " 'g',\n",
       " 'c',\n",
       " 't',\n",
       " 'a',\n",
       " 'a',\n",
       " 'c',\n",
       " 'a',\n",
       " 'g',\n",
       " 'a',\n",
       " 'c',\n",
       " 't',\n",
       " 'g',\n",
       " 't',\n",
       " 'c']"
      ]
     },
     "execution_count": 19,
     "metadata": {},
     "output_type": "execute_result"
    },
    {
     "data": {
      "text/plain": [
       "['c',\n",
       " 'a',\n",
       " 'a',\n",
       " 'a',\n",
       " 't',\n",
       " 't',\n",
       " 't',\n",
       " 't',\n",
       " 'c',\n",
       " 'a',\n",
       " 'c',\n",
       " 't',\n",
       " 't',\n",
       " 'c',\n",
       " 't',\n",
       " 'a',\n",
       " 'c',\n",
       " 't',\n",
       " 't']"
      ]
     },
     "execution_count": 19,
     "metadata": {},
     "output_type": "execute_result"
    },
    {
     "data": {
      "text/plain": [
       "['t',\n",
       " 'g',\n",
       " 'c',\n",
       " 'c',\n",
       " 'g',\n",
       " 't',\n",
       " 'c',\n",
       " 't',\n",
       " 'a',\n",
       " 'c',\n",
       " 'c',\n",
       " 'g',\n",
       " 'c',\n",
       " 'a',\n",
       " 't',\n",
       " 't',\n",
       " 'g',\n",
       " 'a',\n",
       " 'g',\n",
       " '+']"
      ]
     },
     "execution_count": 19,
     "metadata": {},
     "output_type": "execute_result"
    },
    {
     "data": {
      "text/plain": [
       "['a',\n",
       " 'c',\n",
       " 'c',\n",
       " 'a',\n",
       " 'c',\n",
       " 't',\n",
       " 'a',\n",
       " 't',\n",
       " 't',\n",
       " 't',\n",
       " 'c',\n",
       " 'c',\n",
       " 'g',\n",
       " 't',\n",
       " 't',\n",
       " 'g',\n",
       " 'g',\n",
       " 't',\n",
       " 't']"
      ]
     },
     "execution_count": 19,
     "metadata": {},
     "output_type": "execute_result"
    },
    {
     "data": {
      "text/plain": [
       "['g',\n",
       " 'a',\n",
       " 'c',\n",
       " 'g',\n",
       " 't',\n",
       " 'a',\n",
       " 'c',\n",
       " 't',\n",
       " 'g',\n",
       " 't',\n",
       " 'g',\n",
       " 't',\n",
       " 't',\n",
       " 'g',\n",
       " 'g',\n",
       " 't',\n",
       " 'a',\n",
       " 't',\n",
       " 'g']"
      ]
     },
     "execution_count": 19,
     "metadata": {},
     "output_type": "execute_result"
    },
    {
     "data": {
      "text/plain": [
       "['c',\n",
       " 't',\n",
       " 'a',\n",
       " 'a',\n",
       " 't',\n",
       " 't',\n",
       " 'c',\n",
       " 'c',\n",
       " 'a',\n",
       " 'a',\n",
       " 'c',\n",
       " 't',\n",
       " 'g',\n",
       " 'a',\n",
       " 'c',\n",
       " 'g',\n",
       " 'a',\n",
       " 'c',\n",
       " 'c',\n",
       " '+']"
      ]
     },
     "execution_count": 19,
     "metadata": {},
     "output_type": "execute_result"
    },
    {
     "data": {
      "text/plain": [
       "['c',\n",
       " 'c',\n",
       " 'a',\n",
       " 'a',\n",
       " 'a',\n",
       " 'c',\n",
       " 'a',\n",
       " 'a',\n",
       " 'a',\n",
       " 'a',\n",
       " 't',\n",
       " 'g',\n",
       " 't',\n",
       " 't',\n",
       " 't',\n",
       " 't',\n",
       " 'c',\n",
       " 't',\n",
       " 'a']"
      ]
     },
     "execution_count": 19,
     "metadata": {},
     "output_type": "execute_result"
    },
    {
     "data": {
      "text/plain": [
       "['a',\n",
       " 'a',\n",
       " 'a',\n",
       " 'a',\n",
       " 't',\n",
       " 't',\n",
       " 'a',\n",
       " 't',\n",
       " 'a',\n",
       " 'a',\n",
       " 't',\n",
       " 't',\n",
       " 'a',\n",
       " 'a',\n",
       " 't',\n",
       " 'a',\n",
       " 'g',\n",
       " 'a',\n",
       " 't']"
      ]
     },
     "execution_count": 19,
     "metadata": {},
     "output_type": "execute_result"
    },
    {
     "data": {
      "text/plain": [
       "['t',\n",
       " 'g',\n",
       " 'c',\n",
       " 'c',\n",
       " 't',\n",
       " 't',\n",
       " 't',\n",
       " 'g',\n",
       " 'c',\n",
       " 't',\n",
       " 't',\n",
       " 't',\n",
       " 'g',\n",
       " 'a',\n",
       " 'g',\n",
       " 'c',\n",
       " 't',\n",
       " 'a',\n",
       " 'g',\n",
       " '+']"
      ]
     },
     "execution_count": 19,
     "metadata": {},
     "output_type": "execute_result"
    },
    {
     "data": {
      "text/plain": [
       "['g',\n",
       " 'g',\n",
       " 'g',\n",
       " 'g',\n",
       " 'a',\n",
       " 'g',\n",
       " 'c',\n",
       " 'c',\n",
       " 'g',\n",
       " 't',\n",
       " 'g',\n",
       " 'a',\n",
       " 'c',\n",
       " 't',\n",
       " 't',\n",
       " 't',\n",
       " 't',\n",
       " 'g',\n",
       " 'a']"
      ]
     },
     "execution_count": 19,
     "metadata": {},
     "output_type": "execute_result"
    },
    {
     "data": {
      "text/plain": [
       "['g',\n",
       " 'a',\n",
       " 't',\n",
       " 't',\n",
       " 'c',\n",
       " 'a',\n",
       " 'c',\n",
       " 'a',\n",
       " 't',\n",
       " 'a',\n",
       " 'a',\n",
       " 't',\n",
       " 't',\n",
       " 'c',\n",
       " 'a',\n",
       " 'c',\n",
       " 't',\n",
       " 'c',\n",
       " 'g']"
      ]
     },
     "execution_count": 19,
     "metadata": {},
     "output_type": "execute_result"
    },
    {
     "data": {
      "text/plain": [
       "['t',\n",
       " 'g',\n",
       " 'a',\n",
       " 't',\n",
       " 't',\n",
       " 't',\n",
       " 't',\n",
       " 'a',\n",
       " 'g',\n",
       " 't',\n",
       " 't',\n",
       " 't',\n",
       " 'a',\n",
       " 'a',\n",
       " 'a',\n",
       " 't',\n",
       " 't',\n",
       " 'c',\n",
       " 'a',\n",
       " '+']"
      ]
     },
     "execution_count": 19,
     "metadata": {},
     "output_type": "execute_result"
    },
    {
     "data": {
      "text/plain": [
       "['c',\n",
       " 'a',\n",
       " 't',\n",
       " 't',\n",
       " 'g',\n",
       " 'g',\n",
       " 'g',\n",
       " 'c',\n",
       " 't',\n",
       " 't',\n",
       " 't',\n",
       " 'c',\n",
       " 'g',\n",
       " 't',\n",
       " 't',\n",
       " 'g',\n",
       " 'g',\n",
       " 'a',\n",
       " 'a']"
      ]
     },
     "execution_count": 19,
     "metadata": {},
     "output_type": "execute_result"
    },
    {
     "data": {
      "text/plain": [
       "['a',\n",
       " 'a',\n",
       " 'a',\n",
       " 'a',\n",
       " 'g',\n",
       " 'a',\n",
       " 'a',\n",
       " 't',\n",
       " 't',\n",
       " 't',\n",
       " 'a',\n",
       " 'c',\n",
       " 't',\n",
       " 'a',\n",
       " 't',\n",
       " 't',\n",
       " 'g',\n",
       " 't',\n",
       " 't']"
      ]
     },
     "execution_count": 19,
     "metadata": {},
     "output_type": "execute_result"
    },
    {
     "data": {
      "text/plain": [
       "['a',\n",
       " 't',\n",
       " 'a',\n",
       " 't',\n",
       " 'a',\n",
       " 'c',\n",
       " 'c',\n",
       " 'c',\n",
       " 'a',\n",
       " 't',\n",
       " 'c',\n",
       " 'c',\n",
       " 't',\n",
       " 'a',\n",
       " 'a',\n",
       " 't',\n",
       " 't',\n",
       " 'c',\n",
       " 'c',\n",
       " '-']"
      ]
     },
     "execution_count": 19,
     "metadata": {},
     "output_type": "execute_result"
    },
    {
     "data": {
      "text/plain": [
       "['t',\n",
       " 'g',\n",
       " 'c',\n",
       " 't',\n",
       " 'g',\n",
       " 't',\n",
       " 'c',\n",
       " 't',\n",
       " 'g',\n",
       " 'a',\n",
       " 'a',\n",
       " 't',\n",
       " 'g',\n",
       " 'c',\n",
       " 'c',\n",
       " 't',\n",
       " 'g',\n",
       " 'g',\n",
       " 't']"
      ]
     },
     "execution_count": 19,
     "metadata": {},
     "output_type": "execute_result"
    },
    {
     "data": {
      "text/plain": [
       "['a',\n",
       " 'a',\n",
       " 'g',\n",
       " 'g',\n",
       " 'a',\n",
       " 'g',\n",
       " 'g',\n",
       " 'g',\n",
       " 't',\n",
       " 't',\n",
       " 'g',\n",
       " 'g',\n",
       " 'a',\n",
       " 'g',\n",
       " 'a',\n",
       " 'c',\n",
       " 'g',\n",
       " 't',\n",
       " 'a']"
      ]
     },
     "execution_count": 19,
     "metadata": {},
     "output_type": "execute_result"
    },
    {
     "data": {
      "text/plain": [
       "['c',\n",
       " 'a',\n",
       " 'a',\n",
       " 'c',\n",
       " 't',\n",
       " 'g',\n",
       " 'c',\n",
       " 't',\n",
       " 'g',\n",
       " 't',\n",
       " 'g',\n",
       " 'a',\n",
       " 'a',\n",
       " 'g',\n",
       " 'a',\n",
       " 'a',\n",
       " 'a',\n",
       " 'c',\n",
       " 'c',\n",
       " '-']"
      ]
     },
     "execution_count": 19,
     "metadata": {},
     "output_type": "execute_result"
    },
    {
     "data": {
      "text/plain": [
       "['g',\n",
       " 'c',\n",
       " 'g',\n",
       " 'a',\n",
       " 'c',\n",
       " 'a',\n",
       " 'g',\n",
       " 't',\n",
       " 'a',\n",
       " 'c',\n",
       " 'g',\n",
       " 't',\n",
       " 'c',\n",
       " 't',\n",
       " 'a',\n",
       " 't',\n",
       " 't',\n",
       " 'g',\n",
       " 't']"
      ]
     },
     "execution_count": 19,
     "metadata": {},
     "output_type": "execute_result"
    },
    {
     "data": {
      "text/plain": [
       "['a',\n",
       " 'g',\n",
       " 't',\n",
       " 'a',\n",
       " 'a',\n",
       " 'c',\n",
       " 'c',\n",
       " 't',\n",
       " 'c',\n",
       " 't',\n",
       " 't',\n",
       " 't',\n",
       " 't',\n",
       " 'g',\n",
       " 'c',\n",
       " 't',\n",
       " 't',\n",
       " 't',\n",
       " 'c']"
      ]
     },
     "execution_count": 19,
     "metadata": {},
     "output_type": "execute_result"
    },
    {
     "data": {
      "text/plain": [
       "['c',\n",
       " 't',\n",
       " 'c',\n",
       " 'c',\n",
       " 'a',\n",
       " 'g',\n",
       " 't',\n",
       " 't',\n",
       " 'g',\n",
       " 'g',\n",
       " 't',\n",
       " 't',\n",
       " 't',\n",
       " 'a',\n",
       " 'g',\n",
       " 'g',\n",
       " 'c',\n",
       " 't',\n",
       " 'g',\n",
       " '-']"
      ]
     },
     "execution_count": 19,
     "metadata": {},
     "output_type": "execute_result"
    },
    {
     "data": {
      "text/plain": [
       "['a',\n",
       " 'g',\n",
       " 'c',\n",
       " 't',\n",
       " 'a',\n",
       " 'g',\n",
       " 'c',\n",
       " 'g',\n",
       " 'g',\n",
       " 't',\n",
       " 't',\n",
       " 'g',\n",
       " 'g',\n",
       " 'a',\n",
       " 'a',\n",
       " 'a',\n",
       " 't',\n",
       " 'a',\n",
       " 'c']"
      ]
     },
     "execution_count": 19,
     "metadata": {},
     "output_type": "execute_result"
    },
    {
     "data": {
      "text/plain": [
       "['a',\n",
       " 'g',\n",
       " 't',\n",
       " 'a',\n",
       " 'c',\n",
       " 'g',\n",
       " 't',\n",
       " 'a',\n",
       " 'g',\n",
       " 't',\n",
       " 't',\n",
       " 'c',\n",
       " 'a',\n",
       " 'g',\n",
       " 'g',\n",
       " 'a',\n",
       " 'a',\n",
       " 't',\n",
       " 'g']"
      ]
     },
     "execution_count": 19,
     "metadata": {},
     "output_type": "execute_result"
    },
    {
     "data": {
      "text/plain": [
       "['t',\n",
       " 'a',\n",
       " 't',\n",
       " 't',\n",
       " 'g',\n",
       " 'a',\n",
       " 'a',\n",
       " 't',\n",
       " 'g',\n",
       " 'g',\n",
       " 't',\n",
       " 'g',\n",
       " 'a',\n",
       " 'c',\n",
       " 't',\n",
       " 'g',\n",
       " 't',\n",
       " 'c',\n",
       " 'a',\n",
       " '-']"
      ]
     },
     "execution_count": 19,
     "metadata": {},
     "output_type": "execute_result"
    },
    {
     "data": {
      "text/plain": [
       "['t',\n",
       " 'c',\n",
       " 'a',\n",
       " 'a',\n",
       " 'c',\n",
       " 'g',\n",
       " 't',\n",
       " 't',\n",
       " 'c',\n",
       " 't',\n",
       " 'a',\n",
       " 'c',\n",
       " 'a',\n",
       " 'a',\n",
       " 'c',\n",
       " 'g',\n",
       " 'g',\n",
       " 't',\n",
       " 'a']"
      ]
     },
     "execution_count": 19,
     "metadata": {},
     "output_type": "execute_result"
    },
    {
     "data": {
      "text/plain": [
       "['g',\n",
       " 'c',\n",
       " 'c',\n",
       " 'c',\n",
       " 'c',\n",
       " 'c',\n",
       " 't',\n",
       " 'g',\n",
       " 'g',\n",
       " 'g',\n",
       " 'a',\n",
       " 't',\n",
       " 'c',\n",
       " 't',\n",
       " 'c',\n",
       " 't',\n",
       " 'a',\n",
       " 'c',\n",
       " 't']"
      ]
     },
     "execution_count": 19,
     "metadata": {},
     "output_type": "execute_result"
    },
    {
     "data": {
      "text/plain": [
       "['c',\n",
       " 'c',\n",
       " 't',\n",
       " 'g',\n",
       " 'a',\n",
       " 'c',\n",
       " 'c',\n",
       " 't',\n",
       " 'c',\n",
       " 'c',\n",
       " 't',\n",
       " 'a',\n",
       " 'g',\n",
       " 'a',\n",
       " 'c',\n",
       " 'a',\n",
       " 'c',\n",
       " 'a',\n",
       " 'c',\n",
       " '-']"
      ]
     },
     "execution_count": 19,
     "metadata": {},
     "output_type": "execute_result"
    },
    {
     "data": {
      "text/plain": [
       "['g',\n",
       " 't',\n",
       " 'c',\n",
       " 't',\n",
       " 'a',\n",
       " 't',\n",
       " 'g',\n",
       " 'a',\n",
       " 'a',\n",
       " 'g',\n",
       " 'g',\n",
       " 'a',\n",
       " 't',\n",
       " 'c',\n",
       " 't',\n",
       " 'c',\n",
       " 'a',\n",
       " 't',\n",
       " 'a']"
      ]
     },
     "execution_count": 19,
     "metadata": {},
     "output_type": "execute_result"
    },
    {
     "data": {
      "text/plain": [
       "['t',\n",
       " 'a',\n",
       " 'g',\n",
       " 'g',\n",
       " 'c',\n",
       " 'c',\n",
       " 'g',\n",
       " 't',\n",
       " 'a',\n",
       " 'c',\n",
       " 'g',\n",
       " 'g',\n",
       " 'g',\n",
       " 'g',\n",
       " 'a',\n",
       " 'g',\n",
       " 'g',\n",
       " 'g',\n",
       " 'g']"
      ]
     },
     "execution_count": 19,
     "metadata": {},
     "output_type": "execute_result"
    },
    {
     "data": {
      "text/plain": [
       "['g',\n",
       " 'a',\n",
       " 'c',\n",
       " 't',\n",
       " 'a',\n",
       " 'a',\n",
       " 't',\n",
       " 'a',\n",
       " 'g',\n",
       " 'g',\n",
       " 't',\n",
       " 'g',\n",
       " 'a',\n",
       " 'a',\n",
       " 'c',\n",
       " 'a',\n",
       " 't',\n",
       " 't',\n",
       " 'g',\n",
       " '-']"
      ]
     },
     "execution_count": 19,
     "metadata": {},
     "output_type": "execute_result"
    },
    {
     "data": {
      "text/plain": [
       "['c',\n",
       " 'a',\n",
       " 'a',\n",
       " 'c',\n",
       " 'g',\n",
       " 'c',\n",
       " 'g',\n",
       " 'g',\n",
       " 't',\n",
       " 't',\n",
       " 'c',\n",
       " 'c',\n",
       " 'a',\n",
       " 'g',\n",
       " 't',\n",
       " 'c',\n",
       " 'c',\n",
       " 't',\n",
       " 't']"
      ]
     },
     "execution_count": 19,
     "metadata": {},
     "output_type": "execute_result"
    },
    {
     "data": {
      "text/plain": [
       "['c',\n",
       " 't',\n",
       " 'a',\n",
       " 'a',\n",
       " 'a',\n",
       " 't',\n",
       " 'a',\n",
       " 'g',\n",
       " 'g',\n",
       " 'a',\n",
       " 'a',\n",
       " 'c',\n",
       " 'c',\n",
       " 'c',\n",
       " 'g',\n",
       " 'a',\n",
       " 'c',\n",
       " 'c',\n",
       " 't']"
      ]
     },
     "execution_count": 19,
     "metadata": {},
     "output_type": "execute_result"
    },
    {
     "data": {
      "text/plain": [
       "['t',\n",
       " 'a',\n",
       " 'g',\n",
       " 'g',\n",
       " 'c',\n",
       " 'c',\n",
       " 't',\n",
       " 'g',\n",
       " 'a',\n",
       " 'c',\n",
       " 'a',\n",
       " 'g',\n",
       " 'a',\n",
       " 'a',\n",
       " 't',\n",
       " 't',\n",
       " 't',\n",
       " 'c',\n",
       " 'c',\n",
       " '-']"
      ]
     },
     "execution_count": 19,
     "metadata": {},
     "output_type": "execute_result"
    },
    {
     "data": {
      "text/plain": [
       "['g',\n",
       " 't',\n",
       " 'a',\n",
       " 't',\n",
       " 'a',\n",
       " 'a',\n",
       " 'g',\n",
       " 'g',\n",
       " 'g',\n",
       " 'a',\n",
       " 'a',\n",
       " 'c',\n",
       " 'c',\n",
       " 'c',\n",
       " 'g',\n",
       " 'g',\n",
       " 't',\n",
       " 't',\n",
       " 'a']"
      ]
     },
     "execution_count": 19,
     "metadata": {},
     "output_type": "execute_result"
    },
    {
     "data": {
      "text/plain": [
       "['g',\n",
       " 'g',\n",
       " 'c',\n",
       " 't',\n",
       " 'a',\n",
       " 't',\n",
       " 'a',\n",
       " 'a',\n",
       " 'g',\n",
       " 't',\n",
       " 'c',\n",
       " 't',\n",
       " 't',\n",
       " 'c',\n",
       " 'a',\n",
       " 't',\n",
       " 'a',\n",
       " 'c',\n",
       " 'a']"
      ]
     },
     "execution_count": 19,
     "metadata": {},
     "output_type": "execute_result"
    },
    {
     "data": {
      "text/plain": [
       "['g',\n",
       " 'g',\n",
       " 'g',\n",
       " 'a',\n",
       " 't',\n",
       " 'a',\n",
       " 'a',\n",
       " 'g',\n",
       " 'c',\n",
       " 'g',\n",
       " 'a',\n",
       " 'c',\n",
       " 'a',\n",
       " 'g',\n",
       " 't',\n",
       " 'a',\n",
       " 'c',\n",
       " 'g',\n",
       " 't',\n",
       " '-']"
      ]
     },
     "execution_count": 19,
     "metadata": {},
     "output_type": "execute_result"
    },
    {
     "data": {
      "text/plain": [
       "['a',\n",
       " 't',\n",
       " 'c',\n",
       " 't',\n",
       " 'g',\n",
       " 't',\n",
       " 'c',\n",
       " 'a',\n",
       " 'g',\n",
       " 't',\n",
       " 'a',\n",
       " 'a',\n",
       " 'c',\n",
       " 'c',\n",
       " 't',\n",
       " 'c',\n",
       " 't',\n",
       " 't',\n",
       " 't']"
      ]
     },
     "execution_count": 19,
     "metadata": {},
     "output_type": "execute_result"
    },
    {
     "data": {
      "text/plain": [
       "['g',\n",
       " 'g',\n",
       " 't',\n",
       " 'g',\n",
       " 't',\n",
       " 'g',\n",
       " 'c',\n",
       " 'a',\n",
       " 'a',\n",
       " 'c',\n",
       " 't',\n",
       " 'g',\n",
       " 'c',\n",
       " 't',\n",
       " 'g',\n",
       " 't',\n",
       " 'g',\n",
       " 'a',\n",
       " 'a']"
      ]
     },
     "execution_count": 19,
     "metadata": {},
     "output_type": "execute_result"
    },
    {
     "data": {
      "text/plain": [
       "['c',\n",
       " 'a',\n",
       " 'g',\n",
       " 't',\n",
       " 'g',\n",
       " 'c',\n",
       " 't',\n",
       " 't',\n",
       " 't',\n",
       " 'g',\n",
       " 't',\n",
       " 'g',\n",
       " 'c',\n",
       " 'g',\n",
       " 'c',\n",
       " 'g',\n",
       " 'g',\n",
       " 'g',\n",
       " 'g',\n",
       " '-']"
      ]
     },
     "execution_count": 19,
     "metadata": {},
     "output_type": "execute_result"
    },
    {
     "data": {
      "text/plain": [
       "['g',\n",
       " 'g',\n",
       " 'c',\n",
       " 'c',\n",
       " 't',\n",
       " 't',\n",
       " 'c',\n",
       " 'a',\n",
       " 'g',\n",
       " 'a',\n",
       " 'a',\n",
       " 'c',\n",
       " 'c',\n",
       " 'c',\n",
       " 'c',\n",
       " 'a',\n",
       " 'a',\n",
       " 'a',\n",
       " 'a']"
      ]
     },
     "execution_count": 19,
     "metadata": {},
     "output_type": "execute_result"
    },
    {
     "data": {
      "text/plain": [
       "['t',\n",
       " 'c',\n",
       " 'a',\n",
       " 'a',\n",
       " 'g',\n",
       " 't',\n",
       " 't',\n",
       " 'c',\n",
       " 't',\n",
       " 'g',\n",
       " 'c',\n",
       " 'a',\n",
       " 'a',\n",
       " 'g',\n",
       " 'a',\n",
       " 'g',\n",
       " 'c',\n",
       " 'c',\n",
       " 'c']"
      ]
     },
     "execution_count": 19,
     "metadata": {},
     "output_type": "execute_result"
    },
    {
     "data": {
      "text/plain": [
       "['c',\n",
       " 'c',\n",
       " 'a',\n",
       " 'c',\n",
       " 'g',\n",
       " 't',\n",
       " 't',\n",
       " 't',\n",
       " 'a',\n",
       " 'g',\n",
       " 't',\n",
       " 'a',\n",
       " 'c',\n",
       " 'g',\n",
       " 't',\n",
       " 'a',\n",
       " 'g',\n",
       " 't',\n",
       " 't',\n",
       " '-']"
      ]
     },
     "execution_count": 19,
     "metadata": {},
     "output_type": "execute_result"
    },
    {
     "data": {
      "text/plain": [
       "['g',\n",
       " 'c',\n",
       " 'a',\n",
       " 'g',\n",
       " 'c',\n",
       " 'c',\n",
       " 'c',\n",
       " 'c',\n",
       " 't',\n",
       " 'c',\n",
       " 'c',\n",
       " 'a',\n",
       " 'g',\n",
       " 't',\n",
       " 't',\n",
       " 'g',\n",
       " 'g',\n",
       " 't',\n",
       " 't']"
      ]
     },
     "execution_count": 19,
     "metadata": {},
     "output_type": "execute_result"
    },
    {
     "data": {
      "text/plain": [
       "['a',\n",
       " 'g',\n",
       " 'g',\n",
       " 'a',\n",
       " 'c',\n",
       " 'g',\n",
       " 'c',\n",
       " 'a',\n",
       " 'g',\n",
       " 'c',\n",
       " 't',\n",
       " 'a',\n",
       " 'g',\n",
       " 'c',\n",
       " 'g',\n",
       " 'g',\n",
       " 't',\n",
       " 't',\n",
       " 'g']"
      ]
     },
     "execution_count": 19,
     "metadata": {},
     "output_type": "execute_result"
    },
    {
     "data": {
      "text/plain": [
       "['c',\n",
       " 'c',\n",
       " 't',\n",
       " 'g',\n",
       " 'c',\n",
       " 't',\n",
       " 'g',\n",
       " 'g',\n",
       " 't',\n",
       " 'a',\n",
       " 't',\n",
       " 'g',\n",
       " 'c',\n",
       " 't',\n",
       " 't',\n",
       " 't',\n",
       " 'a',\n",
       " 'g',\n",
       " 't',\n",
       " '-']"
      ]
     },
     "execution_count": 19,
     "metadata": {},
     "output_type": "execute_result"
    },
    {
     "data": {
      "text/plain": [
       "['t',\n",
       " 'g',\n",
       " 'g',\n",
       " 't',\n",
       " 'a',\n",
       " 'a',\n",
       " 'c',\n",
       " 'g',\n",
       " 'g',\n",
       " 'g',\n",
       " 'g',\n",
       " 't',\n",
       " 'a',\n",
       " 't',\n",
       " 'g',\n",
       " 'c',\n",
       " 'c',\n",
       " 'a',\n",
       " 'c']"
      ]
     },
     "execution_count": 19,
     "metadata": {},
     "output_type": "execute_result"
    },
    {
     "data": {
      "text/plain": [
       "['a',\n",
       " 'g',\n",
       " 'g',\n",
       " 'a',\n",
       " 'a',\n",
       " 't',\n",
       " 't',\n",
       " 'a',\n",
       " 'g',\n",
       " 'a',\n",
       " 'c',\n",
       " 't',\n",
       " 'c',\n",
       " 'c',\n",
       " 'g',\n",
       " 't',\n",
       " 't',\n",
       " 'c',\n",
       " 'g']"
      ]
     },
     "execution_count": 19,
     "metadata": {},
     "output_type": "execute_result"
    },
    {
     "data": {
      "text/plain": [
       "['a',\n",
       " 'g',\n",
       " 't',\n",
       " 'g',\n",
       " 't',\n",
       " 't',\n",
       " 'c',\n",
       " 'a',\n",
       " 'a',\n",
       " 'c',\n",
       " 'g',\n",
       " 't',\n",
       " 't',\n",
       " 'c',\n",
       " 't',\n",
       " 'a',\n",
       " 'c',\n",
       " 'a',\n",
       " 'a',\n",
       " '-']"
      ]
     },
     "execution_count": 19,
     "metadata": {},
     "output_type": "execute_result"
    },
    {
     "data": {
      "text/plain": [
       "['t',\n",
       " 't',\n",
       " 'c',\n",
       " 'a',\n",
       " 'c',\n",
       " 'g',\n",
       " 'c',\n",
       " 'c',\n",
       " 'c',\n",
       " 'c',\n",
       " 'c',\n",
       " 't',\n",
       " 'g',\n",
       " 'g',\n",
       " 'g',\n",
       " 'a',\n",
       " 't',\n",
       " 'c',\n",
       " 't']"
      ]
     },
     "execution_count": 19,
     "metadata": {},
     "output_type": "execute_result"
    },
    {
     "data": {
      "text/plain": [
       "['a',\n",
       " 'c',\n",
       " 'a',\n",
       " 'g',\n",
       " 't',\n",
       " 'a',\n",
       " 't',\n",
       " 't',\n",
       " 'g',\n",
       " 'a',\n",
       " 'a',\n",
       " 't',\n",
       " 'g',\n",
       " 'g',\n",
       " 't',\n",
       " 'g',\n",
       " 'a',\n",
       " 'c',\n",
       " 't']"
      ]
     },
     "execution_count": 19,
     "metadata": {},
     "output_type": "execute_result"
    },
    {
     "data": {
      "text/plain": [
       "['a',\n",
       " 't',\n",
       " 'a',\n",
       " 'c',\n",
       " 'a',\n",
       " 'c',\n",
       " 'c',\n",
       " 'g',\n",
       " 't',\n",
       " 'c',\n",
       " 'g',\n",
       " 't',\n",
       " 't',\n",
       " 't',\n",
       " 'c',\n",
       " 't',\n",
       " 'a',\n",
       " 'g',\n",
       " 'g',\n",
       " '-']"
      ]
     },
     "execution_count": 19,
     "metadata": {},
     "output_type": "execute_result"
    },
    {
     "data": {
      "text/plain": [
       "['a',\n",
       " 'c',\n",
       " 'g',\n",
       " 't',\n",
       " 't',\n",
       " 'g',\n",
       " 'g',\n",
       " 'a',\n",
       " 't',\n",
       " 'g',\n",
       " 'c',\n",
       " 't',\n",
       " 'c',\n",
       " 't',\n",
       " 'g',\n",
       " 'a',\n",
       " 'c',\n",
       " 'c',\n",
       " 'c']"
      ]
     },
     "execution_count": 19,
     "metadata": {},
     "output_type": "execute_result"
    },
    {
     "data": {
      "text/plain": [
       "['c',\n",
       " 'a',\n",
       " 'g',\n",
       " 'g',\n",
       " 'a',\n",
       " 'g',\n",
       " 'a',\n",
       " 'c',\n",
       " 'g',\n",
       " 'a',\n",
       " 'c',\n",
       " 'g',\n",
       " 'c',\n",
       " 'g',\n",
       " 'g',\n",
       " 'c',\n",
       " 'a',\n",
       " 'a',\n",
       " 'g']"
      ]
     },
     "execution_count": 19,
     "metadata": {},
     "output_type": "execute_result"
    },
    {
     "data": {
      "text/plain": [
       "['t',\n",
       " 'c',\n",
       " 't',\n",
       " 'a',\n",
       " 't',\n",
       " 't',\n",
       " 'g',\n",
       " 't',\n",
       " 'g',\n",
       " 'a',\n",
       " 'a',\n",
       " 'a',\n",
       " 'a',\n",
       " 't',\n",
       " 'c',\n",
       " 'a',\n",
       " 'g',\n",
       " 't',\n",
       " 'g',\n",
       " '-']"
      ]
     },
     "execution_count": 19,
     "metadata": {},
     "output_type": "execute_result"
    },
    {
     "data": {
      "text/plain": [
       "['t',\n",
       " 't',\n",
       " 'g',\n",
       " 'c',\n",
       " 't',\n",
       " 't',\n",
       " 't',\n",
       " 'c',\n",
       " 'c',\n",
       " 'c',\n",
       " 'c',\n",
       " 't',\n",
       " 'g',\n",
       " 'g',\n",
       " 't',\n",
       " 'g',\n",
       " 'c',\n",
       " 'c',\n",
       " 't']"
      ]
     },
     "execution_count": 19,
     "metadata": {},
     "output_type": "execute_result"
    },
    {
     "data": {
      "text/plain": [
       "['a',\n",
       " 'g',\n",
       " 'a',\n",
       " 'a',\n",
       " 'a',\n",
       " 'c',\n",
       " 'c',\n",
       " 'c',\n",
       " 'g',\n",
       " 't',\n",
       " 'g',\n",
       " 'g',\n",
       " 'a',\n",
       " 'c',\n",
       " 'g',\n",
       " 't',\n",
       " 't',\n",
       " 'c',\n",
       " 't']"
      ]
     },
     "execution_count": 19,
     "metadata": {},
     "output_type": "execute_result"
    },
    {
     "data": {
      "text/plain": [
       "['t',\n",
       " 't',\n",
       " 'c',\n",
       " 'c',\n",
       " 'g',\n",
       " 't',\n",
       " 'c',\n",
       " 'a',\n",
       " 'g',\n",
       " 't',\n",
       " 'a',\n",
       " 't',\n",
       " 't',\n",
       " 'a',\n",
       " 'g',\n",
       " 'g',\n",
       " 'c',\n",
       " 'c',\n",
       " 't',\n",
       " '-']"
      ]
     },
     "execution_count": 19,
     "metadata": {},
     "output_type": "execute_result"
    },
    {
     "data": {
      "text/plain": [
       "['a',\n",
       " 'c',\n",
       " 'a',\n",
       " 'a',\n",
       " 'a',\n",
       " 'a',\n",
       " 'c',\n",
       " 'c',\n",
       " 'a',\n",
       " 'c',\n",
       " 't',\n",
       " 'c',\n",
       " 'g',\n",
       " 't',\n",
       " 'a',\n",
       " 't',\n",
       " 'a',\n",
       " 'a',\n",
       " 'g']"
      ]
     },
     "execution_count": 19,
     "metadata": {},
     "output_type": "execute_result"
    },
    {
     "data": {
      "text/plain": [
       "['t',\n",
       " 't',\n",
       " 'a',\n",
       " 'a',\n",
       " 't',\n",
       " 'a',\n",
       " 'g',\n",
       " 'a',\n",
       " 't',\n",
       " 'a',\n",
       " 'c',\n",
       " 'g',\n",
       " 'g',\n",
       " 'g',\n",
       " 'c',\n",
       " 't',\n",
       " 'a',\n",
       " 't',\n",
       " 'a']"
      ]
     },
     "execution_count": 19,
     "metadata": {},
     "output_type": "execute_result"
    },
    {
     "data": {
      "text/plain": [
       "['a',\n",
       " 'g',\n",
       " 't',\n",
       " 'a',\n",
       " 'a',\n",
       " 'c',\n",
       " 'c',\n",
       " 't',\n",
       " 'c',\n",
       " 't',\n",
       " 't',\n",
       " 't',\n",
       " 't',\n",
       " 'g',\n",
       " 'c',\n",
       " 't',\n",
       " 't',\n",
       " 't',\n",
       " 'c',\n",
       " '-']"
      ]
     },
     "execution_count": 19,
     "metadata": {},
     "output_type": "execute_result"
    },
    {
     "data": {
      "text/plain": [
       "['a',\n",
       " 'a',\n",
       " 'c',\n",
       " 't',\n",
       " 'g',\n",
       " 'c',\n",
       " 't',\n",
       " 'g',\n",
       " 't',\n",
       " 'g',\n",
       " 'a',\n",
       " 'a',\n",
       " 'g',\n",
       " 'a',\n",
       " 'a',\n",
       " 'a',\n",
       " 'c',\n",
       " 'c',\n",
       " 'c']"
      ]
     },
     "execution_count": 19,
     "metadata": {},
     "output_type": "execute_result"
    },
    {
     "data": {
      "text/plain": [
       "['c',\n",
       " 'g',\n",
       " 'a',\n",
       " 'c',\n",
       " 'a',\n",
       " 'g',\n",
       " 't',\n",
       " 'a',\n",
       " 'c',\n",
       " 'g',\n",
       " 't',\n",
       " 'c',\n",
       " 't',\n",
       " 'a',\n",
       " 't',\n",
       " 't',\n",
       " 'g',\n",
       " 't',\n",
       " 'g']"
      ]
     },
     "execution_count": 19,
     "metadata": {},
     "output_type": "execute_result"
    },
    {
     "data": {
      "text/plain": [
       "['a',\n",
       " 't',\n",
       " 't',\n",
       " 'g',\n",
       " 't',\n",
       " 'a',\n",
       " 't',\n",
       " 'c',\n",
       " 'a',\n",
       " 'c',\n",
       " 'c',\n",
       " 'a',\n",
       " 'c',\n",
       " 'g',\n",
       " 't',\n",
       " 't',\n",
       " 't',\n",
       " 'a',\n",
       " 'g',\n",
       " '-']"
      ]
     },
     "execution_count": 19,
     "metadata": {},
     "output_type": "execute_result"
    },
    {
     "data": {
      "text/plain": [
       "['a',\n",
       " 'g',\n",
       " 't',\n",
       " 'c',\n",
       " 'c',\n",
       " 'g',\n",
       " 'c',\n",
       " 'g',\n",
       " 't',\n",
       " 'g',\n",
       " 'c',\n",
       " 'a',\n",
       " 'g',\n",
       " 'c',\n",
       " 'c',\n",
       " 'c',\n",
       " 'c',\n",
       " 't',\n",
       " 'c']"
      ]
     },
     "execution_count": 19,
     "metadata": {},
     "output_type": "execute_result"
    },
    {
     "data": {
      "text/plain": [
       "['g',\n",
       " 'c',\n",
       " 'a',\n",
       " 't',\n",
       " 'a',\n",
       " 'g',\n",
       " 'a',\n",
       " 'g',\n",
       " 'a',\n",
       " 'a',\n",
       " 'g',\n",
       " 'g',\n",
       " 'a',\n",
       " 'c',\n",
       " 'g',\n",
       " 'c',\n",
       " 'a',\n",
       " 'g',\n",
       " 'c']"
      ]
     },
     "execution_count": 19,
     "metadata": {},
     "output_type": "execute_result"
    },
    {
     "data": {
      "text/plain": [
       "['g',\n",
       " 'g',\n",
       " 'c',\n",
       " 'g',\n",
       " 't',\n",
       " 'c',\n",
       " 'c',\n",
       " 'a',\n",
       " 'a',\n",
       " 'c',\n",
       " 't',\n",
       " 'g',\n",
       " 'a',\n",
       " 'a',\n",
       " 't',\n",
       " 'g',\n",
       " 't',\n",
       " 'a',\n",
       " 'a',\n",
       " '-']"
      ]
     },
     "execution_count": 19,
     "metadata": {},
     "output_type": "execute_result"
    },
    {
     "data": {
      "text/plain": [
       "['a',\n",
       " 'a',\n",
       " 'a',\n",
       " 'c',\n",
       " 'c',\n",
       " 'c',\n",
       " 'c',\n",
       " 'g',\n",
       " 'g',\n",
       " 'c',\n",
       " 't',\n",
       " 'a',\n",
       " 'g',\n",
       " 't',\n",
       " 'c',\n",
       " 'c',\n",
       " 'c',\n",
       " 'c',\n",
       " 'c']"
      ]
     },
     "execution_count": 19,
     "metadata": {},
     "output_type": "execute_result"
    },
    {
     "data": {
      "text/plain": [
       "['a',\n",
       " 'c',\n",
       " 'c',\n",
       " 'c',\n",
       " 'g',\n",
       " 'a',\n",
       " 'g',\n",
       " 't',\n",
       " 'a',\n",
       " 'c',\n",
       " 'a',\n",
       " 'g',\n",
       " 'c',\n",
       " 'g',\n",
       " 'a',\n",
       " 'c',\n",
       " 'g',\n",
       " 'a',\n",
       " 't']"
      ]
     },
     "execution_count": 19,
     "metadata": {},
     "output_type": "execute_result"
    },
    {
     "data": {
      "text/plain": [
       "['t',\n",
       " 'g',\n",
       " 'a',\n",
       " 'a',\n",
       " 't',\n",
       " 'g',\n",
       " 't',\n",
       " 'a',\n",
       " 'a',\n",
       " 't',\n",
       " 'a',\n",
       " 'a',\n",
       " 'g',\n",
       " 't',\n",
       " 't',\n",
       " 't',\n",
       " 'a',\n",
       " 't',\n",
       " 'c',\n",
       " '-']"
      ]
     },
     "execution_count": 19,
     "metadata": {},
     "output_type": "execute_result"
    },
    {
     "data": {
      "text/plain": [
       "['t',\n",
       " 'a',\n",
       " 'g',\n",
       " 't',\n",
       " 'c',\n",
       " 'c',\n",
       " 'c',\n",
       " 'c',\n",
       " 'c',\n",
       " 'g',\n",
       " 't',\n",
       " 'a',\n",
       " 'c',\n",
       " 't',\n",
       " 't',\n",
       " 'a',\n",
       " 'c',\n",
       " 'g',\n",
       " 'c']"
      ]
     },
     "execution_count": 19,
     "metadata": {},
     "output_type": "execute_result"
    },
    {
     "data": {
      "text/plain": [
       "['a',\n",
       " 'g',\n",
       " 'c',\n",
       " 'g',\n",
       " 'a',\n",
       " 'c',\n",
       " 'g',\n",
       " 'a',\n",
       " 't',\n",
       " 'c',\n",
       " 'a',\n",
       " 't',\n",
       " 't',\n",
       " 'c',\n",
       " 'g',\n",
       " 'g',\n",
       " 'g',\n",
       " 'c',\n",
       " 't']"
      ]
     },
     "execution_count": 19,
     "metadata": {},
     "output_type": "execute_result"
    },
    {
     "data": {
      "text/plain": [
       "['t',\n",
       " 't',\n",
       " 't',\n",
       " 'c',\n",
       " 'c',\n",
       " 'c',\n",
       " 'c',\n",
       " 't',\n",
       " 'g',\n",
       " 'g',\n",
       " 't',\n",
       " 'g',\n",
       " 'c',\n",
       " 'c',\n",
       " 't',\n",
       " 'c',\n",
       " 'g',\n",
       " 't',\n",
       " 'c',\n",
       " '-']"
      ]
     },
     "execution_count": 19,
     "metadata": {},
     "output_type": "execute_result"
    },
    {
     "data": {
      "text/plain": [
       "['a',\n",
       " 'c',\n",
       " 'c',\n",
       " 'c',\n",
       " 'g',\n",
       " 't',\n",
       " 'g',\n",
       " 'g',\n",
       " 'a',\n",
       " 'c',\n",
       " 'g',\n",
       " 't',\n",
       " 't',\n",
       " 'c',\n",
       " 't',\n",
       " 't',\n",
       " 'a',\n",
       " 'g',\n",
       " 'a']"
      ]
     },
     "execution_count": 19,
     "metadata": {},
     "output_type": "execute_result"
    },
    {
     "data": {
      "text/plain": [
       "['t',\n",
       " 'g',\n",
       " 't',\n",
       " 'g',\n",
       " 'a',\n",
       " 'a',\n",
       " 'a',\n",
       " 'a',\n",
       " 't',\n",
       " 'c',\n",
       " 'a',\n",
       " 'g',\n",
       " 't',\n",
       " 'g',\n",
       " 'a',\n",
       " 'g',\n",
       " 't',\n",
       " 't',\n",
       " 'c']"
      ]
     },
     "execution_count": 19,
     "metadata": {},
     "output_type": "execute_result"
    },
    {
     "data": {
      "text/plain": [
       "['t',\n",
       " 't',\n",
       " 'a',\n",
       " 'g',\n",
       " 'g',\n",
       " 'c',\n",
       " 't',\n",
       " 'g',\n",
       " 'c',\n",
       " 'a',\n",
       " 'c',\n",
       " 't',\n",
       " 'g',\n",
       " 'c',\n",
       " 't',\n",
       " 'g',\n",
       " 't',\n",
       " 'c',\n",
       " 't',\n",
       " '-']"
      ]
     },
     "execution_count": 19,
     "metadata": {},
     "output_type": "execute_result"
    },
    {
     "data": {
      "text/plain": [
       "['g',\n",
       " 'g',\n",
       " 'a',\n",
       " 'a',\n",
       " 'a',\n",
       " 't',\n",
       " 'a',\n",
       " 'c',\n",
       " 't',\n",
       " 't',\n",
       " 'g',\n",
       " 'a',\n",
       " 'a',\n",
       " 'g',\n",
       " 'g',\n",
       " 'a',\n",
       " 'g',\n",
       " 'g',\n",
       " 'g']"
      ]
     },
     "execution_count": 19,
     "metadata": {},
     "output_type": "execute_result"
    },
    {
     "data": {
      "text/plain": [
       "['c',\n",
       " 'a',\n",
       " 'g',\n",
       " 'g',\n",
       " 'a',\n",
       " 'a',\n",
       " 't',\n",
       " 'g',\n",
       " 'c',\n",
       " 'a',\n",
       " 'a',\n",
       " 't',\n",
       " 'a',\n",
       " 't',\n",
       " 'a',\n",
       " 'c',\n",
       " 'c',\n",
       " 'c',\n",
       " 'a']"
      ]
     },
     "execution_count": 19,
     "metadata": {},
     "output_type": "execute_result"
    },
    {
     "data": {
      "text/plain": [
       "['c',\n",
       " 'g',\n",
       " 'c',\n",
       " 'a',\n",
       " 'g',\n",
       " 'g',\n",
       " 'a',\n",
       " 'g',\n",
       " 'a',\n",
       " 'c',\n",
       " 'g',\n",
       " 'a',\n",
       " 'c',\n",
       " 'g',\n",
       " 'c',\n",
       " 'g',\n",
       " 'g',\n",
       " 'c',\n",
       " 'a',\n",
       " '-']"
      ]
     },
     "execution_count": 19,
     "metadata": {},
     "output_type": "execute_result"
    },
    {
     "data": {
      "text/plain": [
       "['a',\n",
       " 'a',\n",
       " 't',\n",
       " 'a',\n",
       " 'c',\n",
       " 'a',\n",
       " 'c',\n",
       " 'c',\n",
       " 'g',\n",
       " 't',\n",
       " 'c',\n",
       " 'g',\n",
       " 't',\n",
       " 't',\n",
       " 't',\n",
       " 'c',\n",
       " 't',\n",
       " 'a',\n",
       " 'g']"
      ]
     },
     "execution_count": 19,
     "metadata": {},
     "output_type": "execute_result"
    },
    {
     "data": {
      "text/plain": [
       "['t',\n",
       " 'a',\n",
       " 'c',\n",
       " 'g',\n",
       " 't',\n",
       " 't',\n",
       " 'g',\n",
       " 'g',\n",
       " 'a',\n",
       " 't',\n",
       " 'g',\n",
       " 'c',\n",
       " 't',\n",
       " 'c',\n",
       " 't',\n",
       " 'g',\n",
       " 'a',\n",
       " 'c',\n",
       " 'c']"
      ]
     },
     "execution_count": 19,
     "metadata": {},
     "output_type": "execute_result"
    },
    {
     "data": {
      "text/plain": [
       "['t',\n",
       " 'g',\n",
       " 't',\n",
       " 'g',\n",
       " 'a',\n",
       " 'a',\n",
       " 'a',\n",
       " 'a',\n",
       " 't',\n",
       " 'c',\n",
       " 'a',\n",
       " 'g',\n",
       " 't',\n",
       " 'g',\n",
       " 'a',\n",
       " 'g',\n",
       " 't',\n",
       " 't',\n",
       " 'c',\n",
       " '-']"
      ]
     },
     "execution_count": 19,
     "metadata": {},
     "output_type": "execute_result"
    },
    {
     "data": {
      "text/plain": [
       "['t',\n",
       " 't',\n",
       " 'c',\n",
       " 'c',\n",
       " 'c',\n",
       " 'c',\n",
       " 't',\n",
       " 'g',\n",
       " 'g',\n",
       " 't',\n",
       " 'g',\n",
       " 'c',\n",
       " 'c',\n",
       " 't',\n",
       " 'c',\n",
       " 'g',\n",
       " 't',\n",
       " 'c',\n",
       " 'c']"
      ]
     },
     "execution_count": 19,
     "metadata": {},
     "output_type": "execute_result"
    },
    {
     "data": {
      "text/plain": [
       "['c',\n",
       " 'c',\n",
       " 'c',\n",
       " 'g',\n",
       " 't',\n",
       " 'g',\n",
       " 'g',\n",
       " 'a',\n",
       " 'c',\n",
       " 'g',\n",
       " 't',\n",
       " 't',\n",
       " 'c',\n",
       " 't',\n",
       " 't',\n",
       " 'a',\n",
       " 'g',\n",
       " 'a',\n",
       " 'a']"
      ]
     },
     "execution_count": 19,
     "metadata": {},
     "output_type": "execute_result"
    },
    {
     "data": {
      "text/plain": [
       "['c',\n",
       " 'g',\n",
       " 'a',\n",
       " 'c',\n",
       " 'g',\n",
       " 'a',\n",
       " 't',\n",
       " 'c',\n",
       " 'a',\n",
       " 't',\n",
       " 't',\n",
       " 'c',\n",
       " 'g',\n",
       " 'g',\n",
       " 'g',\n",
       " 'c',\n",
       " 't',\n",
       " 'g',\n",
       " 'c',\n",
       " '-']"
      ]
     },
     "execution_count": 19,
     "metadata": {},
     "output_type": "execute_result"
    },
    {
     "data": {
      "text/plain": [
       "['a',\n",
       " 't',\n",
       " 'g',\n",
       " 't',\n",
       " 'a',\n",
       " 'a',\n",
       " 't',\n",
       " 'a',\n",
       " 'a',\n",
       " 'g',\n",
       " 't',\n",
       " 't',\n",
       " 't',\n",
       " 'a',\n",
       " 't',\n",
       " 'c',\n",
       " 'a',\n",
       " 'c',\n",
       " 't']"
      ]
     },
     "execution_count": 19,
     "metadata": {},
     "output_type": "execute_result"
    },
    {
     "data": {
      "text/plain": [
       "['t',\n",
       " 'c',\n",
       " 'c',\n",
       " 'c',\n",
       " 'c',\n",
       " 'c',\n",
       " 'g',\n",
       " 't',\n",
       " 'a',\n",
       " 'c',\n",
       " 't',\n",
       " 't',\n",
       " 'a',\n",
       " 'c',\n",
       " 'g',\n",
       " 'c',\n",
       " 'c',\n",
       " 'g',\n",
       " 't']"
      ]
     },
     "execution_count": 19,
     "metadata": {},
     "output_type": "execute_result"
    },
    {
     "data": {
      "text/plain": [
       "['a',\n",
       " 'a',\n",
       " 'a',\n",
       " 't',\n",
       " 'g',\n",
       " 'a',\n",
       " 't',\n",
       " 'g',\n",
       " 'c',\n",
       " 'c',\n",
       " 'a',\n",
       " 'g',\n",
       " 'g',\n",
       " 'a',\n",
       " 'c',\n",
       " 'c',\n",
       " 'a',\n",
       " 't',\n",
       " 'a',\n",
       " '-']"
      ]
     },
     "execution_count": 19,
     "metadata": {},
     "output_type": "execute_result"
    },
    {
     "data": {
      "text/plain": [
       "['g',\n",
       " 'g',\n",
       " 'a',\n",
       " 'a',\n",
       " 'c',\n",
       " 'g',\n",
       " 't',\n",
       " 'a',\n",
       " 'a',\n",
       " 'g',\n",
       " 'g',\n",
       " 'a',\n",
       " 'c',\n",
       " 'g',\n",
       " 'a',\n",
       " 'g',\n",
       " 'c',\n",
       " 'g',\n",
       " 'c']"
      ]
     },
     "execution_count": 19,
     "metadata": {},
     "output_type": "execute_result"
    },
    {
     "data": {
      "text/plain": [
       "['g',\n",
       " 'g',\n",
       " 'c',\n",
       " 'c',\n",
       " 'a',\n",
       " 'g',\n",
       " 'g',\n",
       " 'a',\n",
       " 't',\n",
       " 'g',\n",
       " 'a',\n",
       " 't',\n",
       " 'c',\n",
       " 'c',\n",
       " 'g',\n",
       " 'c',\n",
       " 'c',\n",
       " 'c',\n",
       " 'g']"
      ]
     },
     "execution_count": 19,
     "metadata": {},
     "output_type": "execute_result"
    },
    {
     "data": {
      "text/plain": [
       "['t',\n",
       " 'c',\n",
       " 'c',\n",
       " 'g',\n",
       " 't',\n",
       " 'c',\n",
       " 'a',\n",
       " 'g',\n",
       " 't',\n",
       " 'a',\n",
       " 't',\n",
       " 't',\n",
       " 'a',\n",
       " 'g',\n",
       " 'g',\n",
       " 'c',\n",
       " 'c',\n",
       " 't',\n",
       " 'g',\n",
       " '-']"
      ]
     },
     "execution_count": 19,
     "metadata": {},
     "output_type": "execute_result"
    },
    {
     "data": {
      "text/plain": [
       "['c',\n",
       " 'a',\n",
       " 'a',\n",
       " 'a',\n",
       " 'a',\n",
       " 'c',\n",
       " 'c',\n",
       " 'a',\n",
       " 'c',\n",
       " 't',\n",
       " 'c',\n",
       " 'g',\n",
       " 't',\n",
       " 'a',\n",
       " 't',\n",
       " 'a',\n",
       " 'a',\n",
       " 'g',\n",
       " 'g']"
      ]
     },
     "execution_count": 19,
     "metadata": {},
     "output_type": "execute_result"
    },
    {
     "data": {
      "text/plain": [
       "['t',\n",
       " 'a',\n",
       " 'a',\n",
       " 't',\n",
       " 'a',\n",
       " 'g',\n",
       " 'a',\n",
       " 't',\n",
       " 'a',\n",
       " 'c',\n",
       " 'g',\n",
       " 'g',\n",
       " 'g',\n",
       " 'c',\n",
       " 't',\n",
       " 'a',\n",
       " 't',\n",
       " 'a',\n",
       " 'a']"
      ]
     },
     "execution_count": 19,
     "metadata": {},
     "output_type": "execute_result"
    },
    {
     "data": {
      "text/plain": [
       "['t',\n",
       " 'a',\n",
       " 'g',\n",
       " 't',\n",
       " 'c',\n",
       " 'c',\n",
       " 'g',\n",
       " 'c',\n",
       " 'g',\n",
       " 't',\n",
       " 'g',\n",
       " 'c',\n",
       " 'a',\n",
       " 'g',\n",
       " 'c',\n",
       " 'c',\n",
       " 'c',\n",
       " 'c',\n",
       " 't',\n",
       " '-']"
      ]
     },
     "execution_count": 19,
     "metadata": {},
     "output_type": "execute_result"
    },
    {
     "data": {
      "text/plain": [
       "['g',\n",
       " 'g',\n",
       " 'c',\n",
       " 'a',\n",
       " 't',\n",
       " 'a',\n",
       " 'g',\n",
       " 'a',\n",
       " 'g',\n",
       " 'a',\n",
       " 'a',\n",
       " 'g',\n",
       " 'g',\n",
       " 'a',\n",
       " 'c',\n",
       " 'g',\n",
       " 'c',\n",
       " 'a',\n",
       " 'g']"
      ]
     },
     "execution_count": 19,
     "metadata": {},
     "output_type": "execute_result"
    },
    {
     "data": {
      "text/plain": [
       "['a',\n",
       " 't',\n",
       " 't',\n",
       " 'g',\n",
       " 't',\n",
       " 'a',\n",
       " 't',\n",
       " 'c',\n",
       " 'a',\n",
       " 'c',\n",
       " 'c',\n",
       " 'a',\n",
       " 'c',\n",
       " 'g',\n",
       " 't',\n",
       " 't',\n",
       " 't',\n",
       " 'a',\n",
       " 'g']"
      ]
     },
     "execution_count": 19,
     "metadata": {},
     "output_type": "execute_result"
    },
    {
     "data": {
      "text/plain": [
       "['c',\n",
       " 't',\n",
       " 'g',\n",
       " 'c',\n",
       " 'a',\n",
       " 'c',\n",
       " 't',\n",
       " 'g',\n",
       " 'c',\n",
       " 't',\n",
       " 'g',\n",
       " 't',\n",
       " 'c',\n",
       " 't',\n",
       " 'g',\n",
       " 'a',\n",
       " 'a',\n",
       " 't',\n",
       " 'g',\n",
       " '-']"
      ]
     },
     "execution_count": 19,
     "metadata": {},
     "output_type": "execute_result"
    },
    {
     "data": {
      "text/plain": [
       "['t',\n",
       " 'a',\n",
       " 'c',\n",
       " 't',\n",
       " 't',\n",
       " 'g',\n",
       " 'a',\n",
       " 'a',\n",
       " 'g',\n",
       " 'g',\n",
       " 'a',\n",
       " 'g',\n",
       " 'g',\n",
       " 'g',\n",
       " 't',\n",
       " 't',\n",
       " 'g',\n",
       " 'g',\n",
       " 'a']"
      ]
     },
     "execution_count": 19,
     "metadata": {},
     "output_type": "execute_result"
    },
    {
     "data": {
      "text/plain": [
       "['a',\n",
       " 't',\n",
       " 'g',\n",
       " 'c',\n",
       " 'a',\n",
       " 'a',\n",
       " 't',\n",
       " 'a',\n",
       " 't',\n",
       " 'a',\n",
       " 'c',\n",
       " 'c',\n",
       " 'c',\n",
       " 'a',\n",
       " 't',\n",
       " 'c',\n",
       " 'c',\n",
       " 't',\n",
       " 'a']"
      ]
     },
     "execution_count": 19,
     "metadata": {},
     "output_type": "execute_result"
    },
    {
     "data": {
      "text/plain": [
       "['g',\n",
       " 'g',\n",
       " 'g',\n",
       " 'c',\n",
       " 't',\n",
       " 'c',\n",
       " 'g',\n",
       " 'g',\n",
       " 'a',\n",
       " 'g',\n",
       " 't',\n",
       " 'g',\n",
       " 't',\n",
       " 'a',\n",
       " 't',\n",
       " 'a',\n",
       " 't',\n",
       " 't',\n",
       " 'g',\n",
       " '-']"
      ]
     },
     "execution_count": 19,
     "metadata": {},
     "output_type": "execute_result"
    },
    {
     "data": {
      "text/plain": [
       "['c',\n",
       " 'c',\n",
       " 'c',\n",
       " 'g',\n",
       " 't',\n",
       " 'a',\n",
       " 'c',\n",
       " 't',\n",
       " 'g',\n",
       " 'c',\n",
       " 'c',\n",
       " 'g',\n",
       " 't',\n",
       " 't',\n",
       " 'c',\n",
       " 't',\n",
       " 'c',\n",
       " 'c',\n",
       " 'g']"
      ]
     },
     "execution_count": 19,
     "metadata": {},
     "output_type": "execute_result"
    },
    {
     "data": {
      "text/plain": [
       "['g',\n",
       " 'a',\n",
       " 'a',\n",
       " 't',\n",
       " 'c',\n",
       " 'c',\n",
       " 'g',\n",
       " 'g',\n",
       " 'a',\n",
       " 'c',\n",
       " 'a',\n",
       " 'a',\n",
       " 'c',\n",
       " 'g',\n",
       " 'g',\n",
       " 'g',\n",
       " 't',\n",
       " 'c',\n",
       " 't']"
      ]
     },
     "execution_count": 19,
     "metadata": {},
     "output_type": "execute_result"
    },
    {
     "data": {
      "text/plain": [
       "['a',\n",
       " 'c',\n",
       " 'a',\n",
       " 'g',\n",
       " 't',\n",
       " 't',\n",
       " 'c',\n",
       " 't',\n",
       " 'a',\n",
       " 'c',\n",
       " 'c',\n",
       " 'c',\n",
       " 't',\n",
       " 'c',\n",
       " 'a',\n",
       " 't',\n",
       " 'c',\n",
       " 't',\n",
       " 'g',\n",
       " '-']"
      ]
     },
     "execution_count": 19,
     "metadata": {},
     "output_type": "execute_result"
    },
    {
     "data": {
      "text/plain": [
       "['t',\n",
       " 'c',\n",
       " 'a',\n",
       " 't',\n",
       " 'a',\n",
       " 't',\n",
       " 'g',\n",
       " 'c',\n",
       " 't',\n",
       " 'a',\n",
       " 't',\n",
       " 'g',\n",
       " 'a',\n",
       " 'c',\n",
       " 'g',\n",
       " 'g',\n",
       " 't',\n",
       " 'g',\n",
       " 't']"
      ]
     },
     "execution_count": 19,
     "metadata": {},
     "output_type": "execute_result"
    },
    {
     "data": {
      "text/plain": [
       "['c',\n",
       " 't',\n",
       " 't',\n",
       " 'c',\n",
       " 'c',\n",
       " 'c',\n",
       " 'g',\n",
       " 'a',\n",
       " 'c',\n",
       " 't',\n",
       " 'a',\n",
       " 't',\n",
       " 'a',\n",
       " 'g',\n",
       " 'g',\n",
       " 'g',\n",
       " 'a',\n",
       " 't',\n",
       " 'a']"
      ]
     },
     "execution_count": 19,
     "metadata": {},
     "output_type": "execute_result"
    },
    {
     "data": {
      "text/plain": [
       "['t',\n",
       " 'c',\n",
       " 'c',\n",
       " 't',\n",
       " 'g',\n",
       " 'a',\n",
       " 'c',\n",
       " 'c',\n",
       " 't',\n",
       " 'c',\n",
       " 'c',\n",
       " 't',\n",
       " 'a',\n",
       " 'g',\n",
       " 'a',\n",
       " 'c',\n",
       " 'a',\n",
       " 'c',\n",
       " 'a',\n",
       " '-']"
      ]
     },
     "execution_count": 19,
     "metadata": {},
     "output_type": "execute_result"
    },
    {
     "data": {
      "text/plain": [
       "['g',\n",
       " 'g',\n",
       " 't',\n",
       " 'c',\n",
       " 't',\n",
       " 'a',\n",
       " 't',\n",
       " 'g',\n",
       " 'a',\n",
       " 'a',\n",
       " 'g',\n",
       " 'g',\n",
       " 'a',\n",
       " 't',\n",
       " 'c',\n",
       " 't',\n",
       " 'c',\n",
       " 'a',\n",
       " 't']"
      ]
     },
     "execution_count": 19,
     "metadata": {},
     "output_type": "execute_result"
    },
    {
     "data": {
      "text/plain": [
       "['g',\n",
       " 't',\n",
       " 'a',\n",
       " 'g',\n",
       " 'g',\n",
       " 'c',\n",
       " 'c',\n",
       " 'g',\n",
       " 't',\n",
       " 'a',\n",
       " 'c',\n",
       " 'g',\n",
       " 'g',\n",
       " 'g',\n",
       " 'g',\n",
       " 'a',\n",
       " 'g',\n",
       " 'g',\n",
       " 'g']"
      ]
     },
     "execution_count": 19,
     "metadata": {},
     "output_type": "execute_result"
    },
    {
     "data": {
      "text/plain": [
       "['t',\n",
       " 'c',\n",
       " 'g',\n",
       " 't',\n",
       " 'a',\n",
       " 't',\n",
       " 'a',\n",
       " 'a',\n",
       " 'g',\n",
       " 'g',\n",
       " 'g',\n",
       " 'a',\n",
       " 'a',\n",
       " 'c',\n",
       " 'c',\n",
       " 'c',\n",
       " 'g',\n",
       " 'g',\n",
       " 't',\n",
       " '-']"
      ]
     },
     "execution_count": 19,
     "metadata": {},
     "output_type": "execute_result"
    },
    {
     "data": {
      "text/plain": [
       "['c',\n",
       " 'g',\n",
       " 'g',\n",
       " 'g',\n",
       " 'c',\n",
       " 't',\n",
       " 'a',\n",
       " 't',\n",
       " 'a',\n",
       " 'a',\n",
       " 'g',\n",
       " 't',\n",
       " 'c',\n",
       " 't',\n",
       " 't',\n",
       " 'c',\n",
       " 'a',\n",
       " 't',\n",
       " 'a']"
      ]
     },
     "execution_count": 19,
     "metadata": {},
     "output_type": "execute_result"
    },
    {
     "data": {
      "text/plain": [
       "['t',\n",
       " 't',\n",
       " 'a',\n",
       " 'g',\n",
       " 'g',\n",
       " 'c',\n",
       " 'c',\n",
       " 't',\n",
       " 'g',\n",
       " 'a',\n",
       " 'c',\n",
       " 'a',\n",
       " 'g',\n",
       " 'a',\n",
       " 'a',\n",
       " 't',\n",
       " 't',\n",
       " 't',\n",
       " 'c']"
      ]
     },
     "execution_count": 19,
     "metadata": {},
     "output_type": "execute_result"
    },
    {
     "data": {
      "text/plain": [
       "['t',\n",
       " 't',\n",
       " 'c',\n",
       " 'g',\n",
       " 'c',\n",
       " 'g',\n",
       " 't',\n",
       " 'a',\n",
       " 'c',\n",
       " 'g',\n",
       " 't',\n",
       " 't',\n",
       " 'g',\n",
       " 'g',\n",
       " 'a',\n",
       " 't',\n",
       " 'g',\n",
       " 'c',\n",
       " 't',\n",
       " '-']"
      ]
     },
     "execution_count": 19,
     "metadata": {},
     "output_type": "execute_result"
    },
    {
     "data": {
      "text/plain": [
       "['a',\n",
       " 'g',\n",
       " 't',\n",
       " 'c',\n",
       " 'a',\n",
       " 'c',\n",
       " 'g',\n",
       " 'c',\n",
       " 'a',\n",
       " 'g',\n",
       " 'g',\n",
       " 'a',\n",
       " 'g',\n",
       " 'a',\n",
       " 'c',\n",
       " 'g',\n",
       " 'a',\n",
       " 'c',\n",
       " 'g']"
      ]
     },
     "execution_count": 19,
     "metadata": {},
     "output_type": "execute_result"
    },
    {
     "data": {
      "text/plain": [
       "['t',\n",
       " 'g',\n",
       " 't',\n",
       " 't',\n",
       " 'a',\n",
       " 'a',\n",
       " 'a',\n",
       " 't',\n",
       " 'a',\n",
       " 'c',\n",
       " 'a',\n",
       " 'c',\n",
       " 'c',\n",
       " 'g',\n",
       " 't',\n",
       " 'c',\n",
       " 'g',\n",
       " 't',\n",
       " 't']"
      ]
     },
     "execution_count": 19,
     "metadata": {},
     "output_type": "execute_result"
    },
    {
     "data": {
      "text/plain": [
       "['t',\n",
       " 'a',\n",
       " 'g',\n",
       " 't',\n",
       " 't',\n",
       " 'a',\n",
       " 'a',\n",
       " 'a',\n",
       " 'a',\n",
       " 'a',\n",
       " 'a',\n",
       " 'c',\n",
       " 'g',\n",
       " 'g',\n",
       " 't',\n",
       " 'g',\n",
       " 't',\n",
       " 'a',\n",
       " 'a',\n",
       " '-']"
      ]
     },
     "execution_count": 19,
     "metadata": {},
     "output_type": "execute_result"
    },
    {
     "data": {
      "text/plain": [
       "['a',\n",
       " 'g',\n",
       " 't',\n",
       " 'a',\n",
       " 'c',\n",
       " 'a',\n",
       " 'a',\n",
       " 'g',\n",
       " 'a',\n",
       " 't',\n",
       " 'g',\n",
       " 't',\n",
       " 'a',\n",
       " 't',\n",
       " 'c',\n",
       " 'c',\n",
       " 'g',\n",
       " 'g',\n",
       " 't']"
      ]
     },
     "execution_count": 19,
     "metadata": {},
     "output_type": "execute_result"
    },
    {
     "data": {
      "text/plain": [
       "['g',\n",
       " 'g',\n",
       " 'g',\n",
       " 'c',\n",
       " 'c',\n",
       " 'g',\n",
       " 'g',\n",
       " 'g',\n",
       " 'g',\n",
       " 'g',\n",
       " 'g',\n",
       " 'a',\n",
       " 'c',\n",
       " 'c',\n",
       " 't',\n",
       " 'a',\n",
       " 'g',\n",
       " 't',\n",
       " 'g']"
      ]
     },
     "execution_count": 19,
     "metadata": {},
     "output_type": "execute_result"
    },
    {
     "data": {
      "text/plain": [
       "['c',\n",
       " 'c',\n",
       " 'c',\n",
       " 'c',\n",
       " 'g',\n",
       " 't',\n",
       " 'a',\n",
       " 'c',\n",
       " 't',\n",
       " 'g',\n",
       " 'c',\n",
       " 'c',\n",
       " 'g',\n",
       " 't',\n",
       " 't',\n",
       " 'c',\n",
       " 't',\n",
       " 'c',\n",
       " 'c',\n",
       " '-']"
      ]
     },
     "execution_count": 19,
     "metadata": {},
     "output_type": "execute_result"
    },
    {
     "data": {
      "text/plain": [
       "['a',\n",
       " 'g',\n",
       " 'a',\n",
       " 'a',\n",
       " 't',\n",
       " 'c',\n",
       " 'c',\n",
       " 'g',\n",
       " 'g',\n",
       " 'a',\n",
       " 'c',\n",
       " 'a',\n",
       " 'a',\n",
       " 'c',\n",
       " 'g',\n",
       " 'g',\n",
       " 'g',\n",
       " 't',\n",
       " 'c']"
      ]
     },
     "execution_count": 19,
     "metadata": {},
     "output_type": "execute_result"
    },
    {
     "data": {
      "text/plain": [
       "['g',\n",
       " 'g',\n",
       " 'g',\n",
       " 'c',\n",
       " 't',\n",
       " 'c',\n",
       " 'g',\n",
       " 'g',\n",
       " 'a',\n",
       " 'g',\n",
       " 't',\n",
       " 'g',\n",
       " 't',\n",
       " 'a',\n",
       " 't',\n",
       " 'a',\n",
       " 't',\n",
       " 't',\n",
       " 'g']"
      ]
     },
     "execution_count": 19,
     "metadata": {},
     "output_type": "execute_result"
    },
    {
     "data": {
      "text/plain": [
       "['t',\n",
       " 'c',\n",
       " 't',\n",
       " 'c',\n",
       " 'c',\n",
       " 'c',\n",
       " 'g',\n",
       " 'c',\n",
       " 't',\n",
       " 't',\n",
       " 't',\n",
       " 't',\n",
       " 't',\n",
       " 'a',\n",
       " 'c',\n",
       " 't',\n",
       " 't',\n",
       " 'g',\n",
       " 'c',\n",
       " '-']"
      ]
     },
     "execution_count": 19,
     "metadata": {},
     "output_type": "execute_result"
    },
    {
     "data": {
      "text/plain": [
       "['t',\n",
       " 'g',\n",
       " 'g',\n",
       " 'g',\n",
       " 'c',\n",
       " 't',\n",
       " 'g',\n",
       " 't',\n",
       " 'c',\n",
       " 'g',\n",
       " 'g',\n",
       " 't',\n",
       " 'c',\n",
       " 't',\n",
       " 'g',\n",
       " 'g',\n",
       " 't',\n",
       " 'c',\n",
       " 'a']"
      ]
     },
     "execution_count": 19,
     "metadata": {},
     "output_type": "execute_result"
    },
    {
     "data": {
      "text/plain": [
       "['a',\n",
       " 't',\n",
       " 'g',\n",
       " 'a',\n",
       " 'g',\n",
       " 'a',\n",
       " 'a',\n",
       " 't',\n",
       " 't',\n",
       " 't',\n",
       " 'a',\n",
       " 't',\n",
       " 'c',\n",
       " 'g',\n",
       " 'g',\n",
       " 't',\n",
       " 't',\n",
       " 'g',\n",
       " 'a']"
      ]
     },
     "execution_count": 19,
     "metadata": {},
     "output_type": "execute_result"
    },
    {
     "data": {
      "text/plain": [
       "['a',\n",
       " 'c',\n",
       " 'a',\n",
       " 'c',\n",
       " 'a',\n",
       " 'c',\n",
       " 'c',\n",
       " 'a',\n",
       " 'c',\n",
       " 'g',\n",
       " 'g',\n",
       " 't',\n",
       " 't',\n",
       " 'a',\n",
       " 'a',\n",
       " 't',\n",
       " 'a',\n",
       " 'g',\n",
       " 'a',\n",
       " '-']"
      ]
     },
     "execution_count": 19,
     "metadata": {},
     "output_type": "execute_result"
    },
    {
     "data": {
      "text/plain": [
       "['c',\n",
       " 't',\n",
       " 'c',\n",
       " 'a',\n",
       " 't',\n",
       " 'a',\n",
       " 'g',\n",
       " 'c',\n",
       " 't',\n",
       " 'g',\n",
       " 't',\n",
       " 't',\n",
       " 'c',\n",
       " 'c',\n",
       " 'g',\n",
       " 't',\n",
       " 'c',\n",
       " 'a',\n",
       " 'g']"
      ]
     },
     "execution_count": 19,
     "metadata": {},
     "output_type": "execute_result"
    },
    {
     "data": {
      "text/plain": [
       "['g',\n",
       " 'a',\n",
       " 'g',\n",
       " 'g',\n",
       " 'g',\n",
       " 'g',\n",
       " 'a',\n",
       " 'g',\n",
       " 'c',\n",
       " 'c',\n",
       " 'a',\n",
       " 'c',\n",
       " 'a',\n",
       " 'a',\n",
       " 'a',\n",
       " 'a',\n",
       " 'c',\n",
       " 'c',\n",
       " 'a']"
      ]
     },
     "execution_count": 19,
     "metadata": {},
     "output_type": "execute_result"
    },
    {
     "data": {
      "text/plain": [
       "['g',\n",
       " 'g',\n",
       " 't',\n",
       " 'c',\n",
       " 'a',\n",
       " 'g',\n",
       " 'a',\n",
       " 'c',\n",
       " 't',\n",
       " 'g',\n",
       " 'c',\n",
       " 'c',\n",
       " 'a',\n",
       " 'c',\n",
       " 'g',\n",
       " 'a',\n",
       " 'g',\n",
       " 't',\n",
       " 'g',\n",
       " '-']"
      ]
     },
     "execution_count": 19,
     "metadata": {},
     "output_type": "execute_result"
    },
    {
     "data": {
      "text/plain": [
       "['g',\n",
       " 't',\n",
       " 't',\n",
       " 'g',\n",
       " 'a',\n",
       " 't',\n",
       " 'a',\n",
       " 'g',\n",
       " 't',\n",
       " 't',\n",
       " 'a',\n",
       " 't',\n",
       " 'g',\n",
       " 'a',\n",
       " 't',\n",
       " 'a',\n",
       " 't',\n",
       " 't',\n",
       " 't']"
      ]
     },
     "execution_count": 19,
     "metadata": {},
     "output_type": "execute_result"
    },
    {
     "data": {
      "text/plain": [
       "['t',\n",
       " 't',\n",
       " 'g',\n",
       " 'c',\n",
       " 't',\n",
       " 't',\n",
       " 't',\n",
       " 'c',\n",
       " 't',\n",
       " 'a',\n",
       " 'c',\n",
       " 'c',\n",
       " 'g',\n",
       " 't',\n",
       " 'a',\n",
       " 'c',\n",
       " 'c',\n",
       " 'c',\n",
       " 'a']"
      ]
     },
     "execution_count": 19,
     "metadata": {},
     "output_type": "execute_result"
    },
    {
     "data": {
      "text/plain": [
       "['a',\n",
       " 'c',\n",
       " 't',\n",
       " 'g',\n",
       " 't',\n",
       " 'c',\n",
       " 'a',\n",
       " 'g',\n",
       " 'c',\n",
       " 'c',\n",
       " 'g',\n",
       " 'g',\n",
       " 'g',\n",
       " 't',\n",
       " 't',\n",
       " 't',\n",
       " 'a',\n",
       " 'a',\n",
       " 'a',\n",
       " '-']"
      ]
     },
     "execution_count": 19,
     "metadata": {},
     "output_type": "execute_result"
    },
    {
     "data": {
      "text/plain": [
       "['a',\n",
       " 'a',\n",
       " 'c',\n",
       " 'g',\n",
       " 'g',\n",
       " 't',\n",
       " 'a',\n",
       " 'a',\n",
       " 'a',\n",
       " 't',\n",
       " 'a',\n",
       " 'c',\n",
       " 'c',\n",
       " 'a',\n",
       " 'c',\n",
       " 'a',\n",
       " 't',\n",
       " 'a',\n",
       " 'g']"
      ]
     },
     "execution_count": 19,
     "metadata": {},
     "output_type": "execute_result"
    },
    {
     "data": {
      "text/plain": [
       "['c',\n",
       " 't',\n",
       " 'c',\n",
       " 't',\n",
       " 'a',\n",
       " 'c',\n",
       " 't',\n",
       " 'g',\n",
       " 't',\n",
       " 'c',\n",
       " 't',\n",
       " 'a',\n",
       " 'g',\n",
       " 'c',\n",
       " 'c',\n",
       " 'c',\n",
       " 'g',\n",
       " 't',\n",
       " 'a']"
      ]
     },
     "execution_count": 19,
     "metadata": {},
     "output_type": "execute_result"
    },
    {
     "data": {
      "text/plain": [
       "['a',\n",
       " 'c',\n",
       " 'c',\n",
       " 't',\n",
       " 'a',\n",
       " 'g',\n",
       " 't',\n",
       " 'g',\n",
       " 'a',\n",
       " 'g',\n",
       " 't',\n",
       " 'g',\n",
       " 'g',\n",
       " 't',\n",
       " 'a',\n",
       " 'a',\n",
       " 'c',\n",
       " 'g',\n",
       " 'g',\n",
       " '-']"
      ]
     },
     "execution_count": 19,
     "metadata": {},
     "output_type": "execute_result"
    },
    {
     "data": {
      "text/plain": [
       "['g',\n",
       " 'g',\n",
       " 't',\n",
       " 'g',\n",
       " 't',\n",
       " 'a',\n",
       " 'a',\n",
       " 'a',\n",
       " 't',\n",
       " 'a',\n",
       " 'a',\n",
       " 'g',\n",
       " 'g',\n",
       " 'a',\n",
       " 'a',\n",
       " 't',\n",
       " 't',\n",
       " 'a',\n",
       " 'g']"
      ]
     },
     "execution_count": 19,
     "metadata": {},
     "output_type": "execute_result"
    },
    {
     "data": {
      "text/plain": [
       "['a',\n",
       " 't',\n",
       " 'c',\n",
       " 'c',\n",
       " 'g',\n",
       " 'g',\n",
       " 't',\n",
       " 'g',\n",
       " 'g',\n",
       " 'c',\n",
       " 'c',\n",
       " 't',\n",
       " 'g',\n",
       " 'c',\n",
       " 't',\n",
       " 'g',\n",
       " 'g',\n",
       " 't',\n",
       " 'a']"
      ]
     },
     "execution_count": 19,
     "metadata": {},
     "output_type": "execute_result"
    },
    {
     "data": {
      "text/plain": [
       "['t',\n",
       " 't',\n",
       " 't',\n",
       " 't',\n",
       " 'a',\n",
       " 'c',\n",
       " 't',\n",
       " 't',\n",
       " 'g',\n",
       " 'c',\n",
       " 't',\n",
       " 't',\n",
       " 't',\n",
       " 'c',\n",
       " 't',\n",
       " 'a',\n",
       " 'c',\n",
       " 'c',\n",
       " 'g',\n",
       " '-']"
      ]
     },
     "execution_count": 19,
     "metadata": {},
     "output_type": "execute_result"
    },
    {
     "data": {
      "text/plain": [
       "['g',\n",
       " 'g',\n",
       " 't',\n",
       " 'c',\n",
       " 't',\n",
       " 'g',\n",
       " 'g',\n",
       " 't',\n",
       " 'c',\n",
       " 'a',\n",
       " 'g',\n",
       " 'a',\n",
       " 'c',\n",
       " 't',\n",
       " 'g',\n",
       " 'c',\n",
       " 'c',\n",
       " 'a',\n",
       " 'c']"
      ]
     },
     "execution_count": 19,
     "metadata": {},
     "output_type": "execute_result"
    },
    {
     "data": {
      "text/plain": [
       "['t',\n",
       " 'a',\n",
       " 't',\n",
       " 'c',\n",
       " 'g',\n",
       " 'g',\n",
       " 't',\n",
       " 't',\n",
       " 'g',\n",
       " 'a',\n",
       " 't',\n",
       " 'a',\n",
       " 'g',\n",
       " 't',\n",
       " 't',\n",
       " 'a',\n",
       " 't',\n",
       " 'g',\n",
       " 'a']"
      ]
     },
     "execution_count": 19,
     "metadata": {},
     "output_type": "execute_result"
    },
    {
     "data": {
      "text/plain": [
       "['t',\n",
       " 'a',\n",
       " 'g',\n",
       " 't',\n",
       " 'g',\n",
       " 'a',\n",
       " 'c',\n",
       " 'a',\n",
       " 'g',\n",
       " 't',\n",
       " 'a',\n",
       " 't',\n",
       " 'g',\n",
       " 't',\n",
       " 'g',\n",
       " 'a',\n",
       " 'c',\n",
       " 'a',\n",
       " 'g',\n",
       " '-']"
      ]
     },
     "execution_count": 19,
     "metadata": {},
     "output_type": "execute_result"
    },
    {
     "data": {
      "text/plain": [
       "['g',\n",
       " 'c',\n",
       " 'g',\n",
       " 'g',\n",
       " 'a',\n",
       " 'g',\n",
       " 't',\n",
       " 'g',\n",
       " 't',\n",
       " 't',\n",
       " 'g',\n",
       " 'g',\n",
       " 'a',\n",
       " 't',\n",
       " 'a',\n",
       " 'g',\n",
       " 't',\n",
       " 'g',\n",
       " 't']"
      ]
     },
     "execution_count": 19,
     "metadata": {},
     "output_type": "execute_result"
    },
    {
     "data": {
      "text/plain": [
       "['c',\n",
       " 'g',\n",
       " 't',\n",
       " 'c',\n",
       " 't',\n",
       " 'c',\n",
       " 'c',\n",
       " 'c',\n",
       " 'a',\n",
       " 'c',\n",
       " 'g',\n",
       " 'c',\n",
       " 'g',\n",
       " 'c',\n",
       " 't',\n",
       " 't',\n",
       " 'c',\n",
       " 'a',\n",
       " 'c']"
      ]
     },
     "execution_count": 19,
     "metadata": {},
     "output_type": "execute_result"
    },
    {
     "data": {
      "text/plain": [
       "['a',\n",
       " 'c',\n",
       " 'g',\n",
       " 'a',\n",
       " 'g',\n",
       " 't',\n",
       " 'g',\n",
       " 'g',\n",
       " 'c',\n",
       " 'c',\n",
       " 't',\n",
       " 't',\n",
       " 'c',\n",
       " 'a',\n",
       " 'g',\n",
       " 'a',\n",
       " 'a',\n",
       " 'c',\n",
       " 'c',\n",
       " '-']"
      ]
     },
     "execution_count": 19,
     "metadata": {},
     "output_type": "execute_result"
    },
    {
     "data": {
      "text/plain": [
       "['g',\n",
       " 'a',\n",
       " 't',\n",
       " 'a',\n",
       " 't',\n",
       " 't',\n",
       " 't',\n",
       " 'c',\n",
       " 'a',\n",
       " 'a',\n",
       " 'g',\n",
       " 't',\n",
       " 't',\n",
       " 'c',\n",
       " 't',\n",
       " 'g',\n",
       " 'c',\n",
       " 'a',\n",
       " 'a']"
      ]
     },
     "execution_count": 19,
     "metadata": {},
     "output_type": "execute_result"
    },
    {
     "data": {
      "text/plain": [
       "['g',\n",
       " 't',\n",
       " 'a',\n",
       " 'c',\n",
       " 'c',\n",
       " 'c',\n",
       " 'a',\n",
       " 'g',\n",
       " 't',\n",
       " 'g',\n",
       " 'c',\n",
       " 't',\n",
       " 't',\n",
       " 't',\n",
       " 'g',\n",
       " 't',\n",
       " 'g',\n",
       " 'c',\n",
       " 'g']"
      ]
     },
     "execution_count": 19,
     "metadata": {},
     "output_type": "execute_result"
    },
    {
     "data": {
      "text/plain": [
       "['c',\n",
       " 'a',\n",
       " 'a',\n",
       " 'c',\n",
       " 't',\n",
       " 'g',\n",
       " 'a',\n",
       " 'a',\n",
       " 't',\n",
       " 'g',\n",
       " 't',\n",
       " 'a',\n",
       " 'a',\n",
       " 't',\n",
       " 'a',\n",
       " 'a',\n",
       " 'g',\n",
       " 't',\n",
       " 't',\n",
       " '-']"
      ]
     },
     "execution_count": 19,
     "metadata": {},
     "output_type": "execute_result"
    },
    {
     "data": {
      "text/plain": [
       "['c',\n",
       " 'g',\n",
       " 'g',\n",
       " 'c',\n",
       " 't',\n",
       " 'a',\n",
       " 'g',\n",
       " 't',\n",
       " 'c',\n",
       " 'c',\n",
       " 'c',\n",
       " 'c',\n",
       " 'c',\n",
       " 'g',\n",
       " 't',\n",
       " 'a',\n",
       " 'c',\n",
       " 't',\n",
       " 't']"
      ]
     },
     "execution_count": 19,
     "metadata": {},
     "output_type": "execute_result"
    },
    {
     "data": {
      "text/plain": [
       "['g',\n",
       " 't',\n",
       " 'a',\n",
       " 'c',\n",
       " 'a',\n",
       " 'g',\n",
       " 'c',\n",
       " 'g',\n",
       " 'a',\n",
       " 'c',\n",
       " 'g',\n",
       " 'a',\n",
       " 't',\n",
       " 'c',\n",
       " 'a',\n",
       " 't',\n",
       " 't',\n",
       " 'c',\n",
       " 'g']"
      ]
     },
     "execution_count": 19,
     "metadata": {},
     "output_type": "execute_result"
    },
    {
     "data": {
      "text/plain": [
       "['c',\n",
       " 't',\n",
       " 'g',\n",
       " 't',\n",
       " 'c',\n",
       " 'g',\n",
       " 'g',\n",
       " 't',\n",
       " 'c',\n",
       " 't',\n",
       " 'g',\n",
       " 'g',\n",
       " 't',\n",
       " 'c',\n",
       " 'a',\n",
       " 'g',\n",
       " 'a',\n",
       " 'c',\n",
       " 't',\n",
       " '-']"
      ]
     },
     "execution_count": 19,
     "metadata": {},
     "output_type": "execute_result"
    },
    {
     "data": {
      "text/plain": [
       "['g',\n",
       " 'a',\n",
       " 'a',\n",
       " 't',\n",
       " 't',\n",
       " 't',\n",
       " 'a',\n",
       " 't',\n",
       " 'c',\n",
       " 'g',\n",
       " 'g',\n",
       " 't',\n",
       " 't',\n",
       " 'g',\n",
       " 'a',\n",
       " 't',\n",
       " 'a',\n",
       " 'g',\n",
       " 't']"
      ]
     },
     "execution_count": 19,
     "metadata": {},
     "output_type": "execute_result"
    },
    {
     "data": {
      "text/plain": [
       "['c',\n",
       " 'g',\n",
       " 'c',\n",
       " 't',\n",
       " 't',\n",
       " 't',\n",
       " 't',\n",
       " 't',\n",
       " 'a',\n",
       " 'c',\n",
       " 't',\n",
       " 't',\n",
       " 'g',\n",
       " 'c',\n",
       " 't',\n",
       " 't',\n",
       " 't',\n",
       " 'c',\n",
       " 't']"
      ]
     },
     "execution_count": 19,
     "metadata": {},
     "output_type": "execute_result"
    },
    {
     "data": {
      "text/plain": [
       "['t',\n",
       " 'g',\n",
       " 'c',\n",
       " 'a',\n",
       " 'a',\n",
       " 'c',\n",
       " 't',\n",
       " 'g',\n",
       " 'c',\n",
       " 't',\n",
       " 'g',\n",
       " 't',\n",
       " 'g',\n",
       " 'a',\n",
       " 'a',\n",
       " 'g',\n",
       " 'a',\n",
       " 'a',\n",
       " 'a',\n",
       " '-']"
      ]
     },
     "execution_count": 19,
     "metadata": {},
     "output_type": "execute_result"
    },
    {
     "data": {
      "text/plain": [
       "['a',\n",
       " 'a',\n",
       " 'g',\n",
       " 'c',\n",
       " 'g',\n",
       " 'a',\n",
       " 'c',\n",
       " 'a',\n",
       " 'g',\n",
       " 't',\n",
       " 'a',\n",
       " 'c',\n",
       " 'g',\n",
       " 't',\n",
       " 'c',\n",
       " 't',\n",
       " 'a',\n",
       " 't',\n",
       " 't']"
      ]
     },
     "execution_count": 19,
     "metadata": {},
     "output_type": "execute_result"
    },
    {
     "data": {
      "text/plain": [
       "['t',\n",
       " 'c',\n",
       " 'a',\n",
       " 'g',\n",
       " 't',\n",
       " 'a',\n",
       " 'a',\n",
       " 'c',\n",
       " 'c',\n",
       " 't',\n",
       " 'c',\n",
       " 't',\n",
       " 't',\n",
       " 't',\n",
       " 't',\n",
       " 'g',\n",
       " 'c',\n",
       " 't',\n",
       " 't']"
      ]
     },
     "execution_count": 19,
     "metadata": {},
     "output_type": "execute_result"
    },
    {
     "data": {
      "text/plain": [
       "['a',\n",
       " 'g',\n",
       " 't',\n",
       " 'a',\n",
       " 'c',\n",
       " 'a',\n",
       " 'a',\n",
       " 'g',\n",
       " 'a',\n",
       " 't',\n",
       " 'g',\n",
       " 't',\n",
       " 'a',\n",
       " 't',\n",
       " 'c',\n",
       " 'c',\n",
       " 'g',\n",
       " 'g',\n",
       " 't',\n",
       " '-']"
      ]
     },
     "execution_count": 19,
     "metadata": {},
     "output_type": "execute_result"
    },
    {
     "data": {
      "text/plain": [
       "['g',\n",
       " 'g',\n",
       " 'g',\n",
       " 'c',\n",
       " 'c',\n",
       " 'g',\n",
       " 'g',\n",
       " 'g',\n",
       " 'g',\n",
       " 'g',\n",
       " 'g',\n",
       " 'a',\n",
       " 'c',\n",
       " 'c',\n",
       " 't',\n",
       " 'a',\n",
       " 'g',\n",
       " 't',\n",
       " 'g']"
      ]
     },
     "execution_count": 19,
     "metadata": {},
     "output_type": "execute_result"
    },
    {
     "data": {
      "text/plain": [
       "['a',\n",
       " 'g',\n",
       " 't',\n",
       " 't',\n",
       " 'a',\n",
       " 'a',\n",
       " 'a',\n",
       " 'a',\n",
       " 'a',\n",
       " 'a',\n",
       " 'c',\n",
       " 'g',\n",
       " 'g',\n",
       " 't',\n",
       " 'g',\n",
       " 't',\n",
       " 'a',\n",
       " 'a',\n",
       " 'a']"
      ]
     },
     "execution_count": 19,
     "metadata": {},
     "output_type": "execute_result"
    },
    {
     "data": {
      "text/plain": [
       "['g',\n",
       " 'a',\n",
       " 'a',\n",
       " 't',\n",
       " 'g',\n",
       " 't',\n",
       " 'a',\n",
       " 'a',\n",
       " 't',\n",
       " 'a',\n",
       " 'a',\n",
       " 'g',\n",
       " 't',\n",
       " 't',\n",
       " 't',\n",
       " 'a',\n",
       " 't',\n",
       " 'c',\n",
       " 'a',\n",
       " '-']"
      ]
     },
     "execution_count": 19,
     "metadata": {},
     "output_type": "execute_result"
    },
    {
     "data": {
      "text/plain": [
       "['a',\n",
       " 'g',\n",
       " 't',\n",
       " 'c',\n",
       " 'c',\n",
       " 'c',\n",
       " 'c',\n",
       " 'c',\n",
       " 'g',\n",
       " 't',\n",
       " 'a',\n",
       " 'c',\n",
       " 't',\n",
       " 't',\n",
       " 'a',\n",
       " 'c',\n",
       " 'g',\n",
       " 'c',\n",
       " 'c']"
      ]
     },
     "execution_count": 19,
     "metadata": {},
     "output_type": "execute_result"
    },
    {
     "data": {
      "text/plain": [
       "['g',\n",
       " 'c',\n",
       " 'g',\n",
       " 'a',\n",
       " 'c',\n",
       " 'g',\n",
       " 'a',\n",
       " 't',\n",
       " 'c',\n",
       " 'a',\n",
       " 't',\n",
       " 't',\n",
       " 'c',\n",
       " 'g',\n",
       " 'g',\n",
       " 'g',\n",
       " 'c',\n",
       " 't',\n",
       " 'g']"
      ]
     },
     "execution_count": 19,
     "metadata": {},
     "output_type": "execute_result"
    },
    {
     "data": {
      "text/plain": [
       "['c',\n",
       " 'c',\n",
       " 't',\n",
       " 'c',\n",
       " 'c',\n",
       " 'a',\n",
       " 'g',\n",
       " 't',\n",
       " 't',\n",
       " 'g',\n",
       " 'g',\n",
       " 't',\n",
       " 't',\n",
       " 't',\n",
       " 'a',\n",
       " 'g',\n",
       " 'g',\n",
       " 'c',\n",
       " 't',\n",
       " '-']"
      ]
     },
     "execution_count": 19,
     "metadata": {},
     "output_type": "execute_result"
    },
    {
     "data": {
      "text/plain": [
       "['c',\n",
       " 'a',\n",
       " 'g',\n",
       " 'c',\n",
       " 't',\n",
       " 'a',\n",
       " 'g',\n",
       " 'c',\n",
       " 'g',\n",
       " 'g',\n",
       " 't',\n",
       " 't',\n",
       " 'g',\n",
       " 'g',\n",
       " 'a',\n",
       " 'a',\n",
       " 'a',\n",
       " 't',\n",
       " 'a']"
      ]
     },
     "execution_count": 19,
     "metadata": {},
     "output_type": "execute_result"
    },
    {
     "data": {
      "text/plain": [
       "['t',\n",
       " 'a',\n",
       " 'g',\n",
       " 't',\n",
       " 'a',\n",
       " 'c',\n",
       " 'g',\n",
       " 't',\n",
       " 'a',\n",
       " 'g',\n",
       " 't',\n",
       " 't',\n",
       " 'c',\n",
       " 'a',\n",
       " 'g',\n",
       " 'g',\n",
       " 'a',\n",
       " 'a',\n",
       " 't']"
      ]
     },
     "execution_count": 19,
     "metadata": {},
     "output_type": "execute_result"
    },
    {
     "data": {
      "text/plain": [
       "['g',\n",
       " 't',\n",
       " 't',\n",
       " 'a',\n",
       " 'a',\n",
       " 't',\n",
       " 'a',\n",
       " 'g',\n",
       " 'a',\n",
       " 't',\n",
       " 'a',\n",
       " 'c',\n",
       " 'g',\n",
       " 'g',\n",
       " 'g',\n",
       " 'c',\n",
       " 't',\n",
       " 'a',\n",
       " 't',\n",
       " '-']"
      ]
     },
     "execution_count": 19,
     "metadata": {},
     "output_type": "execute_result"
    },
    {
     "data": {
      "text/plain": [
       "['t',\n",
       " 't',\n",
       " 'c',\n",
       " 'c',\n",
       " 'g',\n",
       " 't',\n",
       " 'c',\n",
       " 'a',\n",
       " 'g',\n",
       " 't',\n",
       " 'a',\n",
       " 't',\n",
       " 't',\n",
       " 'a',\n",
       " 'g',\n",
       " 'g',\n",
       " 'c',\n",
       " 'c',\n",
       " 't']"
      ]
     },
     "execution_count": 19,
     "metadata": {},
     "output_type": "execute_result"
    },
    {
     "data": {
      "text/plain": [
       "['a',\n",
       " 'c',\n",
       " 'a',\n",
       " 'a',\n",
       " 'a',\n",
       " 'a',\n",
       " 'c',\n",
       " 'c',\n",
       " 'a',\n",
       " 'c',\n",
       " 't',\n",
       " 'c',\n",
       " 'g',\n",
       " 't',\n",
       " 'a',\n",
       " 't',\n",
       " 'a',\n",
       " 'a',\n",
       " 'g']"
      ]
     },
     "execution_count": 19,
     "metadata": {},
     "output_type": "execute_result"
    },
    {
     "data": {
      "text/plain": [
       "['c',\n",
       " 'g',\n",
       " 't',\n",
       " 'g',\n",
       " 'g',\n",
       " 'a',\n",
       " 'c',\n",
       " 'g',\n",
       " 't',\n",
       " 't',\n",
       " 'c',\n",
       " 't',\n",
       " 't',\n",
       " 'a',\n",
       " 'g',\n",
       " 'a',\n",
       " 'a',\n",
       " 'g',\n",
       " 't',\n",
       " '-']"
      ]
     },
     "execution_count": 19,
     "metadata": {},
     "output_type": "execute_result"
    },
    {
     "data": {
      "text/plain": [
       "['g',\n",
       " 'a',\n",
       " 'a',\n",
       " 'a',\n",
       " 'a',\n",
       " 't',\n",
       " 'c',\n",
       " 'a',\n",
       " 'g',\n",
       " 't',\n",
       " 'g',\n",
       " 'a',\n",
       " 'g',\n",
       " 't',\n",
       " 't',\n",
       " 'c',\n",
       " 'a',\n",
       " 'c',\n",
       " 'c']"
      ]
     },
     "execution_count": 19,
     "metadata": {},
     "output_type": "execute_result"
    },
    {
     "data": {
      "text/plain": [
       "['c',\n",
       " 'c',\n",
       " 'c',\n",
       " 't',\n",
       " 'g',\n",
       " 'g',\n",
       " 't',\n",
       " 'g',\n",
       " 'c',\n",
       " 'c',\n",
       " 't',\n",
       " 'c',\n",
       " 'g',\n",
       " 't',\n",
       " 'c',\n",
       " 'c',\n",
       " 'g',\n",
       " 't',\n",
       " 'c']"
      ]
     },
     "execution_count": 19,
     "metadata": {},
     "output_type": "execute_result"
    },
    {
     "data": {
      "text/plain": [
       "['c',\n",
       " 'g',\n",
       " 'c',\n",
       " 'a',\n",
       " 'g',\n",
       " 'c',\n",
       " 't',\n",
       " 'a',\n",
       " 'g',\n",
       " 'c',\n",
       " 'g',\n",
       " 'g',\n",
       " 't',\n",
       " 't',\n",
       " 'g',\n",
       " 'g',\n",
       " 'a',\n",
       " 'a',\n",
       " 'a',\n",
       " '-']"
      ]
     },
     "execution_count": 19,
     "metadata": {},
     "output_type": "execute_result"
    },
    {
     "data": {
      "text/plain": [
       "['t',\n",
       " 't',\n",
       " 't',\n",
       " 'a',\n",
       " 'g',\n",
       " 't',\n",
       " 'a',\n",
       " 'c',\n",
       " 'g',\n",
       " 't',\n",
       " 'a',\n",
       " 'g',\n",
       " 't',\n",
       " 't',\n",
       " 'c',\n",
       " 'a',\n",
       " 'g',\n",
       " 'g',\n",
       " 'a']"
      ]
     },
     "execution_count": 19,
     "metadata": {},
     "output_type": "execute_result"
    },
    {
     "data": {
      "text/plain": [
       "['c',\n",
       " 'c',\n",
       " 'c',\n",
       " 't',\n",
       " 'c',\n",
       " 'c',\n",
       " 'a',\n",
       " 'g',\n",
       " 't',\n",
       " 't',\n",
       " 'g',\n",
       " 'g',\n",
       " 't',\n",
       " 't',\n",
       " 't',\n",
       " 'a',\n",
       " 'g',\n",
       " 'g',\n",
       " 'c']"
      ]
     },
     "execution_count": 19,
     "metadata": {},
     "output_type": "execute_result"
    },
    {
     "data": {
      "text/plain": [
       "['t',\n",
       " 'c',\n",
       " 't',\n",
       " 't',\n",
       " 'a',\n",
       " 'a',\n",
       " 'a',\n",
       " 'c',\n",
       " 't',\n",
       " 't',\n",
       " 'c',\n",
       " 't',\n",
       " 't',\n",
       " 'g',\n",
       " 'a',\n",
       " 'c',\n",
       " 't',\n",
       " 'a',\n",
       " 'a',\n",
       " '-']"
      ]
     },
     "execution_count": 19,
     "metadata": {},
     "output_type": "execute_result"
    },
    {
     "data": {
      "text/plain": [
       "['a',\n",
       " 'a',\n",
       " 'a',\n",
       " 'a',\n",
       " 't',\n",
       " 'g',\n",
       " 'g',\n",
       " 't',\n",
       " 'a',\n",
       " 'g',\n",
       " 'a',\n",
       " 'c',\n",
       " 't',\n",
       " 'c',\n",
       " 'a',\n",
       " 'a',\n",
       " 'c',\n",
       " 'g',\n",
       " 'c']"
      ]
     },
     "execution_count": 19,
     "metadata": {},
     "output_type": "execute_result"
    },
    {
     "data": {
      "text/plain": [
       "['a',\n",
       " 't',\n",
       " 'a',\n",
       " 'a',\n",
       " 'a',\n",
       " 'g',\n",
       " 'g',\n",
       " 'c',\n",
       " 'a',\n",
       " 'g',\n",
       " 'c',\n",
       " 'a',\n",
       " 'a',\n",
       " 'c',\n",
       " 't',\n",
       " 'a',\n",
       " 'a',\n",
       " 'a',\n",
       " 't']"
      ]
     },
     "execution_count": 19,
     "metadata": {},
     "output_type": "execute_result"
    },
    {
     "data": {
      "text/plain": [
       "['Y',\n",
       " '_',\n",
       " 'Q',\n",
       " 'Y',\n",
       " 'A',\n",
       " 'C',\n",
       " 'V',\n",
       " 'R',\n",
       " 'W',\n",
       " 'L',\n",
       " 'S',\n",
       " 'M',\n",
       " 'Y',\n",
       " 'N',\n",
       " 'A',\n",
       " 'R',\n",
       " 'A',\n",
       " 'C',\n",
       " 'R']"
      ]
     },
     "execution_count": 19,
     "metadata": {},
     "output_type": "execute_result"
    }
   ],
   "source": [
    "# generate list of DNA sequences\n",
    "sequences = list(data.loc[:, 'Sequence'])\n",
    "dataset = {}\n",
    "\n",
    "# loop through sequences and split into individual nucleotides\n",
    "for i, seq in enumerate(sequences):\n",
    "    \n",
    "    # split into nucleotides, remove tab characters\n",
    "    nucleotides = list(seq)\n",
    "\n",
    "    nucleotides = [x for x in nucleotides if x != '\\t']\n",
    "    \n",
    "    # append class assignment\n",
    "    nucleotides.append(classes[i])\n",
    "    x = nucleotides\n",
    "    x[0::3]\n",
    "    x[1::3]\n",
    "    x[2::3]\n",
    "    codon = [translate_dna((i+j +k).upper()) for i,j,k in zip(x[::3], x[1::3], x[2::3])]\n",
    "    # add to dataset\n",
    "    dataset[i] = codon\n",
    "    \n",
    "dataset[0]"
   ]
  },
  {
   "cell_type": "code",
   "execution_count": 20,
   "metadata": {},
   "outputs": [
    {
     "data": {
      "text/html": [
       "<div>\n",
       "<style scoped>\n",
       "    .dataframe tbody tr th:only-of-type {\n",
       "        vertical-align: middle;\n",
       "    }\n",
       "\n",
       "    .dataframe tbody tr th {\n",
       "        vertical-align: top;\n",
       "    }\n",
       "\n",
       "    .dataframe thead th {\n",
       "        text-align: right;\n",
       "    }\n",
       "</style>\n",
       "<table border=\"1\" class=\"dataframe\">\n",
       "  <thead>\n",
       "    <tr style=\"text-align: right;\">\n",
       "      <th></th>\n",
       "      <th>C_1</th>\n",
       "      <th>C_2</th>\n",
       "      <th>C_3</th>\n",
       "      <th>C_4</th>\n",
       "      <th>C_5</th>\n",
       "      <th>C_6</th>\n",
       "      <th>C_7</th>\n",
       "      <th>C_8</th>\n",
       "      <th>C_9</th>\n",
       "      <th>C_10</th>\n",
       "      <th>C_11</th>\n",
       "      <th>C_12</th>\n",
       "      <th>C_13</th>\n",
       "      <th>C_14</th>\n",
       "      <th>C_15</th>\n",
       "      <th>C_16</th>\n",
       "      <th>C_17</th>\n",
       "      <th>C_18</th>\n",
       "      <th>C_19</th>\n",
       "      <th>Class</th>\n",
       "    </tr>\n",
       "  </thead>\n",
       "  <tbody>\n",
       "    <tr>\n",
       "      <th>0</th>\n",
       "      <td>Y</td>\n",
       "      <td>_</td>\n",
       "      <td>Q</td>\n",
       "      <td>Y</td>\n",
       "      <td>A</td>\n",
       "      <td>C</td>\n",
       "      <td>V</td>\n",
       "      <td>R</td>\n",
       "      <td>W</td>\n",
       "      <td>L</td>\n",
       "      <td>S</td>\n",
       "      <td>M</td>\n",
       "      <td>Y</td>\n",
       "      <td>N</td>\n",
       "      <td>A</td>\n",
       "      <td>R</td>\n",
       "      <td>A</td>\n",
       "      <td>C</td>\n",
       "      <td>R</td>\n",
       "      <td>+</td>\n",
       "    </tr>\n",
       "    <tr>\n",
       "      <th>1</th>\n",
       "      <td>C</td>\n",
       "      <td>Y</td>\n",
       "      <td>P</td>\n",
       "      <td>D</td>\n",
       "      <td>S</td>\n",
       "      <td>C</td>\n",
       "      <td>H</td>\n",
       "      <td>A</td>\n",
       "      <td>D</td>\n",
       "      <td>W</td>\n",
       "      <td>C</td>\n",
       "      <td>R</td>\n",
       "      <td>Y</td>\n",
       "      <td>N</td>\n",
       "      <td>L</td>\n",
       "      <td>T</td>\n",
       "      <td>H</td>\n",
       "      <td>R</td>\n",
       "      <td>Q</td>\n",
       "      <td>+</td>\n",
       "    </tr>\n",
       "    <tr>\n",
       "      <th>2</th>\n",
       "      <td>V</td>\n",
       "      <td>L</td>\n",
       "      <td>E</td>\n",
       "      <td>N</td>\n",
       "      <td>_</td>\n",
       "      <td>C</td>\n",
       "      <td>I</td>\n",
       "      <td>S</td>\n",
       "      <td>L</td>\n",
       "      <td>F</td>\n",
       "      <td>F</td>\n",
       "      <td>C</td>\n",
       "      <td>Y</td>\n",
       "      <td>H</td>\n",
       "      <td>A</td>\n",
       "      <td>N</td>\n",
       "      <td>H</td>\n",
       "      <td>P</td>\n",
       "      <td>A</td>\n",
       "      <td>+</td>\n",
       "    </tr>\n",
       "    <tr>\n",
       "      <th>3</th>\n",
       "      <td>N</td>\n",
       "      <td>C</td>\n",
       "      <td>D</td>\n",
       "      <td>V</td>\n",
       "      <td>Y</td>\n",
       "      <td>R</td>\n",
       "      <td>S</td>\n",
       "      <td>V</td>\n",
       "      <td>L</td>\n",
       "      <td>R</td>\n",
       "      <td>S</td>\n",
       "      <td>R</td>\n",
       "      <td>C</td>\n",
       "      <td>_</td>\n",
       "      <td>N</td>\n",
       "      <td>T</td>\n",
       "      <td>N</td>\n",
       "      <td>K</td>\n",
       "      <td>L</td>\n",
       "      <td>+</td>\n",
       "    </tr>\n",
       "    <tr>\n",
       "      <th>4</th>\n",
       "      <td>S</td>\n",
       "      <td>I</td>\n",
       "      <td>I</td>\n",
       "      <td>N</td>\n",
       "      <td>Y</td>\n",
       "      <td>_</td>\n",
       "      <td>R</td>\n",
       "      <td>K</td>\n",
       "      <td>A</td>\n",
       "      <td>E</td>\n",
       "      <td>N</td>\n",
       "      <td>H</td>\n",
       "      <td>_</td>\n",
       "      <td>N</td>\n",
       "      <td>A</td>\n",
       "      <td>P</td>\n",
       "      <td>P</td>\n",
       "      <td>W</td>\n",
       "      <td>_</td>\n",
       "      <td>+</td>\n",
       "    </tr>\n",
       "    <tr>\n",
       "      <th>...</th>\n",
       "      <td>...</td>\n",
       "      <td>...</td>\n",
       "      <td>...</td>\n",
       "      <td>...</td>\n",
       "      <td>...</td>\n",
       "      <td>...</td>\n",
       "      <td>...</td>\n",
       "      <td>...</td>\n",
       "      <td>...</td>\n",
       "      <td>...</td>\n",
       "      <td>...</td>\n",
       "      <td>...</td>\n",
       "      <td>...</td>\n",
       "      <td>...</td>\n",
       "      <td>...</td>\n",
       "      <td>...</td>\n",
       "      <td>...</td>\n",
       "      <td>...</td>\n",
       "      <td>...</td>\n",
       "      <td>...</td>\n",
       "    </tr>\n",
       "    <tr>\n",
       "      <th>101</th>\n",
       "      <td>P</td>\n",
       "      <td>Q</td>\n",
       "      <td>W</td>\n",
       "      <td>P</td>\n",
       "      <td>L</td>\n",
       "      <td>N</td>\n",
       "      <td>G</td>\n",
       "      <td>S</td>\n",
       "      <td>_</td>\n",
       "      <td>G</td>\n",
       "      <td>V</td>\n",
       "      <td>F</td>\n",
       "      <td>C</td>\n",
       "      <td>_</td>\n",
       "      <td>K</td>\n",
       "      <td>E</td>\n",
       "      <td>E</td>\n",
       "      <td>L</td>\n",
       "      <td>Y</td>\n",
       "      <td>-</td>\n",
       "    </tr>\n",
       "    <tr>\n",
       "      <th>102</th>\n",
       "      <td>V</td>\n",
       "      <td>F</td>\n",
       "      <td>S</td>\n",
       "      <td>T</td>\n",
       "      <td>R</td>\n",
       "      <td>L</td>\n",
       "      <td>T</td>\n",
       "      <td>D</td>\n",
       "      <td>R</td>\n",
       "      <td>F</td>\n",
       "      <td>N</td>\n",
       "      <td>L</td>\n",
       "      <td>V</td>\n",
       "      <td>D</td>\n",
       "      <td>G</td>\n",
       "      <td>R</td>\n",
       "      <td>S</td>\n",
       "      <td>T</td>\n",
       "      <td>L</td>\n",
       "      <td>-</td>\n",
       "    </tr>\n",
       "    <tr>\n",
       "      <th>103</th>\n",
       "      <td>R</td>\n",
       "      <td>D</td>\n",
       "      <td>Y</td>\n",
       "      <td>D</td>\n",
       "      <td>E</td>\n",
       "      <td>M</td>\n",
       "      <td>P</td>\n",
       "      <td>E</td>\n",
       "      <td>C</td>\n",
       "      <td>F</td>\n",
       "      <td>R</td>\n",
       "      <td>Y</td>\n",
       "      <td>W</td>\n",
       "      <td>I</td>\n",
       "      <td>V</td>\n",
       "      <td>T</td>\n",
       "      <td>K</td>\n",
       "      <td>A</td>\n",
       "      <td>S</td>\n",
       "      <td>-</td>\n",
       "    </tr>\n",
       "    <tr>\n",
       "      <th>104</th>\n",
       "      <td>L</td>\n",
       "      <td>V</td>\n",
       "      <td>L</td>\n",
       "      <td>N</td>\n",
       "      <td>G</td>\n",
       "      <td>L</td>\n",
       "      <td>_</td>\n",
       "      <td>T</td>\n",
       "      <td>G</td>\n",
       "      <td>L</td>\n",
       "      <td>E</td>\n",
       "      <td>G</td>\n",
       "      <td>F</td>\n",
       "      <td>F</td>\n",
       "      <td>A</td>\n",
       "      <td>E</td>\n",
       "      <td>R</td>\n",
       "      <td>R</td>\n",
       "      <td>N</td>\n",
       "      <td>-</td>\n",
       "    </tr>\n",
       "    <tr>\n",
       "      <th>105</th>\n",
       "      <td>_</td>\n",
       "      <td>H</td>\n",
       "      <td>_</td>\n",
       "      <td>_</td>\n",
       "      <td>I</td>\n",
       "      <td>R</td>\n",
       "      <td>R</td>\n",
       "      <td>L</td>\n",
       "      <td>_</td>\n",
       "      <td>W</td>\n",
       "      <td>H</td>\n",
       "      <td>S</td>\n",
       "      <td>L</td>\n",
       "      <td>A</td>\n",
       "      <td>N</td>\n",
       "      <td>Q</td>\n",
       "      <td>S</td>\n",
       "      <td>R</td>\n",
       "      <td>T</td>\n",
       "      <td>-</td>\n",
       "    </tr>\n",
       "  </tbody>\n",
       "</table>\n",
       "<p>106 rows × 20 columns</p>\n",
       "</div>"
      ],
      "text/plain": [
       "    C_1 C_2 C_3 C_4 C_5 C_6 C_7 C_8 C_9 C_10 C_11 C_12 C_13 C_14 C_15 C_16  \\\n",
       "0     Y   _   Q   Y   A   C   V   R   W    L    S    M    Y    N    A    R   \n",
       "1     C   Y   P   D   S   C   H   A   D    W    C    R    Y    N    L    T   \n",
       "2     V   L   E   N   _   C   I   S   L    F    F    C    Y    H    A    N   \n",
       "3     N   C   D   V   Y   R   S   V   L    R    S    R    C    _    N    T   \n",
       "4     S   I   I   N   Y   _   R   K   A    E    N    H    _    N    A    P   \n",
       "..   ..  ..  ..  ..  ..  ..  ..  ..  ..  ...  ...  ...  ...  ...  ...  ...   \n",
       "101   P   Q   W   P   L   N   G   S   _    G    V    F    C    _    K    E   \n",
       "102   V   F   S   T   R   L   T   D   R    F    N    L    V    D    G    R   \n",
       "103   R   D   Y   D   E   M   P   E   C    F    R    Y    W    I    V    T   \n",
       "104   L   V   L   N   G   L   _   T   G    L    E    G    F    F    A    E   \n",
       "105   _   H   _   _   I   R   R   L   _    W    H    S    L    A    N    Q   \n",
       "\n",
       "    C_17 C_18 C_19 Class  \n",
       "0      A    C    R     +  \n",
       "1      H    R    Q     +  \n",
       "2      H    P    A     +  \n",
       "3      N    K    L     +  \n",
       "4      P    W    _     +  \n",
       "..   ...  ...  ...   ...  \n",
       "101    E    L    Y     -  \n",
       "102    S    T    L     -  \n",
       "103    K    A    S     -  \n",
       "104    R    R    N     -  \n",
       "105    S    R    T     -  \n",
       "\n",
       "[106 rows x 20 columns]"
      ]
     },
     "execution_count": 20,
     "metadata": {},
     "output_type": "execute_result"
    }
   ],
   "source": [
    "# turn dataset into pandas DataFrame\n",
    "dataset = pd.DataFrame(dataset).T\n",
    "dataset = dataset.join(data_class)\n",
    "# rename the columns with C lake a 'codon'\n",
    "dataset.columns = ['C_1','C_2','C_3','C_4','C_5','C_6','C_7','C_8','C_9','C_10','C_11','C_12','C_13','C_14','C_15','C_16','C_17','C_18','C_19','Class']\n",
    "dataset"
   ]
  },
  {
   "cell_type": "markdown",
   "metadata": {},
   "source": [
    "#### Encoding categorical data"
   ]
  },
  {
   "cell_type": "code",
   "execution_count": 21,
   "metadata": {},
   "outputs": [
    {
     "data": {
      "text/html": [
       "<div>\n",
       "<style scoped>\n",
       "    .dataframe tbody tr th:only-of-type {\n",
       "        vertical-align: middle;\n",
       "    }\n",
       "\n",
       "    .dataframe tbody tr th {\n",
       "        vertical-align: top;\n",
       "    }\n",
       "\n",
       "    .dataframe thead th {\n",
       "        text-align: right;\n",
       "    }\n",
       "</style>\n",
       "<table border=\"1\" class=\"dataframe\">\n",
       "  <thead>\n",
       "    <tr style=\"text-align: right;\">\n",
       "      <th></th>\n",
       "      <th>C_1</th>\n",
       "      <th>C_2</th>\n",
       "      <th>C_3</th>\n",
       "      <th>C_4</th>\n",
       "      <th>C_5</th>\n",
       "      <th>C_6</th>\n",
       "      <th>C_7</th>\n",
       "      <th>C_8</th>\n",
       "      <th>C_9</th>\n",
       "      <th>C_10</th>\n",
       "      <th>C_11</th>\n",
       "      <th>C_12</th>\n",
       "      <th>C_13</th>\n",
       "      <th>C_14</th>\n",
       "      <th>C_15</th>\n",
       "      <th>C_16</th>\n",
       "      <th>C_17</th>\n",
       "      <th>C_18</th>\n",
       "      <th>C_19</th>\n",
       "      <th>Class</th>\n",
       "    </tr>\n",
       "  </thead>\n",
       "  <tbody>\n",
       "    <tr>\n",
       "      <th>0</th>\n",
       "      <td>19</td>\n",
       "      <td>20</td>\n",
       "      <td>13</td>\n",
       "      <td>19</td>\n",
       "      <td>0</td>\n",
       "      <td>1</td>\n",
       "      <td>16</td>\n",
       "      <td>13</td>\n",
       "      <td>18</td>\n",
       "      <td>9</td>\n",
       "      <td>15</td>\n",
       "      <td>10</td>\n",
       "      <td>18</td>\n",
       "      <td>11</td>\n",
       "      <td>0</td>\n",
       "      <td>14</td>\n",
       "      <td>0</td>\n",
       "      <td>1</td>\n",
       "      <td>13</td>\n",
       "      <td>0</td>\n",
       "    </tr>\n",
       "    <tr>\n",
       "      <th>1</th>\n",
       "      <td>1</td>\n",
       "      <td>19</td>\n",
       "      <td>12</td>\n",
       "      <td>2</td>\n",
       "      <td>13</td>\n",
       "      <td>1</td>\n",
       "      <td>5</td>\n",
       "      <td>0</td>\n",
       "      <td>2</td>\n",
       "      <td>18</td>\n",
       "      <td>1</td>\n",
       "      <td>14</td>\n",
       "      <td>18</td>\n",
       "      <td>11</td>\n",
       "      <td>9</td>\n",
       "      <td>16</td>\n",
       "      <td>6</td>\n",
       "      <td>13</td>\n",
       "      <td>12</td>\n",
       "      <td>0</td>\n",
       "    </tr>\n",
       "    <tr>\n",
       "      <th>2</th>\n",
       "      <td>17</td>\n",
       "      <td>9</td>\n",
       "      <td>3</td>\n",
       "      <td>11</td>\n",
       "      <td>18</td>\n",
       "      <td>1</td>\n",
       "      <td>6</td>\n",
       "      <td>14</td>\n",
       "      <td>9</td>\n",
       "      <td>4</td>\n",
       "      <td>4</td>\n",
       "      <td>1</td>\n",
       "      <td>18</td>\n",
       "      <td>6</td>\n",
       "      <td>0</td>\n",
       "      <td>11</td>\n",
       "      <td>6</td>\n",
       "      <td>11</td>\n",
       "      <td>0</td>\n",
       "      <td>0</td>\n",
       "    </tr>\n",
       "    <tr>\n",
       "      <th>3</th>\n",
       "      <td>11</td>\n",
       "      <td>1</td>\n",
       "      <td>2</td>\n",
       "      <td>17</td>\n",
       "      <td>17</td>\n",
       "      <td>14</td>\n",
       "      <td>14</td>\n",
       "      <td>16</td>\n",
       "      <td>9</td>\n",
       "      <td>14</td>\n",
       "      <td>15</td>\n",
       "      <td>14</td>\n",
       "      <td>1</td>\n",
       "      <td>19</td>\n",
       "      <td>10</td>\n",
       "      <td>16</td>\n",
       "      <td>11</td>\n",
       "      <td>7</td>\n",
       "      <td>8</td>\n",
       "      <td>0</td>\n",
       "    </tr>\n",
       "    <tr>\n",
       "      <th>4</th>\n",
       "      <td>15</td>\n",
       "      <td>7</td>\n",
       "      <td>7</td>\n",
       "      <td>11</td>\n",
       "      <td>17</td>\n",
       "      <td>20</td>\n",
       "      <td>13</td>\n",
       "      <td>8</td>\n",
       "      <td>0</td>\n",
       "      <td>3</td>\n",
       "      <td>11</td>\n",
       "      <td>6</td>\n",
       "      <td>19</td>\n",
       "      <td>11</td>\n",
       "      <td>0</td>\n",
       "      <td>12</td>\n",
       "      <td>12</td>\n",
       "      <td>17</td>\n",
       "      <td>19</td>\n",
       "      <td>0</td>\n",
       "    </tr>\n",
       "    <tr>\n",
       "      <th>...</th>\n",
       "      <td>...</td>\n",
       "      <td>...</td>\n",
       "      <td>...</td>\n",
       "      <td>...</td>\n",
       "      <td>...</td>\n",
       "      <td>...</td>\n",
       "      <td>...</td>\n",
       "      <td>...</td>\n",
       "      <td>...</td>\n",
       "      <td>...</td>\n",
       "      <td>...</td>\n",
       "      <td>...</td>\n",
       "      <td>...</td>\n",
       "      <td>...</td>\n",
       "      <td>...</td>\n",
       "      <td>...</td>\n",
       "      <td>...</td>\n",
       "      <td>...</td>\n",
       "      <td>...</td>\n",
       "      <td>...</td>\n",
       "    </tr>\n",
       "    <tr>\n",
       "      <th>101</th>\n",
       "      <td>12</td>\n",
       "      <td>13</td>\n",
       "      <td>18</td>\n",
       "      <td>12</td>\n",
       "      <td>7</td>\n",
       "      <td>11</td>\n",
       "      <td>4</td>\n",
       "      <td>14</td>\n",
       "      <td>20</td>\n",
       "      <td>5</td>\n",
       "      <td>17</td>\n",
       "      <td>4</td>\n",
       "      <td>1</td>\n",
       "      <td>19</td>\n",
       "      <td>8</td>\n",
       "      <td>3</td>\n",
       "      <td>3</td>\n",
       "      <td>8</td>\n",
       "      <td>18</td>\n",
       "      <td>1</td>\n",
       "    </tr>\n",
       "    <tr>\n",
       "      <th>102</th>\n",
       "      <td>17</td>\n",
       "      <td>4</td>\n",
       "      <td>15</td>\n",
       "      <td>16</td>\n",
       "      <td>12</td>\n",
       "      <td>9</td>\n",
       "      <td>15</td>\n",
       "      <td>2</td>\n",
       "      <td>14</td>\n",
       "      <td>4</td>\n",
       "      <td>11</td>\n",
       "      <td>9</td>\n",
       "      <td>16</td>\n",
       "      <td>2</td>\n",
       "      <td>5</td>\n",
       "      <td>14</td>\n",
       "      <td>15</td>\n",
       "      <td>15</td>\n",
       "      <td>8</td>\n",
       "      <td>1</td>\n",
       "    </tr>\n",
       "    <tr>\n",
       "      <th>103</th>\n",
       "      <td>14</td>\n",
       "      <td>2</td>\n",
       "      <td>19</td>\n",
       "      <td>2</td>\n",
       "      <td>3</td>\n",
       "      <td>10</td>\n",
       "      <td>11</td>\n",
       "      <td>3</td>\n",
       "      <td>1</td>\n",
       "      <td>4</td>\n",
       "      <td>14</td>\n",
       "      <td>19</td>\n",
       "      <td>17</td>\n",
       "      <td>7</td>\n",
       "      <td>16</td>\n",
       "      <td>16</td>\n",
       "      <td>8</td>\n",
       "      <td>0</td>\n",
       "      <td>14</td>\n",
       "      <td>1</td>\n",
       "    </tr>\n",
       "    <tr>\n",
       "      <th>104</th>\n",
       "      <td>9</td>\n",
       "      <td>17</td>\n",
       "      <td>9</td>\n",
       "      <td>11</td>\n",
       "      <td>5</td>\n",
       "      <td>9</td>\n",
       "      <td>18</td>\n",
       "      <td>15</td>\n",
       "      <td>5</td>\n",
       "      <td>9</td>\n",
       "      <td>3</td>\n",
       "      <td>5</td>\n",
       "      <td>4</td>\n",
       "      <td>4</td>\n",
       "      <td>0</td>\n",
       "      <td>3</td>\n",
       "      <td>14</td>\n",
       "      <td>13</td>\n",
       "      <td>10</td>\n",
       "      <td>1</td>\n",
       "    </tr>\n",
       "    <tr>\n",
       "      <th>105</th>\n",
       "      <td>20</td>\n",
       "      <td>6</td>\n",
       "      <td>20</td>\n",
       "      <td>20</td>\n",
       "      <td>6</td>\n",
       "      <td>14</td>\n",
       "      <td>13</td>\n",
       "      <td>9</td>\n",
       "      <td>20</td>\n",
       "      <td>18</td>\n",
       "      <td>6</td>\n",
       "      <td>15</td>\n",
       "      <td>9</td>\n",
       "      <td>0</td>\n",
       "      <td>10</td>\n",
       "      <td>13</td>\n",
       "      <td>15</td>\n",
       "      <td>13</td>\n",
       "      <td>15</td>\n",
       "      <td>1</td>\n",
       "    </tr>\n",
       "  </tbody>\n",
       "</table>\n",
       "<p>106 rows × 20 columns</p>\n",
       "</div>"
      ],
      "text/plain": [
       "     C_1  C_2  C_3  C_4  C_5  C_6  C_7  C_8  C_9  C_10  C_11  C_12  C_13  \\\n",
       "0     19   20   13   19    0    1   16   13   18     9    15    10    18   \n",
       "1      1   19   12    2   13    1    5    0    2    18     1    14    18   \n",
       "2     17    9    3   11   18    1    6   14    9     4     4     1    18   \n",
       "3     11    1    2   17   17   14   14   16    9    14    15    14     1   \n",
       "4     15    7    7   11   17   20   13    8    0     3    11     6    19   \n",
       "..   ...  ...  ...  ...  ...  ...  ...  ...  ...   ...   ...   ...   ...   \n",
       "101   12   13   18   12    7   11    4   14   20     5    17     4     1   \n",
       "102   17    4   15   16   12    9   15    2   14     4    11     9    16   \n",
       "103   14    2   19    2    3   10   11    3    1     4    14    19    17   \n",
       "104    9   17    9   11    5    9   18   15    5     9     3     5     4   \n",
       "105   20    6   20   20    6   14   13    9   20    18     6    15     9   \n",
       "\n",
       "     C_14  C_15  C_16  C_17  C_18  C_19  Class  \n",
       "0      11     0    14     0     1    13      0  \n",
       "1      11     9    16     6    13    12      0  \n",
       "2       6     0    11     6    11     0      0  \n",
       "3      19    10    16    11     7     8      0  \n",
       "4      11     0    12    12    17    19      0  \n",
       "..    ...   ...   ...   ...   ...   ...    ...  \n",
       "101    19     8     3     3     8    18      1  \n",
       "102     2     5    14    15    15     8      1  \n",
       "103     7    16    16     8     0    14      1  \n",
       "104     4     0     3    14    13    10      1  \n",
       "105     0    10    13    15    13    15      1  \n",
       "\n",
       "[106 rows x 20 columns]"
      ]
     },
     "execution_count": 21,
     "metadata": {},
     "output_type": "execute_result"
    }
   ],
   "source": [
    "def label_encoder(y):\n",
    "    encoder = LabelEncoder()\n",
    "    dataset[y] = encoder.fit_transform(dataset[y])\n",
    "    \n",
    "label_list = ['C_1','C_2','C_3','C_4','C_5','C_6','C_7','C_8','C_9','C_10',\n",
    "                'C_11','C_12','C_13','C_14','C_15','C_16','C_17','C_18','C_19','Class']\n",
    "\n",
    "for l in label_list:\n",
    "    label_encoder(str(l))\n",
    "    \n",
    "dataset"
   ]
  },
  {
   "cell_type": "code",
   "execution_count": null,
   "metadata": {},
   "outputs": [],
   "source": []
  },
  {
   "cell_type": "markdown",
   "metadata": {},
   "source": [
    "## ACCURACY, PRECISION, RECALL, F1 SCORE:\n",
    "I want to pay special attention to **accuracy, precision, recall, and the F1 score**.  I will use them to evaluate the models after any part ot the progect.\n",
    "\n",
    "**Accuracy** is a performance metric that is very intuitive: it is simply the ratio of all correctly predicted sequence whether positive or negative and all sequence in the data.\n",
    "\n",
    "**Precision** is the ratio of correctly predicted positive sequences vs. all predicted positive sequences. It answers the following question: Of all sequences in the database we predicted as positive, how many were actually positive sequences? If we think about it, high precision should yield to a low false positive rate. \n",
    "\n",
    "**Recall or sensitivity** is the ratio of all correctly identified positive sequence divided by all actually positive sequences.  It answers the following question: How well did our model perform in correctly identifying one sequence among all true sequence.  \n",
    "\n",
    "**The F1 Score** is the weighted average of precision and recall, hence it takes both false positives and false negatives into account. If data has an uneven class distribution, then the F1 score is far more useful than accuracy.  Accuracy works best if false positives and false negatives have similar cost. If the cost of false positives and false negatives are very different, it’s better to look at both precision and recall. \n",
    "\n",
    "**ROC AUC:**\n",
    "ROC stands for *Receiver Operating Characteristic*, which is a World War II term used to evaluate the performance of radar. The sensitivity is the proportion of correctly predicted events , while specificity is the the proportion of correctly identified non-events.  Ideally, both specificity and sensitivity should be high.  The ROC curve represents the tradeoff between the two constructs.  \n",
    "\n",
    "The ROC-AUC score provides us with information about how well a model is performing its job of separating cases: in our case distinguishing donors from those not donating. A 0.91 score means that there is a 91% chance that a model can distinguish positive sequence from negative sequence.  "
   ]
  },
  {
   "cell_type": "code",
   "execution_count": 22,
   "metadata": {},
   "outputs": [],
   "source": [
    "# To store results of models\n",
    "dict_default = {'Logistic_Regrression': {'Accuracy_Score':[0],\n",
    "                                        'Average_Precision_Score':[0],\n",
    "                                        'Precision':[0], \n",
    "                                        'Recall': [0],\n",
    "                                        'F1_Score':[0],\n",
    "                                        'ROC_score':[0]},\n",
    "                    'Random_Forest': {'Accuracy_Score':[0],\n",
    "                                        'Average_Precision_Score':[0],\n",
    "                                        'Precision':[0], \n",
    "                                        'Recall': [0],\n",
    "                                        'F1_Score':[0],\n",
    "                                        'ROC_score':[0]},\n",
    "                    'SVC': {'Accuracy_Score':[0],\n",
    "                                        'Average_Precision_Score':[0],\n",
    "                                        'Precision':[0], \n",
    "                                        'Recall': [0],\n",
    "                                        'F1_Score':[0],\n",
    "                                        'ROC_score':[0]},\n",
    "              }\n",
    "\n",
    "dict_fine_tuning = {'Logistic_Regrression_CV': {'Accuracy_Score':[0],\n",
    "                                        'Average_Precision_Score':[0],\n",
    "                                        'Precision':[0], \n",
    "                                        'Recall': [0],\n",
    "                                        'F1_Score':[0],\n",
    "                                        'ROC_score':[0]},\n",
    "                    'Random_Forest_CV': {'Accuracy_Score':[0],\n",
    "                                        'Average_Precision_Score':[0],\n",
    "                                        'Precision':[0], \n",
    "                                        'Recall': [0],\n",
    "                                        'F1_Score':[0],\n",
    "                                        'ROC_score':[0]},\n",
    "                    'SVC_CV': {'Accuracy_Score':[0],\n",
    "                                        'Average_Precision_Score':[0],\n",
    "                                        'Precision':[0], \n",
    "                                        'Recall': [0],\n",
    "                                        'F1_Score':[0],\n",
    "                                        'ROC_score':[0]},\n",
    "              }"
   ]
  },
  {
   "cell_type": "markdown",
   "metadata": {},
   "source": [
    "Separate the Target Column from the Features Matrix"
   ]
  },
  {
   "cell_type": "code",
   "execution_count": 23,
   "metadata": {},
   "outputs": [
    {
     "name": "stdout",
     "output_type": "stream",
     "text": [
      "Num.samples: 106\n",
      "Num.features: 19\n"
     ]
    }
   ],
   "source": [
    "X = dataset.iloc[:, :-1].values\n",
    "y = dataset.iloc[:, -1].values\n",
    "\n",
    "n_samples, n_features = X.shape\n",
    "print(f\"Num.samples: {n_samples}\")\n",
    "print(f\"Num.features: {n_features}\")"
   ]
  },
  {
   "cell_type": "markdown",
   "metadata": {},
   "source": [
    "# 2. Default ML Models:"
   ]
  },
  {
   "attachments": {
    "image.png": {
     "image/png": "[encoded data removed]"
    }
   },
   "cell_type": "markdown",
   "metadata": {},
   "source": [
    "## \\$$ Logistic Regression $$\n",
    "\n",
    "Logistic regression is used in various fields, including machine learning, most medical fields, and social sciences. For example, the Trauma and Injury Severity Score (TRISS), which is widely used to predict mortality in injured patients, was originally developed by Boyd et al. using logistic regression. Many other medical scales used to assess severity of a patient have been developed using logistic regression. Logistic regression may be used to predict the risk of developing a given disease (e.g. diabetes; coronary heart disease), based on observed characteristics of the patient (age, sex, body mass index, results of various blood tests, etc.). Another example might be to predict whether a Nepalese voter will vote Nepali Congress or Communist Party of Nepal or Any Other Party, based on age, income, sex, race, state of residence, votes in previous elections, etc. The technique can also be used in engineering, especially for predicting the probability of failure of a given process, system or product. It is also used in marketing applications such as prediction of a customer's propensity to purchase a product or halt a subscription, etc. In economics it can be used to predict the likelihood of a person's choosing to be in the labor force, and a business application would be to predict the likelihood of a homeowner defaulting on a mortgage. Conditional random fields, an extension of logistic regression to sequential data, are used in natural language processing.\n",
    "\n",
    "![image.png](attachment:image.png)\n",
    "\n",
    "#### Definition of the logistic function\n",
    "\n",
    "$$ \\sigma (t) = \\frac{e^t}{e^t + 1} = \\frac{1}{1 + e^{-t}}  $$"
   ]
  },
  {
   "cell_type": "code",
   "execution_count": 24,
   "metadata": {},
   "outputs": [
    {
     "data": {
      "text/plain": [
       "LogisticRegression()"
      ]
     },
     "execution_count": 24,
     "metadata": {},
     "output_type": "execute_result"
    }
   ],
   "source": [
    "# make a model\n",
    "model_lg = LogisticRegression().fit(X, y)\n",
    "model_lg"
   ]
  },
  {
   "cell_type": "code",
   "execution_count": 25,
   "metadata": {},
   "outputs": [
    {
     "data": {
      "text/plain": [
       "array([1, 0, 0, 0, 0, 0, 0, 0, 0, 0, 0, 0, 0, 0, 0, 0, 0, 0, 0, 0, 1, 0,\n",
       "       1, 0, 0, 1, 0, 0, 1, 0, 1, 1, 0, 1, 0, 1, 1, 0, 0, 1, 0, 0, 0, 0,\n",
       "       0, 0, 0, 0, 1, 0, 1, 0, 1, 1, 0, 0, 1, 0, 1, 1, 1, 1, 1, 1, 0, 1,\n",
       "       1, 1, 0, 0, 0, 1, 1, 1, 0, 1, 1, 1, 1, 1, 1, 0, 1, 1, 1, 1, 1, 0,\n",
       "       1, 1, 1, 1, 1, 0, 1, 1, 1, 1, 1, 0, 1, 1, 1, 0, 1, 1])"
      ]
     },
     "execution_count": 25,
     "metadata": {},
     "output_type": "execute_result"
    }
   ],
   "source": [
    "# make a predicition\n",
    "prediction_lg = model_lg.predict(X)\n",
    "prediction_lg"
   ]
  },
  {
   "cell_type": "markdown",
   "metadata": {},
   "source": [
    "With 0 are positive cases and with 1 are negative cases."
   ]
  },
  {
   "cell_type": "code",
   "execution_count": 26,
   "metadata": {},
   "outputs": [
    {
     "data": {
      "text/plain": [
       "array([0.40609832, 0.59390168])"
      ]
     },
     "execution_count": 26,
     "metadata": {},
     "output_type": "execute_result"
    }
   ],
   "source": [
    "probability_lg = model_lg.predict_proba(X)\n",
    "probability_lg[0]"
   ]
  },
  {
   "cell_type": "markdown",
   "metadata": {},
   "source": [
    "For show, I used the first case from the matrix. The probability of being positive is 0.40609832, and of being negative is 0.59390168. Isn't very good result !!!\n",
    "\n",
    "Nest step is to print some important metrics and to generate our first report. Fot that I made this simply function."
   ]
  },
  {
   "cell_type": "code",
   "execution_count": 27,
   "metadata": {},
   "outputs": [
    {
     "name": "stdout",
     "output_type": "stream",
     "text": [
      "============================================================\n",
      "Accuracy_Score:          0.745\n",
      "Average_Precision_Score: 0.682\n",
      "F1 Score:                0.748\n",
      "Precision:               0.741\n",
      "Recall:                  0.755\n",
      "============================================================\n",
      "              precision    recall  f1-score   support\n",
      "\n",
      "           0       0.75      0.74      0.74        53\n",
      "           1       0.74      0.75      0.75        53\n",
      "\n",
      "    accuracy                           0.75       106\n",
      "   macro avg       0.75      0.75      0.75       106\n",
      "weighted avg       0.75      0.75      0.75       106\n",
      "\n",
      "============================================================\n"
     ]
    }
   ],
   "source": [
    "def print_main_metrics(y, prediction, model):\n",
    "    \"\"\"Print the important metrics, after recive: \n",
    "    y: the value targets, for which we will make the prediction\n",
    "    predicted: predicted values from the model\n",
    "    model: the model in use \n",
    "    \"\"\"\n",
    "    print('='* 60)\n",
    "    print(f'Accuracy_Score:          {metrics.accuracy_score(y, prediction):.3f}')\n",
    "    print(f'Average_Precision_Score: {metrics.average_precision_score(y, prediction):.3f}')\n",
    "    print(f'F1 Score:                {metrics.f1_score(y, prediction):.3f}') \n",
    "    print(f'Precision:               {metrics.precision_score(y, prediction):.3f}') \n",
    "    print(f'Recall:                  {metrics.recall_score(y, prediction):.3f}')\n",
    "    print('='* 60)\n",
    "    print(classification_report(y, prediction))\n",
    "    print('=' * 60)\n",
    "    \n",
    "\n",
    "print_main_metrics(y, prediction_lg, model_lg)"
   ]
  },
  {
   "cell_type": "markdown",
   "metadata": {},
   "source": [
    "I would like to visualisate the results, to get a clearer idea of what is happening."
   ]
  },
  {
   "cell_type": "code",
   "execution_count": 28,
   "metadata": {},
   "outputs": [
    {
     "data": {
      "text/plain": [
       "array([[39, 14],\n",
       "       [13, 40]], dtype=int64)"
      ]
     },
     "execution_count": 28,
     "metadata": {},
     "output_type": "execute_result"
    },
    {
     "data": {
      "text/html": [
       "<div>\n",
       "<style scoped>\n",
       "    .dataframe tbody tr th:only-of-type {\n",
       "        vertical-align: middle;\n",
       "    }\n",
       "\n",
       "    .dataframe tbody tr th {\n",
       "        vertical-align: top;\n",
       "    }\n",
       "\n",
       "    .dataframe thead th {\n",
       "        text-align: right;\n",
       "    }\n",
       "</style>\n",
       "<table border=\"1\" class=\"dataframe\">\n",
       "  <thead>\n",
       "    <tr style=\"text-align: right;\">\n",
       "      <th></th>\n",
       "      <th>predicted_Class+</th>\n",
       "      <th>predicted_Class-</th>\n",
       "    </tr>\n",
       "  </thead>\n",
       "  <tbody>\n",
       "    <tr>\n",
       "      <th>Class+</th>\n",
       "      <td>39</td>\n",
       "      <td>14</td>\n",
       "    </tr>\n",
       "    <tr>\n",
       "      <th>Class-</th>\n",
       "      <td>13</td>\n",
       "      <td>40</td>\n",
       "    </tr>\n",
       "  </tbody>\n",
       "</table>\n",
       "</div>"
      ],
      "text/plain": [
       "        predicted_Class+  predicted_Class-\n",
       "Class+                39                14\n",
       "Class-                13                40"
      ]
     },
     "execution_count": 28,
     "metadata": {},
     "output_type": "execute_result"
    }
   ],
   "source": [
    "#CONFUSION MATRIX:\n",
    "confusion_matrix(y, prediction_lg)\n",
    "#transform confusion matrix into array\n",
    "#the matrix is stored in a variable called confmtrx\n",
    "confmtrx = np.array(confusion_matrix(y, prediction_lg))\n",
    "pd.DataFrame(confmtrx, index=['Class+', 'Class-'],\n",
    "columns=['predicted_Class+', 'predicted_Class-'])"
   ]
  },
  {
   "attachments": {
    "image.png": {
     "image/png": "[encoded data removed]"
    }
   },
   "cell_type": "markdown",
   "metadata": {},
   "source": [
    "### What is AUC - ROC Curve?\n",
    "AUC - ROC curve is a performance measurement for classification problem at various thresholds settings. ROC is a probability curve and AUC represents degree or measure of separability. It tells how much model is capable of distinguishing between classes. Higher the AUC, better the model is at predicting 0s as 0s and 1s as 1s. By analogy, Higher the AUC, better the model is at distinguishing between patients with disease and no disease.\n",
    "\n",
    "The ROC curve is plotted with TPR against the FPR where TPR is on y-axis and FPR is on the x-axis.\n",
    "\n",
    "![image.png](attachment:image.png)"
   ]
  },
  {
   "cell_type": "markdown",
   "metadata": {},
   "source": [
    "### Defining terms used in AUC and ROC Curve.\n",
    "\n",
    "- TPR (True Positive Rate) / Recall /Sensitivity:\n",
    "$$ TPR/Recall/Sensitivity = \\frac{TP}{TP + FN}$$\n",
    "\n",
    "- Specificity:\n",
    "$$ Specificity = \\frac{TN}{TN + FP} $$\n",
    "\n",
    "- FPR:\n",
    "$$ FPR = 1 - Specificity = \\frac{FP}{TN + FP}\n",
    "\n",
    "The function roc_curve computes the receiver operating characteristic curve, or ROC curve. Quoting Wikipedia :\n",
    "\n",
    "“A receiver operating characteristic (ROC), or simply ROC curve, is a graphical plot which illustrates the performance of a binary classifier system as its discrimination threshold is varied. It is created by plotting the fraction of true positives out of the positives (TPR = true positive rate) vs. the fraction of false positives out of the negatives (FPR = false positive rate), at various threshold settings. TPR is also known as sensitivity, and FPR is one minus the specificity or true negative rate.”\n",
    "\n",
    "This function requires the true binary value and the target scores, which can either be probability estimates of the positive class, confidence values, or binary decisions. \n",
    "\n",
    "- [scikit-learn](https://scikit-learn.org/stable/modules/model_evaluation.html#roc-metrics)\n",
    "- [Medium](https://towardsdatascience.com/understanding-auc-roc-curve-68b2303cc9c5)"
   ]
  },
  {
   "cell_type": "code",
   "execution_count": 29,
   "metadata": {},
   "outputs": [
    {
     "data": {
      "text/plain": [
       "[<matplotlib.lines.Line2D at 0x1140fb86910>]"
      ]
     },
     "execution_count": 29,
     "metadata": {},
     "output_type": "execute_result"
    },
    {
     "data": {
      "text/plain": [
       "[<matplotlib.lines.Line2D at 0x1140fb86d60>]"
      ]
     },
     "execution_count": 29,
     "metadata": {},
     "output_type": "execute_result"
    },
    {
     "data": {
      "text/plain": [
       "Text(0.5, 0, 'False Positive Rate (1-Specificity)')"
      ]
     },
     "execution_count": 29,
     "metadata": {},
     "output_type": "execute_result"
    },
    {
     "data": {
      "text/plain": [
       "Text(0, 0.5, 'True Positive Rate (Sensitivity)')"
      ]
     },
     "execution_count": 29,
     "metadata": {},
     "output_type": "execute_result"
    },
    {
     "data": {
      "text/plain": [
       "Text(0.5, 1.0, 'ROC Curve: Logistic Regression Default')"
      ]
     },
     "execution_count": 29,
     "metadata": {},
     "output_type": "execute_result"
    },
    {
     "data": {
      "text/plain": [
       "<matplotlib.legend.Legend at 0x1140fb86b50>"
      ]
     },
     "execution_count": 29,
     "metadata": {},
     "output_type": "execute_result"
    },
    {
     "data": {
      "image/png": "[encoded data removed]",
      "text/plain": [
       "<Figure size 432x288 with 1 Axes>"
      ]
     },
     "metadata": {
      "needs_background": "light"
     },
     "output_type": "display_data"
    }
   ],
   "source": [
    "#Draw ROC Curve\n",
    "y_pred_proba = model_lg.predict_proba(X)[::,1]\n",
    "\n",
    "fpr, tpr, _ = metrics.roc_curve(y, y_pred_proba)\n",
    "\n",
    "roc_auc = metrics.roc_auc_score(y, y_pred_proba)\n",
    "\n",
    "dict_default['Logistic_Regrression']['ROC_score'] = roc_auc\n",
    "\n",
    "plt.plot(fpr,tpr,label=\"ROC Curve area=\"+ str(roc_auc), color='red')\n",
    "plt.plot([0, 1], [0, 1], color='navy', linestyle='--')\n",
    "plt.xlabel('False Positive Rate (1-Specificity)')\n",
    "plt.ylabel('True Positive Rate (Sensitivity)')\n",
    "plt.title(f'ROC Curve: Logistic Regression Default')\n",
    "plt.legend(loc=\"lower right\")\n",
    "plt.show()"
   ]
  },
  {
   "cell_type": "markdown",
   "metadata": {},
   "source": [
    "Isn't so bad !!! "
   ]
  },
  {
   "cell_type": "markdown",
   "metadata": {},
   "source": [
    "### Precision, recall and F-measures\n",
    "\n",
    "Intuitively, precision is the ability of the classifier not to label as positive a sample that is negative, and recall is the ability of the classifier to find all the positive samples.\n",
    "\n",
    "The F-measure ($F_{\\beta}$ and $F_1$ measures) can be interpreted as a weighted harmonic mean of the precision and recall. A $F_{\\beta}$ measure reaches its best value at 1 and its worst score at 0. With , $\\beta = 1, F_{\\beta} and F_1$ are equivalent, and the recall and the precision are equally important.\n",
    "\n",
    "The *precision_recall_curve* computes a precision-recall curve from the ground truth label and a score given by the classifier by varying a decision threshold.\n",
    "\n",
    "The *verage_precision_score* function computes the average precision (AP) from prediction scores. The value is between 0 and 1 and higher is better. AP is defined as\n",
    "\n",
    "$$ AP = \\sum_{n} (R_n - R_{n-1}) x P_n $$\n",
    "where $ P_n and R_n$\n",
    " are the precision and recall at the nth threshold. With random predictions, the AP is the fraction of positive samples.\n",
    "\n",
    "References [Manning2008] and [Everingham2010] present alternative variants of AP that interpolate the precision-recall curve. Currently, average_precision_score does not implement any interpolated variant. References [Davis2006] and [Flach2015] describe why a linear interpolation of points on the precision-recall curve provides an overly-optimistic measure of classifier performance. This linear interpolation is used when computing area under the curve with the trapezoidal rule in auc."
   ]
  },
  {
   "cell_type": "code",
   "execution_count": 31,
   "metadata": {},
   "outputs": [
    {
     "data": {
      "text/plain": [
       "[<matplotlib.lines.Line2D at 0x1140fc68d60>]"
      ]
     },
     "execution_count": 31,
     "metadata": {},
     "output_type": "execute_result"
    },
    {
     "data": {
      "text/plain": [
       "[<matplotlib.lines.Line2D at 0x1140fc7d1f0>]"
      ]
     },
     "execution_count": 31,
     "metadata": {},
     "output_type": "execute_result"
    },
    {
     "data": {
      "text/plain": [
       "Text(0.5, 0, 'Recall')"
      ]
     },
     "execution_count": 31,
     "metadata": {},
     "output_type": "execute_result"
    },
    {
     "data": {
      "text/plain": [
       "Text(0, 0.5, 'Precision')"
      ]
     },
     "execution_count": 31,
     "metadata": {},
     "output_type": "execute_result"
    },
    {
     "data": {
      "text/plain": [
       "Text(0.5, 1.0, 'Precision-Recall Curve: Logistic Regression Default')"
      ]
     },
     "execution_count": 31,
     "metadata": {},
     "output_type": "execute_result"
    },
    {
     "data": {
      "text/plain": [
       "<matplotlib.legend.Legend at 0x1140fc68fa0>"
      ]
     },
     "execution_count": 31,
     "metadata": {},
     "output_type": "execute_result"
    },
    {
     "data": {
      "image/png": "[encoded data removed]",
      "text/plain": [
       "<Figure size 432x288 with 1 Axes>"
      ]
     },
     "metadata": {
      "needs_background": "light"
     },
     "output_type": "display_data"
    }
   ],
   "source": [
    "#Draw precision-recall curve\n",
    "y_pred_proba = model_lg.predict_proba(X)[::,1]\n",
    "precision, recall, _ = precision_recall_curve(y, y_pred_proba)\n",
    "f1 = metrics.f1_score(y, prediction_lg)\n",
    "auc = metrics.roc_auc_score(y, prediction_lg)\n",
    "plt.plot([0, 1], [0.5, 0.5], color='navy', linestyle='--', label = 'No Pred. Value')\n",
    "plt.plot(recall, precision, label='logit', color='red')\n",
    "plt.xlabel('Recall')\n",
    "plt.ylabel('Precision')\n",
    "plt.title('Precision-Recall Curve: Logistic Regression Default')\n",
    "plt.legend(loc=\"upper right\")\n",
    "plt.show()"
   ]
  },
  {
   "cell_type": "code",
   "execution_count": 32,
   "metadata": {},
   "outputs": [],
   "source": [
    "dict_default['Logistic_Regrression']['Accuracy_Score'] = metrics.accuracy_score(y, prediction_lg)\n",
    "dict_default['Logistic_Regrression']['Average_Precision_Score'] = metrics.average_precision_score(y, prediction_lg)\n",
    "dict_default['Logistic_Regrression']['F1_Score'] = metrics.f1_score(y, prediction_lg)\n",
    "dict_default['Logistic_Regrression']['Precision'] = metrics.precision_score(y, prediction_lg)\n",
    "dict_default['Logistic_Regrression']['Recall'] = metrics.recall_score(y, prediction_lg)"
   ]
  },
  {
   "cell_type": "code",
   "execution_count": 33,
   "metadata": {},
   "outputs": [
    {
     "data": {
      "text/plain": [
       "{'Logistic_Regrression': {'Accuracy_Score': 0.7452830188679245,\n",
       "  'Average_Precision_Score': 0.6816911250873515,\n",
       "  'Precision': 0.7407407407407407,\n",
       "  'Recall': 0.7547169811320755,\n",
       "  'F1_Score': 0.7476635514018692,\n",
       "  'ROC_score': 0.8401566393734425},\n",
       " 'Random_Forest': {'Accuracy_Score': [0],\n",
       "  'Average_Precision_Score': [0],\n",
       "  'Precision': [0],\n",
       "  'Recall': [0],\n",
       "  'F1_Score': [0],\n",
       "  'ROC_score': [0]},\n",
       " 'SVC': {'Accuracy_Score': [0],\n",
       "  'Average_Precision_Score': [0],\n",
       "  'Precision': [0],\n",
       "  'Recall': [0],\n",
       "  'F1_Score': [0],\n",
       "  'ROC_score': [0]}}"
      ]
     },
     "execution_count": 33,
     "metadata": {},
     "output_type": "execute_result"
    }
   ],
   "source": [
    "# save the results in the dictionary\n",
    "dict_default"
   ]
  },
  {
   "cell_type": "markdown",
   "metadata": {},
   "source": [
    "Now the code is repetitivly for other two models. If you want can switch directly to first evaluation of Default Models.\n",
    "    [Go to the first comparison](#COMPARISON)"
   ]
  },
  {
   "cell_type": "markdown",
   "metadata": {},
   "source": [
    "## \\$$ Random Forest $$\n",
    "\n",
    "Random forests or random decision forests are an ensemble learning method for classification, regression and other tasks that operate by constructing a multitude of decision trees at training time and outputting the class that is the mode of the classes (classification) or mean/average prediction (regression) of the individual trees.[1][2] Random decision forests correct for decision trees' habit of overfitting to their training set.:587–588 Random forests generally outperform decision trees, but their accuracy is lower than gradient boosted trees. However, data characteristics can affect their performance.\n",
    "\n",
    "The first algorithm for random decision forests was created by Tin Kam Ho using the random subspace method, which, in Ho's formulation, is a way to implement the \"stochastic discrimination\" approach to classification proposed by Eugene Kleinberg.\n",
    "\n",
    "An extension of the algorithm was developed by Leo Breiman and Adele Cutler, who registered \"Random Forests\" as a trademark (as of 2019, owned by Minitab, Inc.). The extension combines Breiman's \"bagging\" idea and random selection of features, introduced first by Ho and later independently by Amit and Geman in order to construct a collection of decision trees with controlled variance.\n",
    "\n",
    "Random forests are frequently used as \"blackbox\" models in businesses, as they generate reasonable predictions across a wide range of data while requiring little configuration in packages such as scikit-learn.\n",
    "\n",
    "[Scikit Learn Doc](https://scikit-learn.org/stable/modules/generated/sklearn.ensemble.RandomForestClassifier.html)"
   ]
  },
  {
   "cell_type": "code",
   "execution_count": 34,
   "metadata": {},
   "outputs": [
    {
     "name": "stdout",
     "output_type": "stream",
     "text": [
      "============================================================\n",
      "Accuracy_Score:          1.000\n",
      "Average_Precision_Score: 1.000\n",
      "F1 Score:                1.000\n",
      "Precision:               1.000\n",
      "Recall:                  1.000\n",
      "============================================================\n",
      "              precision    recall  f1-score   support\n",
      "\n",
      "           0       1.00      1.00      1.00        53\n",
      "           1       1.00      1.00      1.00        53\n",
      "\n",
      "    accuracy                           1.00       106\n",
      "   macro avg       1.00      1.00      1.00       106\n",
      "weighted avg       1.00      1.00      1.00       106\n",
      "\n",
      "============================================================\n"
     ]
    },
    {
     "data": {
      "text/plain": [
       "array([[53,  0],\n",
       "       [ 0, 53]], dtype=int64)"
      ]
     },
     "execution_count": 34,
     "metadata": {},
     "output_type": "execute_result"
    },
    {
     "data": {
      "text/html": [
       "<div>\n",
       "<style scoped>\n",
       "    .dataframe tbody tr th:only-of-type {\n",
       "        vertical-align: middle;\n",
       "    }\n",
       "\n",
       "    .dataframe tbody tr th {\n",
       "        vertical-align: top;\n",
       "    }\n",
       "\n",
       "    .dataframe thead th {\n",
       "        text-align: right;\n",
       "    }\n",
       "</style>\n",
       "<table border=\"1\" class=\"dataframe\">\n",
       "  <thead>\n",
       "    <tr style=\"text-align: right;\">\n",
       "      <th></th>\n",
       "      <th>predicted_Class+</th>\n",
       "      <th>predicted_Class-</th>\n",
       "    </tr>\n",
       "  </thead>\n",
       "  <tbody>\n",
       "    <tr>\n",
       "      <th>Class+</th>\n",
       "      <td>53</td>\n",
       "      <td>0</td>\n",
       "    </tr>\n",
       "    <tr>\n",
       "      <th>Class-</th>\n",
       "      <td>0</td>\n",
       "      <td>53</td>\n",
       "    </tr>\n",
       "  </tbody>\n",
       "</table>\n",
       "</div>"
      ],
      "text/plain": [
       "        predicted_Class+  predicted_Class-\n",
       "Class+                53                 0\n",
       "Class-                 0                53"
      ]
     },
     "execution_count": 34,
     "metadata": {},
     "output_type": "execute_result"
    },
    {
     "data": {
      "text/plain": [
       "[<matplotlib.lines.Line2D at 0x1140fd05820>]"
      ]
     },
     "execution_count": 34,
     "metadata": {},
     "output_type": "execute_result"
    },
    {
     "data": {
      "text/plain": [
       "[<matplotlib.lines.Line2D at 0x1140fd05c70>]"
      ]
     },
     "execution_count": 34,
     "metadata": {},
     "output_type": "execute_result"
    },
    {
     "data": {
      "text/plain": [
       "Text(0.5, 0, 'False Positive Rate (1-Specificity)')"
      ]
     },
     "execution_count": 34,
     "metadata": {},
     "output_type": "execute_result"
    },
    {
     "data": {
      "text/plain": [
       "Text(0, 0.5, 'True Positive Rate (Sensitivity)')"
      ]
     },
     "execution_count": 34,
     "metadata": {},
     "output_type": "execute_result"
    },
    {
     "data": {
      "text/plain": [
       "Text(0.5, 1.0, 'ROC Curve: Random Forest Default')"
      ]
     },
     "execution_count": 34,
     "metadata": {},
     "output_type": "execute_result"
    },
    {
     "data": {
      "text/plain": [
       "<matplotlib.legend.Legend at 0x1140fcbe820>"
      ]
     },
     "execution_count": 34,
     "metadata": {},
     "output_type": "execute_result"
    },
    {
     "data": {
      "image/png": "[encoded data removed]",
      "text/plain": [
       "<Figure size 432x288 with 1 Axes>"
      ]
     },
     "metadata": {
      "needs_background": "light"
     },
     "output_type": "display_data"
    },
    {
     "data": {
      "text/plain": [
       "[<matplotlib.lines.Line2D at 0x1140fd60f70>]"
      ]
     },
     "execution_count": 34,
     "metadata": {},
     "output_type": "execute_result"
    },
    {
     "data": {
      "text/plain": [
       "[<matplotlib.lines.Line2D at 0x1140fd6a400>]"
      ]
     },
     "execution_count": 34,
     "metadata": {},
     "output_type": "execute_result"
    },
    {
     "data": {
      "text/plain": [
       "Text(0.5, 0, 'Recall')"
      ]
     },
     "execution_count": 34,
     "metadata": {},
     "output_type": "execute_result"
    },
    {
     "data": {
      "text/plain": [
       "Text(0, 0.5, 'Precision')"
      ]
     },
     "execution_count": 34,
     "metadata": {},
     "output_type": "execute_result"
    },
    {
     "data": {
      "text/plain": [
       "Text(0.5, 1.0, 'Precision-Recall Curve: Random_Forest Default')"
      ]
     },
     "execution_count": 34,
     "metadata": {},
     "output_type": "execute_result"
    },
    {
     "data": {
      "text/plain": [
       "<matplotlib.legend.Legend at 0x1140fd6a6a0>"
      ]
     },
     "execution_count": 34,
     "metadata": {},
     "output_type": "execute_result"
    },
    {
     "data": {
      "image/png": "[encoded data removed]",
      "text/plain": [
       "<Figure size 432x288 with 1 Axes>"
      ]
     },
     "metadata": {
      "needs_background": "light"
     },
     "output_type": "display_data"
    }
   ],
   "source": [
    "# make a model\n",
    "model_rf = RandomForestClassifier().fit(X, y)\n",
    "\n",
    "# make a predicition\n",
    "prediction_rf = model_rf.predict(X)\n",
    "\n",
    "# make a predict probability\n",
    "probability_rf = model_rf.predict_proba(X)\n",
    "\n",
    "# call function main_metrics()\n",
    "print_main_metrics(y, prediction_rf, model_rf)\n",
    "\n",
    "#CONFUSION MATRIX:\n",
    "confusion_matrix(y, prediction_rf)\n",
    "#transform confusion matrix into array\n",
    "#the matrix is stored in a variable called confmtrx\n",
    "confmtrx = np.array(confusion_matrix(y, prediction_rf))\n",
    "pd.DataFrame(confmtrx, index=['Class+', 'Class-'],\n",
    "columns=['predicted_Class+', 'predicted_Class-'])\n",
    "\n",
    "#Draw ROC Curve\n",
    "y_pred_proba = model_rf.predict_proba(X)[::,1]\n",
    "\n",
    "fpr, tpr, _ = metrics.roc_curve(y,  y_pred_proba)\n",
    "\n",
    "roc_auc = metrics.roc_auc_score(y, y_pred_proba)\n",
    "\n",
    "dict_default['Random_Forest']['ROC_score'] = roc_auc\n",
    "\n",
    "plt.plot(fpr,tpr,label=\"ROC Curve area=\"+ str(roc_auc), color='red')\n",
    "plt.plot([0, 1], [0, 1], color='navy', linestyle='--')\n",
    "plt.xlabel('False Positive Rate (1-Specificity)')\n",
    "plt.ylabel('True Positive Rate (Sensitivity)')\n",
    "plt.title(f'ROC Curve: Random Forest Default')\n",
    "plt.legend(loc=\"lower right\")\n",
    "plt.show()\n",
    "\n",
    "#Draw precision-recall curve\n",
    "y_pred_proba = model_rf.predict_proba(X)[::,1]\n",
    "precision, recall, _ = precision_recall_curve(y, y_pred_proba)\n",
    "f1 = metrics.f1_score(y, prediction_rf)\n",
    "auc = metrics.roc_auc_score(y, prediction_rf)\n",
    "plt.plot([0, 1], [0.5, 0.5], color='navy', linestyle='--', label = 'No Pred. Value')\n",
    "plt.plot(recall, precision, label='logit', color='red')\n",
    "plt.xlabel('Recall')\n",
    "plt.ylabel('Precision')\n",
    "plt.title('Precision-Recall Curve: Random_Forest Default')\n",
    "plt.legend(loc=\"upper right\")\n",
    "plt.show()\n",
    "\n",
    "dict_default['Random_Forest']['Accuracy_Score'] = metrics.accuracy_score(y, prediction_rf)\n",
    "dict_default['Random_Forest']['Average_Precision_Score'] = metrics.average_precision_score(y, prediction_rf)\n",
    "dict_default['Random_Forest']['F1_Score'] = metrics.f1_score(y, prediction_rf)\n",
    "dict_default['Random_Forest']['Precision'] = metrics.precision_score(y, prediction_rf)\n",
    "dict_default['Random_Forest']['Recall'] = metrics.recall_score(y, prediction_rf)"
   ]
  },
  {
   "cell_type": "code",
   "execution_count": 35,
   "metadata": {},
   "outputs": [
    {
     "data": {
      "text/plain": [
       "{'Logistic_Regrression': {'Accuracy_Score': 0.7452830188679245,\n",
       "  'Average_Precision_Score': 0.6816911250873515,\n",
       "  'Precision': 0.7407407407407407,\n",
       "  'Recall': 0.7547169811320755,\n",
       "  'F1_Score': 0.7476635514018692,\n",
       "  'ROC_score': 0.8401566393734425},\n",
       " 'Random_Forest': {'Accuracy_Score': 1.0,\n",
       "  'Average_Precision_Score': 1.0,\n",
       "  'Precision': 1.0,\n",
       "  'Recall': 1.0,\n",
       "  'F1_Score': 1.0,\n",
       "  'ROC_score': 1.0},\n",
       " 'SVC': {'Accuracy_Score': [0],\n",
       "  'Average_Precision_Score': [0],\n",
       "  'Precision': [0],\n",
       "  'Recall': [0],\n",
       "  'F1_Score': [0],\n",
       "  'ROC_score': [0]}}"
      ]
     },
     "execution_count": 35,
     "metadata": {},
     "output_type": "execute_result"
    }
   ],
   "source": [
    "dict_default"
   ]
  },
  {
   "attachments": {
    "image.png": {
     "image/png": "[encoded data removed]"
    }
   },
   "cell_type": "markdown",
   "metadata": {},
   "source": [
    "## \\$$ SVM $$\n",
    "\n",
    "![image.png](attachment:image.png)\n",
    "\n",
    "Support vector machines (SVMs) are a set of supervised learning methods used for classification, regression and outliers detection.\n",
    "\n",
    "The advantages of support vector machines are:\n",
    "\n",
    "- Effective in high dimensional spaces.\n",
    "\n",
    "- Still effective in cases where number of dimensions is greater than the number of samples.\n",
    "\n",
    "U- ses a subset of training points in the decision function (called support vectors), so it is also memory efficient.\n",
    "\n",
    "- Versatile: different Kernel functions can be specified for the decision function. Common kernels are provided, but it is also possible to specify custom kernels.\n",
    "\n",
    "The disadvantages of support vector machines include:\n",
    "\n",
    "- If the number of features is much greater than the number of samples, avoid over-fitting in choosing Kernel functions and regularization term is crucial.\n",
    "\n",
    "- SVMs do not directly provide probability estimates, these are calculated using an expensive five-fold cross-validation (see Scores and probabilities, below).\n",
    "\n",
    "The support vector machines in scikit-learn support both dense (numpy.ndarray and convertible to that by numpy.asarray) and sparse (any scipy.sparse) sample vectors as input. However, to use an SVM to make predictions for sparse data, it must have been fit on such data. For optimal performance, use C-ordered numpy.ndarray (dense) or scipy.sparse.csr_matrix (sparse) with dtype=float64.\n",
    "\n",
    "[scikit leran doc](https://scikit-learn.org/stable/modules/svm.html)"
   ]
  },
  {
   "cell_type": "code",
   "execution_count": 36,
   "metadata": {},
   "outputs": [
    {
     "name": "stdout",
     "output_type": "stream",
     "text": [
      "============================================================\n",
      "Accuracy_Score:          0.943\n",
      "Average_Precision_Score: 0.905\n",
      "F1 Score:                0.945\n",
      "Precision:               0.912\n",
      "Recall:                  0.981\n",
      "============================================================\n",
      "              precision    recall  f1-score   support\n",
      "\n",
      "           0       0.98      0.91      0.94        53\n",
      "           1       0.91      0.98      0.95        53\n",
      "\n",
      "    accuracy                           0.94       106\n",
      "   macro avg       0.95      0.94      0.94       106\n",
      "weighted avg       0.95      0.94      0.94       106\n",
      "\n",
      "============================================================\n"
     ]
    },
    {
     "data": {
      "text/plain": [
       "array([[48,  5],\n",
       "       [ 1, 52]], dtype=int64)"
      ]
     },
     "execution_count": 36,
     "metadata": {},
     "output_type": "execute_result"
    },
    {
     "data": {
      "text/html": [
       "<div>\n",
       "<style scoped>\n",
       "    .dataframe tbody tr th:only-of-type {\n",
       "        vertical-align: middle;\n",
       "    }\n",
       "\n",
       "    .dataframe tbody tr th {\n",
       "        vertical-align: top;\n",
       "    }\n",
       "\n",
       "    .dataframe thead th {\n",
       "        text-align: right;\n",
       "    }\n",
       "</style>\n",
       "<table border=\"1\" class=\"dataframe\">\n",
       "  <thead>\n",
       "    <tr style=\"text-align: right;\">\n",
       "      <th></th>\n",
       "      <th>predicted_Class+</th>\n",
       "      <th>predicted_Class-</th>\n",
       "    </tr>\n",
       "  </thead>\n",
       "  <tbody>\n",
       "    <tr>\n",
       "      <th>Class+</th>\n",
       "      <td>48</td>\n",
       "      <td>5</td>\n",
       "    </tr>\n",
       "    <tr>\n",
       "      <th>Class-</th>\n",
       "      <td>1</td>\n",
       "      <td>52</td>\n",
       "    </tr>\n",
       "  </tbody>\n",
       "</table>\n",
       "</div>"
      ],
      "text/plain": [
       "        predicted_Class+  predicted_Class-\n",
       "Class+                48                 5\n",
       "Class-                 1                52"
      ]
     },
     "execution_count": 36,
     "metadata": {},
     "output_type": "execute_result"
    },
    {
     "data": {
      "text/plain": [
       "[<matplotlib.lines.Line2D at 0x11410da42e0>]"
      ]
     },
     "execution_count": 36,
     "metadata": {},
     "output_type": "execute_result"
    },
    {
     "data": {
      "text/plain": [
       "[<matplotlib.lines.Line2D at 0x11410da4700>]"
      ]
     },
     "execution_count": 36,
     "metadata": {},
     "output_type": "execute_result"
    },
    {
     "data": {
      "text/plain": [
       "Text(0.5, 0, 'False Positive Rate (1-Specificity)')"
      ]
     },
     "execution_count": 36,
     "metadata": {},
     "output_type": "execute_result"
    },
    {
     "data": {
      "text/plain": [
       "Text(0, 0.5, 'True Positive Rate (Sensitivity)')"
      ]
     },
     "execution_count": 36,
     "metadata": {},
     "output_type": "execute_result"
    },
    {
     "data": {
      "text/plain": [
       "Text(0.5, 1.0, 'ROC Curve: Random Forest Default')"
      ]
     },
     "execution_count": 36,
     "metadata": {},
     "output_type": "execute_result"
    },
    {
     "data": {
      "text/plain": [
       "<matplotlib.legend.Legend at 0x1140fdb4730>"
      ]
     },
     "execution_count": 36,
     "metadata": {},
     "output_type": "execute_result"
    },
    {
     "data": {
      "image/png": "[encoded data removed]",
      "text/plain": [
       "<Figure size 432x288 with 1 Axes>"
      ]
     },
     "metadata": {
      "needs_background": "light"
     },
     "output_type": "display_data"
    },
    {
     "data": {
      "text/plain": [
       "[<matplotlib.lines.Line2D at 0x11410dfc9d0>]"
      ]
     },
     "execution_count": 36,
     "metadata": {},
     "output_type": "execute_result"
    },
    {
     "data": {
      "text/plain": [
       "[<matplotlib.lines.Line2D at 0x11410dfce50>]"
      ]
     },
     "execution_count": 36,
     "metadata": {},
     "output_type": "execute_result"
    },
    {
     "data": {
      "text/plain": [
       "Text(0.5, 0, 'Recall')"
      ]
     },
     "execution_count": 36,
     "metadata": {},
     "output_type": "execute_result"
    },
    {
     "data": {
      "text/plain": [
       "Text(0, 0.5, 'Precision')"
      ]
     },
     "execution_count": 36,
     "metadata": {},
     "output_type": "execute_result"
    },
    {
     "data": {
      "text/plain": [
       "Text(0.5, 1.0, 'Precision-Recall Curve: SVC')"
      ]
     },
     "execution_count": 36,
     "metadata": {},
     "output_type": "execute_result"
    },
    {
     "data": {
      "text/plain": [
       "<matplotlib.legend.Legend at 0x11410dfcd30>"
      ]
     },
     "execution_count": 36,
     "metadata": {},
     "output_type": "execute_result"
    },
    {
     "data": {
      "image/png": "[encoded data removed]",
      "text/plain": [
       "<Figure size 432x288 with 1 Axes>"
      ]
     },
     "metadata": {
      "needs_background": "light"
     },
     "output_type": "display_data"
    }
   ],
   "source": [
    "# make a model\n",
    "model_svc = SVC(probability=True).fit(X, y)\n",
    "\n",
    "# make a predicition\n",
    "prediction_svc = model_svc.predict(X)\n",
    "\n",
    "# make a predict probability\n",
    "probability_svc = model_svc.predict_proba(X)\n",
    "\n",
    "# call function main_metrics()\n",
    "print_main_metrics(y, prediction_svc, model_svc)\n",
    "\n",
    "#CONFUSION MATRIX:\n",
    "confusion_matrix(y, prediction_svc)\n",
    "#transform confusion matrix into array\n",
    "#the matrix is stored in a variable called confmtrx\n",
    "confmtrx = np.array(confusion_matrix(y, prediction_svc))\n",
    "pd.DataFrame(confmtrx, index=['Class+', 'Class-'],\n",
    "columns=['predicted_Class+', 'predicted_Class-'])\n",
    "\n",
    "#Draw ROC Curve\n",
    "y_pred_proba = model_svc.predict_proba(X)[::,1]\n",
    "\n",
    "fpr, tpr, _ = metrics.roc_curve(y,  y_pred_proba)\n",
    "\n",
    "roc_auc = metrics.roc_auc_score(y, y_pred_proba)\n",
    "\n",
    "dict_default['SVC']['ROC_score'] = roc_auc\n",
    "\n",
    "plt.plot(fpr,tpr,label=\"ROC Curve area=\"+ str(roc_auc), color='red')\n",
    "plt.plot([0, 1], [0, 1], color='navy', linestyle='--')\n",
    "plt.xlabel('False Positive Rate (1-Specificity)')\n",
    "plt.ylabel('True Positive Rate (Sensitivity)')\n",
    "plt.title(f'ROC Curve: Random Forest Default')\n",
    "plt.legend(loc=\"lower right\")\n",
    "plt.show()\n",
    "\n",
    "#Draw precision-recall curve\n",
    "y_pred_proba = model_svc.predict_proba(X)[::,1]\n",
    "precision, recall, _ = precision_recall_curve(y, y_pred_proba)\n",
    "f1 = metrics.f1_score(y, prediction_svc)\n",
    "auc = metrics.roc_auc_score(y, prediction_svc)\n",
    "plt.plot([0, 1], [0.5, 0.5], color='navy', linestyle='--', label = 'No Pred. Value')\n",
    "plt.plot(recall, precision, label='logit', color='red')\n",
    "plt.xlabel('Recall')\n",
    "plt.ylabel('Precision')\n",
    "plt.title('Precision-Recall Curve: SVC')\n",
    "plt.legend(loc=\"upper right\")\n",
    "plt.show()\n",
    "\n",
    "dict_default['SVC']['Accuracy_Score'] = metrics.accuracy_score(y, prediction_svc)\n",
    "dict_default['SVC']['Average_Precision_Score'] = metrics.average_precision_score(y, prediction_svc)\n",
    "dict_default['SVC']['F1_Score'] = metrics.f1_score(y, prediction_svc)\n",
    "dict_default['SVC']['Precision'] = metrics.precision_score(y, prediction_svc)\n",
    "dict_default['SVC']['Recall'] = metrics.recall_score(y, prediction_svc)"
   ]
  },
  {
   "cell_type": "code",
   "execution_count": 37,
   "metadata": {},
   "outputs": [
    {
     "data": {
      "text/plain": [
       "{'Logistic_Regrression': {'Accuracy_Score': 0.7452830188679245,\n",
       "  'Average_Precision_Score': 0.6816911250873515,\n",
       "  'Precision': 0.7407407407407407,\n",
       "  'Recall': 0.7547169811320755,\n",
       "  'F1_Score': 0.7476635514018692,\n",
       "  'ROC_score': 0.8401566393734425},\n",
       " 'Random_Forest': {'Accuracy_Score': 1.0,\n",
       "  'Average_Precision_Score': 1.0,\n",
       "  'Precision': 1.0,\n",
       "  'Recall': 1.0,\n",
       "  'F1_Score': 1.0,\n",
       "  'ROC_score': 1.0},\n",
       " 'SVC': {'Accuracy_Score': 0.9433962264150944,\n",
       "  'Average_Precision_Score': 0.9045018205892088,\n",
       "  'Precision': 0.9122807017543859,\n",
       "  'Recall': 0.9811320754716981,\n",
       "  'F1_Score': 0.9454545454545454,\n",
       "  'ROC_score': 0.9934140263438946}}"
      ]
     },
     "execution_count": 37,
     "metadata": {},
     "output_type": "execute_result"
    }
   ],
   "source": [
    "dict_default"
   ]
  },
  {
   "cell_type": "markdown",
   "metadata": {},
   "source": [
    "## COMPARISON \n",
    "\n",
    "<a id= \"COMPARISON\"></a>\n",
    "\n",
    "We can put all three *ROC curves* together, to assess visivavmente, which model performs well."
   ]
  },
  {
   "cell_type": "code",
   "execution_count": 38,
   "metadata": {},
   "outputs": [
    {
     "data": {
      "text/plain": [
       "Text(0.5, 0.98, 'ROC curve comparison')"
      ]
     },
     "execution_count": 38,
     "metadata": {},
     "output_type": "execute_result"
    },
    {
     "data": {
      "image/png": "[encoded data removed]",
      "text/plain": [
       "<Figure size 432x288 with 1 Axes>"
      ]
     },
     "metadata": {
      "needs_background": "light"
     },
     "output_type": "display_data"
    }
   ],
   "source": [
    "svc_disp = plot_roc_curve(model_svc, X, y)\n",
    "rfc_disp = plot_roc_curve(model_rf, X, y, ax=svc_disp.ax_)\n",
    "lg_disp = plot_roc_curve(model_lg, X, y, ax=svc_disp.ax_)\n",
    "\n",
    "rfc_disp.figure_.suptitle(\"ROC curve comparison\")\n",
    "plt.show()"
   ]
  },
  {
   "cell_type": "code",
   "execution_count": 39,
   "metadata": {},
   "outputs": [],
   "source": [
    "#######################################################################"
   ]
  },
  {
   "cell_type": "markdown",
   "metadata": {},
   "source": [
    "Now let's put all the data on it"
   ]
  },
  {
   "cell_type": "code",
   "execution_count": 40,
   "metadata": {},
   "outputs": [
    {
     "data": {
      "text/plain": [
       "<AxesSubplot:ylabel='Accuracy_Score'>"
      ]
     },
     "execution_count": 40,
     "metadata": {},
     "output_type": "execute_result"
    },
    {
     "data": {
      "text/html": [
       "<div>\n",
       "<style scoped>\n",
       "    .dataframe tbody tr th:only-of-type {\n",
       "        vertical-align: middle;\n",
       "    }\n",
       "\n",
       "    .dataframe tbody tr th {\n",
       "        vertical-align: top;\n",
       "    }\n",
       "\n",
       "    .dataframe thead th {\n",
       "        text-align: right;\n",
       "    }\n",
       "</style>\n",
       "<table border=\"1\" class=\"dataframe\">\n",
       "  <thead>\n",
       "    <tr style=\"text-align: right;\">\n",
       "      <th></th>\n",
       "      <th>Accuracy_Score</th>\n",
       "      <th>Average_Precision_Score</th>\n",
       "      <th>Precision</th>\n",
       "      <th>Recall</th>\n",
       "      <th>F1_Score</th>\n",
       "      <th>ROC_score</th>\n",
       "    </tr>\n",
       "  </thead>\n",
       "  <tbody>\n",
       "    <tr>\n",
       "      <th>Logistic_Regrression</th>\n",
       "      <td>0.745283</td>\n",
       "      <td>0.681691</td>\n",
       "      <td>0.740741</td>\n",
       "      <td>0.754717</td>\n",
       "      <td>0.747664</td>\n",
       "      <td>0.840157</td>\n",
       "    </tr>\n",
       "    <tr>\n",
       "      <th>Random_Forest</th>\n",
       "      <td>1.000000</td>\n",
       "      <td>1.000000</td>\n",
       "      <td>1.000000</td>\n",
       "      <td>1.000000</td>\n",
       "      <td>1.000000</td>\n",
       "      <td>1.000000</td>\n",
       "    </tr>\n",
       "    <tr>\n",
       "      <th>SVC</th>\n",
       "      <td>0.943396</td>\n",
       "      <td>0.904502</td>\n",
       "      <td>0.912281</td>\n",
       "      <td>0.981132</td>\n",
       "      <td>0.945455</td>\n",
       "      <td>0.993414</td>\n",
       "    </tr>\n",
       "  </tbody>\n",
       "</table>\n",
       "</div>"
      ],
      "text/plain": [
       "                      Accuracy_Score  Average_Precision_Score  Precision  \\\n",
       "Logistic_Regrression        0.745283                 0.681691   0.740741   \n",
       "Random_Forest               1.000000                 1.000000   1.000000   \n",
       "SVC                         0.943396                 0.904502   0.912281   \n",
       "\n",
       "                        Recall  F1_Score  ROC_score  \n",
       "Logistic_Regrression  0.754717  0.747664   0.840157  \n",
       "Random_Forest         1.000000  1.000000   1.000000  \n",
       "SVC                   0.981132  0.945455   0.993414  "
      ]
     },
     "execution_count": 40,
     "metadata": {},
     "output_type": "execute_result"
    },
    {
     "data": {
      "image/png": "[encoded data removed]",
      "text/plain": [
       "<Figure size 432x288 with 1 Axes>"
      ]
     },
     "metadata": {
      "needs_background": "light"
     },
     "output_type": "display_data"
    }
   ],
   "source": [
    "df_default_value = pd.DataFrame.from_dict(dict_default, orient = \"index\")\n",
    "columns = list(df_default_value.columns)\n",
    "\n",
    "sns.barplot(x = df_default_value.index,     y = df_default_value.Accuracy_Score)\n",
    "df_default_value"
   ]
  },
  {
   "cell_type": "markdown",
   "metadata": {},
   "source": [
    "### Evaluate the results:\n",
    "\n",
    "**Accuracy**: \n",
    "    - worst performer is Logistic Regression. \n",
    "    - best performer is Random Forest\n",
    "    \n",
    "**Precision**: .\n",
    "    - worst performer is Logistic Regression. \n",
    "    - best performer is Random Forest\n",
    "    \n",
    "**Recall**: \n",
    "    - This is strange all model show the same worst result.\n",
    "    \n",
    "**F1 Score**:\n",
    "    - worst performer is Logistic Regression. \n",
    "    - best performer is Random Forest\n",
    "\n",
    "**ROC Score**: \n",
    "- worst performer is Logistic Regression. \n",
    "- best performer is Random Forest\n",
    "\n",
    "====================================================\n",
    "\n",
    "**Finaly:**\n",
    "- the best performer is **Random Forest**\n",
    "- the forst performer is '**Logistic Regression**"
   ]
  },
  {
   "cell_type": "markdown",
   "metadata": {},
   "source": [
    "I think it's a bit strange, that the models perform so well, without any kind of processing. Random Forest even gives 100% results. It would be very stressful if it was that easy. Now let's see what it is sucee if we try to tune our models a little.\n",
    "\n",
    "\n",
    "\n",
    "\n",
    "\n",
    "\n",
    "\n"
   ]
  },
  {
   "cell_type": "markdown",
   "metadata": {},
   "source": [
    "# \\$$ {FINE} $$ $$ {TUNING} $$"
   ]
  },
  {
   "attachments": {
    "image.png": {
     "image/png": "[encoded data removed]"
    }
   },
   "cell_type": "markdown",
   "metadata": {},
   "source": [
    "Learning the parameters of a prediction function and testing it on the same data is a methodological mistake: a model that would just repeat the labels of the samples that it has just seen would have a perfect score but would fail to predict anything useful on yet-unseen data. This situation is called overfitting. To avoid it, it is common practice when performing a (supervised) machine learning experiment to hold out part of the available data as a test set X_test, y_test. Note that the word “experiment” is not intended to denote academic use only, because even in commercial settings machine learning usually starts out experimentally. Here is a flowchart of typical cross validation workflow in model training. The best parameters can be determined by grid search techniques.\n",
    "\n",
    "![image.png](attachment:image.png)\n",
    "\n",
    "\n",
    "In scikit-learn a random split into training and test sets can be quickly computed with the train_test_split helper function"
   ]
  },
  {
   "cell_type": "code",
   "execution_count": 41,
   "metadata": {},
   "outputs": [
    {
     "name": "stdout",
     "output_type": "stream",
     "text": [
      "X_train shape: (79, 19)\n",
      "X_test shape: (27, 19)\n",
      "y_train shape: (79,)\n",
      "y_test shape: (27,)\n"
     ]
    }
   ],
   "source": [
    "X_train, X_test, y_train, y_test = train_test_split(X, y, test_size = 0.25, \n",
    "                                                    random_state = 42, \n",
    "                                                    shuffle = True)\n",
    "\n",
    "\n",
    "print(\"X_train shape:\",X_train.shape)\n",
    "print(\"X_test shape:\",X_test.shape)\n",
    "print(\"y_train shape:\",y_train.shape)\n",
    "print(\"y_test shape:\",y_test.shape)"
   ]
  },
  {
   "cell_type": "markdown",
   "metadata": {},
   "source": [
    "Now we train our date using `X_train` and `y_train` and finally, we test it on `X_test` and `y_test`."
   ]
  },
  {
   "cell_type": "markdown",
   "metadata": {},
   "source": [
    "## Logistic Regression Fine Tuning"
   ]
  },
  {
   "cell_type": "markdown",
   "metadata": {},
   "source": [
    "Funtion Logisti Regression have this hyperparameters:\n",
    "```\n",
    "LogisticRegression(penalty='l2',*,dual=False,tol=0.0001,\n",
    "          C=1.0,fit_intercept=True,intercept_scaling=1,class_weight=None,\n",
    "          random_state=None,solver='lbfgs',max_iter=100,multi_class='auto',\n",
    "          verbose=0,warm_start=False,\n",
    "          n_jobs=None,l1_ratio=None,)\n",
    "```\n",
    "\n",
    "I will tune:\n",
    "- **C:** Inverse of regularization strength; must be a positive float. Like in support vector machines, smaller values specify stronger regularization. \n",
    "- **penality:** penalty{‘l1’, ‘l2’, ‘elasticnet’, ‘none’}, default=’l2’ Used to specify the norm used in the penalization. The ‘newton-cg’, ‘sag’ and ‘lbfgs’ solvers support only l2 penalties. ‘elasticnet’ is only supported by the ‘saga’ solver. If ‘none’ (not supported by the liblinear solver), no regularization is applied.\n",
    "- **intercept scaling:** Useful only when the solver ‘liblinear’ is used and self.fit_intercept is set to True. In this case, x becomes [x, self.intercept_scaling], i.e. a “synthetic” feature with constant value equal to intercept_scaling is appended to the instance vector. The intercept becomes intercept_scaling * synthetic_feature_weight.\n",
    "\n",
    "Note! the synthetic feature weight is subject to l1/l2 regularization as all other features. To lessen the effect of regularization on synthetic feature weight (and therefore on the intercept) intercept_scaling has to be increased."
   ]
  },
  {
   "cell_type": "code",
   "execution_count": 42,
   "metadata": {},
   "outputs": [],
   "source": [
    "# LogisticRegression() \n",
    "grid_lg = {'C': [0.001, 0.01, 0.1, 1,10,100,1000, 10000, 100000, 1000000],\n",
    "           'penalty': ['l1', 'l2'],\n",
    "          'intercept_scaling': [1, 2, 3]}"
   ]
  },
  {
   "cell_type": "code",
   "execution_count": 43,
   "metadata": {},
   "outputs": [
    {
     "name": "stderr",
     "output_type": "stream",
     "text": [
      "C:\\Users\\UTENTE\\anaconda3\\lib\\site-packages\\sklearn\\model_selection\\_validation.py:548: FitFailedWarning: Estimator fit failed. The score on this train-test partition for these parameters will be set to nan. Details: \n",
      "Traceback (most recent call last):\n",
      "  File \"C:\\Users\\UTENTE\\anaconda3\\lib\\site-packages\\sklearn\\model_selection\\_validation.py\", line 531, in _fit_and_score\n",
      "    estimator.fit(X_train, y_train, **fit_params)\n",
      "  File \"C:\\Users\\UTENTE\\anaconda3\\lib\\site-packages\\sklearn\\linear_model\\_logistic.py\", line 1304, in fit\n",
      "    solver = _check_solver(self.solver, self.penalty, self.dual)\n",
      "  File \"C:\\Users\\UTENTE\\anaconda3\\lib\\site-packages\\sklearn\\linear_model\\_logistic.py\", line 442, in _check_solver\n",
      "    raise ValueError(\"Solver %s supports only 'l2' or 'none' penalties, \"\n",
      "ValueError: Solver lbfgs supports only 'l2' or 'none' penalties, got l1 penalty.\n",
      "\n",
      "  warnings.warn(\"Estimator fit failed. The score on this train-test\"\n",
      "C:\\Users\\UTENTE\\anaconda3\\lib\\site-packages\\sklearn\\model_selection\\_validation.py:548: FitFailedWarning: Estimator fit failed. The score on this train-test partition for these parameters will be set to nan. Details: \n",
      "Traceback (most recent call last):\n",
      "  File \"C:\\Users\\UTENTE\\anaconda3\\lib\\site-packages\\sklearn\\model_selection\\_validation.py\", line 531, in _fit_and_score\n",
      "    estimator.fit(X_train, y_train, **fit_params)\n",
      "  File \"C:\\Users\\UTENTE\\anaconda3\\lib\\site-packages\\sklearn\\linear_model\\_logistic.py\", line 1304, in fit\n",
      "    solver = _check_solver(self.solver, self.penalty, self.dual)\n",
      "  File \"C:\\Users\\UTENTE\\anaconda3\\lib\\site-packages\\sklearn\\linear_model\\_logistic.py\", line 442, in _check_solver\n",
      "    raise ValueError(\"Solver %s supports only 'l2' or 'none' penalties, \"\n",
      "ValueError: Solver lbfgs supports only 'l2' or 'none' penalties, got l1 penalty.\n",
      "\n",
      "  warnings.warn(\"Estimator fit failed. The score on this train-test\"\n",
      "C:\\Users\\UTENTE\\anaconda3\\lib\\site-packages\\sklearn\\model_selection\\_validation.py:548: FitFailedWarning: Estimator fit failed. The score on this train-test partition for these parameters will be set to nan. Details: \n",
      "Traceback (most recent call last):\n",
      "  File \"C:\\Users\\UTENTE\\anaconda3\\lib\\site-packages\\sklearn\\model_selection\\_validation.py\", line 531, in _fit_and_score\n",
      "    estimator.fit(X_train, y_train, **fit_params)\n",
      "  File \"C:\\Users\\UTENTE\\anaconda3\\lib\\site-packages\\sklearn\\linear_model\\_logistic.py\", line 1304, in fit\n",
      "    solver = _check_solver(self.solver, self.penalty, self.dual)\n",
      "  File \"C:\\Users\\UTENTE\\anaconda3\\lib\\site-packages\\sklearn\\linear_model\\_logistic.py\", line 442, in _check_solver\n",
      "    raise ValueError(\"Solver %s supports only 'l2' or 'none' penalties, \"\n",
      "ValueError: Solver lbfgs supports only 'l2' or 'none' penalties, got l1 penalty.\n",
      "\n",
      "  warnings.warn(\"Estimator fit failed. The score on this train-test\"\n",
      "C:\\Users\\UTENTE\\anaconda3\\lib\\site-packages\\sklearn\\model_selection\\_validation.py:548: FitFailedWarning: Estimator fit failed. The score on this train-test partition for these parameters will be set to nan. Details: \n",
      "Traceback (most recent call last):\n",
      "  File \"C:\\Users\\UTENTE\\anaconda3\\lib\\site-packages\\sklearn\\model_selection\\_validation.py\", line 531, in _fit_and_score\n",
      "    estimator.fit(X_train, y_train, **fit_params)\n",
      "  File \"C:\\Users\\UTENTE\\anaconda3\\lib\\site-packages\\sklearn\\linear_model\\_logistic.py\", line 1304, in fit\n",
      "    solver = _check_solver(self.solver, self.penalty, self.dual)\n",
      "  File \"C:\\Users\\UTENTE\\anaconda3\\lib\\site-packages\\sklearn\\linear_model\\_logistic.py\", line 442, in _check_solver\n",
      "    raise ValueError(\"Solver %s supports only 'l2' or 'none' penalties, \"\n",
      "ValueError: Solver lbfgs supports only 'l2' or 'none' penalties, got l1 penalty.\n",
      "\n",
      "  warnings.warn(\"Estimator fit failed. The score on this train-test\"\n",
      "C:\\Users\\UTENTE\\anaconda3\\lib\\site-packages\\sklearn\\model_selection\\_validation.py:548: FitFailedWarning: Estimator fit failed. The score on this train-test partition for these parameters will be set to nan. Details: \n",
      "Traceback (most recent call last):\n",
      "  File \"C:\\Users\\UTENTE\\anaconda3\\lib\\site-packages\\sklearn\\model_selection\\_validation.py\", line 531, in _fit_and_score\n",
      "    estimator.fit(X_train, y_train, **fit_params)\n",
      "  File \"C:\\Users\\UTENTE\\anaconda3\\lib\\site-packages\\sklearn\\linear_model\\_logistic.py\", line 1304, in fit\n",
      "    solver = _check_solver(self.solver, self.penalty, self.dual)\n",
      "  File \"C:\\Users\\UTENTE\\anaconda3\\lib\\site-packages\\sklearn\\linear_model\\_logistic.py\", line 442, in _check_solver\n",
      "    raise ValueError(\"Solver %s supports only 'l2' or 'none' penalties, \"\n",
      "ValueError: Solver lbfgs supports only 'l2' or 'none' penalties, got l1 penalty.\n",
      "\n",
      "  warnings.warn(\"Estimator fit failed. The score on this train-test\"\n",
      "C:\\Users\\UTENTE\\anaconda3\\lib\\site-packages\\sklearn\\model_selection\\_validation.py:548: FitFailedWarning: Estimator fit failed. The score on this train-test partition for these parameters will be set to nan. Details: \n",
      "Traceback (most recent call last):\n",
      "  File \"C:\\Users\\UTENTE\\anaconda3\\lib\\site-packages\\sklearn\\model_selection\\_validation.py\", line 531, in _fit_and_score\n",
      "    estimator.fit(X_train, y_train, **fit_params)\n",
      "  File \"C:\\Users\\UTENTE\\anaconda3\\lib\\site-packages\\sklearn\\linear_model\\_logistic.py\", line 1304, in fit\n",
      "    solver = _check_solver(self.solver, self.penalty, self.dual)\n",
      "  File \"C:\\Users\\UTENTE\\anaconda3\\lib\\site-packages\\sklearn\\linear_model\\_logistic.py\", line 442, in _check_solver\n",
      "    raise ValueError(\"Solver %s supports only 'l2' or 'none' penalties, \"\n",
      "ValueError: Solver lbfgs supports only 'l2' or 'none' penalties, got l1 penalty.\n",
      "\n",
      "  warnings.warn(\"Estimator fit failed. The score on this train-test\"\n",
      "C:\\Users\\UTENTE\\anaconda3\\lib\\site-packages\\sklearn\\model_selection\\_validation.py:548: FitFailedWarning: Estimator fit failed. The score on this train-test partition for these parameters will be set to nan. Details: \n",
      "Traceback (most recent call last):\n",
      "  File \"C:\\Users\\UTENTE\\anaconda3\\lib\\site-packages\\sklearn\\model_selection\\_validation.py\", line 531, in _fit_and_score\n",
      "    estimator.fit(X_train, y_train, **fit_params)\n",
      "  File \"C:\\Users\\UTENTE\\anaconda3\\lib\\site-packages\\sklearn\\linear_model\\_logistic.py\", line 1304, in fit\n",
      "    solver = _check_solver(self.solver, self.penalty, self.dual)\n",
      "  File \"C:\\Users\\UTENTE\\anaconda3\\lib\\site-packages\\sklearn\\linear_model\\_logistic.py\", line 442, in _check_solver\n",
      "    raise ValueError(\"Solver %s supports only 'l2' or 'none' penalties, \"\n",
      "ValueError: Solver lbfgs supports only 'l2' or 'none' penalties, got l1 penalty.\n",
      "\n",
      "  warnings.warn(\"Estimator fit failed. The score on this train-test\"\n",
      "C:\\Users\\UTENTE\\anaconda3\\lib\\site-packages\\sklearn\\model_selection\\_validation.py:548: FitFailedWarning: Estimator fit failed. The score on this train-test partition for these parameters will be set to nan. Details: \n",
      "Traceback (most recent call last):\n",
      "  File \"C:\\Users\\UTENTE\\anaconda3\\lib\\site-packages\\sklearn\\model_selection\\_validation.py\", line 531, in _fit_and_score\n",
      "    estimator.fit(X_train, y_train, **fit_params)\n",
      "  File \"C:\\Users\\UTENTE\\anaconda3\\lib\\site-packages\\sklearn\\linear_model\\_logistic.py\", line 1304, in fit\n",
      "    solver = _check_solver(self.solver, self.penalty, self.dual)\n",
      "  File \"C:\\Users\\UTENTE\\anaconda3\\lib\\site-packages\\sklearn\\linear_model\\_logistic.py\", line 442, in _check_solver\n",
      "    raise ValueError(\"Solver %s supports only 'l2' or 'none' penalties, \"\n",
      "ValueError: Solver lbfgs supports only 'l2' or 'none' penalties, got l1 penalty.\n",
      "\n",
      "  warnings.warn(\"Estimator fit failed. The score on this train-test\"\n",
      "C:\\Users\\UTENTE\\anaconda3\\lib\\site-packages\\sklearn\\model_selection\\_validation.py:548: FitFailedWarning: Estimator fit failed. The score on this train-test partition for these parameters will be set to nan. Details: \n",
      "Traceback (most recent call last):\n",
      "  File \"C:\\Users\\UTENTE\\anaconda3\\lib\\site-packages\\sklearn\\model_selection\\_validation.py\", line 531, in _fit_and_score\n",
      "    estimator.fit(X_train, y_train, **fit_params)\n",
      "  File \"C:\\Users\\UTENTE\\anaconda3\\lib\\site-packages\\sklearn\\linear_model\\_logistic.py\", line 1304, in fit\n",
      "    solver = _check_solver(self.solver, self.penalty, self.dual)\n",
      "  File \"C:\\Users\\UTENTE\\anaconda3\\lib\\site-packages\\sklearn\\linear_model\\_logistic.py\", line 442, in _check_solver\n",
      "    raise ValueError(\"Solver %s supports only 'l2' or 'none' penalties, \"\n",
      "ValueError: Solver lbfgs supports only 'l2' or 'none' penalties, got l1 penalty.\n",
      "\n",
      "  warnings.warn(\"Estimator fit failed. The score on this train-test\"\n",
      "C:\\Users\\UTENTE\\anaconda3\\lib\\site-packages\\sklearn\\model_selection\\_validation.py:548: FitFailedWarning: Estimator fit failed. The score on this train-test partition for these parameters will be set to nan. Details: \n",
      "Traceback (most recent call last):\n",
      "  File \"C:\\Users\\UTENTE\\anaconda3\\lib\\site-packages\\sklearn\\model_selection\\_validation.py\", line 531, in _fit_and_score\n",
      "    estimator.fit(X_train, y_train, **fit_params)\n",
      "  File \"C:\\Users\\UTENTE\\anaconda3\\lib\\site-packages\\sklearn\\linear_model\\_logistic.py\", line 1304, in fit\n",
      "    solver = _check_solver(self.solver, self.penalty, self.dual)\n",
      "  File \"C:\\Users\\UTENTE\\anaconda3\\lib\\site-packages\\sklearn\\linear_model\\_logistic.py\", line 442, in _check_solver\n",
      "    raise ValueError(\"Solver %s supports only 'l2' or 'none' penalties, \"\n",
      "ValueError: Solver lbfgs supports only 'l2' or 'none' penalties, got l1 penalty.\n",
      "\n",
      "  warnings.warn(\"Estimator fit failed. The score on this train-test\"\n",
      "C:\\Users\\UTENTE\\anaconda3\\lib\\site-packages\\sklearn\\model_selection\\_validation.py:548: FitFailedWarning: Estimator fit failed. The score on this train-test partition for these parameters will be set to nan. Details: \n",
      "Traceback (most recent call last):\n",
      "  File \"C:\\Users\\UTENTE\\anaconda3\\lib\\site-packages\\sklearn\\model_selection\\_validation.py\", line 531, in _fit_and_score\n",
      "    estimator.fit(X_train, y_train, **fit_params)\n",
      "  File \"C:\\Users\\UTENTE\\anaconda3\\lib\\site-packages\\sklearn\\linear_model\\_logistic.py\", line 1304, in fit\n",
      "    solver = _check_solver(self.solver, self.penalty, self.dual)\n",
      "  File \"C:\\Users\\UTENTE\\anaconda3\\lib\\site-packages\\sklearn\\linear_model\\_logistic.py\", line 442, in _check_solver\n",
      "    raise ValueError(\"Solver %s supports only 'l2' or 'none' penalties, \"\n",
      "ValueError: Solver lbfgs supports only 'l2' or 'none' penalties, got l1 penalty.\n",
      "\n",
      "  warnings.warn(\"Estimator fit failed. The score on this train-test\"\n",
      "C:\\Users\\UTENTE\\anaconda3\\lib\\site-packages\\sklearn\\model_selection\\_validation.py:548: FitFailedWarning: Estimator fit failed. The score on this train-test partition for these parameters will be set to nan. Details: \n",
      "Traceback (most recent call last):\n",
      "  File \"C:\\Users\\UTENTE\\anaconda3\\lib\\site-packages\\sklearn\\model_selection\\_validation.py\", line 531, in _fit_and_score\n",
      "    estimator.fit(X_train, y_train, **fit_params)\n",
      "  File \"C:\\Users\\UTENTE\\anaconda3\\lib\\site-packages\\sklearn\\linear_model\\_logistic.py\", line 1304, in fit\n",
      "    solver = _check_solver(self.solver, self.penalty, self.dual)\n",
      "  File \"C:\\Users\\UTENTE\\anaconda3\\lib\\site-packages\\sklearn\\linear_model\\_logistic.py\", line 442, in _check_solver\n",
      "    raise ValueError(\"Solver %s supports only 'l2' or 'none' penalties, \"\n",
      "ValueError: Solver lbfgs supports only 'l2' or 'none' penalties, got l1 penalty.\n",
      "\n",
      "  warnings.warn(\"Estimator fit failed. The score on this train-test\"\n"
     ]
    },
    {
     "name": "stderr",
     "output_type": "stream",
     "text": [
      "C:\\Users\\UTENTE\\anaconda3\\lib\\site-packages\\sklearn\\model_selection\\_validation.py:548: FitFailedWarning: Estimator fit failed. The score on this train-test partition for these parameters will be set to nan. Details: \n",
      "Traceback (most recent call last):\n",
      "  File \"C:\\Users\\UTENTE\\anaconda3\\lib\\site-packages\\sklearn\\model_selection\\_validation.py\", line 531, in _fit_and_score\n",
      "    estimator.fit(X_train, y_train, **fit_params)\n",
      "  File \"C:\\Users\\UTENTE\\anaconda3\\lib\\site-packages\\sklearn\\linear_model\\_logistic.py\", line 1304, in fit\n",
      "    solver = _check_solver(self.solver, self.penalty, self.dual)\n",
      "  File \"C:\\Users\\UTENTE\\anaconda3\\lib\\site-packages\\sklearn\\linear_model\\_logistic.py\", line 442, in _check_solver\n",
      "    raise ValueError(\"Solver %s supports only 'l2' or 'none' penalties, \"\n",
      "ValueError: Solver lbfgs supports only 'l2' or 'none' penalties, got l1 penalty.\n",
      "\n",
      "  warnings.warn(\"Estimator fit failed. The score on this train-test\"\n",
      "C:\\Users\\UTENTE\\anaconda3\\lib\\site-packages\\sklearn\\linear_model\\_logistic.py:762: ConvergenceWarning: lbfgs failed to converge (status=1):\n",
      "STOP: TOTAL NO. of ITERATIONS REACHED LIMIT.\n",
      "\n",
      "Increase the number of iterations (max_iter) or scale the data as shown in:\n",
      "    https://scikit-learn.org/stable/modules/preprocessing.html\n",
      "Please also refer to the documentation for alternative solver options:\n",
      "    https://scikit-learn.org/stable/modules/linear_model.html#logistic-regression\n",
      "  n_iter_i = _check_optimize_result(\n",
      "C:\\Users\\UTENTE\\anaconda3\\lib\\site-packages\\sklearn\\linear_model\\_logistic.py:762: ConvergenceWarning: lbfgs failed to converge (status=1):\n",
      "STOP: TOTAL NO. of ITERATIONS REACHED LIMIT.\n",
      "\n",
      "Increase the number of iterations (max_iter) or scale the data as shown in:\n",
      "    https://scikit-learn.org/stable/modules/preprocessing.html\n",
      "Please also refer to the documentation for alternative solver options:\n",
      "    https://scikit-learn.org/stable/modules/linear_model.html#logistic-regression\n",
      "  n_iter_i = _check_optimize_result(\n",
      "C:\\Users\\UTENTE\\anaconda3\\lib\\site-packages\\sklearn\\model_selection\\_validation.py:548: FitFailedWarning: Estimator fit failed. The score on this train-test partition for these parameters will be set to nan. Details: \n",
      "Traceback (most recent call last):\n",
      "  File \"C:\\Users\\UTENTE\\anaconda3\\lib\\site-packages\\sklearn\\model_selection\\_validation.py\", line 531, in _fit_and_score\n",
      "    estimator.fit(X_train, y_train, **fit_params)\n",
      "  File \"C:\\Users\\UTENTE\\anaconda3\\lib\\site-packages\\sklearn\\linear_model\\_logistic.py\", line 1304, in fit\n",
      "    solver = _check_solver(self.solver, self.penalty, self.dual)\n",
      "  File \"C:\\Users\\UTENTE\\anaconda3\\lib\\site-packages\\sklearn\\linear_model\\_logistic.py\", line 442, in _check_solver\n",
      "    raise ValueError(\"Solver %s supports only 'l2' or 'none' penalties, \"\n",
      "ValueError: Solver lbfgs supports only 'l2' or 'none' penalties, got l1 penalty.\n",
      "\n",
      "  warnings.warn(\"Estimator fit failed. The score on this train-test\"\n",
      "C:\\Users\\UTENTE\\anaconda3\\lib\\site-packages\\sklearn\\linear_model\\_logistic.py:762: ConvergenceWarning: lbfgs failed to converge (status=1):\n",
      "STOP: TOTAL NO. of ITERATIONS REACHED LIMIT.\n",
      "\n",
      "Increase the number of iterations (max_iter) or scale the data as shown in:\n",
      "    https://scikit-learn.org/stable/modules/preprocessing.html\n",
      "Please also refer to the documentation for alternative solver options:\n",
      "    https://scikit-learn.org/stable/modules/linear_model.html#logistic-regression\n",
      "  n_iter_i = _check_optimize_result(\n",
      "C:\\Users\\UTENTE\\anaconda3\\lib\\site-packages\\sklearn\\linear_model\\_logistic.py:762: ConvergenceWarning: lbfgs failed to converge (status=1):\n",
      "STOP: TOTAL NO. of ITERATIONS REACHED LIMIT.\n",
      "\n",
      "Increase the number of iterations (max_iter) or scale the data as shown in:\n",
      "    https://scikit-learn.org/stable/modules/preprocessing.html\n",
      "Please also refer to the documentation for alternative solver options:\n",
      "    https://scikit-learn.org/stable/modules/linear_model.html#logistic-regression\n",
      "  n_iter_i = _check_optimize_result(\n",
      "C:\\Users\\UTENTE\\anaconda3\\lib\\site-packages\\sklearn\\model_selection\\_validation.py:548: FitFailedWarning: Estimator fit failed. The score on this train-test partition for these parameters will be set to nan. Details: \n",
      "Traceback (most recent call last):\n",
      "  File \"C:\\Users\\UTENTE\\anaconda3\\lib\\site-packages\\sklearn\\model_selection\\_validation.py\", line 531, in _fit_and_score\n",
      "    estimator.fit(X_train, y_train, **fit_params)\n",
      "  File \"C:\\Users\\UTENTE\\anaconda3\\lib\\site-packages\\sklearn\\linear_model\\_logistic.py\", line 1304, in fit\n",
      "    solver = _check_solver(self.solver, self.penalty, self.dual)\n",
      "  File \"C:\\Users\\UTENTE\\anaconda3\\lib\\site-packages\\sklearn\\linear_model\\_logistic.py\", line 442, in _check_solver\n",
      "    raise ValueError(\"Solver %s supports only 'l2' or 'none' penalties, \"\n",
      "ValueError: Solver lbfgs supports only 'l2' or 'none' penalties, got l1 penalty.\n",
      "\n",
      "  warnings.warn(\"Estimator fit failed. The score on this train-test\"\n",
      "C:\\Users\\UTENTE\\anaconda3\\lib\\site-packages\\sklearn\\linear_model\\_logistic.py:762: ConvergenceWarning: lbfgs failed to converge (status=1):\n",
      "STOP: TOTAL NO. of ITERATIONS REACHED LIMIT.\n",
      "\n",
      "Increase the number of iterations (max_iter) or scale the data as shown in:\n",
      "    https://scikit-learn.org/stable/modules/preprocessing.html\n",
      "Please also refer to the documentation for alternative solver options:\n",
      "    https://scikit-learn.org/stable/modules/linear_model.html#logistic-regression\n",
      "  n_iter_i = _check_optimize_result(\n",
      "C:\\Users\\UTENTE\\anaconda3\\lib\\site-packages\\sklearn\\linear_model\\_logistic.py:762: ConvergenceWarning: lbfgs failed to converge (status=1):\n",
      "STOP: TOTAL NO. of ITERATIONS REACHED LIMIT.\n",
      "\n",
      "Increase the number of iterations (max_iter) or scale the data as shown in:\n",
      "    https://scikit-learn.org/stable/modules/preprocessing.html\n",
      "Please also refer to the documentation for alternative solver options:\n",
      "    https://scikit-learn.org/stable/modules/linear_model.html#logistic-regression\n",
      "  n_iter_i = _check_optimize_result(\n",
      "C:\\Users\\UTENTE\\anaconda3\\lib\\site-packages\\sklearn\\model_selection\\_validation.py:548: FitFailedWarning: Estimator fit failed. The score on this train-test partition for these parameters will be set to nan. Details: \n",
      "Traceback (most recent call last):\n",
      "  File \"C:\\Users\\UTENTE\\anaconda3\\lib\\site-packages\\sklearn\\model_selection\\_validation.py\", line 531, in _fit_and_score\n",
      "    estimator.fit(X_train, y_train, **fit_params)\n",
      "  File \"C:\\Users\\UTENTE\\anaconda3\\lib\\site-packages\\sklearn\\linear_model\\_logistic.py\", line 1304, in fit\n",
      "    solver = _check_solver(self.solver, self.penalty, self.dual)\n",
      "  File \"C:\\Users\\UTENTE\\anaconda3\\lib\\site-packages\\sklearn\\linear_model\\_logistic.py\", line 442, in _check_solver\n",
      "    raise ValueError(\"Solver %s supports only 'l2' or 'none' penalties, \"\n",
      "ValueError: Solver lbfgs supports only 'l2' or 'none' penalties, got l1 penalty.\n",
      "\n",
      "  warnings.warn(\"Estimator fit failed. The score on this train-test\"\n",
      "C:\\Users\\UTENTE\\anaconda3\\lib\\site-packages\\sklearn\\linear_model\\_logistic.py:762: ConvergenceWarning: lbfgs failed to converge (status=1):\n",
      "STOP: TOTAL NO. of ITERATIONS REACHED LIMIT.\n",
      "\n",
      "Increase the number of iterations (max_iter) or scale the data as shown in:\n",
      "    https://scikit-learn.org/stable/modules/preprocessing.html\n",
      "Please also refer to the documentation for alternative solver options:\n",
      "    https://scikit-learn.org/stable/modules/linear_model.html#logistic-regression\n",
      "  n_iter_i = _check_optimize_result(\n",
      "C:\\Users\\UTENTE\\anaconda3\\lib\\site-packages\\sklearn\\linear_model\\_logistic.py:762: ConvergenceWarning: lbfgs failed to converge (status=1):\n",
      "STOP: TOTAL NO. of ITERATIONS REACHED LIMIT.\n",
      "\n",
      "Increase the number of iterations (max_iter) or scale the data as shown in:\n",
      "    https://scikit-learn.org/stable/modules/preprocessing.html\n",
      "Please also refer to the documentation for alternative solver options:\n",
      "    https://scikit-learn.org/stable/modules/linear_model.html#logistic-regression\n",
      "  n_iter_i = _check_optimize_result(\n",
      "C:\\Users\\UTENTE\\anaconda3\\lib\\site-packages\\sklearn\\model_selection\\_validation.py:548: FitFailedWarning: Estimator fit failed. The score on this train-test partition for these parameters will be set to nan. Details: \n",
      "Traceback (most recent call last):\n",
      "  File \"C:\\Users\\UTENTE\\anaconda3\\lib\\site-packages\\sklearn\\model_selection\\_validation.py\", line 531, in _fit_and_score\n",
      "    estimator.fit(X_train, y_train, **fit_params)\n",
      "  File \"C:\\Users\\UTENTE\\anaconda3\\lib\\site-packages\\sklearn\\linear_model\\_logistic.py\", line 1304, in fit\n",
      "    solver = _check_solver(self.solver, self.penalty, self.dual)\n",
      "  File \"C:\\Users\\UTENTE\\anaconda3\\lib\\site-packages\\sklearn\\linear_model\\_logistic.py\", line 442, in _check_solver\n",
      "    raise ValueError(\"Solver %s supports only 'l2' or 'none' penalties, \"\n",
      "ValueError: Solver lbfgs supports only 'l2' or 'none' penalties, got l1 penalty.\n",
      "\n",
      "  warnings.warn(\"Estimator fit failed. The score on this train-test\"\n",
      "C:\\Users\\UTENTE\\anaconda3\\lib\\site-packages\\sklearn\\linear_model\\_logistic.py:762: ConvergenceWarning: lbfgs failed to converge (status=1):\n",
      "STOP: TOTAL NO. of ITERATIONS REACHED LIMIT.\n",
      "\n",
      "Increase the number of iterations (max_iter) or scale the data as shown in:\n",
      "    https://scikit-learn.org/stable/modules/preprocessing.html\n",
      "Please also refer to the documentation for alternative solver options:\n",
      "    https://scikit-learn.org/stable/modules/linear_model.html#logistic-regression\n",
      "  n_iter_i = _check_optimize_result(\n",
      "C:\\Users\\UTENTE\\anaconda3\\lib\\site-packages\\sklearn\\linear_model\\_logistic.py:762: ConvergenceWarning: lbfgs failed to converge (status=1):\n",
      "STOP: TOTAL NO. of ITERATIONS REACHED LIMIT.\n",
      "\n",
      "Increase the number of iterations (max_iter) or scale the data as shown in:\n",
      "    https://scikit-learn.org/stable/modules/preprocessing.html\n",
      "Please also refer to the documentation for alternative solver options:\n",
      "    https://scikit-learn.org/stable/modules/linear_model.html#logistic-regression\n",
      "  n_iter_i = _check_optimize_result(\n",
      "C:\\Users\\UTENTE\\anaconda3\\lib\\site-packages\\sklearn\\model_selection\\_validation.py:548: FitFailedWarning: Estimator fit failed. The score on this train-test partition for these parameters will be set to nan. Details: \n",
      "Traceback (most recent call last):\n",
      "  File \"C:\\Users\\UTENTE\\anaconda3\\lib\\site-packages\\sklearn\\model_selection\\_validation.py\", line 531, in _fit_and_score\n",
      "    estimator.fit(X_train, y_train, **fit_params)\n",
      "  File \"C:\\Users\\UTENTE\\anaconda3\\lib\\site-packages\\sklearn\\linear_model\\_logistic.py\", line 1304, in fit\n",
      "    solver = _check_solver(self.solver, self.penalty, self.dual)\n",
      "  File \"C:\\Users\\UTENTE\\anaconda3\\lib\\site-packages\\sklearn\\linear_model\\_logistic.py\", line 442, in _check_solver\n",
      "    raise ValueError(\"Solver %s supports only 'l2' or 'none' penalties, \"\n",
      "ValueError: Solver lbfgs supports only 'l2' or 'none' penalties, got l1 penalty.\n",
      "\n",
      "  warnings.warn(\"Estimator fit failed. The score on this train-test\"\n",
      "C:\\Users\\UTENTE\\anaconda3\\lib\\site-packages\\sklearn\\linear_model\\_logistic.py:762: ConvergenceWarning: lbfgs failed to converge (status=1):\n",
      "STOP: TOTAL NO. of ITERATIONS REACHED LIMIT.\n",
      "\n",
      "Increase the number of iterations (max_iter) or scale the data as shown in:\n",
      "    https://scikit-learn.org/stable/modules/preprocessing.html\n",
      "Please also refer to the documentation for alternative solver options:\n",
      "    https://scikit-learn.org/stable/modules/linear_model.html#logistic-regression\n",
      "  n_iter_i = _check_optimize_result(\n",
      "C:\\Users\\UTENTE\\anaconda3\\lib\\site-packages\\sklearn\\linear_model\\_logistic.py:762: ConvergenceWarning: lbfgs failed to converge (status=1):\n",
      "STOP: TOTAL NO. of ITERATIONS REACHED LIMIT.\n",
      "\n",
      "Increase the number of iterations (max_iter) or scale the data as shown in:\n",
      "    https://scikit-learn.org/stable/modules/preprocessing.html\n",
      "Please also refer to the documentation for alternative solver options:\n",
      "    https://scikit-learn.org/stable/modules/linear_model.html#logistic-regression\n",
      "  n_iter_i = _check_optimize_result(\n",
      "C:\\Users\\UTENTE\\anaconda3\\lib\\site-packages\\sklearn\\model_selection\\_validation.py:548: FitFailedWarning: Estimator fit failed. The score on this train-test partition for these parameters will be set to nan. Details: \n",
      "Traceback (most recent call last):\n",
      "  File \"C:\\Users\\UTENTE\\anaconda3\\lib\\site-packages\\sklearn\\model_selection\\_validation.py\", line 531, in _fit_and_score\n",
      "    estimator.fit(X_train, y_train, **fit_params)\n",
      "  File \"C:\\Users\\UTENTE\\anaconda3\\lib\\site-packages\\sklearn\\linear_model\\_logistic.py\", line 1304, in fit\n",
      "    solver = _check_solver(self.solver, self.penalty, self.dual)\n",
      "  File \"C:\\Users\\UTENTE\\anaconda3\\lib\\site-packages\\sklearn\\linear_model\\_logistic.py\", line 442, in _check_solver\n",
      "    raise ValueError(\"Solver %s supports only 'l2' or 'none' penalties, \"\n",
      "ValueError: Solver lbfgs supports only 'l2' or 'none' penalties, got l1 penalty.\n",
      "\n",
      "  warnings.warn(\"Estimator fit failed. The score on this train-test\"\n",
      "C:\\Users\\UTENTE\\anaconda3\\lib\\site-packages\\sklearn\\linear_model\\_logistic.py:762: ConvergenceWarning: lbfgs failed to converge (status=1):\n",
      "STOP: TOTAL NO. of ITERATIONS REACHED LIMIT.\n",
      "\n",
      "Increase the number of iterations (max_iter) or scale the data as shown in:\n",
      "    https://scikit-learn.org/stable/modules/preprocessing.html\n",
      "Please also refer to the documentation for alternative solver options:\n",
      "    https://scikit-learn.org/stable/modules/linear_model.html#logistic-regression\n",
      "  n_iter_i = _check_optimize_result(\n"
     ]
    },
    {
     "name": "stderr",
     "output_type": "stream",
     "text": [
      "C:\\Users\\UTENTE\\anaconda3\\lib\\site-packages\\sklearn\\linear_model\\_logistic.py:762: ConvergenceWarning: lbfgs failed to converge (status=1):\n",
      "STOP: TOTAL NO. of ITERATIONS REACHED LIMIT.\n",
      "\n",
      "Increase the number of iterations (max_iter) or scale the data as shown in:\n",
      "    https://scikit-learn.org/stable/modules/preprocessing.html\n",
      "Please also refer to the documentation for alternative solver options:\n",
      "    https://scikit-learn.org/stable/modules/linear_model.html#logistic-regression\n",
      "  n_iter_i = _check_optimize_result(\n",
      "C:\\Users\\UTENTE\\anaconda3\\lib\\site-packages\\sklearn\\model_selection\\_validation.py:548: FitFailedWarning: Estimator fit failed. The score on this train-test partition for these parameters will be set to nan. Details: \n",
      "Traceback (most recent call last):\n",
      "  File \"C:\\Users\\UTENTE\\anaconda3\\lib\\site-packages\\sklearn\\model_selection\\_validation.py\", line 531, in _fit_and_score\n",
      "    estimator.fit(X_train, y_train, **fit_params)\n",
      "  File \"C:\\Users\\UTENTE\\anaconda3\\lib\\site-packages\\sklearn\\linear_model\\_logistic.py\", line 1304, in fit\n",
      "    solver = _check_solver(self.solver, self.penalty, self.dual)\n",
      "  File \"C:\\Users\\UTENTE\\anaconda3\\lib\\site-packages\\sklearn\\linear_model\\_logistic.py\", line 442, in _check_solver\n",
      "    raise ValueError(\"Solver %s supports only 'l2' or 'none' penalties, \"\n",
      "ValueError: Solver lbfgs supports only 'l2' or 'none' penalties, got l1 penalty.\n",
      "\n",
      "  warnings.warn(\"Estimator fit failed. The score on this train-test\"\n",
      "C:\\Users\\UTENTE\\anaconda3\\lib\\site-packages\\sklearn\\linear_model\\_logistic.py:762: ConvergenceWarning: lbfgs failed to converge (status=1):\n",
      "STOP: TOTAL NO. of ITERATIONS REACHED LIMIT.\n",
      "\n",
      "Increase the number of iterations (max_iter) or scale the data as shown in:\n",
      "    https://scikit-learn.org/stable/modules/preprocessing.html\n",
      "Please also refer to the documentation for alternative solver options:\n",
      "    https://scikit-learn.org/stable/modules/linear_model.html#logistic-regression\n",
      "  n_iter_i = _check_optimize_result(\n",
      "C:\\Users\\UTENTE\\anaconda3\\lib\\site-packages\\sklearn\\linear_model\\_logistic.py:762: ConvergenceWarning: lbfgs failed to converge (status=1):\n",
      "STOP: TOTAL NO. of ITERATIONS REACHED LIMIT.\n",
      "\n",
      "Increase the number of iterations (max_iter) or scale the data as shown in:\n",
      "    https://scikit-learn.org/stable/modules/preprocessing.html\n",
      "Please also refer to the documentation for alternative solver options:\n",
      "    https://scikit-learn.org/stable/modules/linear_model.html#logistic-regression\n",
      "  n_iter_i = _check_optimize_result(\n",
      "C:\\Users\\UTENTE\\anaconda3\\lib\\site-packages\\sklearn\\model_selection\\_validation.py:548: FitFailedWarning: Estimator fit failed. The score on this train-test partition for these parameters will be set to nan. Details: \n",
      "Traceback (most recent call last):\n",
      "  File \"C:\\Users\\UTENTE\\anaconda3\\lib\\site-packages\\sklearn\\model_selection\\_validation.py\", line 531, in _fit_and_score\n",
      "    estimator.fit(X_train, y_train, **fit_params)\n",
      "  File \"C:\\Users\\UTENTE\\anaconda3\\lib\\site-packages\\sklearn\\linear_model\\_logistic.py\", line 1304, in fit\n",
      "    solver = _check_solver(self.solver, self.penalty, self.dual)\n",
      "  File \"C:\\Users\\UTENTE\\anaconda3\\lib\\site-packages\\sklearn\\linear_model\\_logistic.py\", line 442, in _check_solver\n",
      "    raise ValueError(\"Solver %s supports only 'l2' or 'none' penalties, \"\n",
      "ValueError: Solver lbfgs supports only 'l2' or 'none' penalties, got l1 penalty.\n",
      "\n",
      "  warnings.warn(\"Estimator fit failed. The score on this train-test\"\n",
      "C:\\Users\\UTENTE\\anaconda3\\lib\\site-packages\\sklearn\\linear_model\\_logistic.py:762: ConvergenceWarning: lbfgs failed to converge (status=1):\n",
      "STOP: TOTAL NO. of ITERATIONS REACHED LIMIT.\n",
      "\n",
      "Increase the number of iterations (max_iter) or scale the data as shown in:\n",
      "    https://scikit-learn.org/stable/modules/preprocessing.html\n",
      "Please also refer to the documentation for alternative solver options:\n",
      "    https://scikit-learn.org/stable/modules/linear_model.html#logistic-regression\n",
      "  n_iter_i = _check_optimize_result(\n",
      "C:\\Users\\UTENTE\\anaconda3\\lib\\site-packages\\sklearn\\linear_model\\_logistic.py:762: ConvergenceWarning: lbfgs failed to converge (status=1):\n",
      "STOP: TOTAL NO. of ITERATIONS REACHED LIMIT.\n",
      "\n",
      "Increase the number of iterations (max_iter) or scale the data as shown in:\n",
      "    https://scikit-learn.org/stable/modules/preprocessing.html\n",
      "Please also refer to the documentation for alternative solver options:\n",
      "    https://scikit-learn.org/stable/modules/linear_model.html#logistic-regression\n",
      "  n_iter_i = _check_optimize_result(\n",
      "C:\\Users\\UTENTE\\anaconda3\\lib\\site-packages\\sklearn\\model_selection\\_validation.py:548: FitFailedWarning: Estimator fit failed. The score on this train-test partition for these parameters will be set to nan. Details: \n",
      "Traceback (most recent call last):\n",
      "  File \"C:\\Users\\UTENTE\\anaconda3\\lib\\site-packages\\sklearn\\model_selection\\_validation.py\", line 531, in _fit_and_score\n",
      "    estimator.fit(X_train, y_train, **fit_params)\n",
      "  File \"C:\\Users\\UTENTE\\anaconda3\\lib\\site-packages\\sklearn\\linear_model\\_logistic.py\", line 1304, in fit\n",
      "    solver = _check_solver(self.solver, self.penalty, self.dual)\n",
      "  File \"C:\\Users\\UTENTE\\anaconda3\\lib\\site-packages\\sklearn\\linear_model\\_logistic.py\", line 442, in _check_solver\n",
      "    raise ValueError(\"Solver %s supports only 'l2' or 'none' penalties, \"\n",
      "ValueError: Solver lbfgs supports only 'l2' or 'none' penalties, got l1 penalty.\n",
      "\n",
      "  warnings.warn(\"Estimator fit failed. The score on this train-test\"\n",
      "C:\\Users\\UTENTE\\anaconda3\\lib\\site-packages\\sklearn\\linear_model\\_logistic.py:762: ConvergenceWarning: lbfgs failed to converge (status=1):\n",
      "STOP: TOTAL NO. of ITERATIONS REACHED LIMIT.\n",
      "\n",
      "Increase the number of iterations (max_iter) or scale the data as shown in:\n",
      "    https://scikit-learn.org/stable/modules/preprocessing.html\n",
      "Please also refer to the documentation for alternative solver options:\n",
      "    https://scikit-learn.org/stable/modules/linear_model.html#logistic-regression\n",
      "  n_iter_i = _check_optimize_result(\n",
      "C:\\Users\\UTENTE\\anaconda3\\lib\\site-packages\\sklearn\\linear_model\\_logistic.py:762: ConvergenceWarning: lbfgs failed to converge (status=1):\n",
      "STOP: TOTAL NO. of ITERATIONS REACHED LIMIT.\n",
      "\n",
      "Increase the number of iterations (max_iter) or scale the data as shown in:\n",
      "    https://scikit-learn.org/stable/modules/preprocessing.html\n",
      "Please also refer to the documentation for alternative solver options:\n",
      "    https://scikit-learn.org/stable/modules/linear_model.html#logistic-regression\n",
      "  n_iter_i = _check_optimize_result(\n",
      "C:\\Users\\UTENTE\\anaconda3\\lib\\site-packages\\sklearn\\linear_model\\_logistic.py:762: ConvergenceWarning: lbfgs failed to converge (status=1):\n",
      "STOP: TOTAL NO. of ITERATIONS REACHED LIMIT.\n",
      "\n",
      "Increase the number of iterations (max_iter) or scale the data as shown in:\n",
      "    https://scikit-learn.org/stable/modules/preprocessing.html\n",
      "Please also refer to the documentation for alternative solver options:\n",
      "    https://scikit-learn.org/stable/modules/linear_model.html#logistic-regression\n",
      "  n_iter_i = _check_optimize_result(\n",
      "C:\\Users\\UTENTE\\anaconda3\\lib\\site-packages\\sklearn\\model_selection\\_validation.py:548: FitFailedWarning: Estimator fit failed. The score on this train-test partition for these parameters will be set to nan. Details: \n",
      "Traceback (most recent call last):\n",
      "  File \"C:\\Users\\UTENTE\\anaconda3\\lib\\site-packages\\sklearn\\model_selection\\_validation.py\", line 531, in _fit_and_score\n",
      "    estimator.fit(X_train, y_train, **fit_params)\n",
      "  File \"C:\\Users\\UTENTE\\anaconda3\\lib\\site-packages\\sklearn\\linear_model\\_logistic.py\", line 1304, in fit\n",
      "    solver = _check_solver(self.solver, self.penalty, self.dual)\n",
      "  File \"C:\\Users\\UTENTE\\anaconda3\\lib\\site-packages\\sklearn\\linear_model\\_logistic.py\", line 442, in _check_solver\n",
      "    raise ValueError(\"Solver %s supports only 'l2' or 'none' penalties, \"\n",
      "ValueError: Solver lbfgs supports only 'l2' or 'none' penalties, got l1 penalty.\n",
      "\n",
      "  warnings.warn(\"Estimator fit failed. The score on this train-test\"\n",
      "C:\\Users\\UTENTE\\anaconda3\\lib\\site-packages\\sklearn\\linear_model\\_logistic.py:762: ConvergenceWarning: lbfgs failed to converge (status=1):\n",
      "STOP: TOTAL NO. of ITERATIONS REACHED LIMIT.\n",
      "\n",
      "Increase the number of iterations (max_iter) or scale the data as shown in:\n",
      "    https://scikit-learn.org/stable/modules/preprocessing.html\n",
      "Please also refer to the documentation for alternative solver options:\n",
      "    https://scikit-learn.org/stable/modules/linear_model.html#logistic-regression\n",
      "  n_iter_i = _check_optimize_result(\n",
      "C:\\Users\\UTENTE\\anaconda3\\lib\\site-packages\\sklearn\\linear_model\\_logistic.py:762: ConvergenceWarning: lbfgs failed to converge (status=1):\n",
      "STOP: TOTAL NO. of ITERATIONS REACHED LIMIT.\n",
      "\n",
      "Increase the number of iterations (max_iter) or scale the data as shown in:\n",
      "    https://scikit-learn.org/stable/modules/preprocessing.html\n",
      "Please also refer to the documentation for alternative solver options:\n",
      "    https://scikit-learn.org/stable/modules/linear_model.html#logistic-regression\n",
      "  n_iter_i = _check_optimize_result(\n",
      "C:\\Users\\UTENTE\\anaconda3\\lib\\site-packages\\sklearn\\linear_model\\_logistic.py:762: ConvergenceWarning: lbfgs failed to converge (status=1):\n",
      "STOP: TOTAL NO. of ITERATIONS REACHED LIMIT.\n",
      "\n",
      "Increase the number of iterations (max_iter) or scale the data as shown in:\n",
      "    https://scikit-learn.org/stable/modules/preprocessing.html\n",
      "Please also refer to the documentation for alternative solver options:\n",
      "    https://scikit-learn.org/stable/modules/linear_model.html#logistic-regression\n",
      "  n_iter_i = _check_optimize_result(\n",
      "C:\\Users\\UTENTE\\anaconda3\\lib\\site-packages\\sklearn\\model_selection\\_validation.py:548: FitFailedWarning: Estimator fit failed. The score on this train-test partition for these parameters will be set to nan. Details: \n",
      "Traceback (most recent call last):\n",
      "  File \"C:\\Users\\UTENTE\\anaconda3\\lib\\site-packages\\sklearn\\model_selection\\_validation.py\", line 531, in _fit_and_score\n",
      "    estimator.fit(X_train, y_train, **fit_params)\n",
      "  File \"C:\\Users\\UTENTE\\anaconda3\\lib\\site-packages\\sklearn\\linear_model\\_logistic.py\", line 1304, in fit\n",
      "    solver = _check_solver(self.solver, self.penalty, self.dual)\n",
      "  File \"C:\\Users\\UTENTE\\anaconda3\\lib\\site-packages\\sklearn\\linear_model\\_logistic.py\", line 442, in _check_solver\n",
      "    raise ValueError(\"Solver %s supports only 'l2' or 'none' penalties, \"\n",
      "ValueError: Solver lbfgs supports only 'l2' or 'none' penalties, got l1 penalty.\n",
      "\n",
      "  warnings.warn(\"Estimator fit failed. The score on this train-test\"\n",
      "C:\\Users\\UTENTE\\anaconda3\\lib\\site-packages\\sklearn\\linear_model\\_logistic.py:762: ConvergenceWarning: lbfgs failed to converge (status=1):\n",
      "STOP: TOTAL NO. of ITERATIONS REACHED LIMIT.\n",
      "\n",
      "Increase the number of iterations (max_iter) or scale the data as shown in:\n",
      "    https://scikit-learn.org/stable/modules/preprocessing.html\n",
      "Please also refer to the documentation for alternative solver options:\n",
      "    https://scikit-learn.org/stable/modules/linear_model.html#logistic-regression\n",
      "  n_iter_i = _check_optimize_result(\n",
      "C:\\Users\\UTENTE\\anaconda3\\lib\\site-packages\\sklearn\\linear_model\\_logistic.py:762: ConvergenceWarning: lbfgs failed to converge (status=1):\n",
      "STOP: TOTAL NO. of ITERATIONS REACHED LIMIT.\n",
      "\n",
      "Increase the number of iterations (max_iter) or scale the data as shown in:\n",
      "    https://scikit-learn.org/stable/modules/preprocessing.html\n",
      "Please also refer to the documentation for alternative solver options:\n",
      "    https://scikit-learn.org/stable/modules/linear_model.html#logistic-regression\n",
      "  n_iter_i = _check_optimize_result(\n",
      "C:\\Users\\UTENTE\\anaconda3\\lib\\site-packages\\sklearn\\linear_model\\_logistic.py:762: ConvergenceWarning: lbfgs failed to converge (status=1):\n",
      "STOP: TOTAL NO. of ITERATIONS REACHED LIMIT.\n",
      "\n",
      "Increase the number of iterations (max_iter) or scale the data as shown in:\n",
      "    https://scikit-learn.org/stable/modules/preprocessing.html\n",
      "Please also refer to the documentation for alternative solver options:\n",
      "    https://scikit-learn.org/stable/modules/linear_model.html#logistic-regression\n",
      "  n_iter_i = _check_optimize_result(\n",
      "C:\\Users\\UTENTE\\anaconda3\\lib\\site-packages\\sklearn\\model_selection\\_validation.py:548: FitFailedWarning: Estimator fit failed. The score on this train-test partition for these parameters will be set to nan. Details: \n",
      "Traceback (most recent call last):\n",
      "  File \"C:\\Users\\UTENTE\\anaconda3\\lib\\site-packages\\sklearn\\model_selection\\_validation.py\", line 531, in _fit_and_score\n",
      "    estimator.fit(X_train, y_train, **fit_params)\n",
      "  File \"C:\\Users\\UTENTE\\anaconda3\\lib\\site-packages\\sklearn\\linear_model\\_logistic.py\", line 1304, in fit\n",
      "    solver = _check_solver(self.solver, self.penalty, self.dual)\n",
      "  File \"C:\\Users\\UTENTE\\anaconda3\\lib\\site-packages\\sklearn\\linear_model\\_logistic.py\", line 442, in _check_solver\n",
      "    raise ValueError(\"Solver %s supports only 'l2' or 'none' penalties, \"\n",
      "ValueError: Solver lbfgs supports only 'l2' or 'none' penalties, got l1 penalty.\n",
      "\n",
      "  warnings.warn(\"Estimator fit failed. The score on this train-test\"\n",
      "C:\\Users\\UTENTE\\anaconda3\\lib\\site-packages\\sklearn\\linear_model\\_logistic.py:762: ConvergenceWarning: lbfgs failed to converge (status=1):\n",
      "STOP: TOTAL NO. of ITERATIONS REACHED LIMIT.\n",
      "\n",
      "Increase the number of iterations (max_iter) or scale the data as shown in:\n",
      "    https://scikit-learn.org/stable/modules/preprocessing.html\n",
      "Please also refer to the documentation for alternative solver options:\n",
      "    https://scikit-learn.org/stable/modules/linear_model.html#logistic-regression\n",
      "  n_iter_i = _check_optimize_result(\n"
     ]
    },
    {
     "name": "stderr",
     "output_type": "stream",
     "text": [
      "C:\\Users\\UTENTE\\anaconda3\\lib\\site-packages\\sklearn\\model_selection\\_validation.py:548: FitFailedWarning: Estimator fit failed. The score on this train-test partition for these parameters will be set to nan. Details: \n",
      "Traceback (most recent call last):\n",
      "  File \"C:\\Users\\UTENTE\\anaconda3\\lib\\site-packages\\sklearn\\model_selection\\_validation.py\", line 531, in _fit_and_score\n",
      "    estimator.fit(X_train, y_train, **fit_params)\n",
      "  File \"C:\\Users\\UTENTE\\anaconda3\\lib\\site-packages\\sklearn\\linear_model\\_logistic.py\", line 1304, in fit\n",
      "    solver = _check_solver(self.solver, self.penalty, self.dual)\n",
      "  File \"C:\\Users\\UTENTE\\anaconda3\\lib\\site-packages\\sklearn\\linear_model\\_logistic.py\", line 442, in _check_solver\n",
      "    raise ValueError(\"Solver %s supports only 'l2' or 'none' penalties, \"\n",
      "ValueError: Solver lbfgs supports only 'l2' or 'none' penalties, got l1 penalty.\n",
      "\n",
      "  warnings.warn(\"Estimator fit failed. The score on this train-test\"\n",
      "C:\\Users\\UTENTE\\anaconda3\\lib\\site-packages\\sklearn\\linear_model\\_logistic.py:762: ConvergenceWarning: lbfgs failed to converge (status=1):\n",
      "STOP: TOTAL NO. of ITERATIONS REACHED LIMIT.\n",
      "\n",
      "Increase the number of iterations (max_iter) or scale the data as shown in:\n",
      "    https://scikit-learn.org/stable/modules/preprocessing.html\n",
      "Please also refer to the documentation for alternative solver options:\n",
      "    https://scikit-learn.org/stable/modules/linear_model.html#logistic-regression\n",
      "  n_iter_i = _check_optimize_result(\n",
      "C:\\Users\\UTENTE\\anaconda3\\lib\\site-packages\\sklearn\\model_selection\\_validation.py:548: FitFailedWarning: Estimator fit failed. The score on this train-test partition for these parameters will be set to nan. Details: \n",
      "Traceback (most recent call last):\n",
      "  File \"C:\\Users\\UTENTE\\anaconda3\\lib\\site-packages\\sklearn\\model_selection\\_validation.py\", line 531, in _fit_and_score\n",
      "    estimator.fit(X_train, y_train, **fit_params)\n",
      "  File \"C:\\Users\\UTENTE\\anaconda3\\lib\\site-packages\\sklearn\\linear_model\\_logistic.py\", line 1304, in fit\n",
      "    solver = _check_solver(self.solver, self.penalty, self.dual)\n",
      "  File \"C:\\Users\\UTENTE\\anaconda3\\lib\\site-packages\\sklearn\\linear_model\\_logistic.py\", line 442, in _check_solver\n",
      "    raise ValueError(\"Solver %s supports only 'l2' or 'none' penalties, \"\n",
      "ValueError: Solver lbfgs supports only 'l2' or 'none' penalties, got l1 penalty.\n",
      "\n",
      "  warnings.warn(\"Estimator fit failed. The score on this train-test\"\n",
      "C:\\Users\\UTENTE\\anaconda3\\lib\\site-packages\\sklearn\\linear_model\\_logistic.py:762: ConvergenceWarning: lbfgs failed to converge (status=1):\n",
      "STOP: TOTAL NO. of ITERATIONS REACHED LIMIT.\n",
      "\n",
      "Increase the number of iterations (max_iter) or scale the data as shown in:\n",
      "    https://scikit-learn.org/stable/modules/preprocessing.html\n",
      "Please also refer to the documentation for alternative solver options:\n",
      "    https://scikit-learn.org/stable/modules/linear_model.html#logistic-regression\n",
      "  n_iter_i = _check_optimize_result(\n",
      "C:\\Users\\UTENTE\\anaconda3\\lib\\site-packages\\sklearn\\model_selection\\_validation.py:548: FitFailedWarning: Estimator fit failed. The score on this train-test partition for these parameters will be set to nan. Details: \n",
      "Traceback (most recent call last):\n",
      "  File \"C:\\Users\\UTENTE\\anaconda3\\lib\\site-packages\\sklearn\\model_selection\\_validation.py\", line 531, in _fit_and_score\n",
      "    estimator.fit(X_train, y_train, **fit_params)\n",
      "  File \"C:\\Users\\UTENTE\\anaconda3\\lib\\site-packages\\sklearn\\linear_model\\_logistic.py\", line 1304, in fit\n",
      "    solver = _check_solver(self.solver, self.penalty, self.dual)\n",
      "  File \"C:\\Users\\UTENTE\\anaconda3\\lib\\site-packages\\sklearn\\linear_model\\_logistic.py\", line 442, in _check_solver\n",
      "    raise ValueError(\"Solver %s supports only 'l2' or 'none' penalties, \"\n",
      "ValueError: Solver lbfgs supports only 'l2' or 'none' penalties, got l1 penalty.\n",
      "\n",
      "  warnings.warn(\"Estimator fit failed. The score on this train-test\"\n",
      "C:\\Users\\UTENTE\\anaconda3\\lib\\site-packages\\sklearn\\linear_model\\_logistic.py:762: ConvergenceWarning: lbfgs failed to converge (status=1):\n",
      "STOP: TOTAL NO. of ITERATIONS REACHED LIMIT.\n",
      "\n",
      "Increase the number of iterations (max_iter) or scale the data as shown in:\n",
      "    https://scikit-learn.org/stable/modules/preprocessing.html\n",
      "Please also refer to the documentation for alternative solver options:\n",
      "    https://scikit-learn.org/stable/modules/linear_model.html#logistic-regression\n",
      "  n_iter_i = _check_optimize_result(\n",
      "C:\\Users\\UTENTE\\anaconda3\\lib\\site-packages\\sklearn\\linear_model\\_logistic.py:762: ConvergenceWarning: lbfgs failed to converge (status=1):\n",
      "STOP: TOTAL NO. of ITERATIONS REACHED LIMIT.\n",
      "\n",
      "Increase the number of iterations (max_iter) or scale the data as shown in:\n",
      "    https://scikit-learn.org/stable/modules/preprocessing.html\n",
      "Please also refer to the documentation for alternative solver options:\n",
      "    https://scikit-learn.org/stable/modules/linear_model.html#logistic-regression\n",
      "  n_iter_i = _check_optimize_result(\n",
      "C:\\Users\\UTENTE\\anaconda3\\lib\\site-packages\\sklearn\\model_selection\\_validation.py:548: FitFailedWarning: Estimator fit failed. The score on this train-test partition for these parameters will be set to nan. Details: \n",
      "Traceback (most recent call last):\n",
      "  File \"C:\\Users\\UTENTE\\anaconda3\\lib\\site-packages\\sklearn\\model_selection\\_validation.py\", line 531, in _fit_and_score\n",
      "    estimator.fit(X_train, y_train, **fit_params)\n",
      "  File \"C:\\Users\\UTENTE\\anaconda3\\lib\\site-packages\\sklearn\\linear_model\\_logistic.py\", line 1304, in fit\n",
      "    solver = _check_solver(self.solver, self.penalty, self.dual)\n",
      "  File \"C:\\Users\\UTENTE\\anaconda3\\lib\\site-packages\\sklearn\\linear_model\\_logistic.py\", line 442, in _check_solver\n",
      "    raise ValueError(\"Solver %s supports only 'l2' or 'none' penalties, \"\n",
      "ValueError: Solver lbfgs supports only 'l2' or 'none' penalties, got l1 penalty.\n",
      "\n",
      "  warnings.warn(\"Estimator fit failed. The score on this train-test\"\n",
      "C:\\Users\\UTENTE\\anaconda3\\lib\\site-packages\\sklearn\\linear_model\\_logistic.py:762: ConvergenceWarning: lbfgs failed to converge (status=1):\n",
      "STOP: TOTAL NO. of ITERATIONS REACHED LIMIT.\n",
      "\n",
      "Increase the number of iterations (max_iter) or scale the data as shown in:\n",
      "    https://scikit-learn.org/stable/modules/preprocessing.html\n",
      "Please also refer to the documentation for alternative solver options:\n",
      "    https://scikit-learn.org/stable/modules/linear_model.html#logistic-regression\n",
      "  n_iter_i = _check_optimize_result(\n",
      "C:\\Users\\UTENTE\\anaconda3\\lib\\site-packages\\sklearn\\linear_model\\_logistic.py:762: ConvergenceWarning: lbfgs failed to converge (status=1):\n",
      "STOP: TOTAL NO. of ITERATIONS REACHED LIMIT.\n",
      "\n",
      "Increase the number of iterations (max_iter) or scale the data as shown in:\n",
      "    https://scikit-learn.org/stable/modules/preprocessing.html\n",
      "Please also refer to the documentation for alternative solver options:\n",
      "    https://scikit-learn.org/stable/modules/linear_model.html#logistic-regression\n",
      "  n_iter_i = _check_optimize_result(\n",
      "C:\\Users\\UTENTE\\anaconda3\\lib\\site-packages\\sklearn\\model_selection\\_validation.py:548: FitFailedWarning: Estimator fit failed. The score on this train-test partition for these parameters will be set to nan. Details: \n",
      "Traceback (most recent call last):\n",
      "  File \"C:\\Users\\UTENTE\\anaconda3\\lib\\site-packages\\sklearn\\model_selection\\_validation.py\", line 531, in _fit_and_score\n",
      "    estimator.fit(X_train, y_train, **fit_params)\n",
      "  File \"C:\\Users\\UTENTE\\anaconda3\\lib\\site-packages\\sklearn\\linear_model\\_logistic.py\", line 1304, in fit\n",
      "    solver = _check_solver(self.solver, self.penalty, self.dual)\n",
      "  File \"C:\\Users\\UTENTE\\anaconda3\\lib\\site-packages\\sklearn\\linear_model\\_logistic.py\", line 442, in _check_solver\n",
      "    raise ValueError(\"Solver %s supports only 'l2' or 'none' penalties, \"\n",
      "ValueError: Solver lbfgs supports only 'l2' or 'none' penalties, got l1 penalty.\n",
      "\n",
      "  warnings.warn(\"Estimator fit failed. The score on this train-test\"\n",
      "C:\\Users\\UTENTE\\anaconda3\\lib\\site-packages\\sklearn\\linear_model\\_logistic.py:762: ConvergenceWarning: lbfgs failed to converge (status=1):\n",
      "STOP: TOTAL NO. of ITERATIONS REACHED LIMIT.\n",
      "\n",
      "Increase the number of iterations (max_iter) or scale the data as shown in:\n",
      "    https://scikit-learn.org/stable/modules/preprocessing.html\n",
      "Please also refer to the documentation for alternative solver options:\n",
      "    https://scikit-learn.org/stable/modules/linear_model.html#logistic-regression\n",
      "  n_iter_i = _check_optimize_result(\n",
      "C:\\Users\\UTENTE\\anaconda3\\lib\\site-packages\\sklearn\\linear_model\\_logistic.py:762: ConvergenceWarning: lbfgs failed to converge (status=1):\n",
      "STOP: TOTAL NO. of ITERATIONS REACHED LIMIT.\n",
      "\n",
      "Increase the number of iterations (max_iter) or scale the data as shown in:\n",
      "    https://scikit-learn.org/stable/modules/preprocessing.html\n",
      "Please also refer to the documentation for alternative solver options:\n",
      "    https://scikit-learn.org/stable/modules/linear_model.html#logistic-regression\n",
      "  n_iter_i = _check_optimize_result(\n"
     ]
    },
    {
     "data": {
      "text/plain": [
       "GridSearchCV(cv=4, estimator=LogisticRegression(),\n",
       "             param_grid={'C': [0.001, 0.01, 0.1, 1, 10, 100, 1000, 10000,\n",
       "                               100000, 1000000],\n",
       "                         'intercept_scaling': [1, 2, 3],\n",
       "                         'penalty': ['l1', 'l2']})"
      ]
     },
     "execution_count": 43,
     "metadata": {},
     "output_type": "execute_result"
    },
    {
     "name": "stdout",
     "output_type": "stream",
     "text": [
      "Best_Parameters: {'C': 0.01, 'intercept_scaling': 1, 'penalty': 'l2'}\n"
     ]
    }
   ],
   "source": [
    "cv = StratifiedKFold(n_splits=4)\n",
    "model_cv_lg = GridSearchCV(model_lg, grid_lg, cv=4)\n",
    "model_cv_lg.fit(X_train, y_train)\n",
    "\n",
    "print(f\"Best_Parameters: {model_cv_lg.best_params_}\")"
   ]
  },
  {
   "cell_type": "code",
   "execution_count": null,
   "metadata": {},
   "outputs": [],
   "source": []
  },
  {
   "cell_type": "code",
   "execution_count": 44,
   "metadata": {},
   "outputs": [
    {
     "name": "stdout",
     "output_type": "stream",
     "text": [
      "Prediction: [1 0 1 0 0 0 1 1 0 0 0 0 1 1 0 0 1 1 0 0 0 1 1 0 1 1 0]\n",
      "Probability: [[0.01629365 0.98370635]\n",
      " [0.91202793 0.08797207]\n",
      " [0.37096002 0.62903998]\n",
      " [0.83551025 0.16448975]\n",
      " [0.85013947 0.14986053]\n",
      " [0.52521626 0.47478374]\n",
      " [0.15658658 0.84341342]\n",
      " [0.08942228 0.91057772]\n",
      " [0.99049524 0.00950476]\n",
      " [0.67039995 0.32960005]\n",
      " [0.82156071 0.17843929]\n",
      " [0.69300601 0.30699399]\n",
      " [0.08581759 0.91418241]\n",
      " [0.3408865  0.6591135 ]\n",
      " [0.58342896 0.41657104]\n",
      " [0.72352388 0.27647612]\n",
      " [0.17290259 0.82709741]\n",
      " [0.37705681 0.62294319]\n",
      " [0.57008879 0.42991121]\n",
      " [0.50554193 0.49445807]\n",
      " [0.97284357 0.02715643]\n",
      " [0.43897251 0.56102749]\n",
      " [0.15931237 0.84068763]\n",
      " [0.551422   0.448578  ]\n",
      " [0.10498903 0.89501097]\n",
      " [0.25295837 0.74704163]\n",
      " [0.66028315 0.33971685]]\n",
      "============================================================\n",
      "Accuracy_Score:          0.556\n",
      "Average_Precision_Score: 0.472\n",
      "F1 Score:                0.500\n",
      "Precision:               0.500\n",
      "Recall:                  0.500\n",
      "============================================================\n",
      "              precision    recall  f1-score   support\n",
      "\n",
      "           0       0.60      0.60      0.60        15\n",
      "           1       0.50      0.50      0.50        12\n",
      "\n",
      "    accuracy                           0.56        27\n",
      "   macro avg       0.55      0.55      0.55        27\n",
      "weighted avg       0.56      0.56      0.56        27\n",
      "\n",
      "============================================================\n"
     ]
    },
    {
     "data": {
      "text/plain": [
       "Text(0.5, 1.0, 'LG: Confusion matrix, without normalization')"
      ]
     },
     "execution_count": 44,
     "metadata": {},
     "output_type": "execute_result"
    },
    {
     "name": "stdout",
     "output_type": "stream",
     "text": [
      "LG: Confusion matrix, without normalization\n",
      "[[9 6]\n",
      " [6 6]]\n"
     ]
    },
    {
     "data": {
      "text/plain": [
       "Text(0.5, 1.0, 'LG: Normalized confusion matrix')"
      ]
     },
     "execution_count": 44,
     "metadata": {},
     "output_type": "execute_result"
    },
    {
     "name": "stdout",
     "output_type": "stream",
     "text": [
      "LG: Normalized confusion matrix\n",
      "[[0.6 0.4]\n",
      " [0.5 0.5]]\n"
     ]
    },
    {
     "data": {
      "image/png": "[encoded data removed]",
      "text/plain": [
       "<Figure size 432x288 with 2 Axes>"
      ]
     },
     "metadata": {
      "needs_background": "light"
     },
     "output_type": "display_data"
    },
    {
     "data": {
      "image/png": "[encoded data removed]",
      "text/plain": [
       "<Figure size 432x288 with 2 Axes>"
      ]
     },
     "metadata": {
      "needs_background": "light"
     },
     "output_type": "display_data"
    },
    {
     "data": {
      "text/plain": [
       "[<matplotlib.lines.Line2D at 0x114110d8bb0>]"
      ]
     },
     "execution_count": 44,
     "metadata": {},
     "output_type": "execute_result"
    },
    {
     "data": {
      "text/plain": [
       "[<matplotlib.lines.Line2D at 0x114110d8fd0>]"
      ]
     },
     "execution_count": 44,
     "metadata": {},
     "output_type": "execute_result"
    },
    {
     "data": {
      "text/plain": [
       "Text(0.5, 0, 'False Positive Rate (1-Specificity)')"
      ]
     },
     "execution_count": 44,
     "metadata": {},
     "output_type": "execute_result"
    },
    {
     "data": {
      "text/plain": [
       "Text(0, 0.5, 'True Positive Rate (Sensitivity)')"
      ]
     },
     "execution_count": 44,
     "metadata": {},
     "output_type": "execute_result"
    },
    {
     "data": {
      "text/plain": [
       "Text(0.5, 1.0, 'ROC Curve: Random Forest Default')"
      ]
     },
     "execution_count": 44,
     "metadata": {},
     "output_type": "execute_result"
    },
    {
     "data": {
      "text/plain": [
       "<matplotlib.legend.Legend at 0x114110cdf40>"
      ]
     },
     "execution_count": 44,
     "metadata": {},
     "output_type": "execute_result"
    },
    {
     "data": {
      "image/png": "[encoded data removed]",
      "text/plain": [
       "<Figure size 432x288 with 1 Axes>"
      ]
     },
     "metadata": {
      "needs_background": "light"
     },
     "output_type": "display_data"
    },
    {
     "data": {
      "text/plain": [
       "[<matplotlib.lines.Line2D at 0x1141113f580>]"
      ]
     },
     "execution_count": 44,
     "metadata": {},
     "output_type": "execute_result"
    },
    {
     "data": {
      "text/plain": [
       "[<matplotlib.lines.Line2D at 0x1141113f7c0>]"
      ]
     },
     "execution_count": 44,
     "metadata": {},
     "output_type": "execute_result"
    },
    {
     "data": {
      "text/plain": [
       "Text(0.5, 0, 'Recall')"
      ]
     },
     "execution_count": 44,
     "metadata": {},
     "output_type": "execute_result"
    },
    {
     "data": {
      "text/plain": [
       "Text(0, 0.5, 'Precision')"
      ]
     },
     "execution_count": 44,
     "metadata": {},
     "output_type": "execute_result"
    },
    {
     "data": {
      "text/plain": [
       "Text(0.5, 1.0, 'Precision-Recall Curve: Logistic Regression CV')"
      ]
     },
     "execution_count": 44,
     "metadata": {},
     "output_type": "execute_result"
    },
    {
     "data": {
      "text/plain": [
       "<matplotlib.legend.Legend at 0x1141113fb50>"
      ]
     },
     "execution_count": 44,
     "metadata": {},
     "output_type": "execute_result"
    },
    {
     "data": {
      "image/png": "[encoded data removed]",
      "text/plain": [
       "<Figure size 432x288 with 1 Axes>"
      ]
     },
     "metadata": {
      "needs_background": "light"
     },
     "output_type": "display_data"
    }
   ],
   "source": [
    "# make a predicition\n",
    "prediction_cv_lg = model_cv_lg.predict(X_test)\n",
    "print(f\"Prediction: {prediction_cv_lg}\")\n",
    "\n",
    "# make a predict probability\n",
    "probability_cv_lg = model_cv_lg.predict_proba(X_test)\n",
    "print(f\"Probability: {probability_cv_lg}\")\n",
    "\n",
    "# call function main_metrics()\n",
    "print_main_metrics(y_test, prediction_cv_lg, model_cv_lg)\n",
    "\n",
    "\n",
    "class_names = ['Class+', 'Class-']\n",
    "# Plot non-normalized confusion matrix\n",
    "titles_options = [(\"LG: Confusion matrix, without normalization\", None),\n",
    "                  (\"LG: Normalized confusion matrix\", 'true')]\n",
    "\n",
    "for title, normalize in titles_options:\n",
    "    disp = plot_confusion_matrix(model_cv_lg, X_test, y_test,\n",
    "                                 display_labels=class_names,\n",
    "                                 cmap=plt.cm.Blues,\n",
    "                                 normalize=normalize)\n",
    "    disp.ax_.set_title(title)\n",
    "\n",
    "    print(title)\n",
    "    print(disp.confusion_matrix)\n",
    "\n",
    "plt.show()\n",
    "\n",
    "####################################################################\n",
    "\n",
    "#Draw ROC Curve\n",
    "y_pred_proba = model_cv_lg.predict_proba(X_test)[::,1]\n",
    "\n",
    "fpr, tpr, _ = metrics.roc_curve(y_test,  y_pred_proba)\n",
    "\n",
    "roc_auc = metrics.roc_auc_score(y_test, y_pred_proba)\n",
    "\n",
    "dict_fine_tuning['Logistic_Regrression_CV']['ROC_score'] = roc_auc\n",
    "\n",
    "plt.plot(fpr,tpr,label=\"ROC Curve area=\"+ str(roc_auc), color='red')\n",
    "plt.plot([0, 1], [0, 1], color='navy', linestyle='--')\n",
    "plt.xlabel('False Positive Rate (1-Specificity)')\n",
    "plt.ylabel('True Positive Rate (Sensitivity)')\n",
    "plt.title(f'ROC Curve: Random Forest Default')\n",
    "plt.legend(loc=\"lower right\")\n",
    "plt.show()\n",
    "\n",
    "###################################################################\n",
    "\n",
    "#Draw precision-recall curve\n",
    "y_pred_proba = model_cv_lg.predict_proba(X_test)[::,1]\n",
    "precision, recall, _ = precision_recall_curve(y_test, y_pred_proba)\n",
    "f1 = metrics.f1_score(y_test, prediction_cv_lg)          #\n",
    "auc = metrics.roc_auc_score(y_test, prediction_cv_lg)  #\n",
    "plt.plot([0, 1], [0.5, 0.5], color='navy', linestyle='--', label = 'No Pred. Value')\n",
    "plt.plot(recall, precision, label='logit', color='red')\n",
    "plt.xlabel('Recall')\n",
    "plt.ylabel('Precision')\n",
    "plt.title('Precision-Recall Curve: Logistic Regression CV')\n",
    "plt.legend(loc=\"upper right\")\n",
    "plt.show()\n",
    "\n",
    "####################################################################\n",
    "\n",
    "dict_fine_tuning['Logistic_Regrression_CV']['Accuracy_Score'] = metrics.accuracy_score(y_test, prediction_cv_lg)\n",
    "dict_fine_tuning['Logistic_Regrression_CV']['Average_Precision_Score'] = metrics.average_precision_score(y_test, prediction_cv_lg)\n",
    "dict_fine_tuning['Logistic_Regrression_CV']['F1_Score'] = metrics.f1_score(y_test, prediction_cv_lg)\n",
    "dict_fine_tuning['Logistic_Regrression_CV']['Precision'] = metrics.precision_score(y_test, prediction_cv_lg)\n",
    "dict_fine_tuning['Logistic_Regrression_CV']['Recall'] = metrics.recall_score(y_test, prediction_cv_lg)"
   ]
  },
  {
   "cell_type": "markdown",
   "metadata": {},
   "source": [
    "## \\$$ Random Forest Fine Tuning: $$\n",
    "\n",
    "Funtion Random Forest have this hyperparameters:\n",
    "```\n",
    "RandomForestClassifier(n_estimators=100,*,criterion='gini',\n",
    "                        max_depth=None,min_samples_split=2,\n",
    "                        min_samples_leaf=1,min_weight_fraction_leaf=0.0,\n",
    "                        max_features='auto',max_leaf_nodes=None,min_impurity_decrease=0.0,\n",
    "                        min_impurity_split=None,bootstrap=True,oob_score=False,\n",
    "                        n_jobs=None,random_state=None,verbose=0,warm_start=False,\n",
    "                        class_weight=None,ccp_alpha=0.0,max_samples=None,)\n",
    "```"
   ]
  },
  {
   "cell_type": "markdown",
   "metadata": {},
   "source": [
    "I will tune:\n",
    "- **n_estimator**:int, default=100. The number of trees in the forest.\n",
    "- **criterion:** {“gini”, “entropy”}, default=”gini”. The function to measure the quality of a split. Supported criteria are “gini” for the Gini impurity and “entropy” for the information gain. Note: this parameter is tree-specific.\n",
    "- **max_depth:** int, default=None The maximum depth of the tree. If None, then nodes are expanded until all leaves are pure or until all leaves contain less than min_samples_split samples.\n",
    "- **min_samplest_split:**The minimum number of samples required to split an internal node:\n",
    "    - If int, then consider min_samples_split as the minimum number.\n",
    "    - If float, then min_samples_split is a fraction and ceil(min_samples_split * n_samples) are the minimum number of samples for each split."
   ]
  },
  {
   "cell_type": "code",
   "execution_count": 45,
   "metadata": {},
   "outputs": [],
   "source": [
    "# RandomForestClassifier\n",
    "grid_rf = {'n_estimators': (1, 10, 100, 1000),                #The number of trees in the forest\n",
    "        'criterion': ('gini', 'entropy'),                              #The function to measure the quality of a split\n",
    "        'max_depth': (3, 5, 7),                                     #The maximum depth of the tree\n",
    "        'min_samples_split': (0.0001, 0.001, 0.01),   #The minimum number of samples required to split an internal node\n",
    "                }"
   ]
  },
  {
   "cell_type": "code",
   "execution_count": 46,
   "metadata": {},
   "outputs": [
    {
     "data": {
      "text/plain": [
       "GridSearchCV(cv=5, estimator=RandomForestClassifier(),\n",
       "             param_grid={'criterion': ('gini', 'entropy'),\n",
       "                         'max_depth': (3, 5, 7),\n",
       "                         'min_samples_split': (0.0001, 0.001, 0.01),\n",
       "                         'n_estimators': (1, 10, 100, 1000)})"
      ]
     },
     "execution_count": 46,
     "metadata": {},
     "output_type": "execute_result"
    },
    {
     "name": "stdout",
     "output_type": "stream",
     "text": [
      "Best_Parameters: {'criterion': 'entropy', 'max_depth': 7, 'min_samples_split': 0.01, 'n_estimators': 100}\n",
      "Prediction: [1 0 0 0 0 1 0 1 0 0 0 0 1 1 1 0 0 1 0 0 0 1 1 1 0 1 0]\n",
      "Probability: [[0.24325758 0.75674242]\n",
      " [0.66       0.34      ]\n",
      " [0.67555556 0.32444444]\n",
      " [0.58888889 0.41111111]\n",
      " [0.6875     0.3125    ]\n",
      " [0.345      0.655     ]\n",
      " [0.56770202 0.43229798]\n",
      " [0.45793651 0.54206349]\n",
      " [0.78777778 0.21222222]\n",
      " [0.75416667 0.24583333]\n",
      " [0.67845238 0.32154762]\n",
      " [0.58440837 0.41559163]\n",
      " [0.44       0.56      ]\n",
      " [0.49210317 0.50789683]\n",
      " [0.43452381 0.56547619]\n",
      " [0.67809524 0.32190476]\n",
      " [0.51       0.49      ]\n",
      " [0.38035714 0.61964286]\n",
      " [0.50333333 0.49666667]\n",
      " [0.53984127 0.46015873]\n",
      " [0.94824675 0.05175325]\n",
      " [0.46083333 0.53916667]\n",
      " [0.32675758 0.67324242]\n",
      " [0.39242424 0.60757576]\n",
      " [0.55416667 0.44583333]\n",
      " [0.40909091 0.59090909]\n",
      " [0.72       0.28      ]]\n",
      "============================================================\n",
      "Accuracy_Score:          0.593\n",
      "Average_Precision_Score: 0.495\n",
      "F1 Score:                0.522\n",
      "Precision:               0.545\n",
      "Recall:                  0.500\n",
      "============================================================\n",
      "              precision    recall  f1-score   support\n",
      "\n",
      "           0       0.62      0.67      0.65        15\n",
      "           1       0.55      0.50      0.52        12\n",
      "\n",
      "    accuracy                           0.59        27\n",
      "   macro avg       0.59      0.58      0.58        27\n",
      "weighted avg       0.59      0.59      0.59        27\n",
      "\n",
      "============================================================\n"
     ]
    },
    {
     "data": {
      "text/plain": [
       "Text(0.5, 1.0, 'Random Forest: Confusion matrix, without normalization')"
      ]
     },
     "execution_count": 46,
     "metadata": {},
     "output_type": "execute_result"
    },
    {
     "name": "stdout",
     "output_type": "stream",
     "text": [
      "Random Forest: Confusion matrix, without normalization\n",
      "[[9 6]\n",
      " [6 6]]\n"
     ]
    },
    {
     "data": {
      "text/plain": [
       "Text(0.5, 1.0, 'Random Forest: Normalized confusion matrix')"
      ]
     },
     "execution_count": 46,
     "metadata": {},
     "output_type": "execute_result"
    },
    {
     "name": "stdout",
     "output_type": "stream",
     "text": [
      "Random Forest: Normalized confusion matrix\n",
      "[[0.6 0.4]\n",
      " [0.5 0.5]]\n"
     ]
    },
    {
     "data": {
      "image/png": "[encoded data removed]",
      "text/plain": [
       "<Figure size 432x288 with 2 Axes>"
      ]
     },
     "metadata": {
      "needs_background": "light"
     },
     "output_type": "display_data"
    },
    {
     "data": {
      "image/png": "[encoded data removed]",
      "text/plain": [
       "<Figure size 432x288 with 2 Axes>"
      ]
     },
     "metadata": {
      "needs_background": "light"
     },
     "output_type": "display_data"
    },
    {
     "data": {
      "text/plain": [
       "[<matplotlib.lines.Line2D at 0x11410da4df0>]"
      ]
     },
     "execution_count": 46,
     "metadata": {},
     "output_type": "execute_result"
    },
    {
     "data": {
      "text/plain": [
       "[<matplotlib.lines.Line2D at 0x11410da48e0>]"
      ]
     },
     "execution_count": 46,
     "metadata": {},
     "output_type": "execute_result"
    },
    {
     "data": {
      "text/plain": [
       "Text(0.5, 0, 'False Positive Rate (1-Specificity)')"
      ]
     },
     "execution_count": 46,
     "metadata": {},
     "output_type": "execute_result"
    },
    {
     "data": {
      "text/plain": [
       "Text(0, 0.5, 'True Positive Rate (Sensitivity)')"
      ]
     },
     "execution_count": 46,
     "metadata": {},
     "output_type": "execute_result"
    },
    {
     "data": {
      "text/plain": [
       "Text(0.5, 1.0, 'ROC Curve: Random Forest Default')"
      ]
     },
     "execution_count": 46,
     "metadata": {},
     "output_type": "execute_result"
    },
    {
     "data": {
      "text/plain": [
       "<matplotlib.legend.Legend at 0x11410da4e20>"
      ]
     },
     "execution_count": 46,
     "metadata": {},
     "output_type": "execute_result"
    },
    {
     "data": {
      "image/png": "[encoded data removed]",
      "text/plain": [
       "<Figure size 432x288 with 1 Axes>"
      ]
     },
     "metadata": {
      "needs_background": "light"
     },
     "output_type": "display_data"
    },
    {
     "data": {
      "text/plain": [
       "[<matplotlib.lines.Line2D at 0x1140fd29e50>]"
      ]
     },
     "execution_count": 46,
     "metadata": {},
     "output_type": "execute_result"
    },
    {
     "data": {
      "text/plain": [
       "[<matplotlib.lines.Line2D at 0x1140fd29850>]"
      ]
     },
     "execution_count": 46,
     "metadata": {},
     "output_type": "execute_result"
    },
    {
     "data": {
      "text/plain": [
       "Text(0.5, 0, 'Recall')"
      ]
     },
     "execution_count": 46,
     "metadata": {},
     "output_type": "execute_result"
    },
    {
     "data": {
      "text/plain": [
       "Text(0, 0.5, 'Precision')"
      ]
     },
     "execution_count": 46,
     "metadata": {},
     "output_type": "execute_result"
    },
    {
     "data": {
      "text/plain": [
       "Text(0.5, 1.0, 'Precision-Recall Curve: Logistic Regression CV')"
      ]
     },
     "execution_count": 46,
     "metadata": {},
     "output_type": "execute_result"
    },
    {
     "data": {
      "text/plain": [
       "<matplotlib.legend.Legend at 0x1140fd29d30>"
      ]
     },
     "execution_count": 46,
     "metadata": {},
     "output_type": "execute_result"
    },
    {
     "data": {
      "image/png": "[encoded data removed]",
      "text/plain": [
       "<Figure size 432x288 with 1 Axes>"
      ]
     },
     "metadata": {
      "needs_background": "light"
     },
     "output_type": "display_data"
    }
   ],
   "source": [
    "model_cv_rf = GridSearchCV(model_rf, grid_rf, cv=5)\n",
    "\n",
    "model_cv_rf.fit(X_train, y_train)\n",
    "\n",
    "print(f\"Best_Parameters: {model_cv_rf.best_params_}\")\n",
    "\n",
    "# make a predicition\n",
    "prediction_cv_rf = model_cv_rf.predict(X_test)\n",
    "print(f\"Prediction: {prediction_cv_rf}\")\n",
    "\n",
    "# make a predict probability\n",
    "probability_cv_rf = model_cv_rf.predict_proba(X_test)\n",
    "print(f\"Probability: {probability_cv_rf}\")\n",
    "\n",
    "# call function main_metrics()\n",
    "print_main_metrics(y_test, prediction_cv_rf, model_cv_rf)\n",
    "\n",
    "\n",
    "class_names = ['Class+', 'Class-']\n",
    "# Plot non-normalized confusion matrix\n",
    "titles_options = [(\"Random Forest: Confusion matrix, without normalization\", None),\n",
    "                  (\"Random Forest: Normalized confusion matrix\", 'true')]\n",
    "\n",
    "for title, normalize in titles_options:\n",
    "    disp = plot_confusion_matrix(model_cv_lg, X_test, y_test,\n",
    "                                 display_labels=class_names,\n",
    "                                 cmap=plt.cm.Blues,\n",
    "                                 normalize=normalize)\n",
    "    disp.ax_.set_title(title)\n",
    "\n",
    "    print(title)\n",
    "    print(disp.confusion_matrix)\n",
    "\n",
    "plt.show()\n",
    "\n",
    "####################################################################\n",
    "\n",
    "#Draw ROC Curve\n",
    "y_pred_proba = model_cv_rf.predict_proba(X_test)[::,1]\n",
    "\n",
    "fpr, tpr, _ = metrics.roc_curve(y_test,  y_pred_proba)\n",
    "\n",
    "roc_auc = metrics.roc_auc_score(y_test, y_pred_proba)\n",
    "\n",
    "dict_fine_tuning['Random_Forest_CV']['ROC_score'] = roc_auc\n",
    "\n",
    "plt.plot(fpr,tpr,label=\"ROC Curve area=\"+ str(roc_auc), color='red')\n",
    "plt.plot([0, 1], [0, 1], color='navy', linestyle='--')\n",
    "plt.xlabel('False Positive Rate (1-Specificity)')\n",
    "plt.ylabel('True Positive Rate (Sensitivity)')\n",
    "plt.title(f'ROC Curve: Random Forest Default')\n",
    "plt.legend(loc=\"lower right\")\n",
    "plt.show()\n",
    "\n",
    "###################################################################\n",
    "\n",
    "#Draw precision-recall curve\n",
    "y_pred_proba = model_cv_rf.predict_proba(X_test)[::,1]\n",
    "precision, recall, _ = precision_recall_curve(y_test, y_pred_proba)\n",
    "f1 = metrics.f1_score(y_test, prediction_cv_rf)          #\n",
    "auc = metrics.roc_auc_score(y_test, prediction_cv_rf)  #\n",
    "plt.plot([0, 1], [0.5, 0.5], color='navy', linestyle='--', label = 'No Pred. Value')\n",
    "plt.plot(recall, precision, label='logit', color='red')\n",
    "plt.xlabel('Recall')\n",
    "plt.ylabel('Precision')\n",
    "plt.title('Precision-Recall Curve: Logistic Regression CV')\n",
    "plt.legend(loc=\"upper right\")\n",
    "plt.show()\n",
    "\n",
    "####################################################################\n",
    "\n",
    "dict_fine_tuning['Random_Forest_CV']['Accuracy_Score'] = metrics.accuracy_score(y_test, prediction_cv_rf)\n",
    "dict_fine_tuning['Random_Forest_CV']['Average_Precision_Score'] = metrics.average_precision_score(y_test, prediction_cv_rf)\n",
    "dict_fine_tuning['Random_Forest_CV']['F1_Score'] = metrics.f1_score(y_test, prediction_cv_rf)\n",
    "dict_fine_tuning['Random_Forest_CV']['Precision'] = metrics.precision_score(y_test, prediction_cv_rf)\n",
    "dict_fine_tuning['Random_Forest_CV']['Recall'] = metrics.recall_score(y_test, prediction_cv_rf)"
   ]
  },
  {
   "cell_type": "code",
   "execution_count": null,
   "metadata": {},
   "outputs": [],
   "source": []
  },
  {
   "cell_type": "markdown",
   "metadata": {},
   "source": [
    "## \\$$ SVC $$\n",
    "\n",
    "Funtion SVC have this hyperparameters:\n",
    "```\n",
    "SVC(*,C=1.0, kernel='rbf', degree=3, gamma='scale', coef0=0.0, shrinking=True, \n",
    "                                    probability=False, tol=0.001, cache_size=200,  \n",
    "                                    class_weight=None,verbose=False,max_iter=-1,decision_function_shape='ovr',\n",
    "                                    break_ties=False,random_state=None,)                     \n",
    "```"
   ]
  },
  {
   "cell_type": "markdown",
   "metadata": {},
   "source": [
    "I will tune:\n",
    "- **C:**float, default=1.0 Regularization parameter. The strength of the regularization is inversely proportional to C. Must be strictly positive. The penalty is a squared l2 penalty.\n",
    "- **kernel:**{‘linear’, ‘poly’, ‘rbf’, ‘sigmoid’, ‘precomputed’}, default=’rbf’ Specifies the kernel type to be used in the algorithm. It must be one of ‘linear’, ‘poly’, ‘rbf’, ‘sigmoid’, ‘precomputed’ or a callable. If none is given, ‘rbf’ will be used. If a callable is given it is used to pre-compute the kernel matrix from data matrices; that matrix should be an array of shape (n_samples, n_samples)\n",
    "- **degree:**default=3 Degree of the polynomial kernel function (‘poly’). Ignored by all other kernels.\n",
    "- **gamma:**{‘scale’, ‘auto’} or float, default=’scale’. Kernel coefficient for ‘rbf’, ‘poly’ and ‘sigmoid’.\n",
    "    - if gamma='scale' (default) is passed then it uses 1 / (n_features * X.var()) as value of gamma,\n",
    "    - if ‘auto’, uses 1 / n_features."
   ]
  },
  {
   "cell_type": "code",
   "execution_count": 47,
   "metadata": {},
   "outputs": [],
   "source": [
    "#SVC grid\n",
    "grid_svc = {\n",
    "    'C':[0.1, 0.01, 0.001, 0.0001],\n",
    "    'kernel' : [\"linear\",\"poly\",\"rbf\",\"sigmoid\"],\n",
    "    'degree' : [1, 3, 5],\n",
    "    'gamma' : [0.1, 0.01, 0.001],\n",
    "}"
   ]
  },
  {
   "cell_type": "code",
   "execution_count": 48,
   "metadata": {},
   "outputs": [
    {
     "data": {
      "text/plain": [
       "GridSearchCV(cv=5, estimator=SVC(probability=True),\n",
       "             param_grid={'C': [0.1, 0.01, 0.001, 0.0001], 'degree': [1, 3, 5],\n",
       "                         'gamma': [0.1, 0.01, 0.001],\n",
       "                         'kernel': ['linear', 'poly', 'rbf', 'sigmoid']})"
      ]
     },
     "execution_count": 48,
     "metadata": {},
     "output_type": "execute_result"
    },
    {
     "name": "stdout",
     "output_type": "stream",
     "text": [
      "Best_Parameters: {'C': 0.1, 'degree': 1, 'gamma': 0.1, 'kernel': 'poly'}\n",
      "Prediction: [1 0 1 0 0 1 1 1 0 0 0 0 1 1 0 0 1 1 1 1 0 1 1 0 1 1 1]\n",
      "Probability: [[0.10819007 0.89180993]\n",
      " [0.7397342  0.2602658 ]\n",
      " [0.44059519 0.55940481]\n",
      " [0.67763501 0.32236499]\n",
      " [0.65923958 0.34076042]\n",
      " [0.44418646 0.55581354]\n",
      " [0.33012969 0.66987031]\n",
      " [0.19087192 0.80912808]\n",
      " [0.91231621 0.08768379]\n",
      " [0.57558693 0.42441307]\n",
      " [0.64698332 0.35301668]\n",
      " [0.62108163 0.37891837]\n",
      " [0.17847255 0.82152745]\n",
      " [0.37398425 0.62601575]\n",
      " [0.53528816 0.46471184]\n",
      " [0.5062672  0.4937328 ]\n",
      " [0.35634595 0.64365405]\n",
      " [0.5        0.5       ]\n",
      " [0.45283171 0.54716829]\n",
      " [0.4571202  0.5428798 ]\n",
      " [0.8077536  0.1922464 ]\n",
      " [0.41083467 0.58916533]\n",
      " [0.28995446 0.71004554]\n",
      " [0.51524421 0.48475579]\n",
      " [0.26030769 0.73969231]\n",
      " [0.31725868 0.68274132]\n",
      " [0.47515971 0.52484029]]\n",
      "============================================================\n",
      "Accuracy_Score:          0.556\n",
      "Average_Precision_Score: 0.481\n",
      "F1 Score:                0.571\n",
      "Precision:               0.500\n",
      "Recall:                  0.667\n",
      "============================================================\n",
      "              precision    recall  f1-score   support\n",
      "\n",
      "           0       0.64      0.47      0.54        15\n",
      "           1       0.50      0.67      0.57        12\n",
      "\n",
      "    accuracy                           0.56        27\n",
      "   macro avg       0.57      0.57      0.55        27\n",
      "weighted avg       0.58      0.56      0.55        27\n",
      "\n",
      "============================================================\n"
     ]
    },
    {
     "data": {
      "text/plain": [
       "Text(0.5, 1.0, 'SVC: Confusion matrix, without normalization')"
      ]
     },
     "execution_count": 48,
     "metadata": {},
     "output_type": "execute_result"
    },
    {
     "name": "stdout",
     "output_type": "stream",
     "text": [
      "SVC: Confusion matrix, without normalization\n",
      "[[7 8]\n",
      " [4 8]]\n"
     ]
    },
    {
     "data": {
      "text/plain": [
       "Text(0.5, 1.0, 'SVC: Normalized confusion matrix')"
      ]
     },
     "execution_count": 48,
     "metadata": {},
     "output_type": "execute_result"
    },
    {
     "name": "stdout",
     "output_type": "stream",
     "text": [
      "SVC: Normalized confusion matrix\n",
      "[[0.46666667 0.53333333]\n",
      " [0.33333333 0.66666667]]\n"
     ]
    },
    {
     "data": {
      "image/png": "[encoded data removed]",
      "text/plain": [
       "<Figure size 432x288 with 2 Axes>"
      ]
     },
     "metadata": {
      "needs_background": "light"
     },
     "output_type": "display_data"
    },
    {
     "data": {
      "image/png": "[encoded data removed]",
      "text/plain": [
       "<Figure size 432x288 with 2 Axes>"
      ]
     },
     "metadata": {
      "needs_background": "light"
     },
     "output_type": "display_data"
    },
    {
     "data": {
      "text/plain": [
       "[<matplotlib.lines.Line2D at 0x11411054970>]"
      ]
     },
     "execution_count": 48,
     "metadata": {},
     "output_type": "execute_result"
    },
    {
     "data": {
      "text/plain": [
       "[<matplotlib.lines.Line2D at 0x11411054cd0>]"
      ]
     },
     "execution_count": 48,
     "metadata": {},
     "output_type": "execute_result"
    },
    {
     "data": {
      "text/plain": [
       "Text(0.5, 0, 'False Positive Rate (1-Specificity)')"
      ]
     },
     "execution_count": 48,
     "metadata": {},
     "output_type": "execute_result"
    },
    {
     "data": {
      "text/plain": [
       "Text(0, 0.5, 'True Positive Rate (Sensitivity)')"
      ]
     },
     "execution_count": 48,
     "metadata": {},
     "output_type": "execute_result"
    },
    {
     "data": {
      "text/plain": [
       "Text(0.5, 1.0, 'ROC Curve: SVC')"
      ]
     },
     "execution_count": 48,
     "metadata": {},
     "output_type": "execute_result"
    },
    {
     "data": {
      "text/plain": [
       "<matplotlib.legend.Legend at 0x11411054400>"
      ]
     },
     "execution_count": 48,
     "metadata": {},
     "output_type": "execute_result"
    },
    {
     "data": {
      "image/png": "[encoded data removed]",
      "text/plain": [
       "<Figure size 432x288 with 1 Axes>"
      ]
     },
     "metadata": {
      "needs_background": "light"
     },
     "output_type": "display_data"
    },
    {
     "data": {
      "text/plain": [
       "[<matplotlib.lines.Line2D at 0x11410dac2b0>]"
      ]
     },
     "execution_count": 48,
     "metadata": {},
     "output_type": "execute_result"
    },
    {
     "data": {
      "text/plain": [
       "[<matplotlib.lines.Line2D at 0x11410dac820>]"
      ]
     },
     "execution_count": 48,
     "metadata": {},
     "output_type": "execute_result"
    },
    {
     "data": {
      "text/plain": [
       "Text(0.5, 0, 'Recall')"
      ]
     },
     "execution_count": 48,
     "metadata": {},
     "output_type": "execute_result"
    },
    {
     "data": {
      "text/plain": [
       "Text(0, 0.5, 'Precision')"
      ]
     },
     "execution_count": 48,
     "metadata": {},
     "output_type": "execute_result"
    },
    {
     "data": {
      "text/plain": [
       "Text(0.5, 1.0, 'Precision-Recall Curve: SVC CV')"
      ]
     },
     "execution_count": 48,
     "metadata": {},
     "output_type": "execute_result"
    },
    {
     "data": {
      "text/plain": [
       "<matplotlib.legend.Legend at 0x11410dacc10>"
      ]
     },
     "execution_count": 48,
     "metadata": {},
     "output_type": "execute_result"
    },
    {
     "data": {
      "image/png": "[encoded data removed]",
      "text/plain": [
       "<Figure size 432x288 with 1 Axes>"
      ]
     },
     "metadata": {
      "needs_background": "light"
     },
     "output_type": "display_data"
    }
   ],
   "source": [
    "model_cv_svc = GridSearchCV(model_svc, grid_svc, cv=5)\n",
    "\n",
    "model_cv_svc.fit(X_train, y_train)\n",
    "\n",
    "print(f\"Best_Parameters: {model_cv_svc.best_params_}\")\n",
    "\n",
    "# make a predicition\n",
    "prediction_cv_svc = model_cv_svc.predict(X_test)\n",
    "print(f\"Prediction: {prediction_cv_svc}\")\n",
    "\n",
    "# make a predict probability\n",
    "probability_cv_svc = model_cv_svc.predict_proba(X_test)\n",
    "print(f\"Probability: {probability_cv_svc}\")\n",
    "\n",
    "# call function main_metrics()\n",
    "print_main_metrics(y_test, prediction_cv_svc, model_cv_svc)\n",
    "\n",
    "####################################################################\n",
    "\n",
    "class_names = ['Class+', 'Class-']\n",
    "# Plot non-normalized confusion matrix\n",
    "titles_options = [(\"SVC: Confusion matrix, without normalization\", None),\n",
    "                  (\"SVC: Normalized confusion matrix\", 'true')]\n",
    "\n",
    "for title, normalize in titles_options:\n",
    "    disp = plot_confusion_matrix(model_cv_svc, X_test, y_test,\n",
    "                                 display_labels= class_names,\n",
    "                                 cmap=plt.cm.Blues,\n",
    "                                 normalize=normalize)\n",
    "    disp.ax_.set_title(title)\n",
    "\n",
    "    print(title)\n",
    "    print(disp.confusion_matrix)\n",
    "\n",
    "plt.show()\n",
    "\n",
    "####################################################################\n",
    "\n",
    "#Draw ROC Curve\n",
    "y_pred_proba = model_cv_svc.predict_proba(X_test)[::,1]\n",
    "\n",
    "fpr, tpr, _ = metrics.roc_curve(y_test,  y_pred_proba)\n",
    "\n",
    "roc_auc = metrics.roc_auc_score(y_test, y_pred_proba)\n",
    "\n",
    "dict_fine_tuning['SVC_CV']['ROC_score'] = roc_auc\n",
    "\n",
    "plt.plot(fpr,tpr,label=\"ROC Curve area=\"+ str(roc_auc), color='red')\n",
    "plt.plot([0, 1], [0, 1], color='navy', linestyle='--')\n",
    "plt.xlabel('False Positive Rate (1-Specificity)')\n",
    "plt.ylabel('True Positive Rate (Sensitivity)')\n",
    "plt.title(f'ROC Curve: SVC')\n",
    "plt.legend(loc=\"lower right\")\n",
    "plt.show()\n",
    "\n",
    "###################################################################\n",
    "\n",
    "#Draw precision-recall curve\n",
    "y_pred_proba = model_cv_svc.predict_proba(X_test)[::,1]\n",
    "precision, recall, _ = precision_recall_curve(y_test, y_pred_proba)\n",
    "f1 = metrics.f1_score(y_test, prediction_cv_svc)          #\n",
    "auc = metrics.roc_auc_score(y_test, prediction_cv_svc)  #\n",
    "plt.plot([0, 1], [0.5, 0.5], color='navy', linestyle='--', label = 'No Pred. Value')\n",
    "plt.plot(recall, precision, label='logit', color='red')\n",
    "plt.xlabel('Recall')\n",
    "plt.ylabel('Precision')\n",
    "plt.title('Precision-Recall Curve: SVC CV')\n",
    "plt.legend(loc=\"upper right\")\n",
    "plt.show()\n",
    "\n",
    "####################################################################\n",
    "\n",
    "dict_fine_tuning['SVC_CV']['Accuracy_Score'] = metrics.accuracy_score(y_test, prediction_cv_svc)\n",
    "dict_fine_tuning['SVC_CV']['Average_Precision_Score'] = metrics.average_precision_score(y_test, prediction_cv_svc)\n",
    "dict_fine_tuning['SVC_CV']['F1_Score'] = metrics.f1_score(y_test, prediction_cv_svc)\n",
    "dict_fine_tuning['SVC_CV']['Precision'] = metrics.precision_score(y_test, prediction_cv_svc)\n",
    "dict_fine_tuning['SVC_CV']['Recall'] = metrics.recall_score(y_test, prediction_cv_svc)"
   ]
  },
  {
   "cell_type": "markdown",
   "metadata": {},
   "source": [
    "# COMPARISON"
   ]
  },
  {
   "cell_type": "code",
   "execution_count": 49,
   "metadata": {},
   "outputs": [
    {
     "data": {
      "text/plain": [
       "{'Logistic_Regrression': {'Accuracy_Score': 0.7452830188679245,\n",
       "  'Average_Precision_Score': 0.6816911250873515,\n",
       "  'Precision': 0.7407407407407407,\n",
       "  'Recall': 0.7547169811320755,\n",
       "  'F1_Score': 0.7476635514018692,\n",
       "  'ROC_score': 0.8401566393734425},\n",
       " 'Random_Forest': {'Accuracy_Score': 1.0,\n",
       "  'Average_Precision_Score': 1.0,\n",
       "  'Precision': 1.0,\n",
       "  'Recall': 1.0,\n",
       "  'F1_Score': 1.0,\n",
       "  'ROC_score': 1.0},\n",
       " 'SVC': {'Accuracy_Score': 0.9433962264150944,\n",
       "  'Average_Precision_Score': 0.9045018205892088,\n",
       "  'Precision': 0.9122807017543859,\n",
       "  'Recall': 0.9811320754716981,\n",
       "  'F1_Score': 0.9454545454545454,\n",
       "  'ROC_score': 0.9934140263438946}}"
      ]
     },
     "execution_count": 49,
     "metadata": {},
     "output_type": "execute_result"
    }
   ],
   "source": [
    "dict_default"
   ]
  },
  {
   "cell_type": "code",
   "execution_count": 50,
   "metadata": {},
   "outputs": [
    {
     "data": {
      "text/plain": [
       "{'Logistic_Regrression_CV': {'Accuracy_Score': 0.5555555555555556,\n",
       "  'Average_Precision_Score': 0.4722222222222222,\n",
       "  'Precision': 0.5,\n",
       "  'Recall': 0.5,\n",
       "  'F1_Score': 0.5,\n",
       "  'ROC_score': 0.4833333333333333},\n",
       " 'Random_Forest_CV': {'Accuracy_Score': 0.5925925925925926,\n",
       "  'Average_Precision_Score': 0.4949494949494949,\n",
       "  'Precision': 0.5454545454545454,\n",
       "  'Recall': 0.5,\n",
       "  'F1_Score': 0.5217391304347826,\n",
       "  'ROC_score': 0.6333333333333333},\n",
       " 'SVC_CV': {'Accuracy_Score': 0.5555555555555556,\n",
       "  'Average_Precision_Score': 0.4814814814814815,\n",
       "  'Precision': 0.5,\n",
       "  'Recall': 0.6666666666666666,\n",
       "  'F1_Score': 0.5714285714285715,\n",
       "  'ROC_score': 0.5166666666666667}}"
      ]
     },
     "execution_count": 50,
     "metadata": {},
     "output_type": "execute_result"
    }
   ],
   "source": [
    "dict_fine_tuning"
   ]
  },
  {
   "cell_type": "markdown",
   "metadata": {},
   "source": [
    "### ROC Curve Comparison:"
   ]
  },
  {
   "cell_type": "code",
   "execution_count": 51,
   "metadata": {},
   "outputs": [
    {
     "data": {
      "text/plain": [
       "Text(0.5, 0.98, 'ROC curve comparison')"
      ]
     },
     "execution_count": 51,
     "metadata": {},
     "output_type": "execute_result"
    },
    {
     "data": {
      "image/png": "[encoded data removed]",
      "text/plain": [
       "<Figure size 432x288 with 1 Axes>"
      ]
     },
     "metadata": {
      "needs_background": "light"
     },
     "output_type": "display_data"
    }
   ],
   "source": [
    "svc_disp = plot_roc_curve(model_cv_svc, X_test, y_test, name='SCV')\n",
    "rfc_disp = plot_roc_curve(model_cv_rf, X_test, y_test, ax=svc_disp.ax_, name='Random Forest')\n",
    "lg_disp = plot_roc_curve(model_cv_lg, X_test, y_test, ax=svc_disp.ax_, name= 'LG')\n",
    "\n",
    "rfc_disp.figure_.suptitle(\"ROC curve comparison\")\n",
    "plt.show()"
   ]
  },
  {
   "cell_type": "markdown",
   "metadata": {},
   "source": [
    "### Precision- Recall Curve Comparison:"
   ]
  },
  {
   "cell_type": "code",
   "execution_count": 52,
   "metadata": {},
   "outputs": [
    {
     "data": {
      "text/plain": [
       "Text(0.5, 0.98, 'ROC curve comparison')"
      ]
     },
     "execution_count": 52,
     "metadata": {},
     "output_type": "execute_result"
    },
    {
     "data": {
      "image/png": "[encoded data removed]",
      "text/plain": [
       "<Figure size 432x288 with 1 Axes>"
      ]
     },
     "metadata": {
      "needs_background": "light"
     },
     "output_type": "display_data"
    }
   ],
   "source": [
    "disp_lg = plot_precision_recall_curve(model_cv_lg, X_test, y_test, name= 'Logistiv_Regression')\n",
    "disp_rf = plot_precision_recall_curve(model_cv_rf, X_test, y_test, ax=disp_lg.ax_, name= 'Random Forest')\n",
    "disp_svc = plot_precision_recall_curve(model_cv_svc, X_test, y_test, ax=disp_lg.ax_, name= 'SVC')\n",
    "\n",
    "disp_lg.figure_.suptitle(\"ROC curve comparison\")\n",
    "plt.show()"
   ]
  },
  {
   "cell_type": "markdown",
   "metadata": {},
   "source": [
    "### Comparison all measured score"
   ]
  },
  {
   "cell_type": "code",
   "execution_count": 53,
   "metadata": {},
   "outputs": [
    {
     "data": {
      "text/html": [
       "<div>\n",
       "<style scoped>\n",
       "    .dataframe tbody tr th:only-of-type {\n",
       "        vertical-align: middle;\n",
       "    }\n",
       "\n",
       "    .dataframe tbody tr th {\n",
       "        vertical-align: top;\n",
       "    }\n",
       "\n",
       "    .dataframe thead th {\n",
       "        text-align: right;\n",
       "    }\n",
       "</style>\n",
       "<table border=\"1\" class=\"dataframe\">\n",
       "  <thead>\n",
       "    <tr style=\"text-align: right;\">\n",
       "      <th></th>\n",
       "      <th>Accuracy_Score</th>\n",
       "      <th>Average_Precision_Score</th>\n",
       "      <th>Precision</th>\n",
       "      <th>Recall</th>\n",
       "      <th>F1_Score</th>\n",
       "      <th>ROC_score</th>\n",
       "    </tr>\n",
       "  </thead>\n",
       "  <tbody>\n",
       "    <tr>\n",
       "      <th>Logistic_Regrression_CV</th>\n",
       "      <td>0.555556</td>\n",
       "      <td>0.472222</td>\n",
       "      <td>0.500000</td>\n",
       "      <td>0.500000</td>\n",
       "      <td>0.500000</td>\n",
       "      <td>0.483333</td>\n",
       "    </tr>\n",
       "    <tr>\n",
       "      <th>Random_Forest_CV</th>\n",
       "      <td>0.592593</td>\n",
       "      <td>0.494949</td>\n",
       "      <td>0.545455</td>\n",
       "      <td>0.500000</td>\n",
       "      <td>0.521739</td>\n",
       "      <td>0.633333</td>\n",
       "    </tr>\n",
       "    <tr>\n",
       "      <th>SVC_CV</th>\n",
       "      <td>0.555556</td>\n",
       "      <td>0.481481</td>\n",
       "      <td>0.500000</td>\n",
       "      <td>0.666667</td>\n",
       "      <td>0.571429</td>\n",
       "      <td>0.516667</td>\n",
       "    </tr>\n",
       "  </tbody>\n",
       "</table>\n",
       "</div>"
      ],
      "text/plain": [
       "                         Accuracy_Score  Average_Precision_Score  Precision  \\\n",
       "Logistic_Regrression_CV        0.555556                 0.472222   0.500000   \n",
       "Random_Forest_CV               0.592593                 0.494949   0.545455   \n",
       "SVC_CV                         0.555556                 0.481481   0.500000   \n",
       "\n",
       "                           Recall  F1_Score  ROC_score  \n",
       "Logistic_Regrression_CV  0.500000  0.500000   0.483333  \n",
       "Random_Forest_CV         0.500000  0.521739   0.633333  \n",
       "SVC_CV                   0.666667  0.571429   0.516667  "
      ]
     },
     "execution_count": 53,
     "metadata": {},
     "output_type": "execute_result"
    }
   ],
   "source": [
    "tuning_value = pd.DataFrame.from_dict(dict_fine_tuning, orient = \"index\")\n",
    "columns = list(tuning_value.columns)\n",
    "tuning_value"
   ]
  },
  {
   "cell_type": "markdown",
   "metadata": {},
   "source": [
    "Let see the score result from the first part of the project."
   ]
  },
  {
   "cell_type": "code",
   "execution_count": 54,
   "metadata": {},
   "outputs": [
    {
     "data": {
      "text/html": [
       "<div>\n",
       "<style scoped>\n",
       "    .dataframe tbody tr th:only-of-type {\n",
       "        vertical-align: middle;\n",
       "    }\n",
       "\n",
       "    .dataframe tbody tr th {\n",
       "        vertical-align: top;\n",
       "    }\n",
       "\n",
       "    .dataframe thead th {\n",
       "        text-align: right;\n",
       "    }\n",
       "</style>\n",
       "<table border=\"1\" class=\"dataframe\">\n",
       "  <thead>\n",
       "    <tr style=\"text-align: right;\">\n",
       "      <th></th>\n",
       "      <th>Accuracy_Score</th>\n",
       "      <th>Average_Precision_Score</th>\n",
       "      <th>Precision</th>\n",
       "      <th>Recall</th>\n",
       "      <th>F1_Score</th>\n",
       "      <th>ROC_score</th>\n",
       "    </tr>\n",
       "  </thead>\n",
       "  <tbody>\n",
       "    <tr>\n",
       "      <th>Logistic_Regrression</th>\n",
       "      <td>0.745283</td>\n",
       "      <td>0.681691</td>\n",
       "      <td>0.740741</td>\n",
       "      <td>0.754717</td>\n",
       "      <td>0.747664</td>\n",
       "      <td>0.840157</td>\n",
       "    </tr>\n",
       "    <tr>\n",
       "      <th>Random_Forest</th>\n",
       "      <td>1.000000</td>\n",
       "      <td>1.000000</td>\n",
       "      <td>1.000000</td>\n",
       "      <td>1.000000</td>\n",
       "      <td>1.000000</td>\n",
       "      <td>1.000000</td>\n",
       "    </tr>\n",
       "    <tr>\n",
       "      <th>SVC</th>\n",
       "      <td>0.943396</td>\n",
       "      <td>0.904502</td>\n",
       "      <td>0.912281</td>\n",
       "      <td>0.981132</td>\n",
       "      <td>0.945455</td>\n",
       "      <td>0.993414</td>\n",
       "    </tr>\n",
       "  </tbody>\n",
       "</table>\n",
       "</div>"
      ],
      "text/plain": [
       "                      Accuracy_Score  Average_Precision_Score  Precision  \\\n",
       "Logistic_Regrression        0.745283                 0.681691   0.740741   \n",
       "Random_Forest               1.000000                 1.000000   1.000000   \n",
       "SVC                         0.943396                 0.904502   0.912281   \n",
       "\n",
       "                        Recall  F1_Score  ROC_score  \n",
       "Logistic_Regrression  0.754717  0.747664   0.840157  \n",
       "Random_Forest         1.000000  1.000000   1.000000  \n",
       "SVC                   0.981132  0.945455   0.993414  "
      ]
     },
     "execution_count": 54,
     "metadata": {},
     "output_type": "execute_result"
    }
   ],
   "source": [
    "default_value = pd.DataFrame.from_dict(dict_default, orient = \"index\")\n",
    "columns = list(default_value.columns)\n",
    "default_value"
   ]
  },
  {
   "cell_type": "code",
   "execution_count": null,
   "metadata": {},
   "outputs": [],
   "source": []
  },
  {
   "cell_type": "code",
   "execution_count": 55,
   "metadata": {},
   "outputs": [
    {
     "data": {
      "text/plain": [
       "<AxesSubplot:ylabel='Accuracy_Score'>"
      ]
     },
     "execution_count": 55,
     "metadata": {},
     "output_type": "execute_result"
    },
    {
     "data": {
      "text/plain": [
       "<AxesSubplot:ylabel='Accuracy_Score'>"
      ]
     },
     "execution_count": 55,
     "metadata": {},
     "output_type": "execute_result"
    },
    {
     "data": {
      "text/plain": [
       "[Text(0, 0, 'Logistic_Regrression'),\n",
       " Text(1, 0, 'Random_Forest'),\n",
       " Text(2, 0, 'SVC')]"
      ]
     },
     "execution_count": 55,
     "metadata": {},
     "output_type": "execute_result"
    },
    {
     "data": {
      "text/plain": [
       "[Text(0, 0, 'Logistic_Regrression_CV'),\n",
       " Text(1, 0, 'Random_Forest_CV'),\n",
       " Text(2, 0, 'SVC_CV')]"
      ]
     },
     "execution_count": 55,
     "metadata": {},
     "output_type": "execute_result"
    },
    {
     "data": {
      "image/png": "[encoded data removed]",
      "text/plain": [
       "<Figure size 1440x360 with 2 Axes>"
      ]
     },
     "metadata": {
      "needs_background": "light"
     },
     "output_type": "display_data"
    }
   ],
   "source": [
    "fig,ax = plt.subplots(1,2,figsize=(20,5))\n",
    "df_fine_tuning = pd.DataFrame.from_dict(dict_fine_tuning, orient = \"index\", )\n",
    "sns.barplot(x = df_fine_tuning.index,     y = df_default_value['Accuracy_Score'], ax = ax[0])\n",
    "sns.barplot(x = df_fine_tuning.index, y = df_fine_tuning['Accuracy_Score'], ax = ax[1])\n",
    "ax[0].set_xticklabels(df_default_value.index, rotation = 45, )\n",
    "ax[1].set_xticklabels(df_fine_tuning.index, rotation = 45)\n",
    "plt.show()"
   ]
  },
  {
   "cell_type": "markdown",
   "metadata": {},
   "source": [
    "Basically the results show that after we have applied the FineTuning techniques not only models that do not perform well. But they are practically useless. \n",
    "\n",
    "With the data in hand, we can calculate several important statistics to assess the accuracy of our model. Here is a list of statistics of potential interest\n",
    "\n",
    "Best model remains Random Forest, but have performance around 60 %.  **This is extremely unacceptable for clinical practice.**\n",
    "\n",
    "**Suggestion:** \n",
    "- The date on which the models were applied was very little. Need to apply more data.\n",
    "- Codons which do not code for any protein, must be filtered out and not to participate in the final date"
   ]
  },
  {
   "cell_type": "code",
   "execution_count": null,
   "metadata": {},
   "outputs": [],
   "source": []
  },
  {
   "cell_type": "code",
   "execution_count": null,
   "metadata": {},
   "outputs": [],
   "source": []
  },
  {
   "cell_type": "code",
   "execution_count": null,
   "metadata": {},
   "outputs": [],
   "source": []
  },
  {
   "cell_type": "code",
   "execution_count": null,
   "metadata": {},
   "outputs": [],
   "source": []
  },
  {
   "cell_type": "code",
   "execution_count": null,
   "metadata": {},
   "outputs": [],
   "source": []
  },
  {
   "cell_type": "code",
   "execution_count": null,
   "metadata": {},
   "outputs": [],
   "source": []
  },
  {
   "cell_type": "code",
   "execution_count": null,
   "metadata": {},
   "outputs": [],
   "source": []
  },
  {
   "cell_type": "code",
   "execution_count": null,
   "metadata": {},
   "outputs": [],
   "source": []
  },
  {
   "cell_type": "code",
   "execution_count": null,
   "metadata": {},
   "outputs": [],
   "source": []
  },
  {
   "cell_type": "code",
   "execution_count": null,
   "metadata": {},
   "outputs": [],
   "source": []
  },
  {
   "cell_type": "code",
   "execution_count": null,
   "metadata": {},
   "outputs": [],
   "source": []
  },
  {
   "cell_type": "code",
   "execution_count": null,
   "metadata": {},
   "outputs": [],
   "source": []
  },
  {
   "cell_type": "code",
   "execution_count": null,
   "metadata": {},
   "outputs": [],
   "source": []
  },
  {
   "cell_type": "code",
   "execution_count": null,
   "metadata": {},
   "outputs": [],
   "source": []
  },
  {
   "cell_type": "code",
   "execution_count": null,
   "metadata": {},
   "outputs": [],
   "source": []
  },
  {
   "cell_type": "code",
   "execution_count": null,
   "metadata": {},
   "outputs": [],
   "source": []
  },
  {
   "cell_type": "markdown",
   "metadata": {},
   "source": [
    "### Other Imortant Metrics for The Best Models:"
   ]
  },
  {
   "cell_type": "code",
   "execution_count": 146,
   "metadata": {},
   "outputs": [
    {
     "data": {
      "text/plain": [
       "array([[9, 6],\n",
       "       [3, 9]], dtype=int64)"
      ]
     },
     "execution_count": 146,
     "metadata": {},
     "output_type": "execute_result"
    },
    {
     "ename": "NameError",
     "evalue": "name 'confusion' is not defined",
     "output_type": "error",
     "traceback": [
      "\u001b[1;31m---------------------------------------------------------------------------\u001b[0m",
      "\u001b[1;31mNameError\u001b[0m                                 Traceback (most recent call last)",
      "\u001b[1;32m<ipython-input-146-e585649d5766>\u001b[0m in \u001b[0;36m<module>\u001b[1;34m\u001b[0m\n\u001b[0;32m      4\u001b[0m \u001b[0mconfmtrx\u001b[0m \u001b[1;33m=\u001b[0m \u001b[0mnp\u001b[0m\u001b[1;33m.\u001b[0m\u001b[0marray\u001b[0m\u001b[1;33m(\u001b[0m\u001b[0mconfusion_matrix\u001b[0m\u001b[1;33m(\u001b[0m\u001b[0my_test\u001b[0m\u001b[1;33m,\u001b[0m \u001b[0mprediction_cv_rf\u001b[0m\u001b[1;33m)\u001b[0m\u001b[1;33m)\u001b[0m\u001b[1;33m\u001b[0m\u001b[1;33m\u001b[0m\u001b[0m\n\u001b[0;32m      5\u001b[0m \u001b[1;33m\u001b[0m\u001b[0m\n\u001b[1;32m----> 6\u001b[1;33m \u001b[0mTP\u001b[0m \u001b[1;33m=\u001b[0m \u001b[0mconfusion\u001b[0m\u001b[1;33m.\u001b[0m\u001b[0miloc\u001b[0m\u001b[1;33m[\u001b[0m\u001b[1;36m0\u001b[0m\u001b[1;33m]\u001b[0m\u001b[1;33m[\u001b[0m\u001b[1;36m0\u001b[0m\u001b[1;33m]\u001b[0m\u001b[1;33m\u001b[0m\u001b[1;33m\u001b[0m\u001b[0m\n\u001b[0m\u001b[0;32m      7\u001b[0m \u001b[0mFP\u001b[0m \u001b[1;33m=\u001b[0m \u001b[0mconfusion\u001b[0m\u001b[1;33m.\u001b[0m\u001b[0miloc\u001b[0m\u001b[1;33m[\u001b[0m\u001b[1;36m1\u001b[0m\u001b[1;33m]\u001b[0m\u001b[1;33m[\u001b[0m\u001b[1;36m0\u001b[0m\u001b[1;33m]\u001b[0m\u001b[1;33m\u001b[0m\u001b[1;33m\u001b[0m\u001b[0m\n\u001b[0;32m      8\u001b[0m \u001b[0mTN\u001b[0m \u001b[1;33m=\u001b[0m \u001b[0mconfusion\u001b[0m\u001b[1;33m.\u001b[0m\u001b[0miloc\u001b[0m\u001b[1;33m[\u001b[0m\u001b[1;36m1\u001b[0m\u001b[1;33m]\u001b[0m\u001b[1;33m[\u001b[0m\u001b[1;36m1\u001b[0m\u001b[1;33m]\u001b[0m\u001b[1;33m\u001b[0m\u001b[1;33m\u001b[0m\u001b[0m\n",
      "\u001b[1;31mNameError\u001b[0m: name 'confusion' is not defined"
     ]
    }
   ],
   "source": [
    "### Other Imortant Metrics for The Best Models:\n",
    "#Confusion matrix\n",
    "confusion_matrix(y_test, prediction_cv_rf)\n",
    "confmtrx = np.array(confusion_matrix(y_test, prediction_cv_rf))\n",
    "\n",
    "TP = confusion.iloc[0][0]\n",
    "FP = confusion.iloc[1][0]\n",
    "TN = confusion.iloc[1][1]\n",
    "FN = confusion.iloc[0][1]\n",
    "\n",
    "#Reproduce classifcation report\n",
    "TPR=(float(TP) / (TP + FN))\n",
    "TPN=(float(TN) / (TN + FP)) \n",
    "PPV=(float(TP) / (TP + FP)) \n",
    "NPV=(float(TN) / (TN + FN)) \n",
    "FNR=(float(FN) / (FN + TP))\n",
    "FPR=(float(FP) / (FP + TN))\n",
    "FDR=(float(FP) / (FP + TP))\n",
    "FOR=(float(FN) / (FN + TN))\n",
    "TS=(float(TP) / (TP+FN + FP))\n",
    "ACC=(float(TP+TN) / (TP+FP+FN + TN))  #print((TP + TN) / float(len(y_test)))\n",
    "F1=2*TP/(2*TP+FP+FN)\n",
    "\n",
    "print (f\"Sensitivity, recall, hit rate, or true positive rate (TPR): {TPR:.3f}\")\n",
    "print (f\"Specificity, selectivity or true negative rate (TNR):       {TPN:.3f}\")\n",
    "print (f\"Precision or positive predictive value (PPV):               {PPV:.3f}\")\n",
    "print (f\"Negative predictive value (NPV):                            {NPV:.3f}\")\n",
    "print (f\"Miss rate or false negative rate (FNR):                     {FNR:.3f}\")\n",
    "print (f\"Fall-out or false positive rate (FPR):                      {FPR:.3f}\")\n",
    "print (f\"False discovery rate (FDR):                                 {FDR:.3f}\")\n",
    "print (f\"False omission rate (FOR):                                  {FOR:.3f}\")\n",
    "print (f\"Threat score (TS) or Critical Success Index (CSI):          {TS:.3f}\")\n",
    "print(\"\")\n",
    "print (f\"Accuracy (ACC):                                             {ACC:.3f}\")\n",
    "print (f\"F1:                                                         {F1:.3f}\")"
   ]
  },
  {
   "cell_type": "code",
   "execution_count": null,
   "metadata": {},
   "outputs": [],
   "source": []
  }
 ],
 "metadata": {
  "kernelspec": {
   "display_name": "Python 3",
   "language": "python",
   "name": "python3"
  },
  "language_info": {
   "codemirror_mode": {
    "name": "ipython",
    "version": 3
   },
   "file_extension": ".py",
   "mimetype": "text/x-python",
   "name": "python",
   "nbconvert_exporter": "python",
   "pygments_lexer": "ipython3",
   "version": "3.8.3"
  }
 },
 "nbformat": 4,
 "nbformat_minor": 4
}
